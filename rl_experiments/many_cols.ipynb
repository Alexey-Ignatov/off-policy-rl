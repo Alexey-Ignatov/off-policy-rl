{
 "cells": [
  {
   "cell_type": "code",
   "execution_count": 19,
   "metadata": {},
   "outputs": [],
   "source": [
    "%matplotlib inline"
   ]
  },
  {
   "cell_type": "code",
   "execution_count": 20,
   "metadata": {},
   "outputs": [],
   "source": [
    "def generateSimpleData(delta, alpha, scale, season, init_oh, disc_len, weekMax):\n",
    "\n",
    "    price = np.append(np.ones( weekMax - disc_len), (1 - delta)*np.ones(disc_len))\n",
    "    \n",
    "    slsu = np.zeros(weekMax)\n",
    "    bst_est = np.zeros(weekMax)\n",
    "    on_hand = np.zeros(weekMax)\n",
    "    on_hand[0]=init_oh\n",
    "    rew = np.zeros(weekMax)\n",
    "    \n",
    "    for weekNo in range(weekMax):\n",
    "        if weekNo:\n",
    "            on_hand[weekNo] = on_hand[weekNo-1] - slsu[weekNo-1]   \n",
    "            \n",
    "        curr_mean =scale*weekMax*season[weekNo]*(price[ weekNo]**(-alpha))\n",
    "        demand = np.random.poisson(curr_mean)\n",
    "        slsu[weekNo] = min(demand, on_hand[weekNo])\n",
    "        rew[weekNo] = slsu[weekNo]*price[weekNo]\n",
    "        bst_est[weekNo] = curr_mean\n",
    "            # slsu[ShopNo, weekNo] = effictivityScale[ShopNo]*season[weekNo]*(priceMatrix[ShopNo, weekNo]**(-alpha))\n",
    "\n",
    "    return price,  slsu, on_hand, rew, bst_est"
   ]
  },
  {
   "cell_type": "code",
   "execution_count": 21,
   "metadata": {},
   "outputs": [],
   "source": [
    "from tqdm import tqdm\n",
    "import numpy as np\n",
    "import pandas as pd"
   ]
  },
  {
   "cell_type": "code",
   "execution_count": 22,
   "metadata": {},
   "outputs": [],
   "source": [
    "weekMax = 12\n",
    "init_oh = 800\n",
    "\n",
    "season = np.array([1]*weekMax)\n",
    "season = season/sum(season)"
   ]
  },
  {
   "cell_type": "markdown",
   "metadata": {},
   "source": [
    "### Точная оценка Q и V"
   ]
  },
  {
   "cell_type": "code",
   "execution_count": 23,
   "metadata": {},
   "outputs": [],
   "source": [
    "state_cols = [ 'oh_after', 'days_left']\n",
    "next_state_cols = [col + '_next' for col in state_cols]\n",
    "\n",
    "def gen_rl_df(delta, alpha, scale, season, init_oh, unit_price =1, weekMax = 12):\n",
    "    \n",
    "\n",
    "    dics = np.random.randint(0, weekMax+1)\n",
    "    price,  slsu, on_hand, rew, best_est = generateSimpleData(delta, alpha, scale, \\\n",
    "                                                    season, init_oh, disc_len = dics, weekMax = weekMax)\n",
    "\n",
    "    res_ser = rew*unit_price\n",
    "    days_left = np.arange(weekMax, 0, -1)-1.\n",
    "\n",
    "\n",
    "    df = pd.concat([pd.Series(price), \n",
    "               pd.Series(season),\n",
    "               pd.Series(on_hand),\n",
    "               pd.Series(days_left), \n",
    "               pd.Series(slsu), \n",
    "               pd.Series(res_ser).shift(-1), \n",
    "               pd.Series(best_est)], 1)\n",
    "\n",
    "    \n",
    "    df.columns = ['price','season', 'on_hand','days_left', 'slsu' , 'rev_ser', 'bst_est']\n",
    "    df['d_r_sh'] = df.on_hand / df.slsu\n",
    "    df['oh_after'] = df.on_hand - df.slsu\n",
    "\n",
    "\n",
    "    df['action'] = (df.price -1. ).fillna(0)\n",
    "    \n",
    "    bin_d_left = pd.get_dummies(df.days_left)\n",
    "    dl_cols = [ 'dl_'+str(col) for col in bin_d_left.columns]\n",
    "    bin_d_left.columns = dl_cols\n",
    "\n",
    "    for col, vals in bin_d_left.iteritems():\n",
    "        df[col] = vals.values\n",
    "    \n",
    "    bin_cols = dl_cols\n",
    "    next_bin_cols = [col + '_next' for col in bin_cols]\n",
    "    \n",
    "    df_shifted = df[state_cols+bin_cols].shift(-1)\n",
    "    df_shifted.columns = next_state_cols + next_bin_cols\n",
    "\n",
    "    return pd.concat([df[state_cols+bin_cols], df_shifted, df[['action', 'rev_ser', 'slsu', 'bst_est']]], 1), (bin_cols, next_bin_cols)\n",
    "    \n",
    "\n",
    "\n",
    "def V(oh_left, reg_sales,disc_sales,delta, days_left  ):\n",
    "    res_list = [1*min(reg_sales*days_left,oh_left)]\n",
    "    \n",
    "    for i in range(days_left):\n",
    "        reg_price_sales = min(i*reg_sales, oh_left)\n",
    "        cor_proce_sales = min(disc_sales*(days_left - i),oh_left - reg_price_sales)\n",
    "        res_list.append(reg_price_sales*1. + cor_proce_sales*(1- delta))\n",
    "\n",
    "    return max(res_list)\n",
    "\n",
    "def Q(oh_left, reg_sales,disc_sales,delta, days_left, action):\n",
    "    if not days_left:\n",
    "        return 0\n",
    "    \n",
    "    if action >= 0:\n",
    "        res_list = [1*min(reg_sales*days_left,oh_left)]\n",
    "        \n",
    "        for i in range(1, days_left+1):\n",
    "            reg_price_sales = min(i*reg_sales, oh_left)\n",
    "            cor_proce_sales = min(disc_sales*(days_left - i),oh_left - reg_price_sales)\n",
    "            res_list.append(reg_price_sales*1. + cor_proce_sales*(1- delta))\n",
    "\n",
    "        return  max(res_list)\n",
    "    \n",
    "    return (1- delta)*min(disc_sales*days_left,oh_left)\n"
   ]
  },
  {
   "cell_type": "markdown",
   "metadata": {},
   "source": []
  },
  {
   "cell_type": "markdown",
   "metadata": {},
   "source": [
    "### Явное обучние нейронной сети"
   ]
  },
  {
   "cell_type": "markdown",
   "metadata": {},
   "source": [
    "# Keras попытка"
   ]
  },
  {
   "cell_type": "code",
   "execution_count": 133,
   "metadata": {
    "scrolled": true
   },
   "outputs": [],
   "source": [
    "samples_list = []\n",
    "for i in range(1000):\n",
    "    tmp_df = gen_rl_df(delta = .35, alpha = 2., scale = 40, season = season, init_oh = init_oh, disc_len = dics)\n",
    "    samples_list.append(tmp_df)\n",
    "    \n",
    "data_samples = pd.concat(samples_list)\n",
    "\n",
    "\n",
    "\n",
    "df =data_samples[['days_left', 'oh_after', 'days_left_next', 'oh_after_next', 'action', 'rev_ser']].fillna(0)\n",
    "df['dumm_0'] = 0.\n",
    "df['dumm_m35'] = -.35\n",
    "\n",
    "df['V'] = df.apply(lambda x:V(x['oh_after'], 40, 94.67, .35, int(x['days_left'])), 1)\n",
    "df['Q_keep'] = df.apply(lambda x:Q(x['oh_after'], 40, 94.67, .35, int(x['days_left']), 0), 1)\n",
    "df['Q_disc'] = df.apply(lambda x:Q(x['oh_after'], 40, 94.67, .35, int(x['days_left']), -.35), 1)\n",
    "\n"
   ]
  },
  {
   "cell_type": "code",
   "execution_count": 134,
   "metadata": {},
   "outputs": [],
   "source": [
    "dumm_left_df = pd.get_dummies(df.days_left)\n",
    "dumm_left_df.columns = ['dl_'+ str(col) for col in dumm_left_df.columns]\n",
    "\n",
    "\n",
    "\n",
    "X = df[['oh_after']].values\n",
    "X = np.append(df[['oh_after']].values, dumm_left_df.values, 1 )\n",
    "labels_train = df[[ 'Q_keep','Q_disc']].values"
   ]
  },
  {
   "cell_type": "code",
   "execution_count": 102,
   "metadata": {},
   "outputs": [],
   "source": [
    "from keras.models import Sequential\n",
    "from keras.layers.convolutional import Convolution2D\n",
    "from keras.layers.core import Dense, Flatten, Dropout\n",
    "from keras.optimizers import SGD, RMSprop,Adagrad"
   ]
  },
  {
   "cell_type": "code",
   "execution_count": 103,
   "metadata": {},
   "outputs": [
    {
     "name": "stderr",
     "output_type": "stream",
     "text": [
      "/Users/alexey/anaconda3/lib/python3.6/site-packages/ipykernel_launcher.py:3: UserWarning: Update your `Dense` call to the Keras 2 API: `Dense(12, input_dim=13, activation=\"relu\", kernel_initializer=\"uniform\")`\n",
      "  This is separate from the ipykernel package so we can avoid doing imports until\n"
     ]
    }
   ],
   "source": [
    "# define the architecture of the network\n",
    "model = Sequential()\n",
    "model.add(Dense(12, input_dim=X.shape[1], init=\"uniform\", activation=\"relu\"))\n",
    "model.add(Dense(12, activation=\"relu\", kernel_initializer=\"uniform\"))\n",
    "model.add(Dense(labels_train.shape[1]))\n",
    "model.compile(RMSprop(), 'MSE')\n",
    "\n"
   ]
  },
  {
   "cell_type": "code",
   "execution_count": 97,
   "metadata": {},
   "outputs": [],
   "source": [
    "from tqdm import tqdm "
   ]
  },
  {
   "cell_type": "code",
   "execution_count": 107,
   "metadata": {
    "scrolled": true
   },
   "outputs": [
    {
     "name": "stderr",
     "output_type": "stream",
     "text": [
      "\n",
      "\n",
      "\n",
      "\n",
      "\n",
      "\n",
      "\n",
      "  0%|          | 0/75000 [00:00<?, ?it/s]\u001b[A\u001b[A\u001b[A\u001b[A\u001b[A\u001b[A\u001b[A"
     ]
    },
    {
     "name": "stdout",
     "output_type": "stream",
     "text": [
      "30.73823\n",
      "16.934153\n",
      "26.274641\n",
      "17.67349\n",
      "19.778008\n",
      "15.062223\n",
      "20.053003\n",
      "21.039879\n",
      "19.577301\n",
      "15.352924\n",
      "10.207244\n",
      "11.167543\n",
      "8.556785\n"
     ]
    },
    {
     "name": "stderr",
     "output_type": "stream",
     "text": [
      "\n",
      "\n",
      "\n",
      "\n",
      "\n",
      "\n",
      "\n",
      "  8%|▊         | 6170/75000 [00:10<01:51, 616.93it/s]\u001b[A\u001b[A\u001b[A\u001b[A\u001b[A\u001b[A\u001b[A"
     ]
    },
    {
     "name": "stdout",
     "output_type": "stream",
     "text": [
      "17.952225\n",
      "17.689949\n",
      "20.92881\n",
      "21.299816\n",
      "21.015717\n",
      "27.73089\n",
      "27.270372\n",
      "24.92502\n",
      "17.445442\n",
      "27.020582\n",
      "10.770084\n",
      "19.971386\n"
     ]
    },
    {
     "name": "stderr",
     "output_type": "stream",
     "text": [
      "\n",
      "\n",
      "\n",
      "\n",
      "\n",
      "\n",
      "\n",
      " 16%|█▋        | 12347/75000 [00:20<01:41, 617.30it/s]\u001b[A\u001b[A\u001b[A\u001b[A\u001b[A\u001b[A\u001b[A"
     ]
    },
    {
     "name": "stdout",
     "output_type": "stream",
     "text": [
      "34.47642\n",
      "30.241037\n",
      "20.580652\n",
      "15.35715\n",
      "18.941458\n"
     ]
    },
    {
     "ename": "KeyboardInterrupt",
     "evalue": "",
     "output_type": "error",
     "traceback": [
      "\u001b[0;31m---------------------------------------------------------------------------\u001b[0m",
      "\u001b[0;31mKeyboardInterrupt\u001b[0m                         Traceback (most recent call last)",
      "\u001b[0;32m<ipython-input-107-5167abea8bed>\u001b[0m in \u001b[0;36m<module>\u001b[0;34m()\u001b[0m\n\u001b[1;32m      2\u001b[0m \u001b[0;32mfor\u001b[0m \u001b[0mi\u001b[0m \u001b[0;32min\u001b[0m \u001b[0mtqdm\u001b[0m\u001b[0;34m(\u001b[0m\u001b[0mrange\u001b[0m\u001b[0;34m(\u001b[0m\u001b[0;36m75000\u001b[0m\u001b[0;34m)\u001b[0m\u001b[0;34m,\u001b[0m\u001b[0mmininterval\u001b[0m\u001b[0;34m=\u001b[0m\u001b[0;36m10\u001b[0m \u001b[0;34m)\u001b[0m\u001b[0;34m:\u001b[0m\u001b[0;34m\u001b[0m\u001b[0m\n\u001b[1;32m      3\u001b[0m     \u001b[0midx\u001b[0m \u001b[0;34m=\u001b[0m \u001b[0mnp\u001b[0m\u001b[0;34m.\u001b[0m\u001b[0mrandom\u001b[0m\u001b[0;34m.\u001b[0m\u001b[0mrandint\u001b[0m\u001b[0;34m(\u001b[0m\u001b[0mX\u001b[0m\u001b[0;34m.\u001b[0m\u001b[0mshape\u001b[0m\u001b[0;34m[\u001b[0m\u001b[0;36m0\u001b[0m\u001b[0;34m]\u001b[0m\u001b[0;34m,\u001b[0m \u001b[0msize\u001b[0m \u001b[0;34m=\u001b[0m \u001b[0;36m500\u001b[0m\u001b[0;34m)\u001b[0m\u001b[0;34m\u001b[0m\u001b[0m\n\u001b[0;32m----> 4\u001b[0;31m     \u001b[0merr\u001b[0m \u001b[0;34m=\u001b[0m \u001b[0mmodel\u001b[0m\u001b[0;34m.\u001b[0m\u001b[0mtrain_on_batch\u001b[0m\u001b[0;34m(\u001b[0m\u001b[0mX\u001b[0m\u001b[0;34m[\u001b[0m\u001b[0midx\u001b[0m\u001b[0;34m]\u001b[0m\u001b[0;34m,\u001b[0m \u001b[0mlabels_train\u001b[0m\u001b[0;34m[\u001b[0m\u001b[0midx\u001b[0m\u001b[0;34m]\u001b[0m\u001b[0;34m)\u001b[0m\u001b[0;34m\u001b[0m\u001b[0m\n\u001b[0m\u001b[1;32m      5\u001b[0m     \u001b[0merr_list\u001b[0m\u001b[0;34m.\u001b[0m\u001b[0mappend\u001b[0m\u001b[0;34m(\u001b[0m\u001b[0merr\u001b[0m\u001b[0;34m)\u001b[0m\u001b[0;34m\u001b[0m\u001b[0m\n\u001b[1;32m      6\u001b[0m     \u001b[0;32mif\u001b[0m \u001b[0mi\u001b[0m \u001b[0;34m%\u001b[0m\u001b[0;36m500\u001b[0m \u001b[0;34m==\u001b[0m\u001b[0;36m0\u001b[0m \u001b[0;34m:\u001b[0m\u001b[0;34m\u001b[0m\u001b[0m\n",
      "\u001b[0;32m~/anaconda3/lib/python3.6/site-packages/keras/engine/training.py\u001b[0m in \u001b[0;36mtrain_on_batch\u001b[0;34m(self, x, y, sample_weight, class_weight)\u001b[0m\n\u001b[1;32m   1215\u001b[0m             \u001b[0mins\u001b[0m \u001b[0;34m=\u001b[0m \u001b[0mx\u001b[0m \u001b[0;34m+\u001b[0m \u001b[0my\u001b[0m \u001b[0;34m+\u001b[0m \u001b[0msample_weights\u001b[0m\u001b[0;34m\u001b[0m\u001b[0m\n\u001b[1;32m   1216\u001b[0m         \u001b[0mself\u001b[0m\u001b[0;34m.\u001b[0m\u001b[0m_make_train_function\u001b[0m\u001b[0;34m(\u001b[0m\u001b[0;34m)\u001b[0m\u001b[0;34m\u001b[0m\u001b[0m\n\u001b[0;32m-> 1217\u001b[0;31m         \u001b[0moutputs\u001b[0m \u001b[0;34m=\u001b[0m \u001b[0mself\u001b[0m\u001b[0;34m.\u001b[0m\u001b[0mtrain_function\u001b[0m\u001b[0;34m(\u001b[0m\u001b[0mins\u001b[0m\u001b[0;34m)\u001b[0m\u001b[0;34m\u001b[0m\u001b[0m\n\u001b[0m\u001b[1;32m   1218\u001b[0m         \u001b[0;32mreturn\u001b[0m \u001b[0munpack_singleton\u001b[0m\u001b[0;34m(\u001b[0m\u001b[0moutputs\u001b[0m\u001b[0;34m)\u001b[0m\u001b[0;34m\u001b[0m\u001b[0m\n\u001b[1;32m   1219\u001b[0m \u001b[0;34m\u001b[0m\u001b[0m\n",
      "\u001b[0;32m~/anaconda3/lib/python3.6/site-packages/keras/backend/tensorflow_backend.py\u001b[0m in \u001b[0;36m__call__\u001b[0;34m(self, inputs)\u001b[0m\n\u001b[1;32m   2713\u001b[0m                 \u001b[0;32mreturn\u001b[0m \u001b[0mself\u001b[0m\u001b[0;34m.\u001b[0m\u001b[0m_legacy_call\u001b[0m\u001b[0;34m(\u001b[0m\u001b[0minputs\u001b[0m\u001b[0;34m)\u001b[0m\u001b[0;34m\u001b[0m\u001b[0m\n\u001b[1;32m   2714\u001b[0m \u001b[0;34m\u001b[0m\u001b[0m\n\u001b[0;32m-> 2715\u001b[0;31m             \u001b[0;32mreturn\u001b[0m \u001b[0mself\u001b[0m\u001b[0;34m.\u001b[0m\u001b[0m_call\u001b[0m\u001b[0;34m(\u001b[0m\u001b[0minputs\u001b[0m\u001b[0;34m)\u001b[0m\u001b[0;34m\u001b[0m\u001b[0m\n\u001b[0m\u001b[1;32m   2716\u001b[0m         \u001b[0;32melse\u001b[0m\u001b[0;34m:\u001b[0m\u001b[0;34m\u001b[0m\u001b[0m\n\u001b[1;32m   2717\u001b[0m             \u001b[0;32mif\u001b[0m \u001b[0mpy_any\u001b[0m\u001b[0;34m(\u001b[0m\u001b[0mis_tensor\u001b[0m\u001b[0;34m(\u001b[0m\u001b[0mx\u001b[0m\u001b[0;34m)\u001b[0m \u001b[0;32mfor\u001b[0m \u001b[0mx\u001b[0m \u001b[0;32min\u001b[0m \u001b[0minputs\u001b[0m\u001b[0;34m)\u001b[0m\u001b[0;34m:\u001b[0m\u001b[0;34m\u001b[0m\u001b[0m\n",
      "\u001b[0;32m~/anaconda3/lib/python3.6/site-packages/keras/backend/tensorflow_backend.py\u001b[0m in \u001b[0;36m_call\u001b[0;34m(self, inputs)\u001b[0m\n\u001b[1;32m   2673\u001b[0m             \u001b[0mfetched\u001b[0m \u001b[0;34m=\u001b[0m \u001b[0mself\u001b[0m\u001b[0;34m.\u001b[0m\u001b[0m_callable_fn\u001b[0m\u001b[0;34m(\u001b[0m\u001b[0;34m*\u001b[0m\u001b[0marray_vals\u001b[0m\u001b[0;34m,\u001b[0m \u001b[0mrun_metadata\u001b[0m\u001b[0;34m=\u001b[0m\u001b[0mself\u001b[0m\u001b[0;34m.\u001b[0m\u001b[0mrun_metadata\u001b[0m\u001b[0;34m)\u001b[0m\u001b[0;34m\u001b[0m\u001b[0m\n\u001b[1;32m   2674\u001b[0m         \u001b[0;32melse\u001b[0m\u001b[0;34m:\u001b[0m\u001b[0;34m\u001b[0m\u001b[0m\n\u001b[0;32m-> 2675\u001b[0;31m             \u001b[0mfetched\u001b[0m \u001b[0;34m=\u001b[0m \u001b[0mself\u001b[0m\u001b[0;34m.\u001b[0m\u001b[0m_callable_fn\u001b[0m\u001b[0;34m(\u001b[0m\u001b[0;34m*\u001b[0m\u001b[0marray_vals\u001b[0m\u001b[0;34m)\u001b[0m\u001b[0;34m\u001b[0m\u001b[0m\n\u001b[0m\u001b[1;32m   2676\u001b[0m         \u001b[0;32mreturn\u001b[0m \u001b[0mfetched\u001b[0m\u001b[0;34m[\u001b[0m\u001b[0;34m:\u001b[0m\u001b[0mlen\u001b[0m\u001b[0;34m(\u001b[0m\u001b[0mself\u001b[0m\u001b[0;34m.\u001b[0m\u001b[0moutputs\u001b[0m\u001b[0;34m)\u001b[0m\u001b[0;34m]\u001b[0m\u001b[0;34m\u001b[0m\u001b[0m\n\u001b[1;32m   2677\u001b[0m \u001b[0;34m\u001b[0m\u001b[0m\n",
      "\u001b[0;32m~/anaconda3/lib/python3.6/site-packages/tensorflow/python/client/session.py\u001b[0m in \u001b[0;36m__call__\u001b[0;34m(self, *args, **kwargs)\u001b[0m\n\u001b[1;32m   1397\u001b[0m           ret = tf_session.TF_SessionRunCallable(\n\u001b[1;32m   1398\u001b[0m               \u001b[0mself\u001b[0m\u001b[0;34m.\u001b[0m\u001b[0m_session\u001b[0m\u001b[0;34m.\u001b[0m\u001b[0m_session\u001b[0m\u001b[0;34m,\u001b[0m \u001b[0mself\u001b[0m\u001b[0;34m.\u001b[0m\u001b[0m_handle\u001b[0m\u001b[0;34m,\u001b[0m \u001b[0margs\u001b[0m\u001b[0;34m,\u001b[0m \u001b[0mstatus\u001b[0m\u001b[0;34m,\u001b[0m\u001b[0;34m\u001b[0m\u001b[0m\n\u001b[0;32m-> 1399\u001b[0;31m               run_metadata_ptr)\n\u001b[0m\u001b[1;32m   1400\u001b[0m         \u001b[0;32mif\u001b[0m \u001b[0mrun_metadata\u001b[0m\u001b[0;34m:\u001b[0m\u001b[0;34m\u001b[0m\u001b[0m\n\u001b[1;32m   1401\u001b[0m           \u001b[0mproto_data\u001b[0m \u001b[0;34m=\u001b[0m \u001b[0mtf_session\u001b[0m\u001b[0;34m.\u001b[0m\u001b[0mTF_GetBuffer\u001b[0m\u001b[0;34m(\u001b[0m\u001b[0mrun_metadata_ptr\u001b[0m\u001b[0;34m)\u001b[0m\u001b[0;34m\u001b[0m\u001b[0m\n",
      "\u001b[0;31mKeyboardInterrupt\u001b[0m: "
     ]
    }
   ],
   "source": [
    "err_list = []\n",
    "for i in tqdm(range(75000),mininterval=10 ):\n",
    "    idx = np.random.randint(X.shape[0], size = 500)\n",
    "    err = model.train_on_batch(X[idx], labels_train[idx])\n",
    "    err_list.append(err)\n",
    "    if i %500 ==0 :\n",
    "        print(err)"
   ]
  },
  {
   "cell_type": "code",
   "execution_count": null,
   "metadata": {},
   "outputs": [],
   "source": []
  },
  {
   "cell_type": "code",
   "execution_count": null,
   "metadata": {},
   "outputs": [],
   "source": []
  },
  {
   "cell_type": "code",
   "execution_count": 108,
   "metadata": {},
   "outputs": [
    {
     "data": {
      "text/plain": [
       "<matplotlib.axes._subplots.AxesSubplot at 0x1836fabc50>"
      ]
     },
     "execution_count": 108,
     "metadata": {},
     "output_type": "execute_result"
    },
    {
     "data": {
      "image/png": "[encoded data removed]",
      "text/plain": [
       "<matplotlib.figure.Figure at 0x18354a5dd8>"
      ]
     },
     "metadata": {},
     "output_type": "display_data"
    },
    {
     "name": "stderr",
     "output_type": "stream",
     "text": [
      "\n",
      "\n",
      "\n",
      "\n",
      "\n",
      "\n",
      "\n",
      " 16%|█▋        | 12347/75000 [00:35<02:58, 351.20it/s]\u001b[A\u001b[A\u001b[A\u001b[A\u001b[A\u001b[A\u001b[A"
     ]
    }
   ],
   "source": [
    "pd.Series(err_list).rolling(200).mean().iloc[1000:].plot()"
   ]
  },
  {
   "cell_type": "code",
   "execution_count": null,
   "metadata": {},
   "outputs": [],
   "source": []
  },
  {
   "cell_type": "code",
   "execution_count": 25,
   "metadata": {
    "scrolled": true
   },
   "outputs": [
    {
     "name": "stderr",
     "output_type": "stream",
     "text": [
      "100%|██████████| 100/100 [00:00<00:00, 166.12it/s]\n"
     ]
    }
   ],
   "source": [
    "samples_list = []\n",
    "for i in tqdm(range(100)):\n",
    "    tmp_df = gen_rl_df(delta = .35, alpha = 2., scale = 40, season = season, init_oh = init_oh, disc_len = dics)\n",
    "    samples_list.append(tmp_df)\n",
    "    \n",
    "data_samples = pd.concat(samples_list)\n",
    "\n",
    "\n",
    "\n",
    "df =data_samples[['days_left', 'oh_after', 'days_left_next', 'oh_after_next', 'action', 'rev_ser']].fillna(0)\n",
    "df['dumm_0'] = 0.\n",
    "df['dumm_m35'] = -.35\n",
    "\n",
    "df['V'] = df.apply(lambda x:V(x['oh_after'], 40, 94.67, .35, int(x['days_left'])), 1)\n",
    "df['Q_keep'] = df.apply(lambda x:Q(x['oh_after'], 40, 94.67, .35, int(x['days_left']), 0), 1)\n",
    "df['Q_disc'] = df.apply(lambda x:Q(x['oh_after'], 40, 94.67, .35, int(x['days_left']), -.35), 1)"
   ]
  },
  {
   "cell_type": "code",
   "execution_count": 65,
   "metadata": {},
   "outputs": [],
   "source": [
    "#pred_df = pd.DataFrame(model.predict(df[['oh_after', 'days_left']]), columns=  ['q_keep_pred', 'q_disc_pred'])\n",
    "pred_df = pd.DataFrame(model.predict(df[['oh_after', 'days_left']]), columns=  ['q_disc_pred'])\n",
    "\n",
    "df['q_disc_pred'] = pred_df['q_disc_pred']\n",
    "#df['q_disc_pred'] = pred_df['q_disc_pred']"
   ]
  },
  {
   "cell_type": "code",
   "execution_count": 67,
   "metadata": {
    "scrolled": true
   },
   "outputs": [
    {
     "data": {
      "text/html": [
       "<div>\n",
       "<style>\n",
       "    .dataframe thead tr:only-child th {\n",
       "        text-align: right;\n",
       "    }\n",
       "\n",
       "    .dataframe thead th {\n",
       "        text-align: left;\n",
       "    }\n",
       "\n",
       "    .dataframe tbody tr th {\n",
       "        vertical-align: top;\n",
       "    }\n",
       "</style>\n",
       "<table border=\"1\" class=\"dataframe\">\n",
       "  <thead>\n",
       "    <tr style=\"text-align: right;\">\n",
       "      <th></th>\n",
       "      <th>days_left</th>\n",
       "      <th>oh_after</th>\n",
       "      <th>action</th>\n",
       "      <th>rev_ser</th>\n",
       "      <th>Q_disc</th>\n",
       "      <th>q_disc_pred</th>\n",
       "    </tr>\n",
       "  </thead>\n",
       "  <tbody>\n",
       "    <tr>\n",
       "      <th>0</th>\n",
       "      <td>11</td>\n",
       "      <td>762.0</td>\n",
       "      <td>0.00</td>\n",
       "      <td>34.00</td>\n",
       "      <td>495.3000</td>\n",
       "      <td>495.094055</td>\n",
       "    </tr>\n",
       "    <tr>\n",
       "      <th>1</th>\n",
       "      <td>10</td>\n",
       "      <td>728.0</td>\n",
       "      <td>0.00</td>\n",
       "      <td>46.00</td>\n",
       "      <td>473.2000</td>\n",
       "      <td>473.040283</td>\n",
       "    </tr>\n",
       "    <tr>\n",
       "      <th>2</th>\n",
       "      <td>9</td>\n",
       "      <td>682.0</td>\n",
       "      <td>0.00</td>\n",
       "      <td>28.00</td>\n",
       "      <td>443.3000</td>\n",
       "      <td>443.111786</td>\n",
       "    </tr>\n",
       "    <tr>\n",
       "      <th>3</th>\n",
       "      <td>8</td>\n",
       "      <td>654.0</td>\n",
       "      <td>0.00</td>\n",
       "      <td>38.00</td>\n",
       "      <td>425.1000</td>\n",
       "      <td>424.995361</td>\n",
       "    </tr>\n",
       "    <tr>\n",
       "      <th>4</th>\n",
       "      <td>7</td>\n",
       "      <td>616.0</td>\n",
       "      <td>0.00</td>\n",
       "      <td>42.00</td>\n",
       "      <td>400.4000</td>\n",
       "      <td>400.316681</td>\n",
       "    </tr>\n",
       "    <tr>\n",
       "      <th>5</th>\n",
       "      <td>6</td>\n",
       "      <td>574.0</td>\n",
       "      <td>0.00</td>\n",
       "      <td>30.00</td>\n",
       "      <td>369.2130</td>\n",
       "      <td>366.863159</td>\n",
       "    </tr>\n",
       "    <tr>\n",
       "      <th>6</th>\n",
       "      <td>5</td>\n",
       "      <td>544.0</td>\n",
       "      <td>0.00</td>\n",
       "      <td>44.00</td>\n",
       "      <td>307.6775</td>\n",
       "      <td>305.256409</td>\n",
       "    </tr>\n",
       "    <tr>\n",
       "      <th>7</th>\n",
       "      <td>4</td>\n",
       "      <td>500.0</td>\n",
       "      <td>0.00</td>\n",
       "      <td>48.00</td>\n",
       "      <td>246.1420</td>\n",
       "      <td>243.712891</td>\n",
       "    </tr>\n",
       "    <tr>\n",
       "      <th>8</th>\n",
       "      <td>3</td>\n",
       "      <td>452.0</td>\n",
       "      <td>0.00</td>\n",
       "      <td>45.00</td>\n",
       "      <td>184.6065</td>\n",
       "      <td>182.187469</td>\n",
       "    </tr>\n",
       "    <tr>\n",
       "      <th>9</th>\n",
       "      <td>2</td>\n",
       "      <td>407.0</td>\n",
       "      <td>0.00</td>\n",
       "      <td>49.00</td>\n",
       "      <td>123.0710</td>\n",
       "      <td>120.648468</td>\n",
       "    </tr>\n",
       "    <tr>\n",
       "      <th>10</th>\n",
       "      <td>1</td>\n",
       "      <td>358.0</td>\n",
       "      <td>0.00</td>\n",
       "      <td>68.90</td>\n",
       "      <td>61.5355</td>\n",
       "      <td>59.127594</td>\n",
       "    </tr>\n",
       "    <tr>\n",
       "      <th>11</th>\n",
       "      <td>0</td>\n",
       "      <td>252.0</td>\n",
       "      <td>-0.35</td>\n",
       "      <td>0.00</td>\n",
       "      <td>0.0000</td>\n",
       "      <td>-1.298215</td>\n",
       "    </tr>\n",
       "    <tr>\n",
       "      <th>0</th>\n",
       "      <td>11</td>\n",
       "      <td>768.0</td>\n",
       "      <td>0.00</td>\n",
       "      <td>35.00</td>\n",
       "      <td>499.2000</td>\n",
       "      <td>495.094055</td>\n",
       "    </tr>\n",
       "    <tr>\n",
       "      <th>1</th>\n",
       "      <td>10</td>\n",
       "      <td>733.0</td>\n",
       "      <td>0.00</td>\n",
       "      <td>34.00</td>\n",
       "      <td>476.4500</td>\n",
       "      <td>473.040283</td>\n",
       "    </tr>\n",
       "    <tr>\n",
       "      <th>2</th>\n",
       "      <td>9</td>\n",
       "      <td>699.0</td>\n",
       "      <td>0.00</td>\n",
       "      <td>36.00</td>\n",
       "      <td>454.3500</td>\n",
       "      <td>443.111786</td>\n",
       "    </tr>\n",
       "    <tr>\n",
       "      <th>3</th>\n",
       "      <td>8</td>\n",
       "      <td>663.0</td>\n",
       "      <td>0.00</td>\n",
       "      <td>39.00</td>\n",
       "      <td>430.9500</td>\n",
       "      <td>424.995361</td>\n",
       "    </tr>\n",
       "    <tr>\n",
       "      <th>4</th>\n",
       "      <td>7</td>\n",
       "      <td>624.0</td>\n",
       "      <td>0.00</td>\n",
       "      <td>40.00</td>\n",
       "      <td>405.6000</td>\n",
       "      <td>400.316681</td>\n",
       "    </tr>\n",
       "    <tr>\n",
       "      <th>5</th>\n",
       "      <td>6</td>\n",
       "      <td>584.0</td>\n",
       "      <td>0.00</td>\n",
       "      <td>29.00</td>\n",
       "      <td>369.2130</td>\n",
       "      <td>366.863159</td>\n",
       "    </tr>\n",
       "    <tr>\n",
       "      <th>6</th>\n",
       "      <td>5</td>\n",
       "      <td>555.0</td>\n",
       "      <td>0.00</td>\n",
       "      <td>61.10</td>\n",
       "      <td>307.6775</td>\n",
       "      <td>305.256409</td>\n",
       "    </tr>\n",
       "    <tr>\n",
       "      <th>7</th>\n",
       "      <td>4</td>\n",
       "      <td>461.0</td>\n",
       "      <td>-0.35</td>\n",
       "      <td>63.05</td>\n",
       "      <td>246.1420</td>\n",
       "      <td>243.712891</td>\n",
       "    </tr>\n",
       "    <tr>\n",
       "      <th>8</th>\n",
       "      <td>3</td>\n",
       "      <td>364.0</td>\n",
       "      <td>-0.35</td>\n",
       "      <td>67.60</td>\n",
       "      <td>184.6065</td>\n",
       "      <td>182.187469</td>\n",
       "    </tr>\n",
       "    <tr>\n",
       "      <th>9</th>\n",
       "      <td>2</td>\n",
       "      <td>260.0</td>\n",
       "      <td>-0.35</td>\n",
       "      <td>69.55</td>\n",
       "      <td>123.0710</td>\n",
       "      <td>120.648468</td>\n",
       "    </tr>\n",
       "    <tr>\n",
       "      <th>10</th>\n",
       "      <td>1</td>\n",
       "      <td>153.0</td>\n",
       "      <td>-0.35</td>\n",
       "      <td>59.80</td>\n",
       "      <td>61.5355</td>\n",
       "      <td>59.127594</td>\n",
       "    </tr>\n",
       "    <tr>\n",
       "      <th>11</th>\n",
       "      <td>0</td>\n",
       "      <td>61.0</td>\n",
       "      <td>-0.35</td>\n",
       "      <td>0.00</td>\n",
       "      <td>0.0000</td>\n",
       "      <td>-1.298215</td>\n",
       "    </tr>\n",
       "    <tr>\n",
       "      <th>0</th>\n",
       "      <td>11</td>\n",
       "      <td>767.0</td>\n",
       "      <td>0.00</td>\n",
       "      <td>37.00</td>\n",
       "      <td>498.5500</td>\n",
       "      <td>495.094055</td>\n",
       "    </tr>\n",
       "    <tr>\n",
       "      <th>1</th>\n",
       "      <td>10</td>\n",
       "      <td>730.0</td>\n",
       "      <td>0.00</td>\n",
       "      <td>43.00</td>\n",
       "      <td>474.5000</td>\n",
       "      <td>473.040283</td>\n",
       "    </tr>\n",
       "    <tr>\n",
       "      <th>2</th>\n",
       "      <td>9</td>\n",
       "      <td>687.0</td>\n",
       "      <td>0.00</td>\n",
       "      <td>37.00</td>\n",
       "      <td>446.5500</td>\n",
       "      <td>443.111786</td>\n",
       "    </tr>\n",
       "    <tr>\n",
       "      <th>3</th>\n",
       "      <td>8</td>\n",
       "      <td>650.0</td>\n",
       "      <td>0.00</td>\n",
       "      <td>53.00</td>\n",
       "      <td>422.5000</td>\n",
       "      <td>424.995361</td>\n",
       "    </tr>\n",
       "    <tr>\n",
       "      <th>4</th>\n",
       "      <td>7</td>\n",
       "      <td>597.0</td>\n",
       "      <td>0.00</td>\n",
       "      <td>50.00</td>\n",
       "      <td>388.0500</td>\n",
       "      <td>400.316681</td>\n",
       "    </tr>\n",
       "    <tr>\n",
       "      <th>5</th>\n",
       "      <td>6</td>\n",
       "      <td>547.0</td>\n",
       "      <td>0.00</td>\n",
       "      <td>34.00</td>\n",
       "      <td>355.5500</td>\n",
       "      <td>366.863159</td>\n",
       "    </tr>\n",
       "    <tr>\n",
       "      <th>...</th>\n",
       "      <td>...</td>\n",
       "      <td>...</td>\n",
       "      <td>...</td>\n",
       "      <td>...</td>\n",
       "      <td>...</td>\n",
       "      <td>...</td>\n",
       "    </tr>\n",
       "    <tr>\n",
       "      <th>6</th>\n",
       "      <td>5</td>\n",
       "      <td>504.0</td>\n",
       "      <td>0.00</td>\n",
       "      <td>48.00</td>\n",
       "      <td>307.6775</td>\n",
       "      <td>305.256409</td>\n",
       "    </tr>\n",
       "    <tr>\n",
       "      <th>7</th>\n",
       "      <td>4</td>\n",
       "      <td>456.0</td>\n",
       "      <td>0.00</td>\n",
       "      <td>45.00</td>\n",
       "      <td>246.1420</td>\n",
       "      <td>243.712891</td>\n",
       "    </tr>\n",
       "    <tr>\n",
       "      <th>8</th>\n",
       "      <td>3</td>\n",
       "      <td>411.0</td>\n",
       "      <td>0.00</td>\n",
       "      <td>59.15</td>\n",
       "      <td>184.6065</td>\n",
       "      <td>182.187469</td>\n",
       "    </tr>\n",
       "    <tr>\n",
       "      <th>9</th>\n",
       "      <td>2</td>\n",
       "      <td>320.0</td>\n",
       "      <td>-0.35</td>\n",
       "      <td>59.80</td>\n",
       "      <td>123.0710</td>\n",
       "      <td>120.648468</td>\n",
       "    </tr>\n",
       "    <tr>\n",
       "      <th>10</th>\n",
       "      <td>1</td>\n",
       "      <td>228.0</td>\n",
       "      <td>-0.35</td>\n",
       "      <td>66.95</td>\n",
       "      <td>61.5355</td>\n",
       "      <td>59.127594</td>\n",
       "    </tr>\n",
       "    <tr>\n",
       "      <th>11</th>\n",
       "      <td>0</td>\n",
       "      <td>125.0</td>\n",
       "      <td>-0.35</td>\n",
       "      <td>0.00</td>\n",
       "      <td>0.0000</td>\n",
       "      <td>-1.298215</td>\n",
       "    </tr>\n",
       "    <tr>\n",
       "      <th>0</th>\n",
       "      <td>11</td>\n",
       "      <td>762.0</td>\n",
       "      <td>0.00</td>\n",
       "      <td>38.00</td>\n",
       "      <td>495.3000</td>\n",
       "      <td>495.094055</td>\n",
       "    </tr>\n",
       "    <tr>\n",
       "      <th>1</th>\n",
       "      <td>10</td>\n",
       "      <td>724.0</td>\n",
       "      <td>0.00</td>\n",
       "      <td>53.95</td>\n",
       "      <td>470.6000</td>\n",
       "      <td>473.040283</td>\n",
       "    </tr>\n",
       "    <tr>\n",
       "      <th>2</th>\n",
       "      <td>9</td>\n",
       "      <td>641.0</td>\n",
       "      <td>-0.35</td>\n",
       "      <td>60.45</td>\n",
       "      <td>416.6500</td>\n",
       "      <td>443.111786</td>\n",
       "    </tr>\n",
       "    <tr>\n",
       "      <th>3</th>\n",
       "      <td>8</td>\n",
       "      <td>548.0</td>\n",
       "      <td>-0.35</td>\n",
       "      <td>49.40</td>\n",
       "      <td>356.2000</td>\n",
       "      <td>424.995361</td>\n",
       "    </tr>\n",
       "    <tr>\n",
       "      <th>4</th>\n",
       "      <td>7</td>\n",
       "      <td>472.0</td>\n",
       "      <td>-0.35</td>\n",
       "      <td>71.50</td>\n",
       "      <td>306.8000</td>\n",
       "      <td>400.316681</td>\n",
       "    </tr>\n",
       "    <tr>\n",
       "      <th>5</th>\n",
       "      <td>6</td>\n",
       "      <td>362.0</td>\n",
       "      <td>-0.35</td>\n",
       "      <td>60.45</td>\n",
       "      <td>235.3000</td>\n",
       "      <td>366.863159</td>\n",
       "    </tr>\n",
       "    <tr>\n",
       "      <th>6</th>\n",
       "      <td>5</td>\n",
       "      <td>269.0</td>\n",
       "      <td>-0.35</td>\n",
       "      <td>65.65</td>\n",
       "      <td>174.8500</td>\n",
       "      <td>305.256409</td>\n",
       "    </tr>\n",
       "    <tr>\n",
       "      <th>7</th>\n",
       "      <td>4</td>\n",
       "      <td>168.0</td>\n",
       "      <td>-0.35</td>\n",
       "      <td>57.20</td>\n",
       "      <td>109.2000</td>\n",
       "      <td>243.712891</td>\n",
       "    </tr>\n",
       "    <tr>\n",
       "      <th>8</th>\n",
       "      <td>3</td>\n",
       "      <td>80.0</td>\n",
       "      <td>-0.35</td>\n",
       "      <td>52.00</td>\n",
       "      <td>52.0000</td>\n",
       "      <td>182.187469</td>\n",
       "    </tr>\n",
       "    <tr>\n",
       "      <th>9</th>\n",
       "      <td>2</td>\n",
       "      <td>0.0</td>\n",
       "      <td>-0.35</td>\n",
       "      <td>0.00</td>\n",
       "      <td>0.0000</td>\n",
       "      <td>120.648468</td>\n",
       "    </tr>\n",
       "    <tr>\n",
       "      <th>10</th>\n",
       "      <td>1</td>\n",
       "      <td>0.0</td>\n",
       "      <td>-0.35</td>\n",
       "      <td>0.00</td>\n",
       "      <td>0.0000</td>\n",
       "      <td>59.127594</td>\n",
       "    </tr>\n",
       "    <tr>\n",
       "      <th>11</th>\n",
       "      <td>0</td>\n",
       "      <td>0.0</td>\n",
       "      <td>-0.35</td>\n",
       "      <td>0.00</td>\n",
       "      <td>0.0000</td>\n",
       "      <td>-1.298215</td>\n",
       "    </tr>\n",
       "    <tr>\n",
       "      <th>0</th>\n",
       "      <td>11</td>\n",
       "      <td>768.0</td>\n",
       "      <td>0.00</td>\n",
       "      <td>46.00</td>\n",
       "      <td>499.2000</td>\n",
       "      <td>495.094055</td>\n",
       "    </tr>\n",
       "    <tr>\n",
       "      <th>1</th>\n",
       "      <td>10</td>\n",
       "      <td>722.0</td>\n",
       "      <td>0.00</td>\n",
       "      <td>33.00</td>\n",
       "      <td>469.3000</td>\n",
       "      <td>473.040283</td>\n",
       "    </tr>\n",
       "    <tr>\n",
       "      <th>2</th>\n",
       "      <td>9</td>\n",
       "      <td>689.0</td>\n",
       "      <td>0.00</td>\n",
       "      <td>37.00</td>\n",
       "      <td>447.8500</td>\n",
       "      <td>443.111786</td>\n",
       "    </tr>\n",
       "    <tr>\n",
       "      <th>3</th>\n",
       "      <td>8</td>\n",
       "      <td>652.0</td>\n",
       "      <td>0.00</td>\n",
       "      <td>35.00</td>\n",
       "      <td>423.8000</td>\n",
       "      <td>424.995361</td>\n",
       "    </tr>\n",
       "    <tr>\n",
       "      <th>4</th>\n",
       "      <td>7</td>\n",
       "      <td>617.0</td>\n",
       "      <td>0.00</td>\n",
       "      <td>30.00</td>\n",
       "      <td>401.0500</td>\n",
       "      <td>400.316681</td>\n",
       "    </tr>\n",
       "    <tr>\n",
       "      <th>5</th>\n",
       "      <td>6</td>\n",
       "      <td>587.0</td>\n",
       "      <td>0.00</td>\n",
       "      <td>35.00</td>\n",
       "      <td>369.2130</td>\n",
       "      <td>366.863159</td>\n",
       "    </tr>\n",
       "    <tr>\n",
       "      <th>6</th>\n",
       "      <td>5</td>\n",
       "      <td>552.0</td>\n",
       "      <td>0.00</td>\n",
       "      <td>40.00</td>\n",
       "      <td>307.6775</td>\n",
       "      <td>305.256409</td>\n",
       "    </tr>\n",
       "    <tr>\n",
       "      <th>7</th>\n",
       "      <td>4</td>\n",
       "      <td>512.0</td>\n",
       "      <td>0.00</td>\n",
       "      <td>33.00</td>\n",
       "      <td>246.1420</td>\n",
       "      <td>243.712891</td>\n",
       "    </tr>\n",
       "    <tr>\n",
       "      <th>8</th>\n",
       "      <td>3</td>\n",
       "      <td>479.0</td>\n",
       "      <td>0.00</td>\n",
       "      <td>41.00</td>\n",
       "      <td>184.6065</td>\n",
       "      <td>182.187469</td>\n",
       "    </tr>\n",
       "    <tr>\n",
       "      <th>9</th>\n",
       "      <td>2</td>\n",
       "      <td>438.0</td>\n",
       "      <td>0.00</td>\n",
       "      <td>62.40</td>\n",
       "      <td>123.0710</td>\n",
       "      <td>120.648468</td>\n",
       "    </tr>\n",
       "    <tr>\n",
       "      <th>10</th>\n",
       "      <td>1</td>\n",
       "      <td>342.0</td>\n",
       "      <td>-0.35</td>\n",
       "      <td>59.15</td>\n",
       "      <td>61.5355</td>\n",
       "      <td>59.127594</td>\n",
       "    </tr>\n",
       "    <tr>\n",
       "      <th>11</th>\n",
       "      <td>0</td>\n",
       "      <td>251.0</td>\n",
       "      <td>-0.35</td>\n",
       "      <td>0.00</td>\n",
       "      <td>0.0000</td>\n",
       "      <td>-1.298215</td>\n",
       "    </tr>\n",
       "  </tbody>\n",
       "</table>\n",
       "<p>1200 rows × 6 columns</p>\n",
       "</div>"
      ],
      "text/plain": [
       "    days_left  oh_after  action  rev_ser    Q_disc  q_disc_pred\n",
       "0          11     762.0    0.00    34.00  495.3000   495.094055\n",
       "1          10     728.0    0.00    46.00  473.2000   473.040283\n",
       "2           9     682.0    0.00    28.00  443.3000   443.111786\n",
       "3           8     654.0    0.00    38.00  425.1000   424.995361\n",
       "4           7     616.0    0.00    42.00  400.4000   400.316681\n",
       "5           6     574.0    0.00    30.00  369.2130   366.863159\n",
       "6           5     544.0    0.00    44.00  307.6775   305.256409\n",
       "7           4     500.0    0.00    48.00  246.1420   243.712891\n",
       "8           3     452.0    0.00    45.00  184.6065   182.187469\n",
       "9           2     407.0    0.00    49.00  123.0710   120.648468\n",
       "10          1     358.0    0.00    68.90   61.5355    59.127594\n",
       "11          0     252.0   -0.35     0.00    0.0000    -1.298215\n",
       "0          11     768.0    0.00    35.00  499.2000   495.094055\n",
       "1          10     733.0    0.00    34.00  476.4500   473.040283\n",
       "2           9     699.0    0.00    36.00  454.3500   443.111786\n",
       "3           8     663.0    0.00    39.00  430.9500   424.995361\n",
       "4           7     624.0    0.00    40.00  405.6000   400.316681\n",
       "5           6     584.0    0.00    29.00  369.2130   366.863159\n",
       "6           5     555.0    0.00    61.10  307.6775   305.256409\n",
       "7           4     461.0   -0.35    63.05  246.1420   243.712891\n",
       "8           3     364.0   -0.35    67.60  184.6065   182.187469\n",
       "9           2     260.0   -0.35    69.55  123.0710   120.648468\n",
       "10          1     153.0   -0.35    59.80   61.5355    59.127594\n",
       "11          0      61.0   -0.35     0.00    0.0000    -1.298215\n",
       "0          11     767.0    0.00    37.00  498.5500   495.094055\n",
       "1          10     730.0    0.00    43.00  474.5000   473.040283\n",
       "2           9     687.0    0.00    37.00  446.5500   443.111786\n",
       "3           8     650.0    0.00    53.00  422.5000   424.995361\n",
       "4           7     597.0    0.00    50.00  388.0500   400.316681\n",
       "5           6     547.0    0.00    34.00  355.5500   366.863159\n",
       "..        ...       ...     ...      ...       ...          ...\n",
       "6           5     504.0    0.00    48.00  307.6775   305.256409\n",
       "7           4     456.0    0.00    45.00  246.1420   243.712891\n",
       "8           3     411.0    0.00    59.15  184.6065   182.187469\n",
       "9           2     320.0   -0.35    59.80  123.0710   120.648468\n",
       "10          1     228.0   -0.35    66.95   61.5355    59.127594\n",
       "11          0     125.0   -0.35     0.00    0.0000    -1.298215\n",
       "0          11     762.0    0.00    38.00  495.3000   495.094055\n",
       "1          10     724.0    0.00    53.95  470.6000   473.040283\n",
       "2           9     641.0   -0.35    60.45  416.6500   443.111786\n",
       "3           8     548.0   -0.35    49.40  356.2000   424.995361\n",
       "4           7     472.0   -0.35    71.50  306.8000   400.316681\n",
       "5           6     362.0   -0.35    60.45  235.3000   366.863159\n",
       "6           5     269.0   -0.35    65.65  174.8500   305.256409\n",
       "7           4     168.0   -0.35    57.20  109.2000   243.712891\n",
       "8           3      80.0   -0.35    52.00   52.0000   182.187469\n",
       "9           2       0.0   -0.35     0.00    0.0000   120.648468\n",
       "10          1       0.0   -0.35     0.00    0.0000    59.127594\n",
       "11          0       0.0   -0.35     0.00    0.0000    -1.298215\n",
       "0          11     768.0    0.00    46.00  499.2000   495.094055\n",
       "1          10     722.0    0.00    33.00  469.3000   473.040283\n",
       "2           9     689.0    0.00    37.00  447.8500   443.111786\n",
       "3           8     652.0    0.00    35.00  423.8000   424.995361\n",
       "4           7     617.0    0.00    30.00  401.0500   400.316681\n",
       "5           6     587.0    0.00    35.00  369.2130   366.863159\n",
       "6           5     552.0    0.00    40.00  307.6775   305.256409\n",
       "7           4     512.0    0.00    33.00  246.1420   243.712891\n",
       "8           3     479.0    0.00    41.00  184.6065   182.187469\n",
       "9           2     438.0    0.00    62.40  123.0710   120.648468\n",
       "10          1     342.0   -0.35    59.15   61.5355    59.127594\n",
       "11          0     251.0   -0.35     0.00    0.0000    -1.298215\n",
       "\n",
       "[1200 rows x 6 columns]"
      ]
     },
     "execution_count": 67,
     "metadata": {},
     "output_type": "execute_result"
    }
   ],
   "source": [
    "#df[ ['days_left', 'oh_after','action','rev_ser' ,'Q_keep', 'Q_disc', 'q_keep_pred', 'q_disc_pred'] ]\n",
    "df[ ['days_left', 'oh_after','action','rev_ser' ,'Q_disc',  'q_disc_pred'] ]"
   ]
  },
  {
   "cell_type": "code",
   "execution_count": null,
   "metadata": {},
   "outputs": [],
   "source": []
  },
  {
   "cell_type": "code",
   "execution_count": null,
   "metadata": {},
   "outputs": [],
   "source": []
  },
  {
   "cell_type": "markdown",
   "metadata": {},
   "source": [
    "### Честный Q-learning на Keras с использованием нейронных сетей"
   ]
  },
  {
   "cell_type": "code",
   "execution_count": 207,
   "metadata": {
    "scrolled": true
   },
   "outputs": [],
   "source": [
    "samples_list = []\n",
    "for i in (range(1000)):\n",
    "    tmp_df, new_state_cols = gen_rl_df(delta = .35, alpha = 2., scale = 40, season = season, init_oh = init_oh, disc_len = dics)\n",
    "    samples_list.append(tmp_df)\n",
    "    \n",
    "data_samples = pd.concat(samples_list)\n",
    "\n",
    "\n",
    "\n",
    "df =data_samples.fillna(0)\n",
    "df['dumm_0'] = 0.\n",
    "df['dumm_m35'] = -.35\n",
    "\n",
    "df['V'] = df.apply(lambda x:V(x['oh_after'], 40, 94.67, .35, int(x['days_left'])), 1)\n",
    "df['Q_keep'] = df.apply(lambda x:Q(x['oh_after'], 40, 94.67, .35, int(x['days_left']), 0), 1)\n",
    "df['Q_disc'] = df.apply(lambda x:Q(x['oh_after'], 40, 94.67, .35, int(x['days_left']), -.35), 1)"
   ]
  },
  {
   "cell_type": "code",
   "execution_count": 84,
   "metadata": {},
   "outputs": [
    {
     "data": {
      "text/plain": [
       "([1, 0], [5, 4])"
      ]
     },
     "execution_count": 84,
     "metadata": {},
     "output_type": "execute_result"
    }
   ],
   "source": [
    "\n",
    "state_cols = ['oh_after','days_left']\n",
    "next_state_cols = [col + '_next' for col in state_cols]\n",
    "\n",
    "\n",
    "used_cols = ['days_left', 'oh_after', 'action', 'rev_ser', 'days_left_next', 'oh_after_next']\n",
    "col_n2no =  {name:i for i, name in  enumerate(used_cols)}\n",
    "\n",
    "X = df[used_cols].values\n",
    "\n",
    "\n",
    "state_cols_nos = [col_n2no[name] for name in state_cols]\n",
    "next_state_cols_nos = [col_n2no[name] for name in next_state_cols]\n",
    "\n",
    "state_cols_nos, next_state_cols_nos\n"
   ]
  },
  {
   "cell_type": "code",
   "execution_count": 85,
   "metadata": {},
   "outputs": [
    {
     "name": "stderr",
     "output_type": "stream",
     "text": [
      "/Users/alexey/anaconda3/lib/python3.6/site-packages/ipykernel_launcher.py:8: UserWarning: Update your `Dense` call to the Keras 2 API: `Dense(4, input_dim=2, activation=\"relu\", kernel_initializer=\"uniform\")`\n",
      "  \n",
      "/Users/alexey/anaconda3/lib/python3.6/site-packages/ipykernel_launcher.py:14: UserWarning: Update your `Dense` call to the Keras 2 API: `Dense(4, input_dim=2, activation=\"relu\", kernel_initializer=\"uniform\")`\n",
      "  \n"
     ]
    }
   ],
   "source": [
    "from keras.models import Sequential\n",
    "from keras.layers.convolutional import Convolution2D\n",
    "from keras.layers.core import Dense, Flatten, Dropout\n",
    "from keras.optimizers import SGD, RMSprop,Adagrad\n",
    "\n",
    "# define the architecture of the network\n",
    "model_z = Sequential()\n",
    "model_z.add(Dense(4, input_dim=2, init=\"uniform\", activation=\"relu\"))\n",
    "model_z.add(Dense(4, activation=\"relu\", kernel_initializer=\"uniform\"))\n",
    "model_z.add(Dense(1))\n",
    "model_z.compile(RMSprop(), 'MSE')\n",
    "\n",
    "model_m35 = Sequential()\n",
    "model_m35.add(Dense(4, input_dim=2, init=\"uniform\", activation=\"relu\"))\n",
    "model_m35.add(Dense(4, activation=\"relu\", kernel_initializer=\"uniform\"))\n",
    "model_m35.add(Dense(1))\n",
    "model_m35.compile(RMSprop(), 'MSE')"
   ]
  },
  {
   "cell_type": "code",
   "execution_count": null,
   "metadata": {},
   "outputs": [],
   "source": []
  },
  {
   "cell_type": "code",
   "execution_count": null,
   "metadata": {},
   "outputs": [],
   "source": []
  },
  {
   "cell_type": "code",
   "execution_count": null,
   "metadata": {},
   "outputs": [],
   "source": []
  },
  {
   "cell_type": "code",
   "execution_count": null,
   "metadata": {},
   "outputs": [],
   "source": [
    "err_list = []\n",
    "q_0_hist = []\n",
    "for i in tqdm(range(150000), mininterval=10):\n",
    "    idx = np.random.randint(df.shape[0], size = 500)\n",
    "    X_curr = X[idx]\n",
    "\n",
    "    next_pred_z   = model_z.predict(X_curr[:, next_state_cols_nos])\n",
    "    next_pred_m35 = model_m35.predict(X_curr[:, next_state_cols_nos])\n",
    "    \n",
    "    last_day_ind = np.where(X_curr[:, col_n2no['days_left_next']] ==0)\n",
    "\n",
    "    next_pred_z[last_day_ind] = 0.\n",
    "    next_pred_m35[last_day_ind] = 0.\n",
    "\n",
    "    m35_action_ind = np.where(X_curr[:, col_n2no['action']] == -0.35)\n",
    "    z_action_ind   = np.where(X_curr[:, col_n2no['action']] ==0.)\n",
    "\n",
    "    next_pred_m35[m35_action_ind, 0] += X_curr[m35_action_ind, col_n2no['rev_ser']]\n",
    "    next_pred_z[z_action_ind, 0]     += X_curr[z_action_ind, col_n2no['rev_ser']]\n",
    "\n",
    "    err_z   = model_z.train_on_batch(X_curr[:,state_cols_nos], next_pred_z)\n",
    "    err_m35 = model_m35.train_on_batch(X_curr[:,state_cols_nos], next_pred_m35)\n",
    "    err_list.append((err_z, err_m35))\n",
    "    if not i%500:\n",
    "        mean_q_0   = next_pred_z[np.where(X_curr[:, col_n2no['days_left_next']] ==10)].mean()\n",
    "        mean_q_m35 = next_pred_m35[np.where(X_curr[:, col_n2no['days_left_next']] ==10)].mean()\n",
    "        q_0_hist.append((mean_q_0, mean_q_m35))\n",
    "        print('err_z, err_m35',(err_z, err_m35))\n",
    "        print('mean_q_0, mean_q_m35',(mean_q_0, mean_q_m35))"
   ]
  },
  {
   "cell_type": "code",
   "execution_count": null,
   "metadata": {},
   "outputs": [],
   "source": []
  },
  {
   "cell_type": "code",
   "execution_count": null,
   "metadata": {},
   "outputs": [],
   "source": []
  },
  {
   "cell_type": "code",
   "execution_count": null,
   "metadata": {},
   "outputs": [],
   "source": []
  },
  {
   "cell_type": "code",
   "execution_count": null,
   "metadata": {},
   "outputs": [
    {
     "name": "stderr",
     "output_type": "stream",
     "text": [
      "\n",
      "\n",
      "\n",
      "\n",
      "\n",
      "  0%|          | 0/150000 [00:00<?, ?it/s]\u001b[A\u001b[A\u001b[A\u001b[A\u001b[A"
     ]
    },
    {
     "name": "stdout",
     "output_type": "stream",
     "text": [
      "err_z, err_m35 (2049.0396, 2295.7156)\n",
      "mean_q_0, mean_q_m35 (43.666668, 43.010418)\n",
      "err_z, err_m35 (1990.5438, 2358.9795)\n",
      "mean_q_0, mean_q_m35 (45.122753, 45.122589)\n"
     ]
    },
    {
     "name": "stderr",
     "output_type": "stream",
     "text": [
      "\n",
      "\n",
      "\n",
      "\n",
      "\n",
      "  0%|          | 573/150000 [00:10<43:29, 57.26it/s]\u001b[A\u001b[A\u001b[A\u001b[A\u001b[A"
     ]
    },
    {
     "name": "stdout",
     "output_type": "stream",
     "text": [
      "err_z, err_m35 (1836.9249, 2358.0977)\n",
      "mean_q_0, mean_q_m35 (43.704132, 43.703583)\n"
     ]
    },
    {
     "name": "stderr",
     "output_type": "stream",
     "text": [
      "\n",
      "\n",
      "\n",
      "\n",
      "\n",
      "  1%|          | 1269/150000 [00:20<39:05, 63.42it/s]\u001b[A\u001b[A\u001b[A\u001b[A\u001b[A"
     ]
    },
    {
     "name": "stdout",
     "output_type": "stream",
     "text": [
      "err_z, err_m35 (2026.5778, 2578.1077)\n",
      "mean_q_0, mean_q_m35 (43.934864, 43.933887)\n"
     ]
    },
    {
     "name": "stderr",
     "output_type": "stream",
     "text": [
      "\n",
      "\n",
      "\n",
      "\n",
      "\n",
      "  1%|▏         | 1965/150000 [00:30<37:41, 65.47it/s]\u001b[A\u001b[A\u001b[A\u001b[A\u001b[A"
     ]
    },
    {
     "name": "stdout",
     "output_type": "stream",
     "text": [
      "err_z, err_m35 (1870.5447, 2687.1382)\n",
      "mean_q_0, mean_q_m35 (43.60622, 43.604465)\n",
      "err_z, err_m35 (1873.955, 2683.6023)\n",
      "mean_q_0, mean_q_m35 (46.38966, 46.387558)\n"
     ]
    },
    {
     "name": "stderr",
     "output_type": "stream",
     "text": [
      "\n",
      "\n",
      "\n",
      "\n",
      "\n",
      "  2%|▏         | 2661/150000 [00:40<36:56, 66.48it/s]\u001b[A\u001b[A\u001b[A\u001b[A\u001b[A"
     ]
    },
    {
     "name": "stdout",
     "output_type": "stream",
     "text": [
      "err_z, err_m35 (1920.161, 2685.9146)\n",
      "mean_q_0, mean_q_m35 (45.078163, 45.075508)\n"
     ]
    },
    {
     "name": "stderr",
     "output_type": "stream",
     "text": [
      "\n",
      "\n",
      "\n",
      "\n",
      "\n",
      "  2%|▏         | 3357/150000 [00:50<36:25, 67.10it/s]\u001b[A\u001b[A\u001b[A\u001b[A\u001b[A"
     ]
    },
    {
     "name": "stdout",
     "output_type": "stream",
     "text": [
      "err_z, err_m35 (1936.2679, 2422.3496)\n",
      "mean_q_0, mean_q_m35 (47.417393, 47.414135)\n",
      "err_z, err_m35 (2036.5154, 2780.52)\n",
      "mean_q_0, mean_q_m35 (48.84259, 48.838856)\n"
     ]
    },
    {
     "name": "stderr",
     "output_type": "stream",
     "text": [
      "\n",
      "\n",
      "\n",
      "\n",
      "\n",
      "  3%|▎         | 4053/150000 [01:00<36:01, 67.51it/s]\u001b[A\u001b[A\u001b[A\u001b[A\u001b[A"
     ]
    },
    {
     "name": "stdout",
     "output_type": "stream",
     "text": [
      "err_z, err_m35 (1905.6212, 2429.8867)\n",
      "mean_q_0, mean_q_m35 (46.689743, 46.685501)\n"
     ]
    },
    {
     "name": "stderr",
     "output_type": "stream",
     "text": [
      "\n",
      "\n",
      "\n",
      "\n",
      "\n",
      "  3%|▎         | 4750/150000 [01:10<35:41, 67.82it/s]\u001b[A\u001b[A\u001b[A\u001b[A\u001b[A"
     ]
    },
    {
     "name": "stdout",
     "output_type": "stream",
     "text": [
      "err_z, err_m35 (1916.9865, 2601.4604)\n",
      "mean_q_0, mean_q_m35 (48.493683, 48.489002)\n"
     ]
    },
    {
     "name": "stderr",
     "output_type": "stream",
     "text": [
      "\n",
      "\n",
      "\n",
      "\n",
      "\n",
      "  4%|▎         | 5447/150000 [01:20<35:24, 68.04it/s]\u001b[A\u001b[A\u001b[A\u001b[A\u001b[A"
     ]
    },
    {
     "name": "stdout",
     "output_type": "stream",
     "text": [
      "err_z, err_m35 (1879.1572, 2607.4651)\n",
      "mean_q_0, mean_q_m35 (50.038269, 50.033062)\n",
      "err_z, err_m35 (1994.5421, 2427.3977)\n",
      "mean_q_0, mean_q_m35 (49.914185, 49.908272)\n"
     ]
    },
    {
     "name": "stderr",
     "output_type": "stream",
     "text": [
      "\n",
      "\n",
      "\n",
      "\n",
      "\n",
      "  4%|▍         | 6143/150000 [01:30<35:09, 68.20it/s]\u001b[A\u001b[A\u001b[A\u001b[A\u001b[A"
     ]
    },
    {
     "name": "stdout",
     "output_type": "stream",
     "text": [
      "err_z, err_m35 (1877.0129, 2717.376)\n",
      "mean_q_0, mean_q_m35 (48.864346, 48.858074)\n"
     ]
    },
    {
     "name": "stderr",
     "output_type": "stream",
     "text": [
      "\n",
      "\n",
      "\n",
      "\n",
      "\n",
      "  5%|▍         | 6839/150000 [01:40<34:54, 68.34it/s]\u001b[A\u001b[A\u001b[A\u001b[A\u001b[A"
     ]
    },
    {
     "name": "stdout",
     "output_type": "stream",
     "text": [
      "err_z, err_m35 (1939.2969, 2623.7339)\n",
      "mean_q_0, mean_q_m35 (51.648804, 51.64193)\n",
      "err_z, err_m35 (1751.8345, 2187.762)\n",
      "mean_q_0, mean_q_m35 (49.227261, 49.219883)\n"
     ]
    },
    {
     "name": "stderr",
     "output_type": "stream",
     "text": [
      "\n",
      "\n",
      "\n",
      "\n",
      "\n",
      "  5%|▌         | 7535/150000 [01:50<34:41, 68.45it/s]\u001b[A\u001b[A\u001b[A\u001b[A\u001b[A"
     ]
    },
    {
     "name": "stdout",
     "output_type": "stream",
     "text": [
      "err_z, err_m35 (1910.8275, 2599.7378)\n",
      "mean_q_0, mean_q_m35 (53.702209, 53.694286)\n"
     ]
    },
    {
     "name": "stderr",
     "output_type": "stream",
     "text": [
      "\n",
      "\n",
      "\n",
      "\n",
      "\n",
      "  5%|▌         | 8232/150000 [02:00<34:28, 68.55it/s]\u001b[A\u001b[A\u001b[A\u001b[A\u001b[A"
     ]
    },
    {
     "name": "stdout",
     "output_type": "stream",
     "text": [
      "err_z, err_m35 (1831.9503, 2573.6238)\n",
      "mean_q_0, mean_q_m35 (49.213665, 49.204941)\n"
     ]
    },
    {
     "name": "stderr",
     "output_type": "stream",
     "text": [
      "\n",
      "\n",
      "\n",
      "\n",
      "\n",
      "  6%|▌         | 8929/150000 [02:10<34:15, 68.63it/s]\u001b[A\u001b[A\u001b[A\u001b[A\u001b[A"
     ]
    },
    {
     "name": "stdout",
     "output_type": "stream",
     "text": [
      "err_z, err_m35 (1863.8395, 2606.3704)\n",
      "mean_q_0, mean_q_m35 (52.33696, 52.327881)\n",
      "err_z, err_m35 (1898.7318, 2586.8682)\n",
      "mean_q_0, mean_q_m35 (51.436901, 51.42717)\n"
     ]
    },
    {
     "name": "stderr",
     "output_type": "stream",
     "text": [
      "\n",
      "\n",
      "\n",
      "\n",
      "\n",
      "  6%|▋         | 9626/150000 [02:20<34:03, 68.70it/s]\u001b[A\u001b[A\u001b[A\u001b[A\u001b[A"
     ]
    },
    {
     "name": "stdout",
     "output_type": "stream",
     "text": [
      "err_z, err_m35 (1938.4459, 2664.2163)\n",
      "mean_q_0, mean_q_m35 (52.934536, 52.923668)\n"
     ]
    },
    {
     "name": "stderr",
     "output_type": "stream",
     "text": [
      "\n",
      "\n",
      "\n",
      "\n",
      "\n",
      "  7%|▋         | 10323/150000 [02:30<33:51, 68.77it/s]\u001b[A\u001b[A\u001b[A\u001b[A\u001b[A"
     ]
    },
    {
     "name": "stdout",
     "output_type": "stream",
     "text": [
      "err_z, err_m35 (1898.9347, 2479.6147)\n",
      "mean_q_0, mean_q_m35 (53.40411, 53.3927)\n",
      "err_z, err_m35 (1867.4419, 2549.3269)\n",
      "mean_q_0, mean_q_m35 (54.635555, 54.623837)\n"
     ]
    },
    {
     "name": "stderr",
     "output_type": "stream",
     "text": [
      "\n",
      "\n",
      "\n",
      "\n",
      "\n",
      "  7%|▋         | 11020/150000 [02:40<33:39, 68.81it/s]\u001b[A\u001b[A\u001b[A\u001b[A\u001b[A"
     ]
    },
    {
     "name": "stdout",
     "output_type": "stream",
     "text": [
      "err_z, err_m35 (2017.2716, 2490.4846)\n",
      "mean_q_0, mean_q_m35 (56.997406, 56.984871)\n"
     ]
    },
    {
     "name": "stderr",
     "output_type": "stream",
     "text": [
      "\n",
      "\n",
      "\n",
      "\n",
      "\n",
      "  8%|▊         | 11716/150000 [02:50<33:28, 68.86it/s]\u001b[A\u001b[A\u001b[A\u001b[A\u001b[A"
     ]
    },
    {
     "name": "stdout",
     "output_type": "stream",
     "text": [
      "err_z, err_m35 (2059.2837, 2294.2539)\n",
      "mean_q_0, mean_q_m35 (56.202045, 56.188438)\n"
     ]
    },
    {
     "name": "stderr",
     "output_type": "stream",
     "text": [
      "\n",
      "\n",
      "\n",
      "\n",
      "\n",
      "  8%|▊         | 12412/150000 [03:00<33:17, 68.89it/s]\u001b[A\u001b[A\u001b[A\u001b[A\u001b[A"
     ]
    },
    {
     "name": "stdout",
     "output_type": "stream",
     "text": [
      "err_z, err_m35 (1877.5852, 2415.343)\n",
      "mean_q_0, mean_q_m35 (54.415325, 54.401302)\n",
      "err_z, err_m35 (1968.3677, 2570.3372)\n",
      "mean_q_0, mean_q_m35 (56.324177, 56.309368)\n"
     ]
    },
    {
     "name": "stderr",
     "output_type": "stream",
     "text": [
      "\n",
      "\n",
      "\n",
      "\n",
      "\n",
      "  9%|▊         | 13108/150000 [03:10<33:06, 68.93it/s]\u001b[A\u001b[A\u001b[A\u001b[A\u001b[A"
     ]
    },
    {
     "name": "stdout",
     "output_type": "stream",
     "text": [
      "err_z, err_m35 (1872.7478, 2410.7625)\n",
      "mean_q_0, mean_q_m35 (56.671341, 56.65575)\n"
     ]
    },
    {
     "name": "stderr",
     "output_type": "stream",
     "text": [
      "\n",
      "\n",
      "\n",
      "\n",
      "\n",
      "  9%|▉         | 13806/150000 [03:20<32:54, 68.97it/s]\u001b[A\u001b[A\u001b[A\u001b[A\u001b[A"
     ]
    },
    {
     "name": "stdout",
     "output_type": "stream",
     "text": [
      "err_z, err_m35 (1778.1003, 2505.1577)\n",
      "mean_q_0, mean_q_m35 (56.375656, 56.359375)\n"
     ]
    },
    {
     "name": "stderr",
     "output_type": "stream",
     "text": [
      "\n",
      "\n",
      "\n",
      "\n",
      "\n",
      " 10%|▉         | 14504/150000 [03:30<32:43, 69.00it/s]\u001b[A\u001b[A\u001b[A\u001b[A\u001b[A"
     ]
    },
    {
     "name": "stdout",
     "output_type": "stream",
     "text": [
      "err_z, err_m35 (1901.4301, 2530.0171)\n",
      "mean_q_0, mean_q_m35 (59.004719, 58.987713)\n",
      "err_z, err_m35 (1867.4967, 2409.6711)\n",
      "mean_q_0, mean_q_m35 (57.944603, 57.926914)\n"
     ]
    },
    {
     "name": "stderr",
     "output_type": "stream",
     "text": [
      "\n",
      "\n",
      "\n",
      "\n",
      "\n",
      " 10%|█         | 15203/150000 [03:40<32:32, 69.04it/s]\u001b[A\u001b[A\u001b[A\u001b[A\u001b[A"
     ]
    },
    {
     "name": "stdout",
     "output_type": "stream",
     "text": [
      "err_z, err_m35 (1927.2922, 2484.2466)\n",
      "mean_q_0, mean_q_m35 (58.274082, 58.255405)\n"
     ]
    },
    {
     "name": "stderr",
     "output_type": "stream",
     "text": [
      "\n",
      "\n",
      "\n",
      "\n",
      "\n",
      " 11%|█         | 15902/150000 [03:50<32:21, 69.06it/s]\u001b[A\u001b[A\u001b[A\u001b[A\u001b[A"
     ]
    },
    {
     "name": "stdout",
     "output_type": "stream",
     "text": [
      "err_z, err_m35 (1931.1312, 2468.4663)\n",
      "mean_q_0, mean_q_m35 (58.025379, 58.005821)\n",
      "err_z, err_m35 (1865.4603, 2447.7593)\n",
      "mean_q_0, mean_q_m35 (56.178677, 56.158394)\n"
     ]
    },
    {
     "name": "stderr",
     "output_type": "stream",
     "text": [
      "\n",
      "\n",
      "\n",
      "\n",
      "\n",
      " 11%|█         | 16598/150000 [04:00<32:11, 69.08it/s]\u001b[A\u001b[A\u001b[A\u001b[A\u001b[A"
     ]
    },
    {
     "name": "stdout",
     "output_type": "stream",
     "text": [
      "err_z, err_m35 (1935.0587, 2425.365)\n",
      "mean_q_0, mean_q_m35 (60.394581, 60.373562)\n"
     ]
    },
    {
     "name": "stderr",
     "output_type": "stream",
     "text": [
      "\n",
      "\n",
      "\n",
      "\n",
      "\n",
      " 12%|█▏        | 17296/150000 [04:10<32:00, 69.10it/s]\u001b[A\u001b[A\u001b[A\u001b[A\u001b[A"
     ]
    },
    {
     "name": "stdout",
     "output_type": "stream",
     "text": [
      "err_z, err_m35 (1843.8907, 2566.2627)\n",
      "mean_q_0, mean_q_m35 (56.969791, 56.948032)\n"
     ]
    },
    {
     "name": "stderr",
     "output_type": "stream",
     "text": [
      "\n",
      "\n",
      "\n",
      "\n",
      "\n",
      " 12%|█▏        | 17995/150000 [04:20<31:49, 69.13it/s]\u001b[A\u001b[A\u001b[A\u001b[A\u001b[A"
     ]
    },
    {
     "name": "stdout",
     "output_type": "stream",
     "text": [
      "err_z, err_m35 (1790.7451, 2361.8308)\n",
      "mean_q_0, mean_q_m35 (60.056358, 60.033588)\n",
      "err_z, err_m35 (2002.3412, 2550.1426)\n",
      "mean_q_0, mean_q_m35 (61.007507, 60.983845)\n"
     ]
    },
    {
     "name": "stderr",
     "output_type": "stream",
     "text": [
      "\n",
      "\n",
      "\n",
      "\n",
      "\n",
      " 12%|█▏        | 18694/150000 [04:30<31:38, 69.15it/s]\u001b[A\u001b[A\u001b[A\u001b[A\u001b[A"
     ]
    },
    {
     "name": "stdout",
     "output_type": "stream",
     "text": [
      "err_z, err_m35 (1904.3689, 2598.9299)\n",
      "mean_q_0, mean_q_m35 (63.529476, 63.504803)\n"
     ]
    },
    {
     "name": "stderr",
     "output_type": "stream",
     "text": [
      "\n",
      "\n",
      "\n",
      "\n",
      "\n",
      " 13%|█▎        | 19392/150000 [04:40<31:28, 69.17it/s]\u001b[A\u001b[A\u001b[A\u001b[A\u001b[A"
     ]
    },
    {
     "name": "stdout",
     "output_type": "stream",
     "text": [
      "err_z, err_m35 (1873.9403, 2571.2744)\n",
      "mean_q_0, mean_q_m35 (63.1273, 63.101608)\n",
      "err_z, err_m35 (1872.894, 2490.5247)\n",
      "mean_q_0, mean_q_m35 (62.28812, 62.261299)\n"
     ]
    },
    {
     "name": "stderr",
     "output_type": "stream",
     "text": [
      "\n",
      "\n",
      "\n",
      "\n",
      "\n",
      " 13%|█▎        | 20089/150000 [04:50<31:17, 69.19it/s]\u001b[A\u001b[A\u001b[A\u001b[A\u001b[A"
     ]
    },
    {
     "name": "stdout",
     "output_type": "stream",
     "text": [
      "err_z, err_m35 (1863.8601, 2483.1741)\n",
      "mean_q_0, mean_q_m35 (61.047405, 61.019718)\n"
     ]
    },
    {
     "name": "stderr",
     "output_type": "stream",
     "text": [
      "\n",
      "\n",
      "\n",
      "\n",
      "\n",
      " 14%|█▍        | 20788/150000 [05:00<31:06, 69.21it/s]\u001b[A\u001b[A\u001b[A\u001b[A\u001b[A"
     ]
    },
    {
     "name": "stdout",
     "output_type": "stream",
     "text": [
      "err_z, err_m35 (1896.976, 2487.9954)\n",
      "mean_q_0, mean_q_m35 (64.797791, 64.768913)\n"
     ]
    },
    {
     "name": "stderr",
     "output_type": "stream",
     "text": [
      "\n",
      "\n",
      "\n",
      "\n",
      "\n",
      " 14%|█▍        | 21487/150000 [05:10<30:56, 69.22it/s]\u001b[A\u001b[A\u001b[A\u001b[A\u001b[A"
     ]
    },
    {
     "name": "stdout",
     "output_type": "stream",
     "text": [
      "err_z, err_m35 (1913.9308, 2403.6248)\n",
      "mean_q_0, mean_q_m35 (60.695347, 60.665424)\n",
      "err_z, err_m35 (1809.7278, 2461.5569)\n",
      "mean_q_0, mean_q_m35 (62.747597, 62.717068)\n"
     ]
    },
    {
     "name": "stderr",
     "output_type": "stream",
     "text": [
      "\n",
      "\n",
      "\n",
      "\n",
      "\n",
      " 15%|█▍        | 22186/150000 [05:20<30:45, 69.24it/s]\u001b[A\u001b[A\u001b[A\u001b[A\u001b[A"
     ]
    },
    {
     "name": "stdout",
     "output_type": "stream",
     "text": [
      "err_z, err_m35 (1968.5967, 2688.8901)\n",
      "mean_q_0, mean_q_m35 (65.991714, 65.959869)\n"
     ]
    },
    {
     "name": "stderr",
     "output_type": "stream",
     "text": [
      "\n",
      "\n",
      "\n",
      "\n",
      "\n",
      " 15%|█▌        | 22884/150000 [05:30<30:35, 69.25it/s]\u001b[A\u001b[A\u001b[A\u001b[A\u001b[A"
     ]
    },
    {
     "name": "stdout",
     "output_type": "stream",
     "text": [
      "err_z, err_m35 (1804.6642, 2452.8499)\n",
      "mean_q_0, mean_q_m35 (66.190338, 66.157372)\n",
      "err_z, err_m35 (1782.2032, 2370.1228)\n",
      "mean_q_0, mean_q_m35 (64.550331, 64.516243)\n"
     ]
    },
    {
     "name": "stderr",
     "output_type": "stream",
     "text": [
      "\n",
      "\n",
      "\n",
      "\n",
      "\n",
      " 16%|█▌        | 23581/150000 [05:40<30:25, 69.27it/s]\u001b[A\u001b[A\u001b[A\u001b[A\u001b[A"
     ]
    },
    {
     "name": "stdout",
     "output_type": "stream",
     "text": [
      "err_z, err_m35 (1778.8425, 2633.238)\n",
      "mean_q_0, mean_q_m35 (66.7444, 66.709511)\n"
     ]
    },
    {
     "name": "stderr",
     "output_type": "stream",
     "text": [
      "\n",
      "\n",
      "\n",
      "\n",
      "\n",
      " 16%|█▌        | 24279/150000 [05:50<30:14, 69.28it/s]\u001b[A\u001b[A\u001b[A\u001b[A\u001b[A"
     ]
    },
    {
     "name": "stdout",
     "output_type": "stream",
     "text": [
      "err_z, err_m35 (1894.0403, 2467.0911)\n",
      "mean_q_0, mean_q_m35 (68.402573, 68.366486)\n"
     ]
    },
    {
     "name": "stderr",
     "output_type": "stream",
     "text": [
      "\n",
      "\n",
      "\n",
      "\n",
      "\n",
      " 17%|█▋        | 24977/150000 [06:00<30:04, 69.29it/s]\u001b[A\u001b[A\u001b[A\u001b[A\u001b[A"
     ]
    },
    {
     "name": "stdout",
     "output_type": "stream",
     "text": [
      "err_z, err_m35 (1846.6542, 2440.4922)\n",
      "mean_q_0, mean_q_m35 (69.6651, 69.627762)\n",
      "err_z, err_m35 (1878.5951, 2480.1646)\n",
      "mean_q_0, mean_q_m35 (67.868813, 67.830185)\n"
     ]
    },
    {
     "name": "stderr",
     "output_type": "stream",
     "text": [
      "\n",
      "\n",
      "\n",
      "\n",
      "\n",
      " 17%|█▋        | 25674/150000 [06:10<29:54, 69.30it/s]\u001b[A\u001b[A\u001b[A\u001b[A\u001b[A"
     ]
    },
    {
     "name": "stdout",
     "output_type": "stream",
     "text": [
      "err_z, err_m35 (1912.5449, 2482.6179)\n",
      "mean_q_0, mean_q_m35 (69.998886, 69.958832)\n"
     ]
    },
    {
     "name": "stderr",
     "output_type": "stream",
     "text": [
      "\n",
      "\n",
      "\n",
      "\n",
      "\n",
      " 18%|█▊        | 26371/150000 [06:20<29:43, 69.31it/s]\u001b[A\u001b[A\u001b[A\u001b[A\u001b[A"
     ]
    },
    {
     "name": "stdout",
     "output_type": "stream",
     "text": [
      "err_z, err_m35 (1872.4166, 2493.124)\n",
      "mean_q_0, mean_q_m35 (71.150566, 71.109367)\n",
      "err_z, err_m35 (1807.1216, 2612.7349)\n",
      "mean_q_0, mean_q_m35 (71.287636, 71.24501)\n"
     ]
    },
    {
     "name": "stderr",
     "output_type": "stream",
     "text": [
      "\n",
      "\n",
      "\n",
      "\n",
      "\n",
      " 18%|█▊        | 27068/150000 [06:30<29:33, 69.31it/s]\u001b[A\u001b[A\u001b[A\u001b[A\u001b[A"
     ]
    },
    {
     "name": "stdout",
     "output_type": "stream",
     "text": [
      "err_z, err_m35 (1836.749, 2534.4302)\n",
      "mean_q_0, mean_q_m35 (69.615082, 69.571342)\n"
     ]
    },
    {
     "name": "stderr",
     "output_type": "stream",
     "text": [
      "\n",
      "\n",
      "\n",
      "\n",
      "\n",
      " 19%|█▊        | 27766/150000 [06:40<29:23, 69.32it/s]\u001b[A\u001b[A\u001b[A\u001b[A\u001b[A"
     ]
    },
    {
     "name": "stdout",
     "output_type": "stream",
     "text": [
      "err_z, err_m35 (1796.5227, 2750.8936)\n",
      "mean_q_0, mean_q_m35 (73.964706, 73.919403)\n"
     ]
    },
    {
     "name": "stderr",
     "output_type": "stream",
     "text": [
      "\n",
      "\n",
      "\n",
      "\n",
      "\n",
      " 19%|█▉        | 28464/150000 [06:50<29:12, 69.33it/s]\u001b[A\u001b[A\u001b[A\u001b[A\u001b[A"
     ]
    },
    {
     "name": "stdout",
     "output_type": "stream",
     "text": [
      "err_z, err_m35 (1835.6606, 2595.3066)\n",
      "mean_q_0, mean_q_m35 (71.24231, 71.195618)\n",
      "err_z, err_m35 (1838.7139, 2529.6624)\n",
      "mean_q_0, mean_q_m35 (72.09053, 72.042786)\n"
     ]
    },
    {
     "name": "stderr",
     "output_type": "stream",
     "text": [
      "\n",
      "\n",
      "\n",
      "\n",
      "\n",
      " 19%|█▉        | 29160/150000 [07:00<29:02, 69.33it/s]\u001b[A\u001b[A\u001b[A\u001b[A\u001b[A"
     ]
    },
    {
     "name": "stdout",
     "output_type": "stream",
     "text": [
      "err_z, err_m35 (1873.3976, 2600.2126)\n",
      "mean_q_0, mean_q_m35 (73.594704, 73.545692)\n"
     ]
    },
    {
     "name": "stderr",
     "output_type": "stream",
     "text": [
      "\n",
      "\n",
      "\n",
      "\n",
      "\n",
      " 20%|█▉        | 29855/150000 [07:10<28:52, 69.33it/s]\u001b[A\u001b[A\u001b[A\u001b[A\u001b[A"
     ]
    },
    {
     "name": "stdout",
     "output_type": "stream",
     "text": [
      "err_z, err_m35 (1910.376, 2615.3638)\n",
      "mean_q_0, mean_q_m35 (75.32579, 75.27478)\n",
      "err_z, err_m35 (1828.5665, 2308.8892)\n",
      "mean_q_0, mean_q_m35 (72.735176, 72.68293)\n"
     ]
    },
    {
     "name": "stderr",
     "output_type": "stream",
     "text": [
      "\n",
      "\n",
      "\n",
      "\n",
      "\n",
      " 20%|██        | 30552/150000 [07:20<28:42, 69.34it/s]\u001b[A\u001b[A\u001b[A\u001b[A\u001b[A"
     ]
    },
    {
     "name": "stdout",
     "output_type": "stream",
     "text": [
      "err_z, err_m35 (1877.3798, 2690.8691)\n",
      "mean_q_0, mean_q_m35 (72.479576, 72.425949)\n"
     ]
    },
    {
     "name": "stderr",
     "output_type": "stream",
     "text": [
      "\n",
      "\n",
      "\n",
      "\n",
      "\n",
      " 21%|██        | 31249/150000 [07:30<28:32, 69.34it/s]\u001b[A\u001b[A\u001b[A\u001b[A\u001b[A"
     ]
    },
    {
     "name": "stdout",
     "output_type": "stream",
     "text": [
      "err_z, err_m35 (1970.6326, 2562.019)\n",
      "mean_q_0, mean_q_m35 (74.776733, 74.721375)\n"
     ]
    },
    {
     "name": "stderr",
     "output_type": "stream",
     "text": [
      "\n",
      "\n",
      "\n",
      "\n",
      "\n",
      " 21%|██▏       | 31947/150000 [07:40<28:22, 69.35it/s]\u001b[A\u001b[A\u001b[A\u001b[A\u001b[A"
     ]
    },
    {
     "name": "stdout",
     "output_type": "stream",
     "text": [
      "err_z, err_m35 (1825.0164, 2515.9397)\n",
      "mean_q_0, mean_q_m35 (73.431366, 73.374344)\n",
      "err_z, err_m35 (1801.3197, 2632.0598)\n",
      "mean_q_0, mean_q_m35 (75.396027, 75.337822)\n"
     ]
    },
    {
     "name": "stderr",
     "output_type": "stream",
     "text": [
      "\n",
      "\n",
      "\n",
      "\n",
      "\n",
      " 22%|██▏       | 32645/150000 [07:50<28:11, 69.36it/s]\u001b[A\u001b[A\u001b[A\u001b[A\u001b[A"
     ]
    },
    {
     "name": "stdout",
     "output_type": "stream",
     "text": [
      "err_z, err_m35 (1748.7018, 2719.385)\n",
      "mean_q_0, mean_q_m35 (75.284042, 75.224045)\n"
     ]
    },
    {
     "name": "stderr",
     "output_type": "stream",
     "text": [
      "\n",
      "\n",
      "\n",
      "\n",
      "\n",
      " 22%|██▏       | 33343/150000 [08:00<28:01, 69.37it/s]\u001b[A\u001b[A\u001b[A\u001b[A\u001b[A"
     ]
    },
    {
     "name": "stdout",
     "output_type": "stream",
     "text": [
      "err_z, err_m35 (1869.5717, 2468.77)\n",
      "mean_q_0, mean_q_m35 (76.294487, 76.232689)\n",
      "err_z, err_m35 (1877.8641, 2545.4033)\n",
      "mean_q_0, mean_q_m35 (74.100845, 74.03727)\n"
     ]
    },
    {
     "name": "stderr",
     "output_type": "stream",
     "text": [
      "\n",
      "\n",
      "\n",
      "\n",
      "\n",
      " 23%|██▎       | 34041/150000 [08:10<27:51, 69.38it/s]\u001b[A\u001b[A\u001b[A\u001b[A\u001b[A"
     ]
    },
    {
     "name": "stdout",
     "output_type": "stream",
     "text": [
      "err_z, err_m35 (1846.0201, 2689.8325)\n",
      "mean_q_0, mean_q_m35 (77.572449, 77.507324)\n"
     ]
    },
    {
     "name": "stderr",
     "output_type": "stream",
     "text": [
      "\n",
      "\n",
      "\n",
      "\n",
      "\n",
      " 23%|██▎       | 34740/150000 [08:20<27:41, 69.38it/s]\u001b[A\u001b[A\u001b[A\u001b[A\u001b[A"
     ]
    },
    {
     "name": "stdout",
     "output_type": "stream",
     "text": [
      "err_z, err_m35 (1823.6837, 2742.4358)\n",
      "mean_q_0, mean_q_m35 (78.59626, 78.529449)\n"
     ]
    },
    {
     "name": "stderr",
     "output_type": "stream",
     "text": [
      "\n",
      "\n",
      "\n",
      "\n",
      "\n",
      " 24%|██▎       | 35439/150000 [08:30<27:30, 69.39it/s]\u001b[A\u001b[A\u001b[A\u001b[A\u001b[A"
     ]
    },
    {
     "name": "stdout",
     "output_type": "stream",
     "text": [
      "err_z, err_m35 (1937.1935, 2634.4492)\n",
      "mean_q_0, mean_q_m35 (77.529068, 77.459999)\n",
      "err_z, err_m35 (1920.874, 2567.8489)\n",
      "mean_q_0, mean_q_m35 (78.034935, 77.963699)\n"
     ]
    },
    {
     "name": "stderr",
     "output_type": "stream",
     "text": [
      "\n",
      "\n",
      "\n",
      "\n",
      "\n",
      " 24%|██▍       | 36136/150000 [08:40<27:20, 69.39it/s]\u001b[A\u001b[A\u001b[A\u001b[A\u001b[A"
     ]
    },
    {
     "name": "stdout",
     "output_type": "stream",
     "text": [
      "err_z, err_m35 (1879.5229, 2647.4534)\n",
      "mean_q_0, mean_q_m35 (79.512123, 79.43914)\n"
     ]
    },
    {
     "name": "stderr",
     "output_type": "stream",
     "text": [
      "\n",
      "\n",
      "\n",
      "\n",
      "\n",
      " 25%|██▍       | 36834/150000 [08:50<27:10, 69.40it/s]\u001b[A\u001b[A\u001b[A\u001b[A\u001b[A"
     ]
    },
    {
     "name": "stdout",
     "output_type": "stream",
     "text": [
      "err_z, err_m35 (1925.6907, 2590.2917)\n",
      "mean_q_0, mean_q_m35 (79.163795, 79.089417)\n",
      "err_z, err_m35 (1854.8253, 2678.2236)\n",
      "mean_q_0, mean_q_m35 (79.465164, 79.388405)\n"
     ]
    },
    {
     "name": "stderr",
     "output_type": "stream",
     "text": [
      "\n",
      "\n",
      "\n",
      "\n",
      "\n",
      " 25%|██▌       | 37532/150000 [09:00<27:00, 69.40it/s]\u001b[A\u001b[A\u001b[A\u001b[A\u001b[A"
     ]
    },
    {
     "name": "stdout",
     "output_type": "stream",
     "text": [
      "err_z, err_m35 (1788.3335, 2677.4988)\n",
      "mean_q_0, mean_q_m35 (81.378426, 81.299622)\n"
     ]
    },
    {
     "name": "stderr",
     "output_type": "stream",
     "text": [
      "\n",
      "\n",
      "\n",
      "\n",
      "\n",
      " 25%|██▌       | 38228/150000 [09:10<26:50, 69.41it/s]\u001b[A\u001b[A\u001b[A\u001b[A\u001b[A"
     ]
    },
    {
     "name": "stdout",
     "output_type": "stream",
     "text": [
      "err_z, err_m35 (1822.9277, 2732.252)\n",
      "mean_q_0, mean_q_m35 (80.618195, 80.537163)\n"
     ]
    },
    {
     "name": "stderr",
     "output_type": "stream",
     "text": [
      "\n",
      "\n",
      "\n",
      "\n",
      "\n",
      " 26%|██▌       | 38927/150000 [09:20<26:40, 69.42it/s]\u001b[A\u001b[A\u001b[A\u001b[A\u001b[A"
     ]
    },
    {
     "name": "stdout",
     "output_type": "stream",
     "text": [
      "err_z, err_m35 (1876.7566, 2686.231)\n",
      "mean_q_0, mean_q_m35 (83.111916, 83.028931)\n",
      "err_z, err_m35 (1872.6747, 2779.3225)\n",
      "mean_q_0, mean_q_m35 (85.777054, 85.69239)\n"
     ]
    },
    {
     "name": "stderr",
     "output_type": "stream",
     "text": [
      "\n",
      "\n",
      "\n",
      "\n",
      "\n",
      " 26%|██▋       | 39626/150000 [09:30<26:29, 69.42it/s]\u001b[A\u001b[A\u001b[A\u001b[A\u001b[A"
     ]
    },
    {
     "name": "stdout",
     "output_type": "stream",
     "text": [
      "err_z, err_m35 (2003.2981, 2669.5325)\n",
      "mean_q_0, mean_q_m35 (85.005203, 84.918167)\n"
     ]
    },
    {
     "name": "stderr",
     "output_type": "stream",
     "text": [
      "\n",
      "\n",
      "\n",
      "\n",
      "\n",
      " 27%|██▋       | 40323/150000 [09:40<26:19, 69.42it/s]\u001b[A\u001b[A\u001b[A\u001b[A\u001b[A"
     ]
    },
    {
     "name": "stdout",
     "output_type": "stream",
     "text": [
      "err_z, err_m35 (1854.3567, 2819.9631)\n",
      "mean_q_0, mean_q_m35 (81.360573, 81.271355)\n",
      "err_z, err_m35 (1849.8131, 2803.1226)\n",
      "mean_q_0, mean_q_m35 (82.997574, 82.905754)\n"
     ]
    },
    {
     "name": "stderr",
     "output_type": "stream",
     "text": [
      "\n",
      "\n",
      "\n",
      "\n",
      "\n",
      " 27%|██▋       | 41020/150000 [09:50<26:09, 69.43it/s]\u001b[A\u001b[A\u001b[A\u001b[A\u001b[A"
     ]
    },
    {
     "name": "stdout",
     "output_type": "stream",
     "text": [
      "err_z, err_m35 (1910.7391, 2811.7478)\n",
      "mean_q_0, mean_q_m35 (85.705788, 85.611938)\n"
     ]
    },
    {
     "name": "stderr",
     "output_type": "stream",
     "text": [
      "\n",
      "\n",
      "\n",
      "\n",
      "\n",
      " 28%|██▊       | 41717/150000 [10:00<25:59, 69.43it/s]\u001b[A\u001b[A\u001b[A\u001b[A\u001b[A"
     ]
    },
    {
     "name": "stdout",
     "output_type": "stream",
     "text": [
      "err_z, err_m35 (1882.4313, 2743.7703)\n",
      "mean_q_0, mean_q_m35 (84.990601, 84.894745)\n"
     ]
    },
    {
     "name": "stderr",
     "output_type": "stream",
     "text": [
      "\n",
      "\n",
      "\n",
      "\n",
      "\n",
      " 28%|██▊       | 42413/150000 [10:10<25:49, 69.43it/s]\u001b[A\u001b[A\u001b[A\u001b[A\u001b[A"
     ]
    },
    {
     "name": "stdout",
     "output_type": "stream",
     "text": [
      "err_z, err_m35 (1814.499, 2744.1147)\n",
      "mean_q_0, mean_q_m35 (85.011589, 84.913406)\n",
      "err_z, err_m35 (1924.0566, 2677.6052)\n",
      "mean_q_0, mean_q_m35 (85.081406, 84.98069)\n"
     ]
    },
    {
     "name": "stderr",
     "output_type": "stream",
     "text": [
      "\n",
      "\n",
      "\n",
      "\n",
      "\n",
      " 29%|██▊       | 43111/150000 [10:20<25:39, 69.44it/s]\u001b[A\u001b[A\u001b[A\u001b[A\u001b[A"
     ]
    },
    {
     "name": "stdout",
     "output_type": "stream",
     "text": [
      "err_z, err_m35 (1856.5404, 2684.3154)\n",
      "mean_q_0, mean_q_m35 (84.655067, 84.552063)\n"
     ]
    },
    {
     "name": "stderr",
     "output_type": "stream",
     "text": [
      "\n",
      "\n",
      "\n",
      "\n",
      "\n",
      " 29%|██▉       | 43809/150000 [10:30<25:29, 69.44it/s]\u001b[A\u001b[A\u001b[A\u001b[A\u001b[A"
     ]
    },
    {
     "name": "stdout",
     "output_type": "stream",
     "text": [
      "err_z, err_m35 (1890.8015, 2858.0676)\n",
      "mean_q_0, mean_q_m35 (85.919762, 85.814384)\n"
     ]
    },
    {
     "name": "stderr",
     "output_type": "stream",
     "text": [
      "\n",
      "\n",
      "\n",
      "\n",
      "\n",
      " 30%|██▉       | 44507/150000 [10:40<25:19, 69.44it/s]\u001b[A\u001b[A\u001b[A\u001b[A\u001b[A"
     ]
    },
    {
     "name": "stdout",
     "output_type": "stream",
     "text": [
      "err_z, err_m35 (1843.0133, 2839.175)\n",
      "mean_q_0, mean_q_m35 (89.92704, 89.819008)\n",
      "err_z, err_m35 (1999.1029, 2797.042)\n",
      "mean_q_0, mean_q_m35 (86.167938, 86.057365)\n"
     ]
    },
    {
     "name": "stderr",
     "output_type": "stream",
     "text": [
      "\n",
      "\n",
      "\n",
      "\n",
      "\n",
      " 30%|███       | 45205/150000 [10:50<25:08, 69.45it/s]\u001b[A\u001b[A\u001b[A\u001b[A\u001b[A"
     ]
    },
    {
     "name": "stdout",
     "output_type": "stream",
     "text": [
      "err_z, err_m35 (1808.384, 2777.9661)\n",
      "mean_q_0, mean_q_m35 (86.470459, 86.356812)\n"
     ]
    },
    {
     "name": "stderr",
     "output_type": "stream",
     "text": [
      "\n",
      "\n",
      "\n",
      "\n",
      "\n",
      " 31%|███       | 45903/150000 [11:00<24:58, 69.45it/s]\u001b[A\u001b[A\u001b[A\u001b[A\u001b[A"
     ]
    },
    {
     "name": "stdout",
     "output_type": "stream",
     "text": [
      "err_z, err_m35 (1865.2903, 2853.8611)\n",
      "mean_q_0, mean_q_m35 (93.976456, 93.860825)\n",
      "err_z, err_m35 (1912.6205, 2737.5483)\n",
      "mean_q_0, mean_q_m35 (90.087151, 89.968437)\n"
     ]
    },
    {
     "name": "stderr",
     "output_type": "stream",
     "text": [
      "\n",
      "\n",
      "\n",
      "\n",
      "\n",
      " 31%|███       | 46601/150000 [11:10<24:48, 69.46it/s]\u001b[A\u001b[A\u001b[A\u001b[A\u001b[A"
     ]
    },
    {
     "name": "stdout",
     "output_type": "stream",
     "text": [
      "err_z, err_m35 (1855.5625, 2869.429)\n",
      "mean_q_0, mean_q_m35 (89.237183, 89.115967)\n"
     ]
    },
    {
     "name": "stderr",
     "output_type": "stream",
     "text": [
      "\n",
      "\n",
      "\n",
      "\n",
      "\n",
      " 32%|███▏      | 47298/150000 [11:20<24:38, 69.46it/s]\u001b[A\u001b[A\u001b[A\u001b[A\u001b[A"
     ]
    },
    {
     "name": "stdout",
     "output_type": "stream",
     "text": [
      "err_z, err_m35 (1873.2264, 2805.4534)\n",
      "mean_q_0, mean_q_m35 (88.559357, 88.43486)\n"
     ]
    },
    {
     "name": "stderr",
     "output_type": "stream",
     "text": [
      "\n",
      "\n",
      "\n",
      "\n",
      "\n",
      " 32%|███▏      | 47995/150000 [11:30<24:28, 69.46it/s]\u001b[A\u001b[A\u001b[A\u001b[A\u001b[A"
     ]
    },
    {
     "name": "stdout",
     "output_type": "stream",
     "text": [
      "err_z, err_m35 (1885.0129, 2825.1516)\n",
      "mean_q_0, mean_q_m35 (90.740677, 90.613167)\n",
      "err_z, err_m35 (1982.1996, 2771.7776)\n",
      "mean_q_0, mean_q_m35 (90.132576, 90.002144)\n"
     ]
    },
    {
     "name": "stderr",
     "output_type": "stream",
     "text": [
      "\n",
      "\n",
      "\n",
      "\n",
      "\n",
      " 32%|███▏      | 48693/150000 [11:40<24:18, 69.47it/s]\u001b[A\u001b[A\u001b[A\u001b[A\u001b[A"
     ]
    },
    {
     "name": "stdout",
     "output_type": "stream",
     "text": [
      "err_z, err_m35 (1791.0674, 2724.6304)\n",
      "mean_q_0, mean_q_m35 (91.460136, 91.326782)\n"
     ]
    },
    {
     "name": "stderr",
     "output_type": "stream",
     "text": [
      "\n",
      "\n",
      "\n",
      "\n",
      "\n",
      " 33%|███▎      | 49391/150000 [11:50<24:08, 69.47it/s]\u001b[A\u001b[A\u001b[A\u001b[A\u001b[A"
     ]
    },
    {
     "name": "stdout",
     "output_type": "stream",
     "text": [
      "err_z, err_m35 (1817.203, 2954.3877)\n",
      "mean_q_0, mean_q_m35 (91.465042, 91.328156)\n",
      "err_z, err_m35 (1854.9116, 2877.2346)\n",
      "mean_q_0, mean_q_m35 (92.50914, 92.369492)\n"
     ]
    },
    {
     "name": "stderr",
     "output_type": "stream",
     "text": [
      "\n",
      "\n",
      "\n",
      "\n",
      "\n",
      " 33%|███▎      | 50088/150000 [12:01<23:58, 69.47it/s]\u001b[A\u001b[A\u001b[A\u001b[A\u001b[A"
     ]
    },
    {
     "name": "stdout",
     "output_type": "stream",
     "text": [
      "err_z, err_m35 (1899.7797, 3045.2402)\n",
      "mean_q_0, mean_q_m35 (94.482323, 94.33876)\n"
     ]
    },
    {
     "name": "stderr",
     "output_type": "stream",
     "text": [
      "\n",
      "\n",
      "\n",
      "\n",
      "\n",
      " 34%|███▍      | 50786/150000 [12:11<23:48, 69.47it/s]\u001b[A\u001b[A\u001b[A\u001b[A\u001b[A"
     ]
    },
    {
     "name": "stdout",
     "output_type": "stream",
     "text": [
      "err_z, err_m35 (1818.6802, 2896.645)\n",
      "mean_q_0, mean_q_m35 (94.248795, 94.102608)\n"
     ]
    },
    {
     "name": "stderr",
     "output_type": "stream",
     "text": [
      "\n",
      "\n",
      "\n",
      "\n",
      "\n",
      " 34%|███▍      | 51484/150000 [12:21<23:37, 69.48it/s]\u001b[A\u001b[A\u001b[A\u001b[A\u001b[A"
     ]
    },
    {
     "name": "stdout",
     "output_type": "stream",
     "text": [
      "err_z, err_m35 (1903.0913, 2946.9075)\n",
      "mean_q_0, mean_q_m35 (93.720673, 93.571526)\n",
      "err_z, err_m35 (2035.168, 2759.6506)\n",
      "mean_q_0, mean_q_m35 (94.467026, 94.314072)\n"
     ]
    },
    {
     "name": "stderr",
     "output_type": "stream",
     "text": [
      "\n",
      "\n",
      "\n",
      "\n",
      "\n",
      " 35%|███▍      | 52182/150000 [12:31<23:27, 69.48it/s]\u001b[A\u001b[A\u001b[A\u001b[A\u001b[A"
     ]
    },
    {
     "name": "stdout",
     "output_type": "stream",
     "text": [
      "err_z, err_m35 (1896.1255, 2858.7412)\n",
      "mean_q_0, mean_q_m35 (95.06292, 94.9067)\n"
     ]
    },
    {
     "name": "stderr",
     "output_type": "stream",
     "text": [
      "\n",
      "\n",
      "\n",
      "\n",
      "\n",
      " 35%|███▌      | 52881/150000 [12:41<23:17, 69.48it/s]\u001b[A\u001b[A\u001b[A\u001b[A\u001b[A"
     ]
    },
    {
     "name": "stdout",
     "output_type": "stream",
     "text": [
      "err_z, err_m35 (1803.901, 2809.3674)\n",
      "mean_q_0, mean_q_m35 (95.990356, 95.830307)\n",
      "err_z, err_m35 (1958.329, 2925.969)\n",
      "mean_q_0, mean_q_m35 (96.783356, 96.619881)\n"
     ]
    },
    {
     "name": "stderr",
     "output_type": "stream",
     "text": [
      "\n",
      "\n",
      "\n",
      "\n",
      "\n",
      " 36%|███▌      | 53580/150000 [12:51<23:07, 69.48it/s]\u001b[A\u001b[A\u001b[A\u001b[A\u001b[A"
     ]
    },
    {
     "name": "stdout",
     "output_type": "stream",
     "text": [
      "err_z, err_m35 (1864.0879, 2929.3706)\n",
      "mean_q_0, mean_q_m35 (92.6035, 92.436874)\n"
     ]
    },
    {
     "name": "stderr",
     "output_type": "stream",
     "text": [
      "\n",
      "\n",
      "\n",
      "\n",
      "\n",
      " 36%|███▌      | 54276/150000 [13:01<22:57, 69.48it/s]\u001b[A\u001b[A\u001b[A\u001b[A\u001b[A"
     ]
    },
    {
     "name": "stdout",
     "output_type": "stream",
     "text": [
      "err_z, err_m35 (1900.7452, 2834.1736)\n",
      "mean_q_0, mean_q_m35 (98.68856, 98.517647)\n"
     ]
    },
    {
     "name": "stderr",
     "output_type": "stream",
     "text": [
      "\n",
      "\n",
      "\n",
      "\n",
      "\n",
      " 37%|███▋      | 54974/150000 [13:11<22:47, 69.49it/s]\u001b[A\u001b[A\u001b[A\u001b[A\u001b[A"
     ]
    },
    {
     "name": "stdout",
     "output_type": "stream",
     "text": [
      "err_z, err_m35 (1841.0717, 3076.4419)\n",
      "mean_q_0, mean_q_m35 (97.701683, 97.527016)\n",
      "err_z, err_m35 (1818.8838, 2941.0461)\n",
      "mean_q_0, mean_q_m35 (97.713593, 97.534973)\n"
     ]
    },
    {
     "name": "stderr",
     "output_type": "stream",
     "text": [
      "\n",
      "\n",
      "\n",
      "\n",
      "\n",
      " 37%|███▋      | 55673/150000 [13:21<22:37, 69.49it/s]\u001b[A\u001b[A\u001b[A\u001b[A\u001b[A"
     ]
    },
    {
     "name": "stdout",
     "output_type": "stream",
     "text": [
      "err_z, err_m35 (1806.666, 3010.9204)\n",
      "mean_q_0, mean_q_m35 (99.936592, 99.754173)\n"
     ]
    },
    {
     "name": "stderr",
     "output_type": "stream",
     "text": [
      "\n",
      "\n",
      "\n",
      "\n",
      "\n",
      " 38%|███▊      | 56372/150000 [13:31<22:27, 69.49it/s]\u001b[A\u001b[A\u001b[A\u001b[A\u001b[A"
     ]
    },
    {
     "name": "stdout",
     "output_type": "stream",
     "text": [
      "err_z, err_m35 (1833.0627, 3033.8462)\n",
      "mean_q_0, mean_q_m35 (100.07239, 99.886581)\n",
      "err_z, err_m35 (1929.3495, 2751.9692)\n",
      "mean_q_0, mean_q_m35 (99.693375, 99.503014)\n"
     ]
    },
    {
     "name": "stderr",
     "output_type": "stream",
     "text": [
      "\n",
      "\n",
      "\n",
      "\n",
      "\n",
      " 38%|███▊      | 57070/150000 [13:41<22:17, 69.50it/s]\u001b[A\u001b[A\u001b[A\u001b[A\u001b[A"
     ]
    },
    {
     "name": "stdout",
     "output_type": "stream",
     "text": [
      "err_z, err_m35 (1900.952, 3190.7354)\n",
      "mean_q_0, mean_q_m35 (99.537125, 99.343231)\n"
     ]
    },
    {
     "name": "stderr",
     "output_type": "stream",
     "text": [
      "\n",
      "\n",
      "\n",
      "\n",
      "\n",
      " 39%|███▊      | 57768/150000 [13:51<22:07, 69.50it/s]\u001b[A\u001b[A\u001b[A\u001b[A\u001b[A"
     ]
    },
    {
     "name": "stdout",
     "output_type": "stream",
     "text": [
      "err_z, err_m35 (2053.0845, 3094.0273)\n",
      "mean_q_0, mean_q_m35 (102.10207, 101.90434)\n"
     ]
    },
    {
     "name": "stderr",
     "output_type": "stream",
     "text": [
      "\n",
      "\n",
      "\n",
      "\n",
      "\n",
      " 39%|███▉      | 58466/150000 [14:01<21:56, 69.50it/s]\u001b[A\u001b[A\u001b[A\u001b[A\u001b[A"
     ]
    },
    {
     "name": "stdout",
     "output_type": "stream",
     "text": [
      "err_z, err_m35 (1970.429, 3066.8416)\n",
      "mean_q_0, mean_q_m35 (101.18366, 100.98174)\n",
      "err_z, err_m35 (1925.9147, 3155.1182)\n",
      "mean_q_0, mean_q_m35 (104.61826, 104.41152)\n"
     ]
    },
    {
     "name": "stderr",
     "output_type": "stream",
     "text": [
      "\n",
      "\n",
      "\n",
      "\n",
      "\n",
      " 39%|███▉      | 59165/150000 [14:11<21:46, 69.51it/s]\u001b[A\u001b[A\u001b[A\u001b[A\u001b[A"
     ]
    },
    {
     "name": "stdout",
     "output_type": "stream",
     "text": [
      "err_z, err_m35 (1947.4222, 2783.5076)\n",
      "mean_q_0, mean_q_m35 (103.28039, 103.06869)\n"
     ]
    },
    {
     "name": "stderr",
     "output_type": "stream",
     "text": [
      "\n",
      "\n",
      "\n",
      "\n",
      "\n",
      " 40%|███▉      | 59864/150000 [14:21<21:36, 69.51it/s]\u001b[A\u001b[A\u001b[A\u001b[A\u001b[A"
     ]
    },
    {
     "name": "stdout",
     "output_type": "stream",
     "text": [
      "err_z, err_m35 (1901.197, 3073.9121)\n",
      "mean_q_0, mean_q_m35 (101.48522, 101.26947)\n",
      "err_z, err_m35 (1872.6985, 2968.1245)\n",
      "mean_q_0, mean_q_m35 (102.7015, 102.48035)\n"
     ]
    },
    {
     "name": "stderr",
     "output_type": "stream",
     "text": [
      "\n",
      "\n",
      "\n",
      "\n",
      "\n",
      " 40%|████      | 60563/150000 [14:31<21:26, 69.51it/s]\u001b[A\u001b[A\u001b[A\u001b[A\u001b[A"
     ]
    },
    {
     "name": "stdout",
     "output_type": "stream",
     "text": [
      "err_z, err_m35 (1855.5172, 3278.2537)\n",
      "mean_q_0, mean_q_m35 (101.9081, 101.68234)\n"
     ]
    },
    {
     "name": "stderr",
     "output_type": "stream",
     "text": [
      "\n",
      "\n",
      "\n",
      "\n",
      "\n",
      " 41%|████      | 61263/150000 [14:41<21:16, 69.52it/s]\u001b[A\u001b[A\u001b[A\u001b[A\u001b[A"
     ]
    },
    {
     "name": "stdout",
     "output_type": "stream",
     "text": [
      "err_z, err_m35 (1844.4193, 3209.686)\n",
      "mean_q_0, mean_q_m35 (103.93245, 103.70134)\n"
     ]
    },
    {
     "name": "stderr",
     "output_type": "stream",
     "text": [
      "\n",
      "\n",
      "\n",
      "\n",
      "\n",
      " 41%|████▏     | 61963/150000 [14:51<21:06, 69.52it/s]\u001b[A\u001b[A\u001b[A\u001b[A\u001b[A"
     ]
    },
    {
     "name": "stdout",
     "output_type": "stream",
     "text": [
      "err_z, err_m35 (1907.9961, 3192.8982)\n",
      "mean_q_0, mean_q_m35 (103.54192, 103.3059)\n",
      "err_z, err_m35 (1871.7036, 3220.3657)\n",
      "mean_q_0, mean_q_m35 (104.31012, 104.06857)\n"
     ]
    },
    {
     "name": "stderr",
     "output_type": "stream",
     "text": [
      "\n",
      "\n",
      "\n",
      "\n",
      "\n",
      " 42%|████▏     | 62661/150000 [15:01<20:56, 69.52it/s]\u001b[A\u001b[A\u001b[A\u001b[A\u001b[A"
     ]
    },
    {
     "name": "stdout",
     "output_type": "stream",
     "text": [
      "err_z, err_m35 (1955.5758, 3254.0181)\n",
      "mean_q_0, mean_q_m35 (104.23854, 103.99084)\n"
     ]
    },
    {
     "name": "stderr",
     "output_type": "stream",
     "text": [
      "\n",
      "\n",
      "\n",
      "\n",
      "\n",
      " 42%|████▏     | 63359/150000 [15:11<20:46, 69.53it/s]\u001b[A\u001b[A\u001b[A\u001b[A\u001b[A"
     ]
    },
    {
     "name": "stdout",
     "output_type": "stream",
     "text": [
      "err_z, err_m35 (1869.9044, 3209.1353)\n",
      "mean_q_0, mean_q_m35 (105.46557, 105.2131)\n",
      "err_z, err_m35 (1880.328, 3263.4763)\n",
      "mean_q_0, mean_q_m35 (108.08083, 107.8223)\n"
     ]
    },
    {
     "name": "stderr",
     "output_type": "stream",
     "text": [
      "\n",
      "\n",
      "\n",
      "\n",
      "\n",
      " 43%|████▎     | 64057/150000 [15:21<20:36, 69.53it/s]\u001b[A\u001b[A\u001b[A\u001b[A\u001b[A"
     ]
    },
    {
     "name": "stdout",
     "output_type": "stream",
     "text": [
      "err_z, err_m35 (1931.3734, 3216.4512)\n",
      "mean_q_0, mean_q_m35 (108.54293, 108.27847)\n"
     ]
    },
    {
     "name": "stderr",
     "output_type": "stream",
     "text": [
      "\n",
      "\n",
      "\n",
      "\n",
      "\n",
      " 43%|████▎     | 64755/150000 [15:31<20:26, 69.52it/s]\u001b[A\u001b[A\u001b[A\u001b[A\u001b[A"
     ]
    },
    {
     "name": "stdout",
     "output_type": "stream",
     "text": [
      "err_z, err_m35 (1894.5582, 3118.2258)\n",
      "mean_q_0, mean_q_m35 (106.71867, 106.4481)\n"
     ]
    },
    {
     "name": "stderr",
     "output_type": "stream",
     "text": [
      "\n",
      "\n",
      "\n",
      "\n",
      "\n",
      " 44%|████▎     | 65451/150000 [15:41<20:16, 69.52it/s]\u001b[A\u001b[A\u001b[A\u001b[A\u001b[A"
     ]
    },
    {
     "name": "stdout",
     "output_type": "stream",
     "text": [
      "err_z, err_m35 (1883.8772, 3218.1235)\n",
      "mean_q_0, mean_q_m35 (108.24966, 107.97383)\n",
      "err_z, err_m35 (1945.5649, 3253.6458)\n",
      "mean_q_0, mean_q_m35 (108.66901, 108.38624)\n"
     ]
    },
    {
     "name": "stderr",
     "output_type": "stream",
     "text": [
      "\n",
      "\n",
      "\n",
      "\n",
      "\n",
      " 44%|████▍     | 66147/150000 [15:51<20:06, 69.52it/s]\u001b[A\u001b[A\u001b[A\u001b[A\u001b[A"
     ]
    },
    {
     "name": "stdout",
     "output_type": "stream",
     "text": [
      "err_z, err_m35 (1917.098, 3405.1428)\n",
      "mean_q_0, mean_q_m35 (108.60898, 108.3196)\n"
     ]
    },
    {
     "name": "stderr",
     "output_type": "stream",
     "text": [
      "\n",
      "\n",
      "\n",
      "\n",
      "\n",
      " 45%|████▍     | 66843/150000 [16:01<19:56, 69.52it/s]\u001b[A\u001b[A\u001b[A\u001b[A\u001b[A"
     ]
    },
    {
     "name": "stdout",
     "output_type": "stream",
     "text": [
      "err_z, err_m35 (1896.968, 3166.5354)\n",
      "mean_q_0, mean_q_m35 (111.22543, 110.92962)\n",
      "err_z, err_m35 (2050.7046, 3492.1479)\n",
      "mean_q_0, mean_q_m35 (111.91107, 111.60828)\n"
     ]
    },
    {
     "name": "stderr",
     "output_type": "stream",
     "text": [
      "\n",
      "\n",
      "\n",
      "\n",
      "\n",
      " 45%|████▌     | 67539/150000 [16:11<19:46, 69.52it/s]\u001b[A\u001b[A\u001b[A\u001b[A\u001b[A"
     ]
    },
    {
     "name": "stdout",
     "output_type": "stream",
     "text": [
      "err_z, err_m35 (1894.9368, 3444.7981)\n",
      "mean_q_0, mean_q_m35 (111.89547, 111.58549)\n"
     ]
    },
    {
     "name": "stderr",
     "output_type": "stream",
     "text": [
      "\n",
      "\n",
      "\n",
      "\n",
      "\n",
      " 45%|████▌     | 68235/150000 [16:21<19:36, 69.52it/s]\u001b[A\u001b[A\u001b[A\u001b[A\u001b[A"
     ]
    },
    {
     "name": "stdout",
     "output_type": "stream",
     "text": [
      "err_z, err_m35 (1925.1538, 3458.1218)\n",
      "mean_q_0, mean_q_m35 (112.31612, 111.99976)\n"
     ]
    },
    {
     "name": "stderr",
     "output_type": "stream",
     "text": [
      "\n",
      "\n",
      "\n",
      "\n",
      "\n",
      " 46%|████▌     | 68931/150000 [16:31<19:26, 69.52it/s]\u001b[A\u001b[A\u001b[A\u001b[A\u001b[A"
     ]
    },
    {
     "name": "stdout",
     "output_type": "stream",
     "text": [
      "err_z, err_m35 (1915.0015, 3445.991)\n",
      "mean_q_0, mean_q_m35 (113.02232, 112.69747)\n",
      "err_z, err_m35 (1924.5549, 3387.686)\n",
      "mean_q_0, mean_q_m35 (111.6843, 111.3521)\n"
     ]
    },
    {
     "name": "stderr",
     "output_type": "stream",
     "text": [
      "\n",
      "\n",
      "\n",
      "\n",
      "\n",
      " 46%|████▋     | 69627/150000 [16:41<19:16, 69.52it/s]\u001b[A\u001b[A\u001b[A\u001b[A\u001b[A"
     ]
    },
    {
     "name": "stdout",
     "output_type": "stream",
     "text": [
      "err_z, err_m35 (1878.4613, 3399.1536)\n",
      "mean_q_0, mean_q_m35 (113.71452, 113.37562)\n"
     ]
    },
    {
     "name": "stderr",
     "output_type": "stream",
     "text": [
      "\n",
      "\n",
      "\n",
      "\n",
      "\n",
      " 47%|████▋     | 70322/150000 [16:51<19:06, 69.52it/s]\u001b[A\u001b[A\u001b[A\u001b[A\u001b[A"
     ]
    },
    {
     "name": "stdout",
     "output_type": "stream",
     "text": [
      "err_z, err_m35 (1962.0244, 3221.8667)\n",
      "mean_q_0, mean_q_m35 (114.01993, 113.67336)\n",
      "err_z, err_m35 (1942.8777, 3704.9277)\n",
      "mean_q_0, mean_q_m35 (113.46266, 113.10816)\n"
     ]
    },
    {
     "name": "stderr",
     "output_type": "stream",
     "text": [
      "\n",
      "\n",
      "\n",
      "\n",
      "\n",
      " 47%|████▋     | 71019/150000 [17:01<18:56, 69.52it/s]\u001b[A\u001b[A\u001b[A\u001b[A\u001b[A"
     ]
    },
    {
     "name": "stdout",
     "output_type": "stream",
     "text": [
      "err_z, err_m35 (1912.2834, 3293.1997)\n",
      "mean_q_0, mean_q_m35 (113.42688, 113.06487)\n"
     ]
    },
    {
     "name": "stderr",
     "output_type": "stream",
     "text": [
      "\n",
      "\n",
      "\n",
      "\n",
      "\n",
      " 48%|████▊     | 71716/150000 [17:11<18:46, 69.52it/s]\u001b[A\u001b[A\u001b[A\u001b[A\u001b[A"
     ]
    },
    {
     "name": "stdout",
     "output_type": "stream",
     "text": [
      "err_z, err_m35 (2011.4434, 3482.7925)\n",
      "mean_q_0, mean_q_m35 (115.22705, 114.85703)\n"
     ]
    },
    {
     "name": "stderr",
     "output_type": "stream",
     "text": [
      "\n",
      "\n",
      "\n",
      "\n",
      "\n",
      " 48%|████▊     | 72413/150000 [17:21<18:36, 69.52it/s]\u001b[A\u001b[A\u001b[A\u001b[A\u001b[A"
     ]
    },
    {
     "name": "stdout",
     "output_type": "stream",
     "text": [
      "err_z, err_m35 (1985.0757, 3624.6487)\n",
      "mean_q_0, mean_q_m35 (115.55339, 115.17532)\n",
      "err_z, err_m35 (1907.5415, 3557.4307)\n",
      "mean_q_0, mean_q_m35 (117.4834, 117.09745)\n"
     ]
    },
    {
     "name": "stderr",
     "output_type": "stream",
     "text": [
      "\n",
      "\n",
      "\n",
      "\n",
      "\n",
      " 49%|████▊     | 73109/150000 [17:31<18:26, 69.52it/s]\u001b[A\u001b[A\u001b[A\u001b[A\u001b[A"
     ]
    },
    {
     "name": "stdout",
     "output_type": "stream",
     "text": [
      "err_z, err_m35 (1936.4248, 3441.1904)\n",
      "mean_q_0, mean_q_m35 (115.15726, 114.7624)\n"
     ]
    },
    {
     "name": "stderr",
     "output_type": "stream",
     "text": [
      "\n",
      "\n",
      "\n",
      "\n",
      "\n",
      " 49%|████▉     | 73808/150000 [17:41<18:15, 69.52it/s]\u001b[A\u001b[A\u001b[A\u001b[A\u001b[A"
     ]
    },
    {
     "name": "stdout",
     "output_type": "stream",
     "text": [
      "err_z, err_m35 (1984.8381, 3554.6094)\n",
      "mean_q_0, mean_q_m35 (116.35628, 115.95332)\n"
     ]
    },
    {
     "name": "stderr",
     "output_type": "stream",
     "text": [
      "\n",
      "\n",
      "\n",
      "\n",
      "\n",
      " 50%|████▉     | 74507/150000 [17:51<18:05, 69.52it/s]\u001b[A\u001b[A\u001b[A\u001b[A\u001b[A"
     ]
    },
    {
     "name": "stdout",
     "output_type": "stream",
     "text": [
      "err_z, err_m35 (1974.7086, 3475.2673)\n",
      "mean_q_0, mean_q_m35 (119.67353, 119.26071)\n",
      "err_z, err_m35 (1975.6804, 3450.6516)\n",
      "mean_q_0, mean_q_m35 (119.72269, 119.30066)\n"
     ]
    },
    {
     "name": "stderr",
     "output_type": "stream",
     "text": [
      "\n",
      "\n",
      "\n",
      "\n",
      "\n",
      " 50%|█████     | 75205/150000 [18:01<17:55, 69.53it/s]\u001b[A\u001b[A\u001b[A\u001b[A\u001b[A"
     ]
    },
    {
     "name": "stdout",
     "output_type": "stream",
     "text": [
      "err_z, err_m35 (1869.6497, 3316.5222)\n",
      "mean_q_0, mean_q_m35 (119.85583, 119.42503)\n"
     ]
    },
    {
     "name": "stderr",
     "output_type": "stream",
     "text": [
      "\n",
      "\n",
      "\n",
      "\n",
      "\n",
      " 51%|█████     | 75903/150000 [18:11<17:45, 69.53it/s]\u001b[A\u001b[A\u001b[A\u001b[A\u001b[A"
     ]
    },
    {
     "name": "stdout",
     "output_type": "stream",
     "text": [
      "err_z, err_m35 (1931.4851, 3594.4729)\n",
      "mean_q_0, mean_q_m35 (119.39179, 118.95123)\n",
      "err_z, err_m35 (1941.006, 3824.9915)\n",
      "mean_q_0, mean_q_m35 (120.49305, 120.04166)\n"
     ]
    },
    {
     "name": "stderr",
     "output_type": "stream",
     "text": [
      "\n",
      "\n",
      "\n",
      "\n",
      "\n",
      " 51%|█████     | 76601/150000 [18:21<17:35, 69.53it/s]\u001b[A\u001b[A\u001b[A\u001b[A\u001b[A"
     ]
    },
    {
     "name": "stdout",
     "output_type": "stream",
     "text": [
      "err_z, err_m35 (1884.4995, 3578.1018)\n",
      "mean_q_0, mean_q_m35 (119.63825, 119.17771)\n"
     ]
    },
    {
     "name": "stderr",
     "output_type": "stream",
     "text": [
      "\n",
      "\n",
      "\n",
      "\n",
      "\n",
      " 52%|█████▏    | 77299/150000 [18:31<17:25, 69.53it/s]\u001b[A\u001b[A\u001b[A\u001b[A\u001b[A"
     ]
    },
    {
     "name": "stdout",
     "output_type": "stream",
     "text": [
      "err_z, err_m35 (1896.0503, 3649.635)\n",
      "mean_q_0, mean_q_m35 (121.98589, 121.5146)\n"
     ]
    },
    {
     "name": "stderr",
     "output_type": "stream",
     "text": [
      "\n",
      "\n",
      "\n",
      "\n",
      "\n",
      " 52%|█████▏    | 77997/150000 [18:41<17:15, 69.53it/s]\u001b[A\u001b[A\u001b[A\u001b[A\u001b[A"
     ]
    },
    {
     "name": "stdout",
     "output_type": "stream",
     "text": [
      "err_z, err_m35 (1888.3832, 3713.9192)\n",
      "mean_q_0, mean_q_m35 (121.98266, 121.50047)\n",
      "err_z, err_m35 (1849.1471, 3675.7947)\n",
      "mean_q_0, mean_q_m35 (119.12135, 118.62989)\n"
     ]
    },
    {
     "name": "stderr",
     "output_type": "stream",
     "text": [
      "\n",
      "\n",
      "\n",
      "\n",
      "\n",
      " 52%|█████▏    | 78696/150000 [18:51<17:05, 69.53it/s]\u001b[A\u001b[A\u001b[A\u001b[A\u001b[A"
     ]
    },
    {
     "name": "stdout",
     "output_type": "stream",
     "text": [
      "err_z, err_m35 (1924.5991, 3876.3726)\n",
      "mean_q_0, mean_q_m35 (123.81631, 123.31271)\n"
     ]
    },
    {
     "name": "stderr",
     "output_type": "stream",
     "text": [
      "\n",
      "\n",
      "\n",
      "\n",
      "\n",
      " 53%|█████▎    | 79395/150000 [19:01<16:55, 69.54it/s]\u001b[A\u001b[A\u001b[A\u001b[A\u001b[A"
     ]
    },
    {
     "name": "stdout",
     "output_type": "stream",
     "text": [
      "err_z, err_m35 (1979.5298, 3749.1443)\n",
      "mean_q_0, mean_q_m35 (122.84198, 122.32814)\n",
      "err_z, err_m35 (1921.891, 3551.5808)\n",
      "mean_q_0, mean_q_m35 (122.74006, 122.21445)\n"
     ]
    },
    {
     "name": "stderr",
     "output_type": "stream",
     "text": [
      "\n",
      "\n",
      "\n",
      "\n",
      "\n",
      " 53%|█████▎    | 80094/150000 [19:11<16:45, 69.54it/s]\u001b[A\u001b[A\u001b[A\u001b[A\u001b[A"
     ]
    },
    {
     "name": "stdout",
     "output_type": "stream",
     "text": [
      "err_z, err_m35 (2026.0072, 3892.6865)\n",
      "mean_q_0, mean_q_m35 (124.18533, 123.64748)\n"
     ]
    },
    {
     "name": "stderr",
     "output_type": "stream",
     "text": [
      "\n",
      "\n",
      "\n",
      "\n",
      "\n",
      " 54%|█████▍    | 80791/150000 [19:21<16:35, 69.54it/s]\u001b[A\u001b[A\u001b[A\u001b[A\u001b[A"
     ]
    },
    {
     "name": "stdout",
     "output_type": "stream",
     "text": [
      "err_z, err_m35 (1964.705, 3742.0818)\n",
      "mean_q_0, mean_q_m35 (123.70863, 123.15992)\n"
     ]
    },
    {
     "name": "stderr",
     "output_type": "stream",
     "text": [
      "\n",
      "\n",
      "\n",
      "\n",
      "\n",
      " 54%|█████▍    | 81489/150000 [19:31<16:25, 69.54it/s]\u001b[A\u001b[A\u001b[A\u001b[A\u001b[A"
     ]
    },
    {
     "name": "stdout",
     "output_type": "stream",
     "text": [
      "err_z, err_m35 (1945.4172, 3898.991)\n",
      "mean_q_0, mean_q_m35 (126.0623, 125.5002)\n",
      "err_z, err_m35 (1952.1923, 3710.1533)\n",
      "mean_q_0, mean_q_m35 (124.42978, 123.85495)\n"
     ]
    },
    {
     "name": "stderr",
     "output_type": "stream",
     "text": [
      "\n",
      "\n",
      "\n",
      "\n",
      "\n",
      " 55%|█████▍    | 82187/150000 [19:41<16:15, 69.54it/s]\u001b[A\u001b[A\u001b[A\u001b[A\u001b[A"
     ]
    },
    {
     "name": "stdout",
     "output_type": "stream",
     "text": [
      "err_z, err_m35 (2064.124, 3865.9456)\n",
      "mean_q_0, mean_q_m35 (125.78656, 125.19918)\n"
     ]
    },
    {
     "name": "stderr",
     "output_type": "stream",
     "text": [
      "\n",
      "\n",
      "\n",
      "\n",
      "\n",
      " 55%|█████▌    | 82884/150000 [19:51<16:05, 69.54it/s]\u001b[A\u001b[A\u001b[A\u001b[A\u001b[A"
     ]
    },
    {
     "name": "stdout",
     "output_type": "stream",
     "text": [
      "err_z, err_m35 (2061.4795, 3865.6118)\n",
      "mean_q_0, mean_q_m35 (128.33865, 127.73908)\n",
      "err_z, err_m35 (2053.2732, 3993.3127)\n",
      "mean_q_0, mean_q_m35 (128.54865, 127.93604)\n"
     ]
    },
    {
     "name": "stderr",
     "output_type": "stream",
     "text": [
      "\n",
      "\n",
      "\n",
      "\n",
      "\n",
      " 56%|█████▌    | 83582/150000 [20:01<15:55, 69.54it/s]\u001b[A\u001b[A\u001b[A\u001b[A\u001b[A"
     ]
    },
    {
     "name": "stdout",
     "output_type": "stream",
     "text": [
      "err_z, err_m35 (1970.5918, 3924.1816)\n",
      "mean_q_0, mean_q_m35 (127.76418, 127.13699)\n"
     ]
    },
    {
     "name": "stderr",
     "output_type": "stream",
     "text": [
      "\n",
      "\n",
      "\n",
      "\n",
      "\n",
      " 56%|█████▌    | 84280/150000 [20:11<15:45, 69.54it/s]\u001b[A\u001b[A\u001b[A\u001b[A\u001b[A"
     ]
    },
    {
     "name": "stdout",
     "output_type": "stream",
     "text": [
      "err_z, err_m35 (1857.012, 3854.4492)\n",
      "mean_q_0, mean_q_m35 (127.18838, 126.54424)\n"
     ]
    },
    {
     "name": "stderr",
     "output_type": "stream",
     "text": [
      "\n",
      "\n",
      "\n",
      "\n",
      "\n",
      " 57%|█████▋    | 84978/150000 [20:21<15:34, 69.54it/s]\u001b[A\u001b[A\u001b[A\u001b[A\u001b[A"
     ]
    },
    {
     "name": "stdout",
     "output_type": "stream",
     "text": [
      "err_z, err_m35 (1965.4146, 3938.4817)\n",
      "mean_q_0, mean_q_m35 (126.01101, 125.35279)\n",
      "err_z, err_m35 (2058.8677, 3782.9324)\n",
      "mean_q_0, mean_q_m35 (126.84135, 126.17065)\n"
     ]
    },
    {
     "name": "stderr",
     "output_type": "stream",
     "text": [
      "\n",
      "\n",
      "\n",
      "\n",
      "\n",
      " 57%|█████▋    | 85676/150000 [20:31<15:24, 69.54it/s]\u001b[A\u001b[A\u001b[A\u001b[A\u001b[A"
     ]
    },
    {
     "name": "stdout",
     "output_type": "stream",
     "text": [
      "err_z, err_m35 (1817.1091, 4178.1313)\n",
      "mean_q_0, mean_q_m35 (126.17329, 125.48705)\n"
     ]
    },
    {
     "name": "stderr",
     "output_type": "stream",
     "text": [
      "\n",
      "\n",
      "\n",
      "\n",
      "\n",
      " 58%|█████▊    | 86374/150000 [20:41<15:14, 69.55it/s]\u001b[A\u001b[A\u001b[A\u001b[A\u001b[A"
     ]
    },
    {
     "name": "stdout",
     "output_type": "stream",
     "text": [
      "err_z, err_m35 (2003.913, 3884.4316)\n",
      "mean_q_0, mean_q_m35 (128.66809, 127.96483)\n",
      "err_z, err_m35 (2024.0038, 3755.9998)\n",
      "mean_q_0, mean_q_m35 (130.20119, 129.48302)\n"
     ]
    },
    {
     "name": "stderr",
     "output_type": "stream",
     "text": [
      "\n",
      "\n",
      "\n",
      "\n",
      "\n",
      " 58%|█████▊    | 87072/150000 [20:51<15:04, 69.55it/s]\u001b[A\u001b[A\u001b[A\u001b[A\u001b[A"
     ]
    },
    {
     "name": "stdout",
     "output_type": "stream",
     "text": [
      "err_z, err_m35 (2067.228, 4029.324)\n",
      "mean_q_0, mean_q_m35 (128.60478, 127.86693)\n"
     ]
    },
    {
     "name": "stderr",
     "output_type": "stream",
     "text": [
      "\n",
      "\n",
      "\n",
      "\n",
      "\n",
      " 59%|█████▊    | 87769/150000 [21:01<14:54, 69.55it/s]\u001b[A\u001b[A\u001b[A\u001b[A\u001b[A"
     ]
    },
    {
     "name": "stdout",
     "output_type": "stream",
     "text": [
      "err_z, err_m35 (1954.822, 4172.5605)\n",
      "mean_q_0, mean_q_m35 (130.37968, 129.62675)\n"
     ]
    },
    {
     "name": "stderr",
     "output_type": "stream",
     "text": [
      "\n",
      "\n",
      "\n",
      "\n",
      "\n",
      " 59%|█████▉    | 88467/150000 [21:11<14:44, 69.55it/s]\u001b[A\u001b[A\u001b[A\u001b[A\u001b[A"
     ]
    },
    {
     "name": "stdout",
     "output_type": "stream",
     "text": [
      "err_z, err_m35 (1992.2296, 4191.124)\n",
      "mean_q_0, mean_q_m35 (131.15265, 130.38274)\n",
      "err_z, err_m35 (1905.7217, 4346.7632)\n",
      "mean_q_0, mean_q_m35 (133.91734, 133.13065)\n"
     ]
    },
    {
     "name": "stderr",
     "output_type": "stream",
     "text": [
      "\n",
      "\n",
      "\n",
      "\n",
      "\n",
      " 59%|█████▉    | 89165/150000 [21:22<14:34, 69.55it/s]\u001b[A\u001b[A\u001b[A\u001b[A\u001b[A"
     ]
    },
    {
     "name": "stdout",
     "output_type": "stream",
     "text": [
      "err_z, err_m35 (2092.6284, 4167.8574)\n",
      "mean_q_0, mean_q_m35 (132.20825, 131.40349)\n"
     ]
    },
    {
     "name": "stderr",
     "output_type": "stream",
     "text": [
      "\n",
      "\n",
      "\n",
      "\n",
      "\n",
      " 60%|█████▉    | 89864/150000 [21:32<14:24, 69.55it/s]\u001b[A\u001b[A\u001b[A\u001b[A\u001b[A"
     ]
    },
    {
     "name": "stdout",
     "output_type": "stream",
     "text": [
      "err_z, err_m35 (2057.9834, 4120.1631)\n",
      "mean_q_0, mean_q_m35 (134.40706, 133.58231)\n",
      "err_z, err_m35 (1965.0538, 3890.1968)\n",
      "mean_q_0, mean_q_m35 (134.5629, 133.72055)\n"
     ]
    },
    {
     "name": "stderr",
     "output_type": "stream",
     "text": [
      "\n",
      "\n",
      "\n",
      "\n",
      "\n",
      " 60%|██████    | 90563/150000 [21:42<14:14, 69.55it/s]\u001b[A\u001b[A\u001b[A\u001b[A\u001b[A"
     ]
    },
    {
     "name": "stdout",
     "output_type": "stream",
     "text": [
      "err_z, err_m35 (2040.2689, 4250.4722)\n",
      "mean_q_0, mean_q_m35 (135.14108, 134.27925)\n"
     ]
    },
    {
     "name": "stderr",
     "output_type": "stream",
     "text": [
      "\n",
      "\n",
      "\n",
      "\n",
      "\n",
      " 61%|██████    | 91260/150000 [21:52<14:04, 69.55it/s]\u001b[A\u001b[A\u001b[A\u001b[A\u001b[A"
     ]
    },
    {
     "name": "stdout",
     "output_type": "stream",
     "text": [
      "err_z, err_m35 (1926.1053, 4417.3906)\n",
      "mean_q_0, mean_q_m35 (134.10471, 133.22231)\n"
     ]
    },
    {
     "name": "stderr",
     "output_type": "stream",
     "text": [
      "\n",
      "\n",
      "\n",
      "\n",
      "\n",
      " 61%|██████▏   | 91958/150000 [22:02<13:54, 69.55it/s]\u001b[A\u001b[A\u001b[A\u001b[A\u001b[A"
     ]
    },
    {
     "name": "stdout",
     "output_type": "stream",
     "text": [
      "err_z, err_m35 (1978.3374, 3985.645)\n",
      "mean_q_0, mean_q_m35 (132.76735, 131.86732)\n",
      "err_z, err_m35 (2084.2202, 4093.7617)\n",
      "mean_q_0, mean_q_m35 (135.03281, 134.11243)\n"
     ]
    },
    {
     "name": "stderr",
     "output_type": "stream",
     "text": [
      "\n",
      "\n",
      "\n",
      "\n",
      "\n",
      " 62%|██████▏   | 92656/150000 [22:12<13:44, 69.55it/s]\u001b[A\u001b[A\u001b[A\u001b[A\u001b[A"
     ]
    },
    {
     "name": "stdout",
     "output_type": "stream",
     "text": [
      "err_z, err_m35 (2021.1727, 4044.3123)\n",
      "mean_q_0, mean_q_m35 (135.4352, 134.49054)\n"
     ]
    },
    {
     "name": "stderr",
     "output_type": "stream",
     "text": [
      "\n",
      "\n",
      "\n",
      "\n",
      "\n",
      " 62%|██████▏   | 93354/150000 [22:22<13:34, 69.56it/s]\u001b[A\u001b[A\u001b[A\u001b[A\u001b[A"
     ]
    },
    {
     "name": "stdout",
     "output_type": "stream",
     "text": [
      "err_z, err_m35 (1937.9058, 4621.0103)\n",
      "mean_q_0, mean_q_m35 (136.00681, 135.04343)\n",
      "err_z, err_m35 (1924.0338, 4490.7554)\n",
      "mean_q_0, mean_q_m35 (135.5446, 134.55545)\n"
     ]
    },
    {
     "name": "stderr",
     "output_type": "stream",
     "text": [
      "\n",
      "\n",
      "\n",
      "\n",
      "\n",
      " 63%|██████▎   | 94052/150000 [22:32<13:24, 69.56it/s]\u001b[A\u001b[A\u001b[A\u001b[A\u001b[A"
     ]
    },
    {
     "name": "stdout",
     "output_type": "stream",
     "text": [
      "err_z, err_m35 (1922.89, 4168.4858)\n",
      "mean_q_0, mean_q_m35 (136.38124, 135.36958)\n"
     ]
    },
    {
     "name": "stderr",
     "output_type": "stream",
     "text": [
      "\n",
      "\n",
      "\n",
      "\n",
      "\n",
      " 63%|██████▎   | 94749/150000 [22:42<13:14, 69.56it/s]\u001b[A\u001b[A\u001b[A\u001b[A\u001b[A"
     ]
    },
    {
     "name": "stdout",
     "output_type": "stream",
     "text": [
      "err_z, err_m35 (1994.7095, 4434.4263)\n",
      "mean_q_0, mean_q_m35 (138.8728, 137.83916)\n"
     ]
    },
    {
     "name": "stderr",
     "output_type": "stream",
     "text": [
      "\n",
      "\n",
      "\n",
      "\n",
      "\n",
      " 64%|██████▎   | 95446/150000 [22:52<13:04, 69.56it/s]\u001b[A\u001b[A\u001b[A\u001b[A\u001b[A"
     ]
    },
    {
     "name": "stdout",
     "output_type": "stream",
     "text": [
      "err_z, err_m35 (2016.8771, 4454.2383)\n",
      "mean_q_0, mean_q_m35 (138.31004, 137.25412)\n",
      "err_z, err_m35 (1919.2354, 4554.2725)\n",
      "mean_q_0, mean_q_m35 (138.48491, 137.40239)\n"
     ]
    },
    {
     "name": "stderr",
     "output_type": "stream",
     "text": [
      "\n",
      "\n",
      "\n",
      "\n",
      "\n",
      " 64%|██████▍   | 96143/150000 [23:02<12:54, 69.56it/s]\u001b[A\u001b[A\u001b[A\u001b[A\u001b[A"
     ]
    },
    {
     "name": "stdout",
     "output_type": "stream",
     "text": [
      "err_z, err_m35 (2059.5835, 4655.5942)\n",
      "mean_q_0, mean_q_m35 (141.10503, 139.99522)\n"
     ]
    },
    {
     "name": "stderr",
     "output_type": "stream",
     "text": [
      "\n",
      "\n",
      "\n",
      "\n",
      "\n",
      " 65%|██████▍   | 96840/150000 [23:12<12:44, 69.56it/s]\u001b[A\u001b[A\u001b[A\u001b[A\u001b[A"
     ]
    },
    {
     "name": "stdout",
     "output_type": "stream",
     "text": [
      "err_z, err_m35 (2035.84, 4528.2822)\n",
      "mean_q_0, mean_q_m35 (141.07402, 139.93625)\n"
     ]
    }
   ],
   "source": [
    "err_list = []\n",
    "q_0_hist = []\n",
    "for i in tqdm(range(150000), mininterval=10):\n",
    "    idx = np.random.randint(df.shape[0], size = 500)\n",
    "    X_curr = X[idx]\n",
    "\n",
    "    next_pred_z   = model_z.predict(X_curr[:, next_state_cols_nos])\n",
    "    next_pred_m35 = model_m35.predict(X_curr[:, next_state_cols_nos])\n",
    "    \n",
    "    last_day_ind = np.where(X_curr[:, col_n2no['days_left_next']] ==0)\n",
    "\n",
    "    next_pred_z[last_day_ind] = 0.\n",
    "    next_pred_m35[last_day_ind] = 0.\n",
    "    \n",
    "    next_pred_z[:, 0] += X_curr[:, col_n2no['rev_ser']]\n",
    "    next_pred_m35[:, 0] += X_curr[:, col_n2no['rev_ser']]\n",
    "\n",
    "    m35_action_ind = np.where(X_curr[:, col_n2no['action']] == -0.35)\n",
    "    z_action_ind   = np.where(X_curr[:, col_n2no['action']] ==0.)\n",
    "\n",
    "    #next_pred_m35[m35_action_ind, 0] += X_curr[m35_action_ind, col_n2no['rev_ser']]\n",
    "    #next_pred_z[z_action_ind, 0]     += X_curr[z_action_ind, col_n2no['rev_ser']]\n",
    "    \n",
    "\n",
    "    err_z   = model_z.train_on_batch(X_curr[z_action_ind][:,state_cols_nos], next_pred_z[z_action_ind])\n",
    "    err_m35 = model_m35.train_on_batch(X_curr[m35_action_ind][:,state_cols_nos], next_pred_m35[m35_action_ind])\n",
    "    err_list.append((err_z, err_m35))\n",
    "    if not i%500:\n",
    "        mean_q_0   = next_pred_z[np.where(X_curr[:, col_n2no['days_left_next']] ==10)].mean()\n",
    "        mean_q_m35 = next_pred_m35[np.where(X_curr[:, col_n2no['days_left_next']] ==10)].mean()\n",
    "        q_0_hist.append((mean_q_0, mean_q_m35))\n",
    "        print('err_z, err_m35',(err_z, err_m35))\n",
    "        print('mean_q_0, mean_q_m35',(mean_q_0, mean_q_m35))"
   ]
  },
  {
   "cell_type": "code",
   "execution_count": 6,
   "metadata": {},
   "outputs": [
    {
     "name": "stdout",
     "output_type": "stream",
     "text": [
      "/Users/alexey/off-policy-rl/rl_experiments\n"
     ]
    }
   ],
   "source": [
    "!pwd"
   ]
  },
  {
   "cell_type": "markdown",
   "metadata": {},
   "source": [
    "### Попытка с бинаризацией "
   ]
  },
  {
   "cell_type": "code",
   "execution_count": 75,
   "metadata": {},
   "outputs": [
    {
     "ename": "KeyError",
     "evalue": "('days_left', 'occurred at index 0')",
     "output_type": "error",
     "traceback": [
      "\u001b[0;31m---------------------------------------------------------------------------\u001b[0m",
      "\u001b[0;31mTypeError\u001b[0m                                 Traceback (most recent call last)",
      "\u001b[0;32m~/anaconda3/lib/python3.6/site-packages/pandas/core/indexes/base.py\u001b[0m in \u001b[0;36mget_value\u001b[0;34m(self, series, key)\u001b[0m\n\u001b[1;32m   2482\u001b[0m             \u001b[0;32mtry\u001b[0m\u001b[0;34m:\u001b[0m\u001b[0;34m\u001b[0m\u001b[0m\n\u001b[0;32m-> 2483\u001b[0;31m                 \u001b[0;32mreturn\u001b[0m \u001b[0mlibts\u001b[0m\u001b[0;34m.\u001b[0m\u001b[0mget_value_box\u001b[0m\u001b[0;34m(\u001b[0m\u001b[0ms\u001b[0m\u001b[0;34m,\u001b[0m \u001b[0mkey\u001b[0m\u001b[0;34m)\u001b[0m\u001b[0;34m\u001b[0m\u001b[0m\n\u001b[0m\u001b[1;32m   2484\u001b[0m             \u001b[0;32mexcept\u001b[0m \u001b[0mIndexError\u001b[0m\u001b[0;34m:\u001b[0m\u001b[0;34m\u001b[0m\u001b[0m\n",
      "\u001b[0;32mpandas/_libs/tslib.pyx\u001b[0m in \u001b[0;36mpandas._libs.tslib.get_value_box (pandas/_libs/tslib.c:18843)\u001b[0;34m()\u001b[0m\n",
      "\u001b[0;32mpandas/_libs/tslib.pyx\u001b[0m in \u001b[0;36mpandas._libs.tslib.get_value_box (pandas/_libs/tslib.c:18477)\u001b[0;34m()\u001b[0m\n",
      "\u001b[0;31mTypeError\u001b[0m: 'str' object cannot be interpreted as an integer",
      "\nDuring handling of the above exception, another exception occurred:\n",
      "\u001b[0;31mKeyError\u001b[0m                                  Traceback (most recent call last)",
      "\u001b[0;32m<ipython-input-75-76d7cb4f0db1>\u001b[0m in \u001b[0;36m<module>\u001b[0;34m()\u001b[0m\n\u001b[1;32m     13\u001b[0m \u001b[0mdf\u001b[0m\u001b[0;34m[\u001b[0m\u001b[0;34m'dumm_m35'\u001b[0m\u001b[0;34m]\u001b[0m \u001b[0;34m=\u001b[0m \u001b[0;34m-\u001b[0m\u001b[0;36m.35\u001b[0m\u001b[0;34m\u001b[0m\u001b[0m\n\u001b[1;32m     14\u001b[0m \u001b[0;34m\u001b[0m\u001b[0m\n\u001b[0;32m---> 15\u001b[0;31m \u001b[0mdf\u001b[0m\u001b[0;34m[\u001b[0m\u001b[0;34m'V'\u001b[0m\u001b[0;34m]\u001b[0m \u001b[0;34m=\u001b[0m \u001b[0mdf\u001b[0m\u001b[0;34m.\u001b[0m\u001b[0mapply\u001b[0m\u001b[0;34m(\u001b[0m\u001b[0;32mlambda\u001b[0m \u001b[0mx\u001b[0m\u001b[0;34m:\u001b[0m\u001b[0mV\u001b[0m\u001b[0;34m(\u001b[0m\u001b[0mx\u001b[0m\u001b[0;34m[\u001b[0m\u001b[0;34m'oh_after'\u001b[0m\u001b[0;34m]\u001b[0m\u001b[0;34m,\u001b[0m \u001b[0;36m40\u001b[0m\u001b[0;34m,\u001b[0m \u001b[0;36m94.67\u001b[0m\u001b[0;34m,\u001b[0m \u001b[0;36m.35\u001b[0m\u001b[0;34m,\u001b[0m \u001b[0mint\u001b[0m\u001b[0;34m(\u001b[0m\u001b[0mx\u001b[0m\u001b[0;34m[\u001b[0m\u001b[0;34m'days_left'\u001b[0m\u001b[0;34m]\u001b[0m\u001b[0;34m)\u001b[0m\u001b[0;34m)\u001b[0m\u001b[0;34m,\u001b[0m \u001b[0;36m1\u001b[0m\u001b[0;34m)\u001b[0m\u001b[0;34m\u001b[0m\u001b[0m\n\u001b[0m\u001b[1;32m     16\u001b[0m \u001b[0mdf\u001b[0m\u001b[0;34m[\u001b[0m\u001b[0;34m'Q_keep'\u001b[0m\u001b[0;34m]\u001b[0m \u001b[0;34m=\u001b[0m \u001b[0mdf\u001b[0m\u001b[0;34m.\u001b[0m\u001b[0mapply\u001b[0m\u001b[0;34m(\u001b[0m\u001b[0;32mlambda\u001b[0m \u001b[0mx\u001b[0m\u001b[0;34m:\u001b[0m\u001b[0mQ\u001b[0m\u001b[0;34m(\u001b[0m\u001b[0mx\u001b[0m\u001b[0;34m[\u001b[0m\u001b[0;34m'oh_after'\u001b[0m\u001b[0;34m]\u001b[0m\u001b[0;34m,\u001b[0m \u001b[0;36m40\u001b[0m\u001b[0;34m,\u001b[0m \u001b[0;36m94.67\u001b[0m\u001b[0;34m,\u001b[0m \u001b[0;36m.35\u001b[0m\u001b[0;34m,\u001b[0m \u001b[0mint\u001b[0m\u001b[0;34m(\u001b[0m\u001b[0mx\u001b[0m\u001b[0;34m[\u001b[0m\u001b[0;34m'days_left'\u001b[0m\u001b[0;34m]\u001b[0m\u001b[0;34m)\u001b[0m\u001b[0;34m,\u001b[0m \u001b[0;36m0\u001b[0m\u001b[0;34m)\u001b[0m\u001b[0;34m,\u001b[0m \u001b[0;36m1\u001b[0m\u001b[0;34m)\u001b[0m\u001b[0;34m\u001b[0m\u001b[0m\n\u001b[1;32m     17\u001b[0m \u001b[0mdf\u001b[0m\u001b[0;34m[\u001b[0m\u001b[0;34m'Q_disc'\u001b[0m\u001b[0;34m]\u001b[0m \u001b[0;34m=\u001b[0m \u001b[0mdf\u001b[0m\u001b[0;34m.\u001b[0m\u001b[0mapply\u001b[0m\u001b[0;34m(\u001b[0m\u001b[0;32mlambda\u001b[0m \u001b[0mx\u001b[0m\u001b[0;34m:\u001b[0m\u001b[0mQ\u001b[0m\u001b[0;34m(\u001b[0m\u001b[0mx\u001b[0m\u001b[0;34m[\u001b[0m\u001b[0;34m'oh_after'\u001b[0m\u001b[0;34m]\u001b[0m\u001b[0;34m,\u001b[0m \u001b[0;36m40\u001b[0m\u001b[0;34m,\u001b[0m \u001b[0;36m94.67\u001b[0m\u001b[0;34m,\u001b[0m \u001b[0;36m.35\u001b[0m\u001b[0;34m,\u001b[0m \u001b[0mint\u001b[0m\u001b[0;34m(\u001b[0m\u001b[0mx\u001b[0m\u001b[0;34m[\u001b[0m\u001b[0;34m'days_left'\u001b[0m\u001b[0;34m]\u001b[0m\u001b[0;34m)\u001b[0m\u001b[0;34m,\u001b[0m \u001b[0;34m-\u001b[0m\u001b[0;36m.35\u001b[0m\u001b[0;34m)\u001b[0m\u001b[0;34m,\u001b[0m \u001b[0;36m1\u001b[0m\u001b[0;34m)\u001b[0m\u001b[0;34m\u001b[0m\u001b[0m\n",
      "\u001b[0;32m~/anaconda3/lib/python3.6/site-packages/pandas/core/frame.py\u001b[0m in \u001b[0;36mapply\u001b[0;34m(self, func, axis, broadcast, raw, reduce, args, **kwds)\u001b[0m\n\u001b[1;32m   4260\u001b[0m                         \u001b[0mf\u001b[0m\u001b[0;34m,\u001b[0m \u001b[0maxis\u001b[0m\u001b[0;34m,\u001b[0m\u001b[0;34m\u001b[0m\u001b[0m\n\u001b[1;32m   4261\u001b[0m                         \u001b[0mreduce\u001b[0m\u001b[0;34m=\u001b[0m\u001b[0mreduce\u001b[0m\u001b[0;34m,\u001b[0m\u001b[0;34m\u001b[0m\u001b[0m\n\u001b[0;32m-> 4262\u001b[0;31m                         ignore_failures=ignore_failures)\n\u001b[0m\u001b[1;32m   4263\u001b[0m             \u001b[0;32melse\u001b[0m\u001b[0;34m:\u001b[0m\u001b[0;34m\u001b[0m\u001b[0m\n\u001b[1;32m   4264\u001b[0m                 \u001b[0;32mreturn\u001b[0m \u001b[0mself\u001b[0m\u001b[0;34m.\u001b[0m\u001b[0m_apply_broadcast\u001b[0m\u001b[0;34m(\u001b[0m\u001b[0mf\u001b[0m\u001b[0;34m,\u001b[0m \u001b[0maxis\u001b[0m\u001b[0;34m)\u001b[0m\u001b[0;34m\u001b[0m\u001b[0m\n",
      "\u001b[0;32m~/anaconda3/lib/python3.6/site-packages/pandas/core/frame.py\u001b[0m in \u001b[0;36m_apply_standard\u001b[0;34m(self, func, axis, ignore_failures, reduce)\u001b[0m\n\u001b[1;32m   4356\u001b[0m             \u001b[0;32mtry\u001b[0m\u001b[0;34m:\u001b[0m\u001b[0;34m\u001b[0m\u001b[0m\n\u001b[1;32m   4357\u001b[0m                 \u001b[0;32mfor\u001b[0m \u001b[0mi\u001b[0m\u001b[0;34m,\u001b[0m \u001b[0mv\u001b[0m \u001b[0;32min\u001b[0m \u001b[0menumerate\u001b[0m\u001b[0;34m(\u001b[0m\u001b[0mseries_gen\u001b[0m\u001b[0;34m)\u001b[0m\u001b[0;34m:\u001b[0m\u001b[0;34m\u001b[0m\u001b[0m\n\u001b[0;32m-> 4358\u001b[0;31m                     \u001b[0mresults\u001b[0m\u001b[0;34m[\u001b[0m\u001b[0mi\u001b[0m\u001b[0;34m]\u001b[0m \u001b[0;34m=\u001b[0m \u001b[0mfunc\u001b[0m\u001b[0;34m(\u001b[0m\u001b[0mv\u001b[0m\u001b[0;34m)\u001b[0m\u001b[0;34m\u001b[0m\u001b[0m\n\u001b[0m\u001b[1;32m   4359\u001b[0m                     \u001b[0mkeys\u001b[0m\u001b[0;34m.\u001b[0m\u001b[0mappend\u001b[0m\u001b[0;34m(\u001b[0m\u001b[0mv\u001b[0m\u001b[0;34m.\u001b[0m\u001b[0mname\u001b[0m\u001b[0;34m)\u001b[0m\u001b[0;34m\u001b[0m\u001b[0m\n\u001b[1;32m   4360\u001b[0m             \u001b[0;32mexcept\u001b[0m \u001b[0mException\u001b[0m \u001b[0;32mas\u001b[0m \u001b[0me\u001b[0m\u001b[0;34m:\u001b[0m\u001b[0;34m\u001b[0m\u001b[0m\n",
      "\u001b[0;32m<ipython-input-75-76d7cb4f0db1>\u001b[0m in \u001b[0;36m<lambda>\u001b[0;34m(x)\u001b[0m\n\u001b[1;32m     13\u001b[0m \u001b[0mdf\u001b[0m\u001b[0;34m[\u001b[0m\u001b[0;34m'dumm_m35'\u001b[0m\u001b[0;34m]\u001b[0m \u001b[0;34m=\u001b[0m \u001b[0;34m-\u001b[0m\u001b[0;36m.35\u001b[0m\u001b[0;34m\u001b[0m\u001b[0m\n\u001b[1;32m     14\u001b[0m \u001b[0;34m\u001b[0m\u001b[0m\n\u001b[0;32m---> 15\u001b[0;31m \u001b[0mdf\u001b[0m\u001b[0;34m[\u001b[0m\u001b[0;34m'V'\u001b[0m\u001b[0;34m]\u001b[0m \u001b[0;34m=\u001b[0m \u001b[0mdf\u001b[0m\u001b[0;34m.\u001b[0m\u001b[0mapply\u001b[0m\u001b[0;34m(\u001b[0m\u001b[0;32mlambda\u001b[0m \u001b[0mx\u001b[0m\u001b[0;34m:\u001b[0m\u001b[0mV\u001b[0m\u001b[0;34m(\u001b[0m\u001b[0mx\u001b[0m\u001b[0;34m[\u001b[0m\u001b[0;34m'oh_after'\u001b[0m\u001b[0;34m]\u001b[0m\u001b[0;34m,\u001b[0m \u001b[0;36m40\u001b[0m\u001b[0;34m,\u001b[0m \u001b[0;36m94.67\u001b[0m\u001b[0;34m,\u001b[0m \u001b[0;36m.35\u001b[0m\u001b[0;34m,\u001b[0m \u001b[0mint\u001b[0m\u001b[0;34m(\u001b[0m\u001b[0mx\u001b[0m\u001b[0;34m[\u001b[0m\u001b[0;34m'days_left'\u001b[0m\u001b[0;34m]\u001b[0m\u001b[0;34m)\u001b[0m\u001b[0;34m)\u001b[0m\u001b[0;34m,\u001b[0m \u001b[0;36m1\u001b[0m\u001b[0;34m)\u001b[0m\u001b[0;34m\u001b[0m\u001b[0m\n\u001b[0m\u001b[1;32m     16\u001b[0m \u001b[0mdf\u001b[0m\u001b[0;34m[\u001b[0m\u001b[0;34m'Q_keep'\u001b[0m\u001b[0;34m]\u001b[0m \u001b[0;34m=\u001b[0m \u001b[0mdf\u001b[0m\u001b[0;34m.\u001b[0m\u001b[0mapply\u001b[0m\u001b[0;34m(\u001b[0m\u001b[0;32mlambda\u001b[0m \u001b[0mx\u001b[0m\u001b[0;34m:\u001b[0m\u001b[0mQ\u001b[0m\u001b[0;34m(\u001b[0m\u001b[0mx\u001b[0m\u001b[0;34m[\u001b[0m\u001b[0;34m'oh_after'\u001b[0m\u001b[0;34m]\u001b[0m\u001b[0;34m,\u001b[0m \u001b[0;36m40\u001b[0m\u001b[0;34m,\u001b[0m \u001b[0;36m94.67\u001b[0m\u001b[0;34m,\u001b[0m \u001b[0;36m.35\u001b[0m\u001b[0;34m,\u001b[0m \u001b[0mint\u001b[0m\u001b[0;34m(\u001b[0m\u001b[0mx\u001b[0m\u001b[0;34m[\u001b[0m\u001b[0;34m'days_left'\u001b[0m\u001b[0;34m]\u001b[0m\u001b[0;34m)\u001b[0m\u001b[0;34m,\u001b[0m \u001b[0;36m0\u001b[0m\u001b[0;34m)\u001b[0m\u001b[0;34m,\u001b[0m \u001b[0;36m1\u001b[0m\u001b[0;34m)\u001b[0m\u001b[0;34m\u001b[0m\u001b[0m\n\u001b[1;32m     17\u001b[0m \u001b[0mdf\u001b[0m\u001b[0;34m[\u001b[0m\u001b[0;34m'Q_disc'\u001b[0m\u001b[0;34m]\u001b[0m \u001b[0;34m=\u001b[0m \u001b[0mdf\u001b[0m\u001b[0;34m.\u001b[0m\u001b[0mapply\u001b[0m\u001b[0;34m(\u001b[0m\u001b[0;32mlambda\u001b[0m \u001b[0mx\u001b[0m\u001b[0;34m:\u001b[0m\u001b[0mQ\u001b[0m\u001b[0;34m(\u001b[0m\u001b[0mx\u001b[0m\u001b[0;34m[\u001b[0m\u001b[0;34m'oh_after'\u001b[0m\u001b[0;34m]\u001b[0m\u001b[0;34m,\u001b[0m \u001b[0;36m40\u001b[0m\u001b[0;34m,\u001b[0m \u001b[0;36m94.67\u001b[0m\u001b[0;34m,\u001b[0m \u001b[0;36m.35\u001b[0m\u001b[0;34m,\u001b[0m \u001b[0mint\u001b[0m\u001b[0;34m(\u001b[0m\u001b[0mx\u001b[0m\u001b[0;34m[\u001b[0m\u001b[0;34m'days_left'\u001b[0m\u001b[0;34m]\u001b[0m\u001b[0;34m)\u001b[0m\u001b[0;34m,\u001b[0m \u001b[0;34m-\u001b[0m\u001b[0;36m.35\u001b[0m\u001b[0;34m)\u001b[0m\u001b[0;34m,\u001b[0m \u001b[0;36m1\u001b[0m\u001b[0;34m)\u001b[0m\u001b[0;34m\u001b[0m\u001b[0m\n",
      "\u001b[0;32m~/anaconda3/lib/python3.6/site-packages/pandas/core/series.py\u001b[0m in \u001b[0;36m__getitem__\u001b[0;34m(self, key)\u001b[0m\n\u001b[1;32m    599\u001b[0m         \u001b[0mkey\u001b[0m \u001b[0;34m=\u001b[0m \u001b[0mcom\u001b[0m\u001b[0;34m.\u001b[0m\u001b[0m_apply_if_callable\u001b[0m\u001b[0;34m(\u001b[0m\u001b[0mkey\u001b[0m\u001b[0;34m,\u001b[0m \u001b[0mself\u001b[0m\u001b[0;34m)\u001b[0m\u001b[0;34m\u001b[0m\u001b[0m\n\u001b[1;32m    600\u001b[0m         \u001b[0;32mtry\u001b[0m\u001b[0;34m:\u001b[0m\u001b[0;34m\u001b[0m\u001b[0m\n\u001b[0;32m--> 601\u001b[0;31m             \u001b[0mresult\u001b[0m \u001b[0;34m=\u001b[0m \u001b[0mself\u001b[0m\u001b[0;34m.\u001b[0m\u001b[0mindex\u001b[0m\u001b[0;34m.\u001b[0m\u001b[0mget_value\u001b[0m\u001b[0;34m(\u001b[0m\u001b[0mself\u001b[0m\u001b[0;34m,\u001b[0m \u001b[0mkey\u001b[0m\u001b[0;34m)\u001b[0m\u001b[0;34m\u001b[0m\u001b[0m\n\u001b[0m\u001b[1;32m    602\u001b[0m \u001b[0;34m\u001b[0m\u001b[0m\n\u001b[1;32m    603\u001b[0m             \u001b[0;32mif\u001b[0m \u001b[0;32mnot\u001b[0m \u001b[0mis_scalar\u001b[0m\u001b[0;34m(\u001b[0m\u001b[0mresult\u001b[0m\u001b[0;34m)\u001b[0m\u001b[0;34m:\u001b[0m\u001b[0;34m\u001b[0m\u001b[0m\n",
      "\u001b[0;32m~/anaconda3/lib/python3.6/site-packages/pandas/core/indexes/base.py\u001b[0m in \u001b[0;36mget_value\u001b[0;34m(self, series, key)\u001b[0m\n\u001b[1;32m   2489\u001b[0m                     \u001b[0;32mraise\u001b[0m \u001b[0mInvalidIndexError\u001b[0m\u001b[0;34m(\u001b[0m\u001b[0mkey\u001b[0m\u001b[0;34m)\u001b[0m\u001b[0;34m\u001b[0m\u001b[0m\n\u001b[1;32m   2490\u001b[0m                 \u001b[0;32melse\u001b[0m\u001b[0;34m:\u001b[0m\u001b[0;34m\u001b[0m\u001b[0m\n\u001b[0;32m-> 2491\u001b[0;31m                     \u001b[0;32mraise\u001b[0m \u001b[0me1\u001b[0m\u001b[0;34m\u001b[0m\u001b[0m\n\u001b[0m\u001b[1;32m   2492\u001b[0m             \u001b[0;32mexcept\u001b[0m \u001b[0mException\u001b[0m\u001b[0;34m:\u001b[0m  \u001b[0;31m# pragma: no cover\u001b[0m\u001b[0;34m\u001b[0m\u001b[0m\n\u001b[1;32m   2493\u001b[0m                 \u001b[0;32mraise\u001b[0m \u001b[0me1\u001b[0m\u001b[0;34m\u001b[0m\u001b[0m\n",
      "\u001b[0;32m~/anaconda3/lib/python3.6/site-packages/pandas/core/indexes/base.py\u001b[0m in \u001b[0;36mget_value\u001b[0;34m(self, series, key)\u001b[0m\n\u001b[1;32m   2475\u001b[0m         \u001b[0;32mtry\u001b[0m\u001b[0;34m:\u001b[0m\u001b[0;34m\u001b[0m\u001b[0m\n\u001b[1;32m   2476\u001b[0m             return self._engine.get_value(s, k,\n\u001b[0;32m-> 2477\u001b[0;31m                                           tz=getattr(series.dtype, 'tz', None))\n\u001b[0m\u001b[1;32m   2478\u001b[0m         \u001b[0;32mexcept\u001b[0m \u001b[0mKeyError\u001b[0m \u001b[0;32mas\u001b[0m \u001b[0me1\u001b[0m\u001b[0;34m:\u001b[0m\u001b[0;34m\u001b[0m\u001b[0m\n\u001b[1;32m   2479\u001b[0m             \u001b[0;32mif\u001b[0m \u001b[0mlen\u001b[0m\u001b[0;34m(\u001b[0m\u001b[0mself\u001b[0m\u001b[0;34m)\u001b[0m \u001b[0;34m>\u001b[0m \u001b[0;36m0\u001b[0m \u001b[0;32mand\u001b[0m \u001b[0mself\u001b[0m\u001b[0;34m.\u001b[0m\u001b[0minferred_type\u001b[0m \u001b[0;32min\u001b[0m \u001b[0;34m[\u001b[0m\u001b[0;34m'integer'\u001b[0m\u001b[0;34m,\u001b[0m \u001b[0;34m'boolean'\u001b[0m\u001b[0;34m]\u001b[0m\u001b[0;34m:\u001b[0m\u001b[0;34m\u001b[0m\u001b[0m\n",
      "\u001b[0;32mpandas/_libs/index.pyx\u001b[0m in \u001b[0;36mpandas._libs.index.IndexEngine.get_value\u001b[0;34m()\u001b[0m\n",
      "\u001b[0;32mpandas/_libs/index.pyx\u001b[0m in \u001b[0;36mpandas._libs.index.IndexEngine.get_value\u001b[0;34m()\u001b[0m\n",
      "\u001b[0;32mpandas/_libs/index.pyx\u001b[0m in \u001b[0;36mpandas._libs.index.IndexEngine.get_loc\u001b[0;34m()\u001b[0m\n",
      "\u001b[0;32mpandas/_libs/index.pyx\u001b[0m in \u001b[0;36mpandas._libs.index.IndexEngine._get_loc_duplicates\u001b[0;34m()\u001b[0m\n",
      "\u001b[0;32mpandas/_libs/index.pyx\u001b[0m in \u001b[0;36mpandas._libs.index.IndexEngine._maybe_get_bool_indexer\u001b[0;34m()\u001b[0m\n",
      "\u001b[0;31mKeyError\u001b[0m: ('days_left', 'occurred at index 0')"
     ]
    }
   ],
   "source": [
    "samples_list = []\n",
    "for i in (range(1000)):\n",
    "    tmp_df, (bin_state, next_bin_state) = gen_rl_df(delta = .35, alpha = 2., scale = 40, season = season, init_oh = init_oh)\n",
    "    samples_list.append(tmp_df)\n",
    "    \n",
    "data_samples = pd.concat(samples_list)\n",
    "\n",
    "\n",
    "\n",
    "\n",
    "df =data_samples.fillna(0)\n",
    "df['dumm_0'] = 0.\n",
    "df['dumm_m35'] = -.35\n",
    "\n",
    "df['V'] = df.apply(lambda x:V(x['oh_after'], 40, 94.67, .35, int(x['days_left'])), 1)\n",
    "df['Q_keep'] = df.apply(lambda x:Q(x['oh_after'], 40, 94.67, .35, int(x['days_left']), 0), 1)\n",
    "df['Q_disc'] = df.apply(lambda x:Q(x['oh_after'], 40, 94.67, .35, int(x['days_left']), -.35), 1)"
   ]
  },
  {
   "cell_type": "code",
   "execution_count": null,
   "metadata": {},
   "outputs": [],
   "source": [
    "num_actions = 2\n",
    "m35_order = 1\n",
    "z_order = 0\n",
    "state_cols = ['oh_after'] + bin_state\n",
    "next_state_cols = [col + '_next' for col in state_cols]\n",
    "useful_cols = ['days_left', 'action', 'rev_ser', 'days_left_next']\n",
    "\n",
    "\n",
    "used_cols = useful_cols +state_cols+next_state_cols\n",
    "col_n2no =  {name:i for i, name in  enumerate(used_cols)}\n",
    "\n",
    "X = df[used_cols].values\n",
    "\n",
    "\n",
    "state_cols_nos = [col_n2no[name] for name in state_cols]\n",
    "next_state_cols_nos = [col_n2no[name] for name in next_state_cols]\n",
    "\n",
    "state_cols_nos, next_state_cols_nos\n"
   ]
  },
  {
   "cell_type": "code",
   "execution_count": null,
   "metadata": {},
   "outputs": [],
   "source": [
    "from keras.models import Sequential\n",
    "from keras.layers.convolutional import Convolution2D\n",
    "from keras.layers.core import Dense, Flatten, Dropout\n",
    "from keras.optimizers import SGD, RMSprop,Adagrad\n",
    "\n",
    "\n",
    "\n",
    "# define the architecture of the network\n",
    "model = Sequential()\n",
    "model.add(Dense(12, input_dim=len(state_cols_nos), init=\"uniform\", activation=\"relu\"))\n",
    "model.add(Dense(12, activation=\"relu\", kernel_initializer=\"uniform\"))\n",
    "model.add(Dense(num_actions))\n",
    "model.compile(RMSprop(), 'MSE')\n",
    "\n",
    "\n",
    "model_z = Sequential()\n",
    "model_z.add(Dense(12, input_dim=len(state_cols_nos), init=\"uniform\", activation=\"relu\"))\n",
    "model_z.add(Dense(12, activation=\"relu\", kernel_initializer=\"uniform\"))\n",
    "model_z.add(Dense(1))\n",
    "model_z.compile(RMSprop(), 'MSE')\n",
    "\n",
    "\n",
    "model_m35 = Sequential()\n",
    "model_m35.add(Dense(12, input_dim=len(state_cols_nos), init=\"uniform\", activation=\"relu\"))\n",
    "model_m35.add(Dense(12, activation=\"relu\", kernel_initializer=\"uniform\"))\n",
    "model_m35.add(Dense(1))\n",
    "model_m35.compile(RMSprop(), 'MSE')"
   ]
  },
  {
   "cell_type": "markdown",
   "metadata": {},
   "source": [
    "### вместе"
   ]
  },
  {
   "cell_type": "code",
   "execution_count": 34,
   "metadata": {},
   "outputs": [
    {
     "name": "stderr",
     "output_type": "stream",
     "text": [
      "  0%|          | 0/1500000 [00:00<?, ?it/s]"
     ]
    },
    {
     "name": "stdout",
     "output_type": "stream",
     "text": [
      "err, mean_q_0 2014.2683 [329.69186 178.52644]\n",
      "err, mean_q_0 1210.6893 [469.11508 421.93564]\n"
     ]
    },
    {
     "name": "stderr",
     "output_type": "stream",
     "text": [
      "  0%|          | 766/1500000 [00:10<5:26:31, 76.53it/s]"
     ]
    },
    {
     "name": "stdout",
     "output_type": "stream",
     "text": [
      "err, mean_q_0 669.43823 [478.2401 431.5677]\n",
      "err, mean_q_0 693.72375 [508.9776  465.24878]\n"
     ]
    },
    {
     "name": "stderr",
     "output_type": "stream",
     "text": [
      "  0%|          | 1533/1500000 [00:20<5:26:04, 76.59it/s]"
     ]
    },
    {
     "name": "stdout",
     "output_type": "stream",
     "text": [
      "err, mean_q_0 407.5635 [484.97476 450.10577]\n"
     ]
    },
    {
     "name": "stderr",
     "output_type": "stream",
     "text": [
      "  0%|          | 2300/1500000 [00:30<5:26:00, 76.57it/s]"
     ]
    },
    {
     "name": "stdout",
     "output_type": "stream",
     "text": [
      "err, mean_q_0 190.46275 [451.96866 432.66095]\n",
      "err, mean_q_0 144.18968 [428.97125 419.2237 ]\n"
     ]
    },
    {
     "name": "stderr",
     "output_type": "stream",
     "text": [
      "  0%|          | 3066/1500000 [00:40<5:25:52, 76.56it/s]"
     ]
    },
    {
     "name": "stdout",
     "output_type": "stream",
     "text": [
      "err, mean_q_0 96.099236 [436.28305 429.58365]\n"
     ]
    },
    {
     "name": "stderr",
     "output_type": "stream",
     "text": [
      "  0%|          | 3833/1500000 [00:50<5:25:38, 76.58it/s]"
     ]
    },
    {
     "name": "stdout",
     "output_type": "stream",
     "text": [
      "err, mean_q_0 97.48136 [445.93314 439.58585]\n",
      "err, mean_q_0 107.18548 [462.51978 453.55377]\n"
     ]
    },
    {
     "name": "stderr",
     "output_type": "stream",
     "text": [
      "  0%|          | 4600/1500000 [01:00<5:25:30, 76.57it/s]"
     ]
    },
    {
     "name": "stdout",
     "output_type": "stream",
     "text": [
      "err, mean_q_0 90.429565 [457.8402  450.33228]\n"
     ]
    },
    {
     "name": "stderr",
     "output_type": "stream",
     "text": [
      "  0%|          | 5366/1500000 [01:10<5:25:20, 76.57it/s]"
     ]
    },
    {
     "name": "stdout",
     "output_type": "stream",
     "text": [
      "err, mean_q_0 89.27354 [435.92328 432.6945 ]\n",
      "err, mean_q_0 81.7662 [461.29166 456.88956]\n"
     ]
    },
    {
     "name": "stderr",
     "output_type": "stream",
     "text": [
      "  0%|          | 6133/1500000 [01:20<5:25:07, 76.58it/s]"
     ]
    },
    {
     "name": "stdout",
     "output_type": "stream",
     "text": [
      "err, mean_q_0 79.23458 [464.24225 461.11346]\n"
     ]
    },
    {
     "name": "stderr",
     "output_type": "stream",
     "text": [
      "  0%|          | 6900/1500000 [01:30<5:24:57, 76.58it/s]"
     ]
    },
    {
     "name": "stdout",
     "output_type": "stream",
     "text": [
      "err, mean_q_0 72.292206 [433.82812 431.67017]\n",
      "err, mean_q_0 84.68011 [422.97815 420.62756]\n"
     ]
    },
    {
     "name": "stderr",
     "output_type": "stream",
     "text": [
      "  1%|          | 7666/1500000 [01:40<5:25:12, 76.48it/s]"
     ]
    },
    {
     "name": "stdout",
     "output_type": "stream",
     "text": [
      "err, mean_q_0 59.955883 [430.94608 429.51495]\n"
     ]
    },
    {
     "name": "stderr",
     "output_type": "stream",
     "text": [
      "  1%|          | 8433/1500000 [01:50<5:24:59, 76.49it/s]"
     ]
    },
    {
     "name": "stdout",
     "output_type": "stream",
     "text": [
      "err, mean_q_0 70.85905 [460.4584 458.5657]\n",
      "err, mean_q_0 66.90003 [446.84174 447.47546]\n"
     ]
    },
    {
     "name": "stderr",
     "output_type": "stream",
     "text": [
      "  1%|          | 9200/1500000 [02:00<5:24:48, 76.50it/s]"
     ]
    },
    {
     "name": "stdout",
     "output_type": "stream",
     "text": [
      "err, mean_q_0 65.41664 [457.3311  455.18286]\n"
     ]
    },
    {
     "name": "stderr",
     "output_type": "stream",
     "text": [
      "  1%|          | 9968/1500000 [02:10<5:24:32, 76.52it/s]"
     ]
    },
    {
     "name": "stdout",
     "output_type": "stream",
     "text": [
      "err, mean_q_0 75.786 [464.6182 462.4699]\n",
      "err, mean_q_0 74.046684 [507.9846  502.30432]\n"
     ]
    },
    {
     "name": "stderr",
     "output_type": "stream",
     "text": [
      "  1%|          | 10736/1500000 [02:20<5:24:21, 76.52it/s]"
     ]
    },
    {
     "name": "stdout",
     "output_type": "stream",
     "text": [
      "err, mean_q_0 75.524 [482.63837 479.2    ]\n"
     ]
    },
    {
     "name": "stderr",
     "output_type": "stream",
     "text": [
      "  1%|          | 11503/1500000 [02:30<5:24:10, 76.53it/s]"
     ]
    },
    {
     "name": "stdout",
     "output_type": "stream",
     "text": [
      "err, mean_q_0 72.29554 [482.34943 484.86786]\n",
      "err, mean_q_0 59.451668 [475.308  476.5033]\n"
     ]
    },
    {
     "name": "stderr",
     "output_type": "stream",
     "text": [
      "  1%|          | 12270/1500000 [02:40<5:23:57, 76.54it/s]"
     ]
    },
    {
     "name": "stdout",
     "output_type": "stream",
     "text": [
      "err, mean_q_0 65.473434 [493.19037 493.6068 ]\n",
      "err, mean_q_0 68.92582 [489.57944 493.16232]\n"
     ]
    },
    {
     "name": "stderr",
     "output_type": "stream",
     "text": [
      "  1%|          | 13037/1500000 [02:50<5:23:51, 76.52it/s]"
     ]
    },
    {
     "name": "stdout",
     "output_type": "stream",
     "text": [
      "err, mean_q_0 63.028397 [490.21   484.6215]\n"
     ]
    },
    {
     "name": "stderr",
     "output_type": "stream",
     "text": [
      "  1%|          | 13803/1500000 [03:00<5:23:40, 76.53it/s]"
     ]
    },
    {
     "name": "stdout",
     "output_type": "stream",
     "text": [
      "err, mean_q_0 88.578995 [532.0209 523.8058]\n",
      "err, mean_q_0 62.758564 [493.5404 493.698 ]\n"
     ]
    },
    {
     "name": "stderr",
     "output_type": "stream",
     "text": [
      "  1%|          | 14569/1500000 [03:10<5:23:30, 76.53it/s]"
     ]
    },
    {
     "name": "stdout",
     "output_type": "stream",
     "text": [
      "err, mean_q_0 64.19881 [471.28137 477.62268]\n"
     ]
    },
    {
     "name": "stderr",
     "output_type": "stream",
     "text": [
      "  1%|          | 15337/1500000 [03:20<5:23:18, 76.54it/s]"
     ]
    },
    {
     "name": "stdout",
     "output_type": "stream",
     "text": [
      "err, mean_q_0 60.64359 [478.06235 467.4183 ]\n",
      "err, mean_q_0 49.315525 [458.83087 452.95886]\n"
     ]
    },
    {
     "name": "stderr",
     "output_type": "stream",
     "text": [
      "  1%|          | 16105/1500000 [03:30<5:23:08, 76.54it/s]"
     ]
    },
    {
     "name": "stdout",
     "output_type": "stream",
     "text": [
      "err, mean_q_0 47.090008 [518.516  515.4778]\n"
     ]
    },
    {
     "name": "stderr",
     "output_type": "stream",
     "text": [
      "  1%|          | 16871/1500000 [03:40<5:22:58, 76.53it/s]"
     ]
    },
    {
     "name": "stdout",
     "output_type": "stream",
     "text": [
      "err, mean_q_0 58.303776 [466.5202  474.17734]\n",
      "err, mean_q_0 64.79826 [541.38776 525.48346]\n"
     ]
    },
    {
     "name": "stderr",
     "output_type": "stream",
     "text": [
      "  1%|          | 17637/1500000 [03:50<5:22:48, 76.53it/s]"
     ]
    },
    {
     "name": "stdout",
     "output_type": "stream",
     "text": [
      "err, mean_q_0 63.75076 [449.92303 442.56897]\n"
     ]
    },
    {
     "name": "stderr",
     "output_type": "stream",
     "text": [
      "  1%|          | 18404/1500000 [04:00<5:22:38, 76.54it/s]"
     ]
    },
    {
     "name": "stdout",
     "output_type": "stream",
     "text": [
      "err, mean_q_0 59.797688 [454.6684  458.98886]\n",
      "err, mean_q_0 78.78866 [548.5611  532.04266]\n"
     ]
    },
    {
     "name": "stderr",
     "output_type": "stream",
     "text": [
      "  1%|▏         | 19171/1500000 [04:10<5:22:27, 76.54it/s]"
     ]
    },
    {
     "name": "stdout",
     "output_type": "stream",
     "text": [
      "err, mean_q_0 57.308758 [457.36493 466.1478 ]\n"
     ]
    },
    {
     "name": "stderr",
     "output_type": "stream",
     "text": [
      "  1%|▏         | 19937/1500000 [04:20<5:22:18, 76.54it/s]"
     ]
    },
    {
     "name": "stdout",
     "output_type": "stream",
     "text": [
      "err, mean_q_0 58.84375 [467.421  461.5912]\n",
      "err, mean_q_0 52.73356 [476.16888 464.8399 ]\n"
     ]
    },
    {
     "name": "stderr",
     "output_type": "stream",
     "text": [
      "  1%|▏         | 20703/1500000 [04:30<5:22:08, 76.53it/s]"
     ]
    },
    {
     "name": "stdout",
     "output_type": "stream",
     "text": [
      "err, mean_q_0 97.86652 [490.11823 498.59976]\n"
     ]
    },
    {
     "name": "stderr",
     "output_type": "stream",
     "text": [
      "  1%|▏         | 21470/1500000 [04:40<5:21:57, 76.54it/s]"
     ]
    },
    {
     "name": "stdout",
     "output_type": "stream",
     "text": [
      "err, mean_q_0 49.547752 [508.60327 497.42538]\n",
      "err, mean_q_0 60.793232 [449.48727 449.40793]\n"
     ]
    },
    {
     "name": "stderr",
     "output_type": "stream",
     "text": [
      "  1%|▏         | 22237/1500000 [04:50<5:21:46, 76.54it/s]"
     ]
    },
    {
     "name": "stdout",
     "output_type": "stream",
     "text": [
      "err, mean_q_0 42.58333 [528.59436 511.97073]\n"
     ]
    },
    {
     "name": "stderr",
     "output_type": "stream",
     "text": [
      "  2%|▏         | 23004/1500000 [05:00<5:21:37, 76.54it/s]"
     ]
    },
    {
     "name": "stdout",
     "output_type": "stream",
     "text": [
      "err, mean_q_0 47.711124 [499.24466 487.50082]\n",
      "err, mean_q_0 38.19654 [536.3688 519.3135]\n"
     ]
    },
    {
     "name": "stderr",
     "output_type": "stream",
     "text": [
      "  2%|▏         | 23769/1500000 [05:10<5:21:30, 76.53it/s]"
     ]
    },
    {
     "name": "stdout",
     "output_type": "stream",
     "text": [
      "err, mean_q_0 118.372345 [482.71848 491.15057]\n",
      "err, mean_q_0 53.664658 [537.40283 524.2131 ]\n"
     ]
    },
    {
     "name": "stderr",
     "output_type": "stream",
     "text": [
      "  2%|▏         | 24535/1500000 [05:20<5:21:20, 76.53it/s]"
     ]
    },
    {
     "name": "stdout",
     "output_type": "stream",
     "text": [
      "err, mean_q_0 42.253307 [522.76807 507.9669 ]\n"
     ]
    },
    {
     "name": "stderr",
     "output_type": "stream",
     "text": [
      "  2%|▏         | 25301/1500000 [05:30<5:21:09, 76.53it/s]"
     ]
    },
    {
     "name": "stdout",
     "output_type": "stream",
     "text": [
      "err, mean_q_0 39.83025 [534.7739 516.2558]\n",
      "err, mean_q_0 66.69679 [462.70694 465.4037 ]\n"
     ]
    },
    {
     "name": "stderr",
     "output_type": "stream",
     "text": [
      "  2%|▏         | 26067/1500000 [05:40<5:21:00, 76.53it/s]"
     ]
    },
    {
     "name": "stdout",
     "output_type": "stream",
     "text": [
      "err, mean_q_0 60.252117 [457.27396 465.28793]\n"
     ]
    },
    {
     "name": "stderr",
     "output_type": "stream",
     "text": [
      "  2%|▏         | 26834/1500000 [05:50<5:20:49, 76.53it/s]"
     ]
    },
    {
     "name": "stdout",
     "output_type": "stream",
     "text": [
      "err, mean_q_0 54.08131 [464.54428 446.93546]\n",
      "err, mean_q_0 66.13081 [457.3809  460.48358]\n"
     ]
    },
    {
     "name": "stderr",
     "output_type": "stream",
     "text": [
      "  2%|▏         | 27601/1500000 [06:00<5:20:38, 76.53it/s]"
     ]
    },
    {
     "name": "stdout",
     "output_type": "stream",
     "text": [
      "err, mean_q_0 49.51331 [468.6023  457.20197]\n"
     ]
    },
    {
     "name": "stderr",
     "output_type": "stream",
     "text": [
      "  2%|▏         | 28368/1500000 [06:10<5:20:28, 76.53it/s]"
     ]
    },
    {
     "name": "stdout",
     "output_type": "stream",
     "text": [
      "err, mean_q_0 70.10541 [527.7411 526.0352]\n",
      "err, mean_q_0 34.40914 [535.5776 518.7422]\n"
     ]
    },
    {
     "name": "stderr",
     "output_type": "stream",
     "text": [
      "  2%|▏         | 29135/1500000 [06:20<5:20:19, 76.53it/s]"
     ]
    },
    {
     "name": "stdout",
     "output_type": "stream",
     "text": [
      "err, mean_q_0 63.789265 [521.8924 521.1646]\n"
     ]
    },
    {
     "name": "stderr",
     "output_type": "stream",
     "text": [
      "  2%|▏         | 29899/1500000 [06:30<5:20:10, 76.53it/s]"
     ]
    },
    {
     "name": "stdout",
     "output_type": "stream",
     "text": [
      "err, mean_q_0 55.551483 [465.31277 451.75494]\n",
      "err, mean_q_0 52.824665 [498.97516 484.17172]\n"
     ]
    },
    {
     "name": "stderr",
     "output_type": "stream",
     "text": [
      "  2%|▏         | 30665/1500000 [06:40<5:20:00, 76.53it/s]"
     ]
    },
    {
     "name": "stdout",
     "output_type": "stream",
     "text": [
      "err, mean_q_0 46.483852 [530.7671 517.7839]\n"
     ]
    },
    {
     "name": "stderr",
     "output_type": "stream",
     "text": [
      "  2%|▏         | 31431/1500000 [06:50<5:19:50, 76.52it/s]"
     ]
    },
    {
     "name": "stdout",
     "output_type": "stream",
     "text": [
      "err, mean_q_0 63.823063 [454.38028 439.0256 ]\n",
      "err, mean_q_0 68.56848 [470.4311  455.39044]\n"
     ]
    },
    {
     "name": "stderr",
     "output_type": "stream",
     "text": [
      "  2%|▏         | 32197/1500000 [07:00<5:19:40, 76.52it/s]"
     ]
    },
    {
     "name": "stdout",
     "output_type": "stream",
     "text": [
      "err, mean_q_0 41.54557 [543.6308  526.02167]\n"
     ]
    },
    {
     "name": "stderr",
     "output_type": "stream",
     "text": [
      "  2%|▏         | 32963/1500000 [07:10<5:19:30, 76.52it/s]"
     ]
    },
    {
     "name": "stdout",
     "output_type": "stream",
     "text": [
      "err, mean_q_0 48.53393 [511.69693 500.9928 ]\n",
      "err, mean_q_0 63.2723 [488.62173 499.0334 ]\n"
     ]
    },
    {
     "name": "stderr",
     "output_type": "stream",
     "text": [
      "  2%|▏         | 33729/1500000 [07:20<5:19:20, 76.52it/s]"
     ]
    },
    {
     "name": "stdout",
     "output_type": "stream",
     "text": [
      "err, mean_q_0 70.89659 [458.16495 447.55023]\n"
     ]
    },
    {
     "name": "stderr",
     "output_type": "stream",
     "text": [
      "  2%|▏         | 34495/1500000 [07:30<5:19:13, 76.51it/s]"
     ]
    },
    {
     "name": "stdout",
     "output_type": "stream",
     "text": [
      "err, mean_q_0 87.097115 [461.34656 436.76236]\n",
      "err, mean_q_0 42.3319 [512.26135 498.14624]\n"
     ]
    },
    {
     "name": "stderr",
     "output_type": "stream",
     "text": [
      "  2%|▏         | 35260/1500000 [07:40<5:19:04, 76.51it/s]"
     ]
    },
    {
     "name": "stdout",
     "output_type": "stream",
     "text": [
      "err, mean_q_0 67.02535 [523.9595  519.11914]\n",
      "err, mean_q_0 72.292564 [459.89868 442.01947]\n"
     ]
    },
    {
     "name": "stderr",
     "output_type": "stream",
     "text": [
      "  2%|▏         | 36026/1500000 [07:50<5:18:54, 76.51it/s]"
     ]
    },
    {
     "name": "stdout",
     "output_type": "stream",
     "text": [
      "err, mean_q_0 56.734875 [549.3392 533.2349]\n"
     ]
    },
    {
     "name": "stderr",
     "output_type": "stream",
     "text": [
      "  2%|▏         | 36792/1500000 [08:00<5:18:44, 76.51it/s]"
     ]
    },
    {
     "name": "stdout",
     "output_type": "stream",
     "text": [
      "err, mean_q_0 65.67375 [468.60944 452.32364]\n",
      "err, mean_q_0 39.1173 [531.2371  523.97614]\n"
     ]
    },
    {
     "name": "stderr",
     "output_type": "stream",
     "text": [
      "  3%|▎         | 37557/1500000 [08:10<5:18:35, 76.51it/s]"
     ]
    },
    {
     "name": "stdout",
     "output_type": "stream",
     "text": [
      "err, mean_q_0 39.814484 [536.67017 524.2215 ]\n"
     ]
    },
    {
     "name": "stderr",
     "output_type": "stream",
     "text": [
      "  3%|▎         | 38320/1500000 [08:20<5:18:26, 76.50it/s]"
     ]
    },
    {
     "name": "stdout",
     "output_type": "stream",
     "text": [
      "err, mean_q_0 39.92493 [528.2157 514.0761]\n",
      "err, mean_q_0 48.64442 [493.9681 500.5321]\n"
     ]
    },
    {
     "name": "stderr",
     "output_type": "stream",
     "text": [
      "  3%|▎         | 39084/1500000 [08:30<5:18:17, 76.50it/s]"
     ]
    },
    {
     "name": "stdout",
     "output_type": "stream",
     "text": [
      "err, mean_q_0 52.930023 [552.22784 538.5093 ]\n"
     ]
    },
    {
     "name": "stderr",
     "output_type": "stream",
     "text": [
      "  3%|▎         | 39850/1500000 [08:40<5:18:06, 76.50it/s]"
     ]
    },
    {
     "name": "stdout",
     "output_type": "stream",
     "text": [
      "err, mean_q_0 54.43472 [470.63574 475.20844]\n",
      "err, mean_q_0 38.764698 [532.94855 517.2356 ]\n"
     ]
    },
    {
     "name": "stderr",
     "output_type": "stream",
     "text": [
      "  3%|▎         | 40616/1500000 [08:50<5:17:58, 76.50it/s]"
     ]
    },
    {
     "name": "stdout",
     "output_type": "stream",
     "text": [
      "err, mean_q_0 37.8976 [526.97296 511.96606]\n"
     ]
    },
    {
     "name": "stderr",
     "output_type": "stream",
     "text": [
      "  3%|▎         | 41380/1500000 [09:00<5:17:48, 76.49it/s]"
     ]
    },
    {
     "name": "stdout",
     "output_type": "stream",
     "text": [
      "err, mean_q_0 43.424694 [507.31287 494.29132]\n",
      "err, mean_q_0 39.94576 [527.95844 511.72073]\n"
     ]
    },
    {
     "name": "stderr",
     "output_type": "stream",
     "text": [
      "  3%|▎         | 42145/1500000 [09:10<5:17:39, 76.49it/s]"
     ]
    },
    {
     "name": "stdout",
     "output_type": "stream",
     "text": [
      "err, mean_q_0 33.99132 [500.49164 494.14294]\n"
     ]
    },
    {
     "name": "stderr",
     "output_type": "stream",
     "text": [
      "  3%|▎         | 42910/1500000 [09:20<5:17:29, 76.49it/s]"
     ]
    },
    {
     "name": "stdout",
     "output_type": "stream",
     "text": [
      "err, mean_q_0 36.204 [499.03644 492.019  ]\n",
      "err, mean_q_0 61.263813 [462.34015 447.92148]\n"
     ]
    },
    {
     "name": "stderr",
     "output_type": "stream",
     "text": [
      "  3%|▎         | 43675/1500000 [09:31<5:17:20, 76.49it/s]"
     ]
    },
    {
     "name": "stdout",
     "output_type": "stream",
     "text": [
      "err, mean_q_0 41.233624 [496.3479  482.38486]\n"
     ]
    },
    {
     "name": "stderr",
     "output_type": "stream",
     "text": [
      "  3%|▎         | 44438/1500000 [09:41<5:17:11, 76.48it/s]"
     ]
    },
    {
     "name": "stdout",
     "output_type": "stream",
     "text": [
      "err, mean_q_0 83.16639 [437.17407 414.96262]\n",
      "err, mean_q_0 52.065815 [477.7398 483.6335]\n"
     ]
    },
    {
     "name": "stderr",
     "output_type": "stream",
     "text": [
      "  3%|▎         | 45201/1500000 [09:51<5:17:02, 76.48it/s]"
     ]
    },
    {
     "name": "stdout",
     "output_type": "stream",
     "text": [
      "err, mean_q_0 51.525135 [472.093   465.46204]\n"
     ]
    },
    {
     "name": "stderr",
     "output_type": "stream",
     "text": [
      "  3%|▎         | 45966/1500000 [10:01<5:16:53, 76.48it/s]"
     ]
    },
    {
     "name": "stdout",
     "output_type": "stream",
     "text": [
      "err, mean_q_0 67.437675 [502.72345 511.08682]\n",
      "err, mean_q_0 64.687035 [509.89005 514.24963]\n"
     ]
    },
    {
     "name": "stderr",
     "output_type": "stream",
     "text": [
      "  3%|▎         | 46731/1500000 [10:11<5:16:43, 76.47it/s]"
     ]
    },
    {
     "name": "stdout",
     "output_type": "stream",
     "text": [
      "err, mean_q_0 33.71243 [480.44296 483.9512 ]\n"
     ]
    },
    {
     "name": "stderr",
     "output_type": "stream",
     "text": [
      "  3%|▎         | 47497/1500000 [10:21<5:16:33, 76.48it/s]"
     ]
    },
    {
     "name": "stdout",
     "output_type": "stream",
     "text": [
      "err, mean_q_0 60.885082 [522.24274 502.19894]\n",
      "err, mean_q_0 35.773796 [484.6297  476.33612]\n"
     ]
    },
    {
     "name": "stderr",
     "output_type": "stream",
     "text": [
      "  3%|▎         | 48263/1500000 [10:31<5:16:23, 76.47it/s]"
     ]
    },
    {
     "name": "stdout",
     "output_type": "stream",
     "text": [
      "err, mean_q_0 47.811466 [500.4167  486.89963]\n",
      "err, mean_q_0 46.265316 [519.8892 501.6781]\n"
     ]
    },
    {
     "name": "stderr",
     "output_type": "stream",
     "text": [
      "  3%|▎         | 49029/1500000 [10:41<5:16:13, 76.47it/s]"
     ]
    },
    {
     "name": "stdout",
     "output_type": "stream",
     "text": [
      "err, mean_q_0 27.565056 [527.08575 520.99347]\n"
     ]
    },
    {
     "name": "stderr",
     "output_type": "stream",
     "text": [
      "  3%|▎         | 49795/1500000 [10:51<5:16:03, 76.47it/s]"
     ]
    },
    {
     "name": "stdout",
     "output_type": "stream",
     "text": [
      "err, mean_q_0 29.076962 [501.29404 495.3853 ]\n",
      "err, mean_q_0 68.39803 [472.9761  485.06952]\n"
     ]
    },
    {
     "name": "stderr",
     "output_type": "stream",
     "text": [
      "  3%|▎         | 50562/1500000 [11:01<5:15:52, 76.48it/s]"
     ]
    },
    {
     "name": "stdout",
     "output_type": "stream",
     "text": [
      "err, mean_q_0 34.27393 [521.4165  502.68896]\n"
     ]
    },
    {
     "name": "stderr",
     "output_type": "stream",
     "text": [
      "  3%|▎         | 51329/1500000 [11:11<5:15:42, 76.48it/s]"
     ]
    },
    {
     "name": "stdout",
     "output_type": "stream",
     "text": [
      "err, mean_q_0 29.163004 [527.6253 512.6299]\n",
      "err, mean_q_0 41.268955 [547.8804 530.2821]\n"
     ]
    },
    {
     "name": "stderr",
     "output_type": "stream",
     "text": [
      "  3%|▎         | 52096/1500000 [11:21<5:15:32, 76.48it/s]"
     ]
    },
    {
     "name": "stdout",
     "output_type": "stream",
     "text": [
      "err, mean_q_0 50.818043 [489.68713 493.23596]\n"
     ]
    },
    {
     "name": "stderr",
     "output_type": "stream",
     "text": [
      "  4%|▎         | 52863/1500000 [11:31<5:15:21, 76.48it/s]"
     ]
    },
    {
     "name": "stdout",
     "output_type": "stream",
     "text": [
      "err, mean_q_0 52.26984 [473.43518 474.39758]\n",
      "err, mean_q_0 50.61823 [509.8958  492.47333]\n"
     ]
    },
    {
     "name": "stderr",
     "output_type": "stream",
     "text": [
      "  4%|▎         | 53629/1500000 [11:41<5:15:12, 76.48it/s]"
     ]
    },
    {
     "name": "stdout",
     "output_type": "stream",
     "text": [
      "err, mean_q_0 49.188423 [462.4299  456.69046]\n"
     ]
    },
    {
     "name": "stderr",
     "output_type": "stream",
     "text": [
      "  4%|▎         | 54394/1500000 [11:51<5:15:01, 76.48it/s]"
     ]
    },
    {
     "name": "stdout",
     "output_type": "stream",
     "text": [
      "err, mean_q_0 27.521082 [519.348  502.0056]\n",
      "err, mean_q_0 58.462788 [488.22552 464.9057 ]\n"
     ]
    },
    {
     "name": "stderr",
     "output_type": "stream",
     "text": [
      "  4%|▎         | 55160/1500000 [12:01<5:14:51, 76.48it/s]"
     ]
    },
    {
     "name": "stdout",
     "output_type": "stream",
     "text": [
      "err, mean_q_0 48.055294 [484.44962 487.92685]\n"
     ]
    },
    {
     "name": "stderr",
     "output_type": "stream",
     "text": [
      "  4%|▎         | 55926/1500000 [12:11<5:14:41, 76.48it/s]"
     ]
    },
    {
     "name": "stdout",
     "output_type": "stream",
     "text": [
      "err, mean_q_0 36.792427 [525.5622  507.14957]\n",
      "err, mean_q_0 30.222563 [494.14206 482.16965]\n"
     ]
    },
    {
     "name": "stderr",
     "output_type": "stream",
     "text": [
      "  4%|▍         | 56692/1500000 [12:21<5:14:31, 76.48it/s]"
     ]
    },
    {
     "name": "stdout",
     "output_type": "stream",
     "text": [
      "err, mean_q_0 22.00018 [512.82245 503.8217 ]\n"
     ]
    },
    {
     "name": "stderr",
     "output_type": "stream",
     "text": [
      "  4%|▍         | 57458/1500000 [12:31<5:14:21, 76.48it/s]"
     ]
    },
    {
     "name": "stdout",
     "output_type": "stream",
     "text": [
      "err, mean_q_0 34.381584 [527.9093  511.44098]\n",
      "err, mean_q_0 78.85584 [456.21378 436.76572]\n"
     ]
    },
    {
     "name": "stderr",
     "output_type": "stream",
     "text": [
      "  4%|▍         | 58224/1500000 [12:41<5:14:11, 76.48it/s]"
     ]
    },
    {
     "name": "stdout",
     "output_type": "stream",
     "text": [
      "err, mean_q_0 40.590797 [532.40784 513.2468 ]\n"
     ]
    },
    {
     "name": "stderr",
     "output_type": "stream",
     "text": [
      "  4%|▍         | 58988/1500000 [12:51<5:14:01, 76.48it/s]"
     ]
    },
    {
     "name": "stdout",
     "output_type": "stream",
     "text": [
      "err, mean_q_0 24.145445 [523.98315 507.69257]\n"
     ]
    },
    {
     "ename": "KeyboardInterrupt",
     "evalue": "",
     "output_type": "error",
     "traceback": [
      "\u001b[0;31m---------------------------------------------------------------------------\u001b[0m",
      "\u001b[0;31mKeyboardInterrupt\u001b[0m                         Traceback (most recent call last)",
      "\u001b[0;32m<ipython-input-34-218219e81b8d>\u001b[0m in \u001b[0;36m<module>\u001b[0;34m()\u001b[0m\n\u001b[1;32m     24\u001b[0m     \u001b[0mtarget\u001b[0m\u001b[0;34m[\u001b[0m\u001b[0mz_action_ind\u001b[0m\u001b[0;34m,\u001b[0m \u001b[0mz_order\u001b[0m\u001b[0;34m]\u001b[0m     \u001b[0;34m=\u001b[0m \u001b[0mX_curr\u001b[0m\u001b[0;34m[\u001b[0m\u001b[0mz_action_ind\u001b[0m\u001b[0;34m,\u001b[0m \u001b[0mcol_n2no\u001b[0m\u001b[0;34m[\u001b[0m\u001b[0;34m'rev_ser'\u001b[0m\u001b[0;34m]\u001b[0m\u001b[0;34m]\u001b[0m   \u001b[0;34m+\u001b[0m \u001b[0mV_next\u001b[0m\u001b[0;34m[\u001b[0m\u001b[0mz_action_ind\u001b[0m\u001b[0;34m]\u001b[0m\u001b[0;34m\u001b[0m\u001b[0m\n\u001b[1;32m     25\u001b[0m \u001b[0;34m\u001b[0m\u001b[0m\n\u001b[0;32m---> 26\u001b[0;31m     \u001b[0merr\u001b[0m \u001b[0;34m=\u001b[0m \u001b[0mmodel\u001b[0m\u001b[0;34m.\u001b[0m\u001b[0mtrain_on_batch\u001b[0m\u001b[0;34m(\u001b[0m\u001b[0mX_curr\u001b[0m\u001b[0;34m[\u001b[0m\u001b[0;34m:\u001b[0m\u001b[0;34m,\u001b[0m\u001b[0mstate_cols_nos\u001b[0m\u001b[0;34m]\u001b[0m\u001b[0;34m,\u001b[0m \u001b[0mtarget\u001b[0m\u001b[0;34m)\u001b[0m\u001b[0;34m\u001b[0m\u001b[0m\n\u001b[0m\u001b[1;32m     27\u001b[0m     \u001b[0merr_list\u001b[0m\u001b[0;34m.\u001b[0m\u001b[0mappend\u001b[0m\u001b[0;34m(\u001b[0m\u001b[0merr\u001b[0m\u001b[0;34m)\u001b[0m\u001b[0;34m\u001b[0m\u001b[0m\n\u001b[1;32m     28\u001b[0m     \u001b[0;32mif\u001b[0m \u001b[0;32mnot\u001b[0m \u001b[0mi\u001b[0m\u001b[0;34m%\u001b[0m\u001b[0;36m500\u001b[0m\u001b[0;34m:\u001b[0m\u001b[0;34m\u001b[0m\u001b[0m\n",
      "\u001b[0;32m~/anaconda3/lib/python3.6/site-packages/keras/engine/training.py\u001b[0m in \u001b[0;36mtrain_on_batch\u001b[0;34m(self, x, y, sample_weight, class_weight)\u001b[0m\n\u001b[1;32m   1214\u001b[0m         \u001b[0;32melse\u001b[0m\u001b[0;34m:\u001b[0m\u001b[0;34m\u001b[0m\u001b[0m\n\u001b[1;32m   1215\u001b[0m             \u001b[0mins\u001b[0m \u001b[0;34m=\u001b[0m \u001b[0mx\u001b[0m \u001b[0;34m+\u001b[0m \u001b[0my\u001b[0m \u001b[0;34m+\u001b[0m \u001b[0msample_weights\u001b[0m\u001b[0;34m\u001b[0m\u001b[0m\n\u001b[0;32m-> 1216\u001b[0;31m         \u001b[0mself\u001b[0m\u001b[0;34m.\u001b[0m\u001b[0m_make_train_function\u001b[0m\u001b[0;34m(\u001b[0m\u001b[0;34m)\u001b[0m\u001b[0;34m\u001b[0m\u001b[0m\n\u001b[0m\u001b[1;32m   1217\u001b[0m         \u001b[0moutputs\u001b[0m \u001b[0;34m=\u001b[0m \u001b[0mself\u001b[0m\u001b[0;34m.\u001b[0m\u001b[0mtrain_function\u001b[0m\u001b[0;34m(\u001b[0m\u001b[0mins\u001b[0m\u001b[0;34m)\u001b[0m\u001b[0;34m\u001b[0m\u001b[0m\n\u001b[1;32m   1218\u001b[0m         \u001b[0;32mreturn\u001b[0m \u001b[0munpack_singleton\u001b[0m\u001b[0;34m(\u001b[0m\u001b[0moutputs\u001b[0m\u001b[0;34m)\u001b[0m\u001b[0;34m\u001b[0m\u001b[0m\n",
      "\u001b[0;32m~/anaconda3/lib/python3.6/site-packages/keras/engine/training.py\u001b[0m in \u001b[0;36m_make_train_function\u001b[0;34m(self)\u001b[0m\n\u001b[1;32m    495\u001b[0m         \u001b[0;32mif\u001b[0m \u001b[0;32mnot\u001b[0m \u001b[0mhasattr\u001b[0m\u001b[0;34m(\u001b[0m\u001b[0mself\u001b[0m\u001b[0;34m,\u001b[0m \u001b[0;34m'train_function'\u001b[0m\u001b[0;34m)\u001b[0m\u001b[0;34m:\u001b[0m\u001b[0;34m\u001b[0m\u001b[0m\n\u001b[1;32m    496\u001b[0m             \u001b[0;32mraise\u001b[0m \u001b[0mRuntimeError\u001b[0m\u001b[0;34m(\u001b[0m\u001b[0;34m'You must compile your model before using it.'\u001b[0m\u001b[0;34m)\u001b[0m\u001b[0;34m\u001b[0m\u001b[0m\n\u001b[0;32m--> 497\u001b[0;31m         \u001b[0mself\u001b[0m\u001b[0;34m.\u001b[0m\u001b[0m_check_trainable_weights_consistency\u001b[0m\u001b[0;34m(\u001b[0m\u001b[0;34m)\u001b[0m\u001b[0;34m\u001b[0m\u001b[0m\n\u001b[0m\u001b[1;32m    498\u001b[0m         \u001b[0;32mif\u001b[0m \u001b[0mself\u001b[0m\u001b[0;34m.\u001b[0m\u001b[0mtrain_function\u001b[0m \u001b[0;32mis\u001b[0m \u001b[0;32mNone\u001b[0m\u001b[0;34m:\u001b[0m\u001b[0;34m\u001b[0m\u001b[0m\n\u001b[1;32m    499\u001b[0m             inputs = (self._feed_inputs +\n",
      "\u001b[0;32m~/anaconda3/lib/python3.6/site-packages/keras/engine/training.py\u001b[0m in \u001b[0;36m_check_trainable_weights_consistency\u001b[0;34m(self)\u001b[0m\n\u001b[1;32m    485\u001b[0m             \u001b[0;32mreturn\u001b[0m\u001b[0;34m\u001b[0m\u001b[0m\n\u001b[1;32m    486\u001b[0m \u001b[0;34m\u001b[0m\u001b[0m\n\u001b[0;32m--> 487\u001b[0;31m         if (len(self.trainable_weights) !=\n\u001b[0m\u001b[1;32m    488\u001b[0m                 len(self._collected_trainable_weights)):\n\u001b[1;32m    489\u001b[0m             warnings.warn(UserWarning(\n",
      "\u001b[0;32m~/anaconda3/lib/python3.6/site-packages/keras/engine/network.py\u001b[0m in \u001b[0;36mtrainable_weights\u001b[0;34m(self)\u001b[0m\n\u001b[1;32m    465\u001b[0m             \u001b[0;32mreturn\u001b[0m \u001b[0;34m[\u001b[0m\u001b[0;34m]\u001b[0m\u001b[0;34m\u001b[0m\u001b[0m\n\u001b[1;32m    466\u001b[0m         \u001b[0mweights\u001b[0m \u001b[0;34m=\u001b[0m \u001b[0;34m[\u001b[0m\u001b[0;34m]\u001b[0m\u001b[0;34m\u001b[0m\u001b[0m\n\u001b[0;32m--> 467\u001b[0;31m         \u001b[0;32mfor\u001b[0m \u001b[0mlayer\u001b[0m \u001b[0;32min\u001b[0m \u001b[0mself\u001b[0m\u001b[0;34m.\u001b[0m\u001b[0mlayers\u001b[0m\u001b[0;34m:\u001b[0m\u001b[0;34m\u001b[0m\u001b[0m\n\u001b[0m\u001b[1;32m    468\u001b[0m             \u001b[0mweights\u001b[0m \u001b[0;34m+=\u001b[0m \u001b[0mlayer\u001b[0m\u001b[0;34m.\u001b[0m\u001b[0mtrainable_weights\u001b[0m\u001b[0;34m\u001b[0m\u001b[0m\n\u001b[1;32m    469\u001b[0m         \u001b[0;32mreturn\u001b[0m \u001b[0mweights\u001b[0m\u001b[0;34m\u001b[0m\u001b[0m\n",
      "\u001b[0;31mKeyboardInterrupt\u001b[0m: "
     ]
    },
    {
     "name": "stderr",
     "output_type": "stream",
     "text": [
      "  4%|▍         | 58988/1500000 [13:10<5:21:47, 74.63it/s]"
     ]
    }
   ],
   "source": [
    "err_list = []\n",
    "q_0_hist = []\n",
    "for i in tqdm(range(1500000), mininterval=10):\n",
    "    idx = np.random.randint(df.shape[0], size = 500)\n",
    "    X_curr = X[idx]\n",
    "    \n",
    "    last_day_ind = np.where(X_curr[:, col_n2no['days_left_next']] ==0)\n",
    "    m35_action_ind = np.where(X_curr[:, col_n2no['action']] == -0.35)\n",
    "    z_action_ind = np.where(X_curr[:, col_n2no['action']] ==0.)\n",
    "    \n",
    "\n",
    "    next_pred = model.predict(X_curr[:, next_state_cols_nos])\n",
    "    next_pred[last_day_ind] = 0.\n",
    "    \n",
    "    \n",
    "    target    = model.predict(X_curr[:, state_cols_nos])\n",
    "    target[last_day_ind] = 0.\n",
    "    \n",
    "    \n",
    "    V_next = np.max(next_pred, 1)\n",
    "\n",
    "\n",
    "    target[m35_action_ind, m35_order] = X_curr[m35_action_ind, col_n2no['rev_ser']] + V_next[m35_action_ind] \n",
    "    target[z_action_ind, z_order]     = X_curr[z_action_ind, col_n2no['rev_ser']]   + V_next[z_action_ind]\n",
    "\n",
    "    err = model.train_on_batch(X_curr[:,state_cols_nos], target)\n",
    "    err_list.append(err)\n",
    "    if not i%500:\n",
    "        mean_q_0 = next_pred[np.where(X_curr[:, col_n2no['days_left_next']] ==10)].mean(0)\n",
    "        q_0_hist.append(mean_q_0)\n",
    "        print('err, mean_q_0',err, mean_q_0 )"
   ]
  },
  {
   "cell_type": "code",
   "execution_count": null,
   "metadata": {},
   "outputs": [],
   "source": [
    "q_0_hist_together = q_0_hist\n",
    "err_list_together =err_list"
   ]
  },
  {
   "cell_type": "markdown",
   "metadata": {},
   "source": [
    "###  отдельно"
   ]
  },
  {
   "cell_type": "code",
   "execution_count": null,
   "metadata": {},
   "outputs": [
    {
     "name": "stderr",
     "output_type": "stream",
     "text": [
      "\n",
      "\n",
      "\n",
      "  0%|          | 0/1500000 [00:00<?, ?it/s]\u001b[A\u001b[A\u001b[A"
     ]
    },
    {
     "name": "stdout",
     "output_type": "stream",
     "text": [
      "err_z, err_m35 (155589.56, 217.99069)\n",
      "mean_q_0, mean_q_m35 (594.0461, 1082.4796)\n"
     ]
    }
   ],
   "source": [
    "err_list = []\n",
    "q_0_hist = []\n",
    "for i in tqdm(range(1500000), mininterval=10):\n",
    "    idx = np.random.randint(df.shape[0], size = 500)\n",
    "    X_curr = X[idx]\n",
    "    \n",
    "    last_day_ind = np.where(X_curr[:, col_n2no['days_left_next']] ==0)\n",
    "    m35_action_ind = np.where(X_curr[:, col_n2no['action']] == -0.35)\n",
    "    z_action_ind = np.where(X_curr[:, col_n2no['action']] ==0.)\n",
    "\n",
    "    next_pred_z   = model_z.predict(X_curr[:, next_state_cols_nos])\n",
    "    next_pred_m35 = model_m35.predict(X_curr[:, next_state_cols_nos])\n",
    "    \n",
    "    \n",
    "    target_z   = model_z.predict(X_curr[:, state_cols_nos])\n",
    "    target_m35 = model_m35.predict(X_curr[:, state_cols_nos])\n",
    "    \n",
    "\n",
    "    next_pred_z[last_day_ind] = 0.\n",
    "    next_pred_m35[last_day_ind] = 0.\n",
    "    \n",
    "    target_z[last_day_ind] = 0.\n",
    "    target_m35[last_day_ind] = 0.\n",
    "\n",
    "    V_next = np.append(next_pred_z,next_pred_m35, 1).max(1).reshape((-1, 1))\n",
    "    \n",
    "    target_m35[m35_action_ind, 0] = X_curr[m35_action_ind, col_n2no['rev_ser']] + V_next[m35_action_ind, 0]\n",
    "    target_z[z_action_ind, 0]     = X_curr[z_action_ind, col_n2no['rev_ser']]  + V_next[z_action_ind, 0]\n",
    "\n",
    "    err_z   = model_z.train_on_batch(X_curr[:,state_cols_nos], target_z)\n",
    "    err_m35 = model_m35.train_on_batch(X_curr[:,state_cols_nos], target_m35)\n",
    "    err_list.append((err_z, err_m35))\n",
    "    if not i%500:\n",
    "        mean_q_0   = next_pred_z[np.where(X_curr[:, col_n2no['days_left_next']] ==10)].mean()\n",
    "        mean_q_m35 = next_pred_m35[np.where(X_curr[:, col_n2no['days_left_next']] ==10)].mean()\n",
    "        q_0_hist.append((mean_q_0, mean_q_m35))\n",
    "        print('err_z, err_m35',(err_z, err_m35))\n",
    "        print('mean_q_0, mean_q_m35',(mean_q_0, mean_q_m35))"
   ]
  },
  {
   "cell_type": "code",
   "execution_count": 71,
   "metadata": {},
   "outputs": [],
   "source": [
    "target_m35[m35_action_ind, 0]= X_curr[m35_action_ind, col_n2no['rev_ser']] \n",
    "V_next[m35_action_ind, 0]"
   ]
  },
  {
   "cell_type": "code",
   "execution_count": 61,
   "metadata": {},
   "outputs": [
    {
     "ename": "IndexError",
     "evalue": "index 1 is out of bounds for axis 0 with size 1",
     "output_type": "error",
     "traceback": [
      "\u001b[0;31m---------------------------------------------------------------------------\u001b[0m",
      "\u001b[0;31mIndexError\u001b[0m                                Traceback (most recent call last)",
      "\u001b[0;32m<ipython-input-61-f7a17c554032>\u001b[0m in \u001b[0;36m<module>\u001b[0;34m()\u001b[0m\n\u001b[1;32m      1\u001b[0m \u001b[0;31m#target_m35[m35_action_ind, 0] =\u001b[0m\u001b[0;34m\u001b[0m\u001b[0;34m\u001b[0m\u001b[0m\n\u001b[0;32m----> 2\u001b[0;31m \u001b[0mV_next\u001b[0m\u001b[0;34m[\u001b[0m\u001b[0mm35_action_ind\u001b[0m\u001b[0;34m[\u001b[0m\u001b[0;36m0\u001b[0m\u001b[0;34m]\u001b[0m\u001b[0;34m]\u001b[0m\u001b[0;34m\u001b[0m\u001b[0m\n\u001b[0m",
      "\u001b[0;31mIndexError\u001b[0m: index 1 is out of bounds for axis 0 with size 1"
     ]
    }
   ],
   "source": [
    "#target_m35[m35_action_ind, 0] = \n",
    "V_next[m35_action_ind[0]]"
   ]
  },
  {
   "cell_type": "code",
   "execution_count": null,
   "metadata": {},
   "outputs": [],
   "source": []
  },
  {
   "cell_type": "markdown",
   "metadata": {},
   "source": [
    "err_list = []\n",
    "q_0_hist = []\n",
    "for i in tqdm(range(150000), mininterval=10):\n",
    "    idx = np.random.randint(df.shape[0], size = 500)\n",
    "    X_curr = X[idx]\n",
    "\n",
    "    next_pred_z   = model_z.predict(X_curr[:, next_state_cols_nos])\n",
    "    next_pred_m35 = model_m35.predict(X_curr[:, next_state_cols_nos])\n",
    "    \n",
    "    last_day_ind = np.where(X_curr[:, col_n2no['days_left_next']] ==0)\n",
    "\n",
    "    next_pred_z[last_day_ind] = 0.\n",
    "    next_pred_m35[last_day_ind] = 0.\n",
    "\n",
    "    m35_action_ind = np.where(X_curr[:, col_n2no['action']] == -0.35)\n",
    "    z_action_ind   = np.where(X_curr[:, col_n2no['action']] ==0.)\n",
    "\n",
    "    next_pred_m35[m35_action_ind, 0] += X_curr[m35_action_ind, col_n2no['rev_ser']]\n",
    "    next_pred_z[z_action_ind, 0]     += X_curr[z_action_ind, col_n2no['rev_ser']]\n",
    "\n",
    "    err_z   = model_z.train_on_batch(X_curr[:,state_cols_nos], next_pred_z)\n",
    "    err_m35 = model_m35.train_on_batch(X_curr[:,state_cols_nos], next_pred_m35)\n",
    "    err_list.append((err_z, err_m35))\n",
    "    if not i%500:\n",
    "        mean_q_0   = next_pred_z[np.where(X_curr[:, col_n2no['days_left_next']] ==10)].mean()\n",
    "        mean_q_m35 = next_pred_m35[np.where(X_curr[:, col_n2no['days_left_next']] ==10)].mean()\n",
    "        q_0_hist.append((mean_q_0, mean_q_m35))\n",
    "        print('err_z, err_m35',(err_z, err_m35))\n",
    "        print('mean_q_0, mean_q_m35',(mean_q_0, mean_q_m35))"
   ]
  },
  {
   "cell_type": "code",
   "execution_count": null,
   "metadata": {},
   "outputs": [],
   "source": []
  },
  {
   "cell_type": "code",
   "execution_count": null,
   "metadata": {},
   "outputs": [],
   "source": []
  },
  {
   "cell_type": "markdown",
   "metadata": {},
   "source": [
    "# Тут разная чушь, не имеющая значения"
   ]
  },
  {
   "cell_type": "code",
   "execution_count": null,
   "metadata": {},
   "outputs": [],
   "source": []
  },
  {
   "cell_type": "code",
   "execution_count": null,
   "metadata": {},
   "outputs": [],
   "source": [
    "import os\n",
    "from random import sample as rsample\n",
    "\n",
    "import numpy as np\n",
    "\n",
    "from keras.models import Sequential\n",
    "from keras.layers.convolutional import Convolution2D\n",
    "from keras.layers.core import Dense, Flatten\n",
    "from keras.optimizers import SGD, RMSprop\n",
    "\n",
    "from matplotlib import pyplot as plt\n",
    "\n",
    "\n",
    "GRID_SIZE = 10\n",
    "\n",
    "\n",
    "nb_epochs = 1000\n",
    "batch_size = 128\n",
    "epsilon = .8\n",
    "gamma = .8\n",
    "\n",
    "# Recipe of deep reinforcement learning model\n",
    "model = Sequential()\n",
    "model.add(Convolution2D(16, nb_row=3, nb_col=3, input_shape=(1, GRID_SIZE, GRID_SIZE), activation='relu'))\n",
    "model.add(Convolution2D(16, nb_row=3, nb_col=3, activation='relu'))\n",
    "model.add(Flatten())\n",
    "model.add(Dense(100, activation='relu'))\n",
    "model.add(Dense(3))\n",
    "model.compile(RMSprop(), 'MSE')\n",
    "\n",
    "exp_replay = experience_replay(batch_size)\n",
    "exp_replay.next()  # Start experience-replay coroutine\n",
    "\n",
    "for i in xrange(nb_epochs):\n",
    "    ep = episode()\n",
    "    S, won = ep.next()  # Start coroutine of single entire episode\n",
    "    loss = 0.\n",
    "    try:\n",
    "        while True:\n",
    "            action = np.random.randint(-1, 2) \n",
    "            if np.random.random() > epsilon:\n",
    "                # Get the index of the maximum q-value of the model.\n",
    "                # Subtract one because actions are either -1, 0, or 1\n",
    "                action = np.argmax(model.predict(S[np.newaxis]), axis=-1)[0] - 1\n",
    "\n",
    "            S_prime, won = ep.send(action)\n",
    "            experience = (S, action, won, S_prime)\n",
    "            S = S_prime\n",
    "            \n",
    "            batch = exp_replay.send(experience)\n",
    "            if batch:\n",
    "                inputs = []\n",
    "                targets = []\n",
    "                for s, a, r, s_prime in batch:\n",
    "                    # The targets of unchosen actions are the q-values of the model,\n",
    "                    # so that the corresponding errors are 0. The targets of chosen actions\n",
    "                    # are either the rewards, in case a terminal state has been reached, \n",
    "                    # or future discounted q-values, in case episodes are still running.\n",
    "                    t = model.predict(s[np.newaxis]).flatten()\n",
    "                    t[a + 1] = r\n",
    "                    if not r:\n",
    "                        t[a + 1] = r + gamma * model.predict(s_prime[np.newaxis]).max(axis=-1)\n",
    "                    targets.append(t)\n",
    "                    inputs.append(s)\n",
    "                \n",
    "                loss += model.train_on_batch(np.array(inputs), np.array(targets))[0]\n",
    "\n",
    "    except StopIteration:\n",
    "        pass\n",
    "    \n",
    "    if (i + 1) % 100 == 0:\n",
    "        print 'Epoch %i, loss: %.6f' % (i + 1, loss)\n",
    "\n",
    "\n",
    "def save_img():\n",
    "    if 'images' not in os.listdir('.'):\n",
    "        os.mkdir('images')\n",
    "    frame = 0\n",
    "    while True:\n",
    "        screen = (yield)\n",
    "        plt.imshow(screen[0], interpolation='none')\n",
    "        plt.savefig('images/%03i.png' % frame)\n",
    "        frame += 1\n",
    "    \n",
    "img_saver = save_img()\n",
    "img_saver.next()\n",
    "\n",
    "for _ in xrange(10):\n",
    "    g = episode()\n",
    "    S, _ = g.next()\n",
    "    img_saver.send(S)\n",
    "    try:\n",
    "        while True:\n",
    "            act = np.argmax(model.predict(S[np.newaxis]), axis=-1)[0] - 1\n",
    "            S, _ = g.send(act)\n",
    "            img_saver.send(S)\n",
    "\n",
    "    except StopIteration:\n",
    "        pass\n",
    "\n",
    "img_saver.close()"
   ]
  },
  {
   "cell_type": "code",
   "execution_count": null,
   "metadata": {},
   "outputs": [],
   "source": []
  },
  {
   "cell_type": "code",
   "execution_count": null,
   "metadata": {},
   "outputs": [],
   "source": []
  },
  {
   "cell_type": "code",
   "execution_count": null,
   "metadata": {},
   "outputs": [],
   "source": []
  },
  {
   "cell_type": "code",
   "execution_count": null,
   "metadata": {},
   "outputs": [],
   "source": []
  },
  {
   "cell_type": "code",
   "execution_count": null,
   "metadata": {},
   "outputs": [],
   "source": [
    "#These lines establish the feed-forward part of the network used to choose actions\n",
    "inputs1 = tf.placeholder(shape=[1,16],dtype=tf.float32)\n",
    "W = tf.Variable(tf.random_uniform([16,4],0,0.01))\n",
    "Qout = tf.matmul(inputs1,W)\n",
    "predict = tf.argmax(Qout,1)\n",
    "\n",
    "#Below we obtain the loss by taking the sum of squares difference between the target and prediction Q values.\n",
    "nextQ = tf.placeholder(shape=[1,4],dtype=tf.float32)\n",
    "loss = tf.reduce_sum(tf.square(nextQ - Qout))\n",
    "trainer = tf.train.GradientDescentOptimizer(learning_rate=0.1)\n",
    "updateModel = trainer.minimize(loss)"
   ]
  },
  {
   "cell_type": "code",
   "execution_count": null,
   "metadata": {},
   "outputs": [],
   "source": [
    "init = tf.initialize_all_variables()\n",
    "\n",
    "# Set learning parameters\n",
    "y = .99\n",
    "e = 0.1\n",
    "num_episodes = 2000\n",
    "#create lists to contain total rewards and steps per episode\n",
    "jList = []\n",
    "rList = []\n",
    "with tf.Session() as sess:\n",
    "    sess.run(init)\n",
    "    for i in range(num_episodes):\n",
    "        #Reset environment and get first new observation\n",
    "        s = env.reset()\n",
    "        rAll = 0\n",
    "        d = False\n",
    "        j = 0\n",
    "        #The Q-Network\n",
    "        while j < 99:\n",
    "            j+=1\n",
    "            #Choose an action by greedily (with e chance of random action) from the Q-network\n",
    "            a,allQ = sess.run([predict,Qout],feed_dict={inputs1:np.identity(16)[s:s+1]})\n",
    "            if np.random.rand(1) < e:\n",
    "                a[0] = env.action_space.sample()\n",
    "            #Get new state and reward from environment\n",
    "            s1,r,d,_ = env.step(a[0])\n",
    "            #Obtain the Q' values by feeding the new state through our network\n",
    "            Q1 = sess.run(Qout,feed_dict={inputs1:np.identity(16)[s1:s1+1]})\n",
    "            #Obtain maxQ' and set our target value for chosen action.\n",
    "            maxQ1 = np.max(Q1)\n",
    "            targetQ = allQ\n",
    "            targetQ[0,a[0]] = r + y*maxQ1\n",
    "            #Train our network using target and predicted Q values\n",
    "            _,W1 = sess.run([updateModel,W],feed_dict={inputs1:np.identity(16)[s:s+1],nextQ:targetQ})\n",
    "            rAll += r\n",
    "            s = s1\n",
    "            if d == True:\n",
    "                #Reduce chance of random action as we train the model.\n",
    "                e = 1./((i/50) + 10)\n",
    "                break\n",
    "        jList.append(j)\n",
    "        rList.append(rAll)\n",
    "print \"Percent of succesful episodes: \" + str(sum(rList)/num_episodes) + \"%\""
   ]
  },
  {
   "cell_type": "code",
   "execution_count": null,
   "metadata": {},
   "outputs": [],
   "source": []
  },
  {
   "cell_type": "code",
   "execution_count": null,
   "metadata": {},
   "outputs": [],
   "source": []
  },
  {
   "cell_type": "code",
   "execution_count": null,
   "metadata": {},
   "outputs": [],
   "source": []
  },
  {
   "cell_type": "code",
   "execution_count": null,
   "metadata": {},
   "outputs": [],
   "source": []
  },
  {
   "cell_type": "code",
   "execution_count": null,
   "metadata": {},
   "outputs": [],
   "source": []
  },
  {
   "cell_type": "code",
   "execution_count": null,
   "metadata": {},
   "outputs": [],
   "source": []
  },
  {
   "cell_type": "code",
   "execution_count": null,
   "metadata": {},
   "outputs": [],
   "source": []
  },
  {
   "cell_type": "code",
   "execution_count": null,
   "metadata": {},
   "outputs": [],
   "source": []
  },
  {
   "cell_type": "code",
   "execution_count": null,
   "metadata": {},
   "outputs": [],
   "source": []
  },
  {
   "cell_type": "code",
   "execution_count": null,
   "metadata": {},
   "outputs": [],
   "source": [
    "\n"
   ]
  },
  {
   "cell_type": "code",
   "execution_count": null,
   "metadata": {},
   "outputs": [],
   "source": []
  },
  {
   "cell_type": "code",
   "execution_count": null,
   "metadata": {},
   "outputs": [],
   "source": []
  }
 ],
 "metadata": {
  "kernelspec": {
   "display_name": "Python 3",
   "language": "python",
   "name": "python3"
  },
  "language_info": {
   "codemirror_mode": {
    "name": "ipython",
    "version": 3
   },
   "file_extension": ".py",
   "mimetype": "text/x-python",
   "name": "python",
   "nbconvert_exporter": "python",
   "pygments_lexer": "ipython3",
   "version": "3.6.3"
  }
 },
 "nbformat": 4,
 "nbformat_minor": 2
}
