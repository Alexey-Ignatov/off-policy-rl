{
 "cells": [
  {
   "cell_type": "code",
   "execution_count": 1,
   "metadata": {},
   "outputs": [],
   "source": [
    "%matplotlib inline"
   ]
  },
  {
   "cell_type": "code",
   "execution_count": 2,
   "metadata": {},
   "outputs": [],
   "source": [
    "def generateSimpleData(delta, alpha, scale, season, init_oh, disc_len, weekMax):\n",
    "\n",
    "    price = np.append(np.ones( weekMax - disc_len), (1 - delta)*np.ones(disc_len))\n",
    "    \n",
    "    slsu = np.zeros(weekMax)\n",
    "    bst_est = np.zeros(weekMax)\n",
    "    on_hand = np.zeros(weekMax)\n",
    "    on_hand[0]=init_oh\n",
    "    rew = np.zeros(weekMax)\n",
    "    \n",
    "    for weekNo in range(weekMax):\n",
    "        if weekNo:\n",
    "            on_hand[weekNo] = on_hand[weekNo-1] - slsu[weekNo-1]   \n",
    "            \n",
    "        curr_mean =scale*weekMax*season[weekNo]*(price[ weekNo]**(-alpha))\n",
    "        demand = np.random.poisson(curr_mean)\n",
    "        slsu[weekNo] = min(demand, on_hand[weekNo])\n",
    "        rew[weekNo] = slsu[weekNo]*price[weekNo]\n",
    "        bst_est[weekNo] = curr_mean\n",
    "            # slsu[ShopNo, weekNo] = effictivityScale[ShopNo]*season[weekNo]*(priceMatrix[ShopNo, weekNo]**(-alpha))\n",
    "\n",
    "    return price,  slsu, on_hand, rew, bst_est"
   ]
  },
  {
   "cell_type": "code",
   "execution_count": 3,
   "metadata": {},
   "outputs": [],
   "source": [
    "from tqdm import tqdm\n",
    "import numpy as np\n",
    "import pandas as pd"
   ]
  },
  {
   "cell_type": "code",
   "execution_count": 4,
   "metadata": {},
   "outputs": [],
   "source": [
    "weekMax = 12\n",
    "init_oh = 800\n",
    "\n",
    "season = np.array([1]*weekMax)\n",
    "season = season/sum(season)"
   ]
  },
  {
   "cell_type": "markdown",
   "metadata": {},
   "source": [
    "### Точная оценка Q и V"
   ]
  },
  {
   "cell_type": "code",
   "execution_count": 5,
   "metadata": {},
   "outputs": [],
   "source": [
    "state_cols = [ 'oh_after', 'days_left']\n",
    "next_state_cols = [col + '_next' for col in state_cols]\n",
    "\n",
    "def gen_rl_df(delta, alpha, scale, season, init_oh, disc_len, unit_price =1, weekMax = 12):\n",
    "    \n",
    "\n",
    "    dics = np.random.randint(0, weekMax+1)\n",
    "    price,  slsu, on_hand, rew, best_est = generateSimpleData(delta, alpha, scale, \\\n",
    "                                                    season, init_oh, disc_len = dics, weekMax = weekMax)\n",
    "\n",
    "    res_ser = rew*unit_price\n",
    "    days_left = np.arange(weekMax, 0, -1)-1.\n",
    "\n",
    "\n",
    "    df = pd.concat([pd.Series(price), \n",
    "               pd.Series(season),\n",
    "               pd.Series(on_hand),\n",
    "               pd.Series(days_left), \n",
    "               pd.Series(slsu), \n",
    "               pd.Series(res_ser).shift(-1), \n",
    "               pd.Series(best_est)], 1)\n",
    "\n",
    "    \n",
    "    df.columns = ['price','season', 'on_hand','days_left', 'slsu' , 'rev_ser', 'bst_est']\n",
    "    df['d_r_sh'] = df.on_hand / df.slsu\n",
    "    df['oh_after'] = df.on_hand - df.slsu\n",
    "\n",
    "\n",
    "    df['action'] = (df.price -1. ).fillna(0)\n",
    "    \n",
    "    bin_d_left = pd.get_dummies(df.days_left)\n",
    "    dl_cols = [ 'dl_'+str(col) for col in bin_d_left.columns]\n",
    "    bin_d_left.columns = dl_cols\n",
    "\n",
    "    for col, vals in bin_d_left.iteritems():\n",
    "        df[col] = vals.values\n",
    "    \n",
    "    bin_cols = dl_cols\n",
    "    next_bin_cols = [col + '_next' for col in bin_cols]\n",
    "    \n",
    "    df_shifted = df[state_cols+bin_cols].shift(-1)\n",
    "    df_shifted.columns = next_state_cols + next_bin_cols\n",
    "\n",
    "    return pd.concat([df[state_cols+bin_cols], df_shifted, df[['action', 'rev_ser', 'slsu', 'bst_est']]], 1), (bin_cols, next_bin_cols)\n",
    "    \n",
    "\n",
    "\n",
    "def V(oh_left, reg_sales,disc_sales,delta, days_left  ):\n",
    "    res_list = [1*min(reg_sales*days_left,oh_left)]\n",
    "    \n",
    "    for i in range(days_left):\n",
    "        reg_price_sales = min(i*reg_sales, oh_left)\n",
    "        cor_proce_sales = min(disc_sales*(days_left - i),oh_left - reg_price_sales)\n",
    "        res_list.append(reg_price_sales*1. + cor_proce_sales*(1- delta))\n",
    "\n",
    "    return max(res_list)\n",
    "\n",
    "def Q(oh_left, reg_sales,disc_sales,delta, days_left, action):\n",
    "    if not days_left:\n",
    "        return 0\n",
    "    \n",
    "    if action >= 0:\n",
    "        res_list = [1*min(reg_sales*days_left,oh_left)]\n",
    "        \n",
    "        for i in range(1, days_left+1):\n",
    "            reg_price_sales = min(i*reg_sales, oh_left)\n",
    "            cor_proce_sales = min(disc_sales*(days_left - i),oh_left - reg_price_sales)\n",
    "            res_list.append(reg_price_sales*1. + cor_proce_sales*(1- delta))\n",
    "\n",
    "        return  max(res_list)\n",
    "    \n",
    "    return (1- delta)*min(disc_sales*days_left,oh_left)\n"
   ]
  },
  {
   "cell_type": "markdown",
   "metadata": {},
   "source": []
  },
  {
   "cell_type": "markdown",
   "metadata": {},
   "source": [
    "### Явное обучние нейронной сети"
   ]
  },
  {
   "cell_type": "markdown",
   "metadata": {},
   "source": [
    "# Keras попытка"
   ]
  },
  {
   "cell_type": "code",
   "execution_count": 133,
   "metadata": {
    "scrolled": true
   },
   "outputs": [],
   "source": [
    "samples_list = []\n",
    "for i in range(1000):\n",
    "    tmp_df = gen_rl_df(delta = .35, alpha = 2., scale = 40, season = season, init_oh = init_oh, disc_len = dics)\n",
    "    samples_list.append(tmp_df)\n",
    "    \n",
    "data_samples = pd.concat(samples_list)\n",
    "\n",
    "\n",
    "\n",
    "df =data_samples[['days_left', 'oh_after', 'days_left_next', 'oh_after_next', 'action', 'rev_ser']].fillna(0)\n",
    "df['dumm_0'] = 0.\n",
    "df['dumm_m35'] = -.35\n",
    "\n",
    "df['V'] = df.apply(lambda x:V(x['oh_after'], 40, 94.67, .35, int(x['days_left'])), 1)\n",
    "df['Q_keep'] = df.apply(lambda x:Q(x['oh_after'], 40, 94.67, .35, int(x['days_left']), 0), 1)\n",
    "df['Q_disc'] = df.apply(lambda x:Q(x['oh_after'], 40, 94.67, .35, int(x['days_left']), -.35), 1)\n",
    "\n"
   ]
  },
  {
   "cell_type": "code",
   "execution_count": 134,
   "metadata": {},
   "outputs": [],
   "source": [
    "dumm_left_df = pd.get_dummies(df.days_left)\n",
    "dumm_left_df.columns = ['dl_'+ str(col) for col in dumm_left_df.columns]\n",
    "\n",
    "\n",
    "\n",
    "X = df[['oh_after']].values\n",
    "X = np.append(df[['oh_after']].values, dumm_left_df.values, 1 )\n",
    "labels_train = df[[ 'Q_keep','Q_disc']].values"
   ]
  },
  {
   "cell_type": "code",
   "execution_count": 102,
   "metadata": {},
   "outputs": [],
   "source": [
    "from keras.models import Sequential\n",
    "from keras.layers.convolutional import Convolution2D\n",
    "from keras.layers.core import Dense, Flatten, Dropout\n",
    "from keras.optimizers import SGD, RMSprop,Adagrad"
   ]
  },
  {
   "cell_type": "code",
   "execution_count": 103,
   "metadata": {},
   "outputs": [
    {
     "name": "stderr",
     "output_type": "stream",
     "text": [
      "/Users/alexey/anaconda3/lib/python3.6/site-packages/ipykernel_launcher.py:3: UserWarning: Update your `Dense` call to the Keras 2 API: `Dense(12, input_dim=13, activation=\"relu\", kernel_initializer=\"uniform\")`\n",
      "  This is separate from the ipykernel package so we can avoid doing imports until\n"
     ]
    }
   ],
   "source": [
    "# define the architecture of the network\n",
    "model = Sequential()\n",
    "model.add(Dense(12, input_dim=X.shape[1], init=\"uniform\", activation=\"relu\"))\n",
    "model.add(Dense(12, activation=\"relu\", kernel_initializer=\"uniform\"))\n",
    "model.add(Dense(labels_train.shape[1]))\n",
    "model.compile(RMSprop(), 'MSE')\n",
    "\n"
   ]
  },
  {
   "cell_type": "code",
   "execution_count": 97,
   "metadata": {},
   "outputs": [],
   "source": [
    "from tqdm import tqdm "
   ]
  },
  {
   "cell_type": "code",
   "execution_count": 107,
   "metadata": {
    "scrolled": true
   },
   "outputs": [
    {
     "name": "stderr",
     "output_type": "stream",
     "text": [
      "\n",
      "\n",
      "\n",
      "\n",
      "\n",
      "\n",
      "\n",
      "  0%|          | 0/75000 [00:00<?, ?it/s]\u001b[A\u001b[A\u001b[A\u001b[A\u001b[A\u001b[A\u001b[A"
     ]
    },
    {
     "name": "stdout",
     "output_type": "stream",
     "text": [
      "30.73823\n",
      "16.934153\n",
      "26.274641\n",
      "17.67349\n",
      "19.778008\n",
      "15.062223\n",
      "20.053003\n",
      "21.039879\n",
      "19.577301\n",
      "15.352924\n",
      "10.207244\n",
      "11.167543\n",
      "8.556785\n"
     ]
    },
    {
     "name": "stderr",
     "output_type": "stream",
     "text": [
      "\n",
      "\n",
      "\n",
      "\n",
      "\n",
      "\n",
      "\n",
      "  8%|▊         | 6170/75000 [00:10<01:51, 616.93it/s]\u001b[A\u001b[A\u001b[A\u001b[A\u001b[A\u001b[A\u001b[A"
     ]
    },
    {
     "name": "stdout",
     "output_type": "stream",
     "text": [
      "17.952225\n",
      "17.689949\n",
      "20.92881\n",
      "21.299816\n",
      "21.015717\n",
      "27.73089\n",
      "27.270372\n",
      "24.92502\n",
      "17.445442\n",
      "27.020582\n",
      "10.770084\n",
      "19.971386\n"
     ]
    },
    {
     "name": "stderr",
     "output_type": "stream",
     "text": [
      "\n",
      "\n",
      "\n",
      "\n",
      "\n",
      "\n",
      "\n",
      " 16%|█▋        | 12347/75000 [00:20<01:41, 617.30it/s]\u001b[A\u001b[A\u001b[A\u001b[A\u001b[A\u001b[A\u001b[A"
     ]
    },
    {
     "name": "stdout",
     "output_type": "stream",
     "text": [
      "34.47642\n",
      "30.241037\n",
      "20.580652\n",
      "15.35715\n",
      "18.941458\n"
     ]
    },
    {
     "ename": "KeyboardInterrupt",
     "evalue": "",
     "output_type": "error",
     "traceback": [
      "\u001b[0;31m---------------------------------------------------------------------------\u001b[0m",
      "\u001b[0;31mKeyboardInterrupt\u001b[0m                         Traceback (most recent call last)",
      "\u001b[0;32m<ipython-input-107-5167abea8bed>\u001b[0m in \u001b[0;36m<module>\u001b[0;34m()\u001b[0m\n\u001b[1;32m      2\u001b[0m \u001b[0;32mfor\u001b[0m \u001b[0mi\u001b[0m \u001b[0;32min\u001b[0m \u001b[0mtqdm\u001b[0m\u001b[0;34m(\u001b[0m\u001b[0mrange\u001b[0m\u001b[0;34m(\u001b[0m\u001b[0;36m75000\u001b[0m\u001b[0;34m)\u001b[0m\u001b[0;34m,\u001b[0m\u001b[0mmininterval\u001b[0m\u001b[0;34m=\u001b[0m\u001b[0;36m10\u001b[0m \u001b[0;34m)\u001b[0m\u001b[0;34m:\u001b[0m\u001b[0;34m\u001b[0m\u001b[0m\n\u001b[1;32m      3\u001b[0m     \u001b[0midx\u001b[0m \u001b[0;34m=\u001b[0m \u001b[0mnp\u001b[0m\u001b[0;34m.\u001b[0m\u001b[0mrandom\u001b[0m\u001b[0;34m.\u001b[0m\u001b[0mrandint\u001b[0m\u001b[0;34m(\u001b[0m\u001b[0mX\u001b[0m\u001b[0;34m.\u001b[0m\u001b[0mshape\u001b[0m\u001b[0;34m[\u001b[0m\u001b[0;36m0\u001b[0m\u001b[0;34m]\u001b[0m\u001b[0;34m,\u001b[0m \u001b[0msize\u001b[0m \u001b[0;34m=\u001b[0m \u001b[0;36m500\u001b[0m\u001b[0;34m)\u001b[0m\u001b[0;34m\u001b[0m\u001b[0m\n\u001b[0;32m----> 4\u001b[0;31m     \u001b[0merr\u001b[0m \u001b[0;34m=\u001b[0m \u001b[0mmodel\u001b[0m\u001b[0;34m.\u001b[0m\u001b[0mtrain_on_batch\u001b[0m\u001b[0;34m(\u001b[0m\u001b[0mX\u001b[0m\u001b[0;34m[\u001b[0m\u001b[0midx\u001b[0m\u001b[0;34m]\u001b[0m\u001b[0;34m,\u001b[0m \u001b[0mlabels_train\u001b[0m\u001b[0;34m[\u001b[0m\u001b[0midx\u001b[0m\u001b[0;34m]\u001b[0m\u001b[0;34m)\u001b[0m\u001b[0;34m\u001b[0m\u001b[0m\n\u001b[0m\u001b[1;32m      5\u001b[0m     \u001b[0merr_list\u001b[0m\u001b[0;34m.\u001b[0m\u001b[0mappend\u001b[0m\u001b[0;34m(\u001b[0m\u001b[0merr\u001b[0m\u001b[0;34m)\u001b[0m\u001b[0;34m\u001b[0m\u001b[0m\n\u001b[1;32m      6\u001b[0m     \u001b[0;32mif\u001b[0m \u001b[0mi\u001b[0m \u001b[0;34m%\u001b[0m\u001b[0;36m500\u001b[0m \u001b[0;34m==\u001b[0m\u001b[0;36m0\u001b[0m \u001b[0;34m:\u001b[0m\u001b[0;34m\u001b[0m\u001b[0m\n",
      "\u001b[0;32m~/anaconda3/lib/python3.6/site-packages/keras/engine/training.py\u001b[0m in \u001b[0;36mtrain_on_batch\u001b[0;34m(self, x, y, sample_weight, class_weight)\u001b[0m\n\u001b[1;32m   1215\u001b[0m             \u001b[0mins\u001b[0m \u001b[0;34m=\u001b[0m \u001b[0mx\u001b[0m \u001b[0;34m+\u001b[0m \u001b[0my\u001b[0m \u001b[0;34m+\u001b[0m \u001b[0msample_weights\u001b[0m\u001b[0;34m\u001b[0m\u001b[0m\n\u001b[1;32m   1216\u001b[0m         \u001b[0mself\u001b[0m\u001b[0;34m.\u001b[0m\u001b[0m_make_train_function\u001b[0m\u001b[0;34m(\u001b[0m\u001b[0;34m)\u001b[0m\u001b[0;34m\u001b[0m\u001b[0m\n\u001b[0;32m-> 1217\u001b[0;31m         \u001b[0moutputs\u001b[0m \u001b[0;34m=\u001b[0m \u001b[0mself\u001b[0m\u001b[0;34m.\u001b[0m\u001b[0mtrain_function\u001b[0m\u001b[0;34m(\u001b[0m\u001b[0mins\u001b[0m\u001b[0;34m)\u001b[0m\u001b[0;34m\u001b[0m\u001b[0m\n\u001b[0m\u001b[1;32m   1218\u001b[0m         \u001b[0;32mreturn\u001b[0m \u001b[0munpack_singleton\u001b[0m\u001b[0;34m(\u001b[0m\u001b[0moutputs\u001b[0m\u001b[0;34m)\u001b[0m\u001b[0;34m\u001b[0m\u001b[0m\n\u001b[1;32m   1219\u001b[0m \u001b[0;34m\u001b[0m\u001b[0m\n",
      "\u001b[0;32m~/anaconda3/lib/python3.6/site-packages/keras/backend/tensorflow_backend.py\u001b[0m in \u001b[0;36m__call__\u001b[0;34m(self, inputs)\u001b[0m\n\u001b[1;32m   2713\u001b[0m                 \u001b[0;32mreturn\u001b[0m \u001b[0mself\u001b[0m\u001b[0;34m.\u001b[0m\u001b[0m_legacy_call\u001b[0m\u001b[0;34m(\u001b[0m\u001b[0minputs\u001b[0m\u001b[0;34m)\u001b[0m\u001b[0;34m\u001b[0m\u001b[0m\n\u001b[1;32m   2714\u001b[0m \u001b[0;34m\u001b[0m\u001b[0m\n\u001b[0;32m-> 2715\u001b[0;31m             \u001b[0;32mreturn\u001b[0m \u001b[0mself\u001b[0m\u001b[0;34m.\u001b[0m\u001b[0m_call\u001b[0m\u001b[0;34m(\u001b[0m\u001b[0minputs\u001b[0m\u001b[0;34m)\u001b[0m\u001b[0;34m\u001b[0m\u001b[0m\n\u001b[0m\u001b[1;32m   2716\u001b[0m         \u001b[0;32melse\u001b[0m\u001b[0;34m:\u001b[0m\u001b[0;34m\u001b[0m\u001b[0m\n\u001b[1;32m   2717\u001b[0m             \u001b[0;32mif\u001b[0m \u001b[0mpy_any\u001b[0m\u001b[0;34m(\u001b[0m\u001b[0mis_tensor\u001b[0m\u001b[0;34m(\u001b[0m\u001b[0mx\u001b[0m\u001b[0;34m)\u001b[0m \u001b[0;32mfor\u001b[0m \u001b[0mx\u001b[0m \u001b[0;32min\u001b[0m \u001b[0minputs\u001b[0m\u001b[0;34m)\u001b[0m\u001b[0;34m:\u001b[0m\u001b[0;34m\u001b[0m\u001b[0m\n",
      "\u001b[0;32m~/anaconda3/lib/python3.6/site-packages/keras/backend/tensorflow_backend.py\u001b[0m in \u001b[0;36m_call\u001b[0;34m(self, inputs)\u001b[0m\n\u001b[1;32m   2673\u001b[0m             \u001b[0mfetched\u001b[0m \u001b[0;34m=\u001b[0m \u001b[0mself\u001b[0m\u001b[0;34m.\u001b[0m\u001b[0m_callable_fn\u001b[0m\u001b[0;34m(\u001b[0m\u001b[0;34m*\u001b[0m\u001b[0marray_vals\u001b[0m\u001b[0;34m,\u001b[0m \u001b[0mrun_metadata\u001b[0m\u001b[0;34m=\u001b[0m\u001b[0mself\u001b[0m\u001b[0;34m.\u001b[0m\u001b[0mrun_metadata\u001b[0m\u001b[0;34m)\u001b[0m\u001b[0;34m\u001b[0m\u001b[0m\n\u001b[1;32m   2674\u001b[0m         \u001b[0;32melse\u001b[0m\u001b[0;34m:\u001b[0m\u001b[0;34m\u001b[0m\u001b[0m\n\u001b[0;32m-> 2675\u001b[0;31m             \u001b[0mfetched\u001b[0m \u001b[0;34m=\u001b[0m \u001b[0mself\u001b[0m\u001b[0;34m.\u001b[0m\u001b[0m_callable_fn\u001b[0m\u001b[0;34m(\u001b[0m\u001b[0;34m*\u001b[0m\u001b[0marray_vals\u001b[0m\u001b[0;34m)\u001b[0m\u001b[0;34m\u001b[0m\u001b[0m\n\u001b[0m\u001b[1;32m   2676\u001b[0m         \u001b[0;32mreturn\u001b[0m \u001b[0mfetched\u001b[0m\u001b[0;34m[\u001b[0m\u001b[0;34m:\u001b[0m\u001b[0mlen\u001b[0m\u001b[0;34m(\u001b[0m\u001b[0mself\u001b[0m\u001b[0;34m.\u001b[0m\u001b[0moutputs\u001b[0m\u001b[0;34m)\u001b[0m\u001b[0;34m]\u001b[0m\u001b[0;34m\u001b[0m\u001b[0m\n\u001b[1;32m   2677\u001b[0m \u001b[0;34m\u001b[0m\u001b[0m\n",
      "\u001b[0;32m~/anaconda3/lib/python3.6/site-packages/tensorflow/python/client/session.py\u001b[0m in \u001b[0;36m__call__\u001b[0;34m(self, *args, **kwargs)\u001b[0m\n\u001b[1;32m   1397\u001b[0m           ret = tf_session.TF_SessionRunCallable(\n\u001b[1;32m   1398\u001b[0m               \u001b[0mself\u001b[0m\u001b[0;34m.\u001b[0m\u001b[0m_session\u001b[0m\u001b[0;34m.\u001b[0m\u001b[0m_session\u001b[0m\u001b[0;34m,\u001b[0m \u001b[0mself\u001b[0m\u001b[0;34m.\u001b[0m\u001b[0m_handle\u001b[0m\u001b[0;34m,\u001b[0m \u001b[0margs\u001b[0m\u001b[0;34m,\u001b[0m \u001b[0mstatus\u001b[0m\u001b[0;34m,\u001b[0m\u001b[0;34m\u001b[0m\u001b[0m\n\u001b[0;32m-> 1399\u001b[0;31m               run_metadata_ptr)\n\u001b[0m\u001b[1;32m   1400\u001b[0m         \u001b[0;32mif\u001b[0m \u001b[0mrun_metadata\u001b[0m\u001b[0;34m:\u001b[0m\u001b[0;34m\u001b[0m\u001b[0m\n\u001b[1;32m   1401\u001b[0m           \u001b[0mproto_data\u001b[0m \u001b[0;34m=\u001b[0m \u001b[0mtf_session\u001b[0m\u001b[0;34m.\u001b[0m\u001b[0mTF_GetBuffer\u001b[0m\u001b[0;34m(\u001b[0m\u001b[0mrun_metadata_ptr\u001b[0m\u001b[0;34m)\u001b[0m\u001b[0;34m\u001b[0m\u001b[0m\n",
      "\u001b[0;31mKeyboardInterrupt\u001b[0m: "
     ]
    }
   ],
   "source": [
    "err_list = []\n",
    "for i in tqdm(range(75000),mininterval=10 ):\n",
    "    idx = np.random.randint(X.shape[0], size = 500)\n",
    "    err = model.train_on_batch(X[idx], labels_train[idx])\n",
    "    err_list.append(err)\n",
    "    if i %500 ==0 :\n",
    "        print(err)"
   ]
  },
  {
   "cell_type": "code",
   "execution_count": null,
   "metadata": {},
   "outputs": [],
   "source": []
  },
  {
   "cell_type": "code",
   "execution_count": null,
   "metadata": {},
   "outputs": [],
   "source": []
  },
  {
   "cell_type": "code",
   "execution_count": 108,
   "metadata": {},
   "outputs": [
    {
     "data": {
      "text/plain": [
       "<matplotlib.axes._subplots.AxesSubplot at 0x1836fabc50>"
      ]
     },
     "execution_count": 108,
     "metadata": {},
     "output_type": "execute_result"
    },
    {
     "data": {
      "image/png": "[encoded data removed]",
      "text/plain": [
       "<matplotlib.figure.Figure at 0x18354a5dd8>"
      ]
     },
     "metadata": {},
     "output_type": "display_data"
    },
    {
     "name": "stderr",
     "output_type": "stream",
     "text": [
      "\n",
      "\n",
      "\n",
      "\n",
      "\n",
      "\n",
      "\n",
      " 16%|█▋        | 12347/75000 [00:35<02:58, 351.20it/s]\u001b[A\u001b[A\u001b[A\u001b[A\u001b[A\u001b[A\u001b[A"
     ]
    }
   ],
   "source": [
    "pd.Series(err_list).rolling(200).mean().iloc[1000:].plot()"
   ]
  },
  {
   "cell_type": "code",
   "execution_count": null,
   "metadata": {},
   "outputs": [],
   "source": []
  },
  {
   "cell_type": "code",
   "execution_count": 25,
   "metadata": {
    "scrolled": true
   },
   "outputs": [
    {
     "name": "stderr",
     "output_type": "stream",
     "text": [
      "100%|██████████| 100/100 [00:00<00:00, 166.12it/s]\n"
     ]
    }
   ],
   "source": [
    "samples_list = []\n",
    "for i in tqdm(range(100)):\n",
    "    tmp_df = gen_rl_df(delta = .35, alpha = 2., scale = 40, season = season, init_oh = init_oh, disc_len = dics)\n",
    "    samples_list.append(tmp_df)\n",
    "    \n",
    "data_samples = pd.concat(samples_list)\n",
    "\n",
    "\n",
    "\n",
    "df =data_samples[['days_left', 'oh_after', 'days_left_next', 'oh_after_next', 'action', 'rev_ser']].fillna(0)\n",
    "df['dumm_0'] = 0.\n",
    "df['dumm_m35'] = -.35\n",
    "\n",
    "df['V'] = df.apply(lambda x:V(x['oh_after'], 40, 94.67, .35, int(x['days_left'])), 1)\n",
    "df['Q_keep'] = df.apply(lambda x:Q(x['oh_after'], 40, 94.67, .35, int(x['days_left']), 0), 1)\n",
    "df['Q_disc'] = df.apply(lambda x:Q(x['oh_after'], 40, 94.67, .35, int(x['days_left']), -.35), 1)"
   ]
  },
  {
   "cell_type": "code",
   "execution_count": 65,
   "metadata": {},
   "outputs": [],
   "source": [
    "#pred_df = pd.DataFrame(model.predict(df[['oh_after', 'days_left']]), columns=  ['q_keep_pred', 'q_disc_pred'])\n",
    "pred_df = pd.DataFrame(model.predict(df[['oh_after', 'days_left']]), columns=  ['q_disc_pred'])\n",
    "\n",
    "df['q_disc_pred'] = pred_df['q_disc_pred']\n",
    "#df['q_disc_pred'] = pred_df['q_disc_pred']"
   ]
  },
  {
   "cell_type": "code",
   "execution_count": 67,
   "metadata": {
    "scrolled": true
   },
   "outputs": [
    {
     "data": {
      "text/html": [
       "<div>\n",
       "<style>\n",
       "    .dataframe thead tr:only-child th {\n",
       "        text-align: right;\n",
       "    }\n",
       "\n",
       "    .dataframe thead th {\n",
       "        text-align: left;\n",
       "    }\n",
       "\n",
       "    .dataframe tbody tr th {\n",
       "        vertical-align: top;\n",
       "    }\n",
       "</style>\n",
       "<table border=\"1\" class=\"dataframe\">\n",
       "  <thead>\n",
       "    <tr style=\"text-align: right;\">\n",
       "      <th></th>\n",
       "      <th>days_left</th>\n",
       "      <th>oh_after</th>\n",
       "      <th>action</th>\n",
       "      <th>rev_ser</th>\n",
       "      <th>Q_disc</th>\n",
       "      <th>q_disc_pred</th>\n",
       "    </tr>\n",
       "  </thead>\n",
       "  <tbody>\n",
       "    <tr>\n",
       "      <th>0</th>\n",
       "      <td>11</td>\n",
       "      <td>762.0</td>\n",
       "      <td>0.00</td>\n",
       "      <td>34.00</td>\n",
       "      <td>495.3000</td>\n",
       "      <td>495.094055</td>\n",
       "    </tr>\n",
       "    <tr>\n",
       "      <th>1</th>\n",
       "      <td>10</td>\n",
       "      <td>728.0</td>\n",
       "      <td>0.00</td>\n",
       "      <td>46.00</td>\n",
       "      <td>473.2000</td>\n",
       "      <td>473.040283</td>\n",
       "    </tr>\n",
       "    <tr>\n",
       "      <th>2</th>\n",
       "      <td>9</td>\n",
       "      <td>682.0</td>\n",
       "      <td>0.00</td>\n",
       "      <td>28.00</td>\n",
       "      <td>443.3000</td>\n",
       "      <td>443.111786</td>\n",
       "    </tr>\n",
       "    <tr>\n",
       "      <th>3</th>\n",
       "      <td>8</td>\n",
       "      <td>654.0</td>\n",
       "      <td>0.00</td>\n",
       "      <td>38.00</td>\n",
       "      <td>425.1000</td>\n",
       "      <td>424.995361</td>\n",
       "    </tr>\n",
       "    <tr>\n",
       "      <th>4</th>\n",
       "      <td>7</td>\n",
       "      <td>616.0</td>\n",
       "      <td>0.00</td>\n",
       "      <td>42.00</td>\n",
       "      <td>400.4000</td>\n",
       "      <td>400.316681</td>\n",
       "    </tr>\n",
       "    <tr>\n",
       "      <th>5</th>\n",
       "      <td>6</td>\n",
       "      <td>574.0</td>\n",
       "      <td>0.00</td>\n",
       "      <td>30.00</td>\n",
       "      <td>369.2130</td>\n",
       "      <td>366.863159</td>\n",
       "    </tr>\n",
       "    <tr>\n",
       "      <th>6</th>\n",
       "      <td>5</td>\n",
       "      <td>544.0</td>\n",
       "      <td>0.00</td>\n",
       "      <td>44.00</td>\n",
       "      <td>307.6775</td>\n",
       "      <td>305.256409</td>\n",
       "    </tr>\n",
       "    <tr>\n",
       "      <th>7</th>\n",
       "      <td>4</td>\n",
       "      <td>500.0</td>\n",
       "      <td>0.00</td>\n",
       "      <td>48.00</td>\n",
       "      <td>246.1420</td>\n",
       "      <td>243.712891</td>\n",
       "    </tr>\n",
       "    <tr>\n",
       "      <th>8</th>\n",
       "      <td>3</td>\n",
       "      <td>452.0</td>\n",
       "      <td>0.00</td>\n",
       "      <td>45.00</td>\n",
       "      <td>184.6065</td>\n",
       "      <td>182.187469</td>\n",
       "    </tr>\n",
       "    <tr>\n",
       "      <th>9</th>\n",
       "      <td>2</td>\n",
       "      <td>407.0</td>\n",
       "      <td>0.00</td>\n",
       "      <td>49.00</td>\n",
       "      <td>123.0710</td>\n",
       "      <td>120.648468</td>\n",
       "    </tr>\n",
       "    <tr>\n",
       "      <th>10</th>\n",
       "      <td>1</td>\n",
       "      <td>358.0</td>\n",
       "      <td>0.00</td>\n",
       "      <td>68.90</td>\n",
       "      <td>61.5355</td>\n",
       "      <td>59.127594</td>\n",
       "    </tr>\n",
       "    <tr>\n",
       "      <th>11</th>\n",
       "      <td>0</td>\n",
       "      <td>252.0</td>\n",
       "      <td>-0.35</td>\n",
       "      <td>0.00</td>\n",
       "      <td>0.0000</td>\n",
       "      <td>-1.298215</td>\n",
       "    </tr>\n",
       "    <tr>\n",
       "      <th>0</th>\n",
       "      <td>11</td>\n",
       "      <td>768.0</td>\n",
       "      <td>0.00</td>\n",
       "      <td>35.00</td>\n",
       "      <td>499.2000</td>\n",
       "      <td>495.094055</td>\n",
       "    </tr>\n",
       "    <tr>\n",
       "      <th>1</th>\n",
       "      <td>10</td>\n",
       "      <td>733.0</td>\n",
       "      <td>0.00</td>\n",
       "      <td>34.00</td>\n",
       "      <td>476.4500</td>\n",
       "      <td>473.040283</td>\n",
       "    </tr>\n",
       "    <tr>\n",
       "      <th>2</th>\n",
       "      <td>9</td>\n",
       "      <td>699.0</td>\n",
       "      <td>0.00</td>\n",
       "      <td>36.00</td>\n",
       "      <td>454.3500</td>\n",
       "      <td>443.111786</td>\n",
       "    </tr>\n",
       "    <tr>\n",
       "      <th>3</th>\n",
       "      <td>8</td>\n",
       "      <td>663.0</td>\n",
       "      <td>0.00</td>\n",
       "      <td>39.00</td>\n",
       "      <td>430.9500</td>\n",
       "      <td>424.995361</td>\n",
       "    </tr>\n",
       "    <tr>\n",
       "      <th>4</th>\n",
       "      <td>7</td>\n",
       "      <td>624.0</td>\n",
       "      <td>0.00</td>\n",
       "      <td>40.00</td>\n",
       "      <td>405.6000</td>\n",
       "      <td>400.316681</td>\n",
       "    </tr>\n",
       "    <tr>\n",
       "      <th>5</th>\n",
       "      <td>6</td>\n",
       "      <td>584.0</td>\n",
       "      <td>0.00</td>\n",
       "      <td>29.00</td>\n",
       "      <td>369.2130</td>\n",
       "      <td>366.863159</td>\n",
       "    </tr>\n",
       "    <tr>\n",
       "      <th>6</th>\n",
       "      <td>5</td>\n",
       "      <td>555.0</td>\n",
       "      <td>0.00</td>\n",
       "      <td>61.10</td>\n",
       "      <td>307.6775</td>\n",
       "      <td>305.256409</td>\n",
       "    </tr>\n",
       "    <tr>\n",
       "      <th>7</th>\n",
       "      <td>4</td>\n",
       "      <td>461.0</td>\n",
       "      <td>-0.35</td>\n",
       "      <td>63.05</td>\n",
       "      <td>246.1420</td>\n",
       "      <td>243.712891</td>\n",
       "    </tr>\n",
       "    <tr>\n",
       "      <th>8</th>\n",
       "      <td>3</td>\n",
       "      <td>364.0</td>\n",
       "      <td>-0.35</td>\n",
       "      <td>67.60</td>\n",
       "      <td>184.6065</td>\n",
       "      <td>182.187469</td>\n",
       "    </tr>\n",
       "    <tr>\n",
       "      <th>9</th>\n",
       "      <td>2</td>\n",
       "      <td>260.0</td>\n",
       "      <td>-0.35</td>\n",
       "      <td>69.55</td>\n",
       "      <td>123.0710</td>\n",
       "      <td>120.648468</td>\n",
       "    </tr>\n",
       "    <tr>\n",
       "      <th>10</th>\n",
       "      <td>1</td>\n",
       "      <td>153.0</td>\n",
       "      <td>-0.35</td>\n",
       "      <td>59.80</td>\n",
       "      <td>61.5355</td>\n",
       "      <td>59.127594</td>\n",
       "    </tr>\n",
       "    <tr>\n",
       "      <th>11</th>\n",
       "      <td>0</td>\n",
       "      <td>61.0</td>\n",
       "      <td>-0.35</td>\n",
       "      <td>0.00</td>\n",
       "      <td>0.0000</td>\n",
       "      <td>-1.298215</td>\n",
       "    </tr>\n",
       "    <tr>\n",
       "      <th>0</th>\n",
       "      <td>11</td>\n",
       "      <td>767.0</td>\n",
       "      <td>0.00</td>\n",
       "      <td>37.00</td>\n",
       "      <td>498.5500</td>\n",
       "      <td>495.094055</td>\n",
       "    </tr>\n",
       "    <tr>\n",
       "      <th>1</th>\n",
       "      <td>10</td>\n",
       "      <td>730.0</td>\n",
       "      <td>0.00</td>\n",
       "      <td>43.00</td>\n",
       "      <td>474.5000</td>\n",
       "      <td>473.040283</td>\n",
       "    </tr>\n",
       "    <tr>\n",
       "      <th>2</th>\n",
       "      <td>9</td>\n",
       "      <td>687.0</td>\n",
       "      <td>0.00</td>\n",
       "      <td>37.00</td>\n",
       "      <td>446.5500</td>\n",
       "      <td>443.111786</td>\n",
       "    </tr>\n",
       "    <tr>\n",
       "      <th>3</th>\n",
       "      <td>8</td>\n",
       "      <td>650.0</td>\n",
       "      <td>0.00</td>\n",
       "      <td>53.00</td>\n",
       "      <td>422.5000</td>\n",
       "      <td>424.995361</td>\n",
       "    </tr>\n",
       "    <tr>\n",
       "      <th>4</th>\n",
       "      <td>7</td>\n",
       "      <td>597.0</td>\n",
       "      <td>0.00</td>\n",
       "      <td>50.00</td>\n",
       "      <td>388.0500</td>\n",
       "      <td>400.316681</td>\n",
       "    </tr>\n",
       "    <tr>\n",
       "      <th>5</th>\n",
       "      <td>6</td>\n",
       "      <td>547.0</td>\n",
       "      <td>0.00</td>\n",
       "      <td>34.00</td>\n",
       "      <td>355.5500</td>\n",
       "      <td>366.863159</td>\n",
       "    </tr>\n",
       "    <tr>\n",
       "      <th>...</th>\n",
       "      <td>...</td>\n",
       "      <td>...</td>\n",
       "      <td>...</td>\n",
       "      <td>...</td>\n",
       "      <td>...</td>\n",
       "      <td>...</td>\n",
       "    </tr>\n",
       "    <tr>\n",
       "      <th>6</th>\n",
       "      <td>5</td>\n",
       "      <td>504.0</td>\n",
       "      <td>0.00</td>\n",
       "      <td>48.00</td>\n",
       "      <td>307.6775</td>\n",
       "      <td>305.256409</td>\n",
       "    </tr>\n",
       "    <tr>\n",
       "      <th>7</th>\n",
       "      <td>4</td>\n",
       "      <td>456.0</td>\n",
       "      <td>0.00</td>\n",
       "      <td>45.00</td>\n",
       "      <td>246.1420</td>\n",
       "      <td>243.712891</td>\n",
       "    </tr>\n",
       "    <tr>\n",
       "      <th>8</th>\n",
       "      <td>3</td>\n",
       "      <td>411.0</td>\n",
       "      <td>0.00</td>\n",
       "      <td>59.15</td>\n",
       "      <td>184.6065</td>\n",
       "      <td>182.187469</td>\n",
       "    </tr>\n",
       "    <tr>\n",
       "      <th>9</th>\n",
       "      <td>2</td>\n",
       "      <td>320.0</td>\n",
       "      <td>-0.35</td>\n",
       "      <td>59.80</td>\n",
       "      <td>123.0710</td>\n",
       "      <td>120.648468</td>\n",
       "    </tr>\n",
       "    <tr>\n",
       "      <th>10</th>\n",
       "      <td>1</td>\n",
       "      <td>228.0</td>\n",
       "      <td>-0.35</td>\n",
       "      <td>66.95</td>\n",
       "      <td>61.5355</td>\n",
       "      <td>59.127594</td>\n",
       "    </tr>\n",
       "    <tr>\n",
       "      <th>11</th>\n",
       "      <td>0</td>\n",
       "      <td>125.0</td>\n",
       "      <td>-0.35</td>\n",
       "      <td>0.00</td>\n",
       "      <td>0.0000</td>\n",
       "      <td>-1.298215</td>\n",
       "    </tr>\n",
       "    <tr>\n",
       "      <th>0</th>\n",
       "      <td>11</td>\n",
       "      <td>762.0</td>\n",
       "      <td>0.00</td>\n",
       "      <td>38.00</td>\n",
       "      <td>495.3000</td>\n",
       "      <td>495.094055</td>\n",
       "    </tr>\n",
       "    <tr>\n",
       "      <th>1</th>\n",
       "      <td>10</td>\n",
       "      <td>724.0</td>\n",
       "      <td>0.00</td>\n",
       "      <td>53.95</td>\n",
       "      <td>470.6000</td>\n",
       "      <td>473.040283</td>\n",
       "    </tr>\n",
       "    <tr>\n",
       "      <th>2</th>\n",
       "      <td>9</td>\n",
       "      <td>641.0</td>\n",
       "      <td>-0.35</td>\n",
       "      <td>60.45</td>\n",
       "      <td>416.6500</td>\n",
       "      <td>443.111786</td>\n",
       "    </tr>\n",
       "    <tr>\n",
       "      <th>3</th>\n",
       "      <td>8</td>\n",
       "      <td>548.0</td>\n",
       "      <td>-0.35</td>\n",
       "      <td>49.40</td>\n",
       "      <td>356.2000</td>\n",
       "      <td>424.995361</td>\n",
       "    </tr>\n",
       "    <tr>\n",
       "      <th>4</th>\n",
       "      <td>7</td>\n",
       "      <td>472.0</td>\n",
       "      <td>-0.35</td>\n",
       "      <td>71.50</td>\n",
       "      <td>306.8000</td>\n",
       "      <td>400.316681</td>\n",
       "    </tr>\n",
       "    <tr>\n",
       "      <th>5</th>\n",
       "      <td>6</td>\n",
       "      <td>362.0</td>\n",
       "      <td>-0.35</td>\n",
       "      <td>60.45</td>\n",
       "      <td>235.3000</td>\n",
       "      <td>366.863159</td>\n",
       "    </tr>\n",
       "    <tr>\n",
       "      <th>6</th>\n",
       "      <td>5</td>\n",
       "      <td>269.0</td>\n",
       "      <td>-0.35</td>\n",
       "      <td>65.65</td>\n",
       "      <td>174.8500</td>\n",
       "      <td>305.256409</td>\n",
       "    </tr>\n",
       "    <tr>\n",
       "      <th>7</th>\n",
       "      <td>4</td>\n",
       "      <td>168.0</td>\n",
       "      <td>-0.35</td>\n",
       "      <td>57.20</td>\n",
       "      <td>109.2000</td>\n",
       "      <td>243.712891</td>\n",
       "    </tr>\n",
       "    <tr>\n",
       "      <th>8</th>\n",
       "      <td>3</td>\n",
       "      <td>80.0</td>\n",
       "      <td>-0.35</td>\n",
       "      <td>52.00</td>\n",
       "      <td>52.0000</td>\n",
       "      <td>182.187469</td>\n",
       "    </tr>\n",
       "    <tr>\n",
       "      <th>9</th>\n",
       "      <td>2</td>\n",
       "      <td>0.0</td>\n",
       "      <td>-0.35</td>\n",
       "      <td>0.00</td>\n",
       "      <td>0.0000</td>\n",
       "      <td>120.648468</td>\n",
       "    </tr>\n",
       "    <tr>\n",
       "      <th>10</th>\n",
       "      <td>1</td>\n",
       "      <td>0.0</td>\n",
       "      <td>-0.35</td>\n",
       "      <td>0.00</td>\n",
       "      <td>0.0000</td>\n",
       "      <td>59.127594</td>\n",
       "    </tr>\n",
       "    <tr>\n",
       "      <th>11</th>\n",
       "      <td>0</td>\n",
       "      <td>0.0</td>\n",
       "      <td>-0.35</td>\n",
       "      <td>0.00</td>\n",
       "      <td>0.0000</td>\n",
       "      <td>-1.298215</td>\n",
       "    </tr>\n",
       "    <tr>\n",
       "      <th>0</th>\n",
       "      <td>11</td>\n",
       "      <td>768.0</td>\n",
       "      <td>0.00</td>\n",
       "      <td>46.00</td>\n",
       "      <td>499.2000</td>\n",
       "      <td>495.094055</td>\n",
       "    </tr>\n",
       "    <tr>\n",
       "      <th>1</th>\n",
       "      <td>10</td>\n",
       "      <td>722.0</td>\n",
       "      <td>0.00</td>\n",
       "      <td>33.00</td>\n",
       "      <td>469.3000</td>\n",
       "      <td>473.040283</td>\n",
       "    </tr>\n",
       "    <tr>\n",
       "      <th>2</th>\n",
       "      <td>9</td>\n",
       "      <td>689.0</td>\n",
       "      <td>0.00</td>\n",
       "      <td>37.00</td>\n",
       "      <td>447.8500</td>\n",
       "      <td>443.111786</td>\n",
       "    </tr>\n",
       "    <tr>\n",
       "      <th>3</th>\n",
       "      <td>8</td>\n",
       "      <td>652.0</td>\n",
       "      <td>0.00</td>\n",
       "      <td>35.00</td>\n",
       "      <td>423.8000</td>\n",
       "      <td>424.995361</td>\n",
       "    </tr>\n",
       "    <tr>\n",
       "      <th>4</th>\n",
       "      <td>7</td>\n",
       "      <td>617.0</td>\n",
       "      <td>0.00</td>\n",
       "      <td>30.00</td>\n",
       "      <td>401.0500</td>\n",
       "      <td>400.316681</td>\n",
       "    </tr>\n",
       "    <tr>\n",
       "      <th>5</th>\n",
       "      <td>6</td>\n",
       "      <td>587.0</td>\n",
       "      <td>0.00</td>\n",
       "      <td>35.00</td>\n",
       "      <td>369.2130</td>\n",
       "      <td>366.863159</td>\n",
       "    </tr>\n",
       "    <tr>\n",
       "      <th>6</th>\n",
       "      <td>5</td>\n",
       "      <td>552.0</td>\n",
       "      <td>0.00</td>\n",
       "      <td>40.00</td>\n",
       "      <td>307.6775</td>\n",
       "      <td>305.256409</td>\n",
       "    </tr>\n",
       "    <tr>\n",
       "      <th>7</th>\n",
       "      <td>4</td>\n",
       "      <td>512.0</td>\n",
       "      <td>0.00</td>\n",
       "      <td>33.00</td>\n",
       "      <td>246.1420</td>\n",
       "      <td>243.712891</td>\n",
       "    </tr>\n",
       "    <tr>\n",
       "      <th>8</th>\n",
       "      <td>3</td>\n",
       "      <td>479.0</td>\n",
       "      <td>0.00</td>\n",
       "      <td>41.00</td>\n",
       "      <td>184.6065</td>\n",
       "      <td>182.187469</td>\n",
       "    </tr>\n",
       "    <tr>\n",
       "      <th>9</th>\n",
       "      <td>2</td>\n",
       "      <td>438.0</td>\n",
       "      <td>0.00</td>\n",
       "      <td>62.40</td>\n",
       "      <td>123.0710</td>\n",
       "      <td>120.648468</td>\n",
       "    </tr>\n",
       "    <tr>\n",
       "      <th>10</th>\n",
       "      <td>1</td>\n",
       "      <td>342.0</td>\n",
       "      <td>-0.35</td>\n",
       "      <td>59.15</td>\n",
       "      <td>61.5355</td>\n",
       "      <td>59.127594</td>\n",
       "    </tr>\n",
       "    <tr>\n",
       "      <th>11</th>\n",
       "      <td>0</td>\n",
       "      <td>251.0</td>\n",
       "      <td>-0.35</td>\n",
       "      <td>0.00</td>\n",
       "      <td>0.0000</td>\n",
       "      <td>-1.298215</td>\n",
       "    </tr>\n",
       "  </tbody>\n",
       "</table>\n",
       "<p>1200 rows × 6 columns</p>\n",
       "</div>"
      ],
      "text/plain": [
       "    days_left  oh_after  action  rev_ser    Q_disc  q_disc_pred\n",
       "0          11     762.0    0.00    34.00  495.3000   495.094055\n",
       "1          10     728.0    0.00    46.00  473.2000   473.040283\n",
       "2           9     682.0    0.00    28.00  443.3000   443.111786\n",
       "3           8     654.0    0.00    38.00  425.1000   424.995361\n",
       "4           7     616.0    0.00    42.00  400.4000   400.316681\n",
       "5           6     574.0    0.00    30.00  369.2130   366.863159\n",
       "6           5     544.0    0.00    44.00  307.6775   305.256409\n",
       "7           4     500.0    0.00    48.00  246.1420   243.712891\n",
       "8           3     452.0    0.00    45.00  184.6065   182.187469\n",
       "9           2     407.0    0.00    49.00  123.0710   120.648468\n",
       "10          1     358.0    0.00    68.90   61.5355    59.127594\n",
       "11          0     252.0   -0.35     0.00    0.0000    -1.298215\n",
       "0          11     768.0    0.00    35.00  499.2000   495.094055\n",
       "1          10     733.0    0.00    34.00  476.4500   473.040283\n",
       "2           9     699.0    0.00    36.00  454.3500   443.111786\n",
       "3           8     663.0    0.00    39.00  430.9500   424.995361\n",
       "4           7     624.0    0.00    40.00  405.6000   400.316681\n",
       "5           6     584.0    0.00    29.00  369.2130   366.863159\n",
       "6           5     555.0    0.00    61.10  307.6775   305.256409\n",
       "7           4     461.0   -0.35    63.05  246.1420   243.712891\n",
       "8           3     364.0   -0.35    67.60  184.6065   182.187469\n",
       "9           2     260.0   -0.35    69.55  123.0710   120.648468\n",
       "10          1     153.0   -0.35    59.80   61.5355    59.127594\n",
       "11          0      61.0   -0.35     0.00    0.0000    -1.298215\n",
       "0          11     767.0    0.00    37.00  498.5500   495.094055\n",
       "1          10     730.0    0.00    43.00  474.5000   473.040283\n",
       "2           9     687.0    0.00    37.00  446.5500   443.111786\n",
       "3           8     650.0    0.00    53.00  422.5000   424.995361\n",
       "4           7     597.0    0.00    50.00  388.0500   400.316681\n",
       "5           6     547.0    0.00    34.00  355.5500   366.863159\n",
       "..        ...       ...     ...      ...       ...          ...\n",
       "6           5     504.0    0.00    48.00  307.6775   305.256409\n",
       "7           4     456.0    0.00    45.00  246.1420   243.712891\n",
       "8           3     411.0    0.00    59.15  184.6065   182.187469\n",
       "9           2     320.0   -0.35    59.80  123.0710   120.648468\n",
       "10          1     228.0   -0.35    66.95   61.5355    59.127594\n",
       "11          0     125.0   -0.35     0.00    0.0000    -1.298215\n",
       "0          11     762.0    0.00    38.00  495.3000   495.094055\n",
       "1          10     724.0    0.00    53.95  470.6000   473.040283\n",
       "2           9     641.0   -0.35    60.45  416.6500   443.111786\n",
       "3           8     548.0   -0.35    49.40  356.2000   424.995361\n",
       "4           7     472.0   -0.35    71.50  306.8000   400.316681\n",
       "5           6     362.0   -0.35    60.45  235.3000   366.863159\n",
       "6           5     269.0   -0.35    65.65  174.8500   305.256409\n",
       "7           4     168.0   -0.35    57.20  109.2000   243.712891\n",
       "8           3      80.0   -0.35    52.00   52.0000   182.187469\n",
       "9           2       0.0   -0.35     0.00    0.0000   120.648468\n",
       "10          1       0.0   -0.35     0.00    0.0000    59.127594\n",
       "11          0       0.0   -0.35     0.00    0.0000    -1.298215\n",
       "0          11     768.0    0.00    46.00  499.2000   495.094055\n",
       "1          10     722.0    0.00    33.00  469.3000   473.040283\n",
       "2           9     689.0    0.00    37.00  447.8500   443.111786\n",
       "3           8     652.0    0.00    35.00  423.8000   424.995361\n",
       "4           7     617.0    0.00    30.00  401.0500   400.316681\n",
       "5           6     587.0    0.00    35.00  369.2130   366.863159\n",
       "6           5     552.0    0.00    40.00  307.6775   305.256409\n",
       "7           4     512.0    0.00    33.00  246.1420   243.712891\n",
       "8           3     479.0    0.00    41.00  184.6065   182.187469\n",
       "9           2     438.0    0.00    62.40  123.0710   120.648468\n",
       "10          1     342.0   -0.35    59.15   61.5355    59.127594\n",
       "11          0     251.0   -0.35     0.00    0.0000    -1.298215\n",
       "\n",
       "[1200 rows x 6 columns]"
      ]
     },
     "execution_count": 67,
     "metadata": {},
     "output_type": "execute_result"
    }
   ],
   "source": [
    "#df[ ['days_left', 'oh_after','action','rev_ser' ,'Q_keep', 'Q_disc', 'q_keep_pred', 'q_disc_pred'] ]\n",
    "df[ ['days_left', 'oh_after','action','rev_ser' ,'Q_disc',  'q_disc_pred'] ]"
   ]
  },
  {
   "cell_type": "code",
   "execution_count": null,
   "metadata": {},
   "outputs": [],
   "source": []
  },
  {
   "cell_type": "code",
   "execution_count": null,
   "metadata": {},
   "outputs": [],
   "source": []
  },
  {
   "cell_type": "markdown",
   "metadata": {},
   "source": [
    "### Честный Q-learning на Keras с использованием нейронных сетей"
   ]
  },
  {
   "cell_type": "code",
   "execution_count": 207,
   "metadata": {
    "scrolled": true
   },
   "outputs": [],
   "source": [
    "samples_list = []\n",
    "for i in (range(1000)):\n",
    "    tmp_df, new_state_cols = gen_rl_df(delta = .35, alpha = 2., scale = 40, season = season, init_oh = init_oh, disc_len = dics)\n",
    "    samples_list.append(tmp_df)\n",
    "    \n",
    "data_samples = pd.concat(samples_list)\n",
    "\n",
    "\n",
    "\n",
    "df =data_samples.fillna(0)\n",
    "df['dumm_0'] = 0.\n",
    "df['dumm_m35'] = -.35\n",
    "\n",
    "df['V'] = df.apply(lambda x:V(x['oh_after'], 40, 94.67, .35, int(x['days_left'])), 1)\n",
    "df['Q_keep'] = df.apply(lambda x:Q(x['oh_after'], 40, 94.67, .35, int(x['days_left']), 0), 1)\n",
    "df['Q_disc'] = df.apply(lambda x:Q(x['oh_after'], 40, 94.67, .35, int(x['days_left']), -.35), 1)"
   ]
  },
  {
   "cell_type": "code",
   "execution_count": 84,
   "metadata": {},
   "outputs": [
    {
     "data": {
      "text/plain": [
       "([1, 0], [5, 4])"
      ]
     },
     "execution_count": 84,
     "metadata": {},
     "output_type": "execute_result"
    }
   ],
   "source": [
    "\n",
    "state_cols = ['oh_after','days_left']\n",
    "next_state_cols = [col + '_next' for col in state_cols]\n",
    "\n",
    "\n",
    "used_cols = ['days_left', 'oh_after', 'action', 'rev_ser', 'days_left_next', 'oh_after_next']\n",
    "col_n2no =  {name:i for i, name in  enumerate(used_cols)}\n",
    "\n",
    "X = df[used_cols].values\n",
    "\n",
    "\n",
    "state_cols_nos = [col_n2no[name] for name in state_cols]\n",
    "next_state_cols_nos = [col_n2no[name] for name in next_state_cols]\n",
    "\n",
    "state_cols_nos, next_state_cols_nos\n"
   ]
  },
  {
   "cell_type": "code",
   "execution_count": 85,
   "metadata": {},
   "outputs": [
    {
     "name": "stderr",
     "output_type": "stream",
     "text": [
      "/Users/alexey/anaconda3/lib/python3.6/site-packages/ipykernel_launcher.py:8: UserWarning: Update your `Dense` call to the Keras 2 API: `Dense(4, input_dim=2, activation=\"relu\", kernel_initializer=\"uniform\")`\n",
      "  \n",
      "/Users/alexey/anaconda3/lib/python3.6/site-packages/ipykernel_launcher.py:14: UserWarning: Update your `Dense` call to the Keras 2 API: `Dense(4, input_dim=2, activation=\"relu\", kernel_initializer=\"uniform\")`\n",
      "  \n"
     ]
    }
   ],
   "source": [
    "from keras.models import Sequential\n",
    "from keras.layers.convolutional import Convolution2D\n",
    "from keras.layers.core import Dense, Flatten, Dropout\n",
    "from keras.optimizers import SGD, RMSprop,Adagrad\n",
    "\n",
    "# define the architecture of the network\n",
    "model_z = Sequential()\n",
    "model_z.add(Dense(4, input_dim=2, init=\"uniform\", activation=\"relu\"))\n",
    "model_z.add(Dense(4, activation=\"relu\", kernel_initializer=\"uniform\"))\n",
    "model_z.add(Dense(1))\n",
    "model_z.compile(RMSprop(), 'MSE')\n",
    "\n",
    "model_m35 = Sequential()\n",
    "model_m35.add(Dense(4, input_dim=2, init=\"uniform\", activation=\"relu\"))\n",
    "model_m35.add(Dense(4, activation=\"relu\", kernel_initializer=\"uniform\"))\n",
    "model_m35.add(Dense(1))\n",
    "model_m35.compile(RMSprop(), 'MSE')"
   ]
  },
  {
   "cell_type": "code",
   "execution_count": null,
   "metadata": {},
   "outputs": [],
   "source": []
  },
  {
   "cell_type": "code",
   "execution_count": null,
   "metadata": {},
   "outputs": [],
   "source": []
  },
  {
   "cell_type": "code",
   "execution_count": null,
   "metadata": {},
   "outputs": [],
   "source": []
  },
  {
   "cell_type": "code",
   "execution_count": 82,
   "metadata": {},
   "outputs": [
    {
     "name": "stderr",
     "output_type": "stream",
     "text": [
      "\n",
      "\n",
      "\n",
      "\n",
      "  0%|          | 0/150000 [00:00<?, ?it/s]\u001b[A\u001b[A\u001b[A\u001b[A\n",
      "\n",
      "\n",
      "  6%|▌         | 8885/150000 [02:18<36:44, 64.00it/s]\u001b[A\u001b[A\u001b[A"
     ]
    },
    {
     "name": "stdout",
     "output_type": "stream",
     "text": [
      "err_z, err_m35 (913.9682, 1361.9323)\n",
      "mean_q_0, mean_q_m35 (38.755276, 4.9402742)\n",
      "err_z, err_m35 (1501.252, 758.95947)\n",
      "mean_q_0, mean_q_m35 (344.19092, 177.93863)\n"
     ]
    },
    {
     "name": "stderr",
     "output_type": "stream",
     "text": [
      "\n",
      "\n",
      "\n",
      "\n",
      "  0%|          | 565/150000 [00:10<44:05, 56.49it/s]\u001b[A\u001b[A\u001b[A\u001b[A"
     ]
    },
    {
     "name": "stdout",
     "output_type": "stream",
     "text": [
      "err_z, err_m35 (1349.7198, 706.74469)\n",
      "mean_q_0, mean_q_m35 (352.79218, 178.72546)\n"
     ]
    },
    {
     "name": "stderr",
     "output_type": "stream",
     "text": [
      "\n",
      "\n",
      "\n",
      "\n",
      "  1%|          | 1279/150000 [00:20<38:46, 63.92it/s]\u001b[A\u001b[A\u001b[A\u001b[A"
     ]
    },
    {
     "name": "stdout",
     "output_type": "stream",
     "text": [
      "err_z, err_m35 (1287.1257, 722.15436)\n",
      "mean_q_0, mean_q_m35 (349.38293, 183.41484)\n"
     ]
    },
    {
     "name": "stderr",
     "output_type": "stream",
     "text": [
      "\n",
      "\n",
      "\n",
      "\n",
      "  1%|▏         | 1993/150000 [00:30<37:10, 66.36it/s]\u001b[A\u001b[A\u001b[A\u001b[A"
     ]
    },
    {
     "name": "stdout",
     "output_type": "stream",
     "text": [
      "err_z, err_m35 (1427.4165, 788.03967)\n",
      "mean_q_0, mean_q_m35 (348.31229, 182.34192)\n",
      "err_z, err_m35 (1318.854, 770.24585)\n",
      "mean_q_0, mean_q_m35 (354.06412, 181.54936)\n"
     ]
    },
    {
     "name": "stderr",
     "output_type": "stream",
     "text": [
      "\n",
      "\n",
      "\n",
      "\n",
      "  2%|▏         | 2706/150000 [00:40<36:20, 67.55it/s]\u001b[A\u001b[A\u001b[A\u001b[A"
     ]
    },
    {
     "name": "stdout",
     "output_type": "stream",
     "text": [
      "err_z, err_m35 (1020.8829, 793.8103)\n",
      "mean_q_0, mean_q_m35 (318.7323, 196.22517)\n"
     ]
    },
    {
     "name": "stderr",
     "output_type": "stream",
     "text": [
      "\n",
      "\n",
      "\n",
      "\n",
      "  2%|▏         | 3419/150000 [00:50<35:46, 68.29it/s]\u001b[A\u001b[A\u001b[A\u001b[A"
     ]
    },
    {
     "name": "stdout",
     "output_type": "stream",
     "text": [
      "err_z, err_m35 (988.16144, 1033.1372)\n",
      "mean_q_0, mean_q_m35 (337.77164, 191.03337)\n",
      "err_z, err_m35 (929.56372, 1510.3726)\n",
      "mean_q_0, mean_q_m35 (342.32864, 173.58769)\n"
     ]
    },
    {
     "name": "stderr",
     "output_type": "stream",
     "text": [
      "\n",
      "\n",
      "\n",
      "\n",
      "  3%|▎         | 4132/150000 [01:00<35:21, 68.76it/s]\u001b[A\u001b[A\u001b[A\u001b[A"
     ]
    },
    {
     "name": "stdout",
     "output_type": "stream",
     "text": [
      "err_z, err_m35 (851.2359, 2005.47)\n",
      "mean_q_0, mean_q_m35 (329.28781, 194.88246)\n"
     ]
    },
    {
     "name": "stderr",
     "output_type": "stream",
     "text": [
      "\n",
      "\n",
      "\n",
      "\n",
      "  3%|▎         | 4846/150000 [01:10<34:59, 69.12it/s]\u001b[A\u001b[A\u001b[A\u001b[A"
     ]
    },
    {
     "name": "stdout",
     "output_type": "stream",
     "text": [
      "err_z, err_m35 (851.98438, 2260.45)\n",
      "mean_q_0, mean_q_m35 (323.86194, 199.9216)\n",
      "err_z, err_m35 (723.12427, 2534.5144)\n",
      "mean_q_0, mean_q_m35 (325.06387, 197.68832)\n"
     ]
    },
    {
     "name": "stderr",
     "output_type": "stream",
     "text": [
      "\n",
      "\n",
      "\n",
      "\n",
      "  4%|▎         | 5560/150000 [01:20<34:41, 69.40it/s]\u001b[A\u001b[A\u001b[A\u001b[A"
     ]
    },
    {
     "name": "stdout",
     "output_type": "stream",
     "text": [
      "err_z, err_m35 (832.87018, 2309.9326)\n",
      "mean_q_0, mean_q_m35 (300.10406, 216.57324)\n"
     ]
    },
    {
     "name": "stderr",
     "output_type": "stream",
     "text": [
      "\n",
      "\n",
      "\n",
      "\n",
      "  4%|▍         | 6274/150000 [01:30<34:24, 69.62it/s]\u001b[A\u001b[A\u001b[A\u001b[A"
     ]
    },
    {
     "name": "stdout",
     "output_type": "stream",
     "text": [
      "err_z, err_m35 (732.39459, 2209.3567)\n",
      "mean_q_0, mean_q_m35 (278.74097, 203.48166)\n"
     ]
    },
    {
     "name": "stderr",
     "output_type": "stream",
     "text": [
      "\n",
      "\n",
      "\n",
      "\n",
      "  5%|▍         | 6988/150000 [01:40<34:09, 69.78it/s]\u001b[A\u001b[A\u001b[A\u001b[A"
     ]
    },
    {
     "name": "stdout",
     "output_type": "stream",
     "text": [
      "err_z, err_m35 (995.18024, 2688.6294)\n",
      "mean_q_0, mean_q_m35 (288.02463, 228.80347)\n",
      "err_z, err_m35 (672.8205, 2528.0281)\n",
      "mean_q_0, mean_q_m35 (242.89366, 216.08742)\n"
     ]
    },
    {
     "name": "stderr",
     "output_type": "stream",
     "text": [
      "\n",
      "\n",
      "\n",
      "\n",
      "  5%|▌         | 7703/150000 [01:50<33:54, 69.93it/s]\u001b[A\u001b[A\u001b[A\u001b[A"
     ]
    },
    {
     "name": "stdout",
     "output_type": "stream",
     "text": [
      "err_z, err_m35 (740.68085, 2309.8936)\n",
      "mean_q_0, mean_q_m35 (275.6875, 189.63171)\n"
     ]
    },
    {
     "name": "stderr",
     "output_type": "stream",
     "text": [
      "\n",
      "\n",
      "\n",
      "\n",
      "  6%|▌         | 8418/150000 [02:00<33:41, 70.04it/s]\u001b[A\u001b[A\u001b[A\u001b[A"
     ]
    },
    {
     "name": "stdout",
     "output_type": "stream",
     "text": [
      "err_z, err_m35 (1039.8668, 2156.937)\n",
      "mean_q_0, mean_q_m35 (265.60461, 189.86513)\n",
      "err_z, err_m35 (754.14026, 2269.447)\n",
      "mean_q_0, mean_q_m35 (241.18843, 196.17188)\n"
     ]
    },
    {
     "name": "stderr",
     "output_type": "stream",
     "text": [
      "\n",
      "\n",
      "\n",
      "\n",
      "  6%|▌         | 9132/150000 [02:10<33:28, 70.14it/s]\u001b[A\u001b[A\u001b[A\u001b[A"
     ]
    },
    {
     "name": "stdout",
     "output_type": "stream",
     "text": [
      "err_z, err_m35 (774.73242, 1970.4709)\n",
      "mean_q_0, mean_q_m35 (251.58467, 191.37846)\n"
     ]
    },
    {
     "name": "stderr",
     "output_type": "stream",
     "text": [
      "\n",
      "\n",
      "\n",
      "\n",
      "  7%|▋         | 9847/150000 [02:20<33:15, 70.23it/s]\u001b[A\u001b[A\u001b[A\u001b[A"
     ]
    },
    {
     "name": "stdout",
     "output_type": "stream",
     "text": [
      "err_z, err_m35 (942.02484, 1966.6683)\n",
      "mean_q_0, mean_q_m35 (251.32069, 176.10759)\n",
      "err_z, err_m35 (1017.8057, 1683.366)\n",
      "mean_q_0, mean_q_m35 (255.1324, 206.82837)\n"
     ]
    },
    {
     "name": "stderr",
     "output_type": "stream",
     "text": [
      "\n",
      "\n",
      "\n",
      "\n",
      "  7%|▋         | 10562/150000 [02:30<33:03, 70.30it/s]\u001b[A\u001b[A\u001b[A\u001b[A"
     ]
    },
    {
     "name": "stdout",
     "output_type": "stream",
     "text": [
      "err_z, err_m35 (1029.1212, 1883.1724)\n",
      "mean_q_0, mean_q_m35 (230.63921, 206.87622)\n"
     ]
    },
    {
     "name": "stderr",
     "output_type": "stream",
     "text": [
      "\n",
      "\n",
      "\n",
      "\n",
      "  8%|▊         | 11276/150000 [02:40<32:51, 70.37it/s]\u001b[A\u001b[A\u001b[A\u001b[A"
     ]
    },
    {
     "name": "stdout",
     "output_type": "stream",
     "text": [
      "err_z, err_m35 (973.56219, 1758.2336)\n",
      "mean_q_0, mean_q_m35 (254.343, 167.77393)\n"
     ]
    },
    {
     "name": "stderr",
     "output_type": "stream",
     "text": [
      "\n",
      "\n",
      "\n",
      "\n",
      "  8%|▊         | 11991/150000 [02:50<32:39, 70.43it/s]\u001b[A\u001b[A\u001b[A\u001b[A"
     ]
    },
    {
     "name": "stdout",
     "output_type": "stream",
     "text": [
      "err_z, err_m35 (821.95801, 1685.7732)\n",
      "mean_q_0, mean_q_m35 (228.77539, 182.66086)\n"
     ]
    },
    {
     "ename": "KeyboardInterrupt",
     "evalue": "",
     "output_type": "error",
     "traceback": [
      "\u001b[0;31m---------------------------------------------------------------------------\u001b[0m",
      "\u001b[0;31mKeyboardInterrupt\u001b[0m                         Traceback (most recent call last)",
      "\u001b[0;32m<ipython-input-82-802a995950ea>\u001b[0m in \u001b[0;36m<module>\u001b[0;34m()\u001b[0m\n\u001b[1;32m      5\u001b[0m     \u001b[0mX_curr\u001b[0m \u001b[0;34m=\u001b[0m \u001b[0mX\u001b[0m\u001b[0;34m[\u001b[0m\u001b[0midx\u001b[0m\u001b[0;34m]\u001b[0m\u001b[0;34m\u001b[0m\u001b[0m\n\u001b[1;32m      6\u001b[0m \u001b[0;34m\u001b[0m\u001b[0m\n\u001b[0;32m----> 7\u001b[0;31m     \u001b[0mnext_pred_z\u001b[0m   \u001b[0;34m=\u001b[0m \u001b[0mmodel_z\u001b[0m\u001b[0;34m.\u001b[0m\u001b[0mpredict\u001b[0m\u001b[0;34m(\u001b[0m\u001b[0mX_curr\u001b[0m\u001b[0;34m[\u001b[0m\u001b[0;34m:\u001b[0m\u001b[0;34m,\u001b[0m \u001b[0mnext_state_cols_nos\u001b[0m\u001b[0;34m]\u001b[0m\u001b[0;34m)\u001b[0m\u001b[0;34m\u001b[0m\u001b[0m\n\u001b[0m\u001b[1;32m      8\u001b[0m     \u001b[0mnext_pred_m35\u001b[0m \u001b[0;34m=\u001b[0m \u001b[0mmodel_m35\u001b[0m\u001b[0;34m.\u001b[0m\u001b[0mpredict\u001b[0m\u001b[0;34m(\u001b[0m\u001b[0mX_curr\u001b[0m\u001b[0;34m[\u001b[0m\u001b[0;34m:\u001b[0m\u001b[0;34m,\u001b[0m \u001b[0mnext_state_cols_nos\u001b[0m\u001b[0;34m]\u001b[0m\u001b[0;34m)\u001b[0m\u001b[0;34m\u001b[0m\u001b[0m\n\u001b[1;32m      9\u001b[0m \u001b[0;34m\u001b[0m\u001b[0m\n",
      "\u001b[0;32m~/anaconda3/lib/python3.6/site-packages/keras/engine/training.py\u001b[0m in \u001b[0;36mpredict\u001b[0;34m(self, x, batch_size, verbose, steps)\u001b[0m\n\u001b[1;32m   1167\u001b[0m                                             \u001b[0mbatch_size\u001b[0m\u001b[0;34m=\u001b[0m\u001b[0mbatch_size\u001b[0m\u001b[0;34m,\u001b[0m\u001b[0;34m\u001b[0m\u001b[0m\n\u001b[1;32m   1168\u001b[0m                                             \u001b[0mverbose\u001b[0m\u001b[0;34m=\u001b[0m\u001b[0mverbose\u001b[0m\u001b[0;34m,\u001b[0m\u001b[0;34m\u001b[0m\u001b[0m\n\u001b[0;32m-> 1169\u001b[0;31m                                             steps=steps)\n\u001b[0m\u001b[1;32m   1170\u001b[0m \u001b[0;34m\u001b[0m\u001b[0m\n\u001b[1;32m   1171\u001b[0m     def train_on_batch(self, x, y,\n",
      "\u001b[0;32m~/anaconda3/lib/python3.6/site-packages/keras/engine/training_arrays.py\u001b[0m in \u001b[0;36mpredict_loop\u001b[0;34m(model, f, ins, batch_size, verbose, steps)\u001b[0m\n\u001b[1;32m    292\u001b[0m                 \u001b[0mins_batch\u001b[0m\u001b[0;34m[\u001b[0m\u001b[0mi\u001b[0m\u001b[0;34m]\u001b[0m \u001b[0;34m=\u001b[0m \u001b[0mins_batch\u001b[0m\u001b[0;34m[\u001b[0m\u001b[0mi\u001b[0m\u001b[0;34m]\u001b[0m\u001b[0;34m.\u001b[0m\u001b[0mtoarray\u001b[0m\u001b[0;34m(\u001b[0m\u001b[0;34m)\u001b[0m\u001b[0;34m\u001b[0m\u001b[0m\n\u001b[1;32m    293\u001b[0m \u001b[0;34m\u001b[0m\u001b[0m\n\u001b[0;32m--> 294\u001b[0;31m             \u001b[0mbatch_outs\u001b[0m \u001b[0;34m=\u001b[0m \u001b[0mf\u001b[0m\u001b[0;34m(\u001b[0m\u001b[0mins_batch\u001b[0m\u001b[0;34m)\u001b[0m\u001b[0;34m\u001b[0m\u001b[0m\n\u001b[0m\u001b[1;32m    295\u001b[0m             \u001b[0mbatch_outs\u001b[0m \u001b[0;34m=\u001b[0m \u001b[0mto_list\u001b[0m\u001b[0;34m(\u001b[0m\u001b[0mbatch_outs\u001b[0m\u001b[0;34m)\u001b[0m\u001b[0;34m\u001b[0m\u001b[0m\n\u001b[1;32m    296\u001b[0m             \u001b[0;32mif\u001b[0m \u001b[0mbatch_index\u001b[0m \u001b[0;34m==\u001b[0m \u001b[0;36m0\u001b[0m\u001b[0;34m:\u001b[0m\u001b[0;34m\u001b[0m\u001b[0m\n",
      "\u001b[0;32m~/anaconda3/lib/python3.6/site-packages/keras/backend/tensorflow_backend.py\u001b[0m in \u001b[0;36m__call__\u001b[0;34m(self, inputs)\u001b[0m\n\u001b[1;32m   2713\u001b[0m                 \u001b[0;32mreturn\u001b[0m \u001b[0mself\u001b[0m\u001b[0;34m.\u001b[0m\u001b[0m_legacy_call\u001b[0m\u001b[0;34m(\u001b[0m\u001b[0minputs\u001b[0m\u001b[0;34m)\u001b[0m\u001b[0;34m\u001b[0m\u001b[0m\n\u001b[1;32m   2714\u001b[0m \u001b[0;34m\u001b[0m\u001b[0m\n\u001b[0;32m-> 2715\u001b[0;31m             \u001b[0;32mreturn\u001b[0m \u001b[0mself\u001b[0m\u001b[0;34m.\u001b[0m\u001b[0m_call\u001b[0m\u001b[0;34m(\u001b[0m\u001b[0minputs\u001b[0m\u001b[0;34m)\u001b[0m\u001b[0;34m\u001b[0m\u001b[0m\n\u001b[0m\u001b[1;32m   2716\u001b[0m         \u001b[0;32melse\u001b[0m\u001b[0;34m:\u001b[0m\u001b[0;34m\u001b[0m\u001b[0m\n\u001b[1;32m   2717\u001b[0m             \u001b[0;32mif\u001b[0m \u001b[0mpy_any\u001b[0m\u001b[0;34m(\u001b[0m\u001b[0mis_tensor\u001b[0m\u001b[0;34m(\u001b[0m\u001b[0mx\u001b[0m\u001b[0;34m)\u001b[0m \u001b[0;32mfor\u001b[0m \u001b[0mx\u001b[0m \u001b[0;32min\u001b[0m \u001b[0minputs\u001b[0m\u001b[0;34m)\u001b[0m\u001b[0;34m:\u001b[0m\u001b[0;34m\u001b[0m\u001b[0m\n",
      "\u001b[0;32m~/anaconda3/lib/python3.6/site-packages/keras/backend/tensorflow_backend.py\u001b[0m in \u001b[0;36m_call\u001b[0;34m(self, inputs)\u001b[0m\n\u001b[1;32m   2673\u001b[0m             \u001b[0mfetched\u001b[0m \u001b[0;34m=\u001b[0m \u001b[0mself\u001b[0m\u001b[0;34m.\u001b[0m\u001b[0m_callable_fn\u001b[0m\u001b[0;34m(\u001b[0m\u001b[0;34m*\u001b[0m\u001b[0marray_vals\u001b[0m\u001b[0;34m,\u001b[0m \u001b[0mrun_metadata\u001b[0m\u001b[0;34m=\u001b[0m\u001b[0mself\u001b[0m\u001b[0;34m.\u001b[0m\u001b[0mrun_metadata\u001b[0m\u001b[0;34m)\u001b[0m\u001b[0;34m\u001b[0m\u001b[0m\n\u001b[1;32m   2674\u001b[0m         \u001b[0;32melse\u001b[0m\u001b[0;34m:\u001b[0m\u001b[0;34m\u001b[0m\u001b[0m\n\u001b[0;32m-> 2675\u001b[0;31m             \u001b[0mfetched\u001b[0m \u001b[0;34m=\u001b[0m \u001b[0mself\u001b[0m\u001b[0;34m.\u001b[0m\u001b[0m_callable_fn\u001b[0m\u001b[0;34m(\u001b[0m\u001b[0;34m*\u001b[0m\u001b[0marray_vals\u001b[0m\u001b[0;34m)\u001b[0m\u001b[0;34m\u001b[0m\u001b[0m\n\u001b[0m\u001b[1;32m   2676\u001b[0m         \u001b[0;32mreturn\u001b[0m \u001b[0mfetched\u001b[0m\u001b[0;34m[\u001b[0m\u001b[0;34m:\u001b[0m\u001b[0mlen\u001b[0m\u001b[0;34m(\u001b[0m\u001b[0mself\u001b[0m\u001b[0;34m.\u001b[0m\u001b[0moutputs\u001b[0m\u001b[0;34m)\u001b[0m\u001b[0;34m]\u001b[0m\u001b[0;34m\u001b[0m\u001b[0m\n\u001b[1;32m   2677\u001b[0m \u001b[0;34m\u001b[0m\u001b[0m\n",
      "\u001b[0;32m~/anaconda3/lib/python3.6/site-packages/tensorflow/python/client/session.py\u001b[0m in \u001b[0;36m__call__\u001b[0;34m(self, *args, **kwargs)\u001b[0m\n\u001b[1;32m   1397\u001b[0m           ret = tf_session.TF_SessionRunCallable(\n\u001b[1;32m   1398\u001b[0m               \u001b[0mself\u001b[0m\u001b[0;34m.\u001b[0m\u001b[0m_session\u001b[0m\u001b[0;34m.\u001b[0m\u001b[0m_session\u001b[0m\u001b[0;34m,\u001b[0m \u001b[0mself\u001b[0m\u001b[0;34m.\u001b[0m\u001b[0m_handle\u001b[0m\u001b[0;34m,\u001b[0m \u001b[0margs\u001b[0m\u001b[0;34m,\u001b[0m \u001b[0mstatus\u001b[0m\u001b[0;34m,\u001b[0m\u001b[0;34m\u001b[0m\u001b[0m\n\u001b[0;32m-> 1399\u001b[0;31m               run_metadata_ptr)\n\u001b[0m\u001b[1;32m   1400\u001b[0m         \u001b[0;32mif\u001b[0m \u001b[0mrun_metadata\u001b[0m\u001b[0;34m:\u001b[0m\u001b[0;34m\u001b[0m\u001b[0m\n\u001b[1;32m   1401\u001b[0m           \u001b[0mproto_data\u001b[0m \u001b[0;34m=\u001b[0m \u001b[0mtf_session\u001b[0m\u001b[0;34m.\u001b[0m\u001b[0mTF_GetBuffer\u001b[0m\u001b[0;34m(\u001b[0m\u001b[0mrun_metadata_ptr\u001b[0m\u001b[0;34m)\u001b[0m\u001b[0;34m\u001b[0m\u001b[0m\n",
      "\u001b[0;31mKeyboardInterrupt\u001b[0m: "
     ]
    },
    {
     "name": "stderr",
     "output_type": "stream",
     "text": [
      "\n",
      "\n",
      "\n",
      "\n",
      "  8%|▊         | 11991/150000 [03:01<34:46, 66.14it/s]\u001b[A\u001b[A\u001b[A\u001b[A"
     ]
    }
   ],
   "source": [
    "err_list = []\n",
    "q_0_hist = []\n",
    "for i in tqdm(range(150000), mininterval=10):\n",
    "    idx = np.random.randint(df.shape[0], size = 500)\n",
    "    X_curr = X[idx]\n",
    "\n",
    "    next_pred_z   = model_z.predict(X_curr[:, next_state_cols_nos])\n",
    "    next_pred_m35 = model_m35.predict(X_curr[:, next_state_cols_nos])\n",
    "    \n",
    "    last_day_ind = np.where(X_curr[:, col_n2no['days_left_next']] ==0)\n",
    "\n",
    "    next_pred_z[last_day_ind] = 0.\n",
    "    next_pred_m35[last_day_ind] = 0.\n",
    "\n",
    "    m35_action_ind = np.where(X_curr[:, col_n2no['action']] == -0.35)\n",
    "    z_action_ind   = np.where(X_curr[:, col_n2no['action']] ==0.)\n",
    "\n",
    "    next_pred_m35[m35_action_ind, 0] += X_curr[m35_action_ind, col_n2no['rev_ser']]\n",
    "    next_pred_z[z_action_ind, 0]     += X_curr[z_action_ind, col_n2no['rev_ser']]\n",
    "\n",
    "    err_z   = model_z.train_on_batch(X_curr[:,state_cols_nos], next_pred_z)\n",
    "    err_m35 = model_m35.train_on_batch(X_curr[:,state_cols_nos], next_pred_m35)\n",
    "    err_list.append((err_z, err_m35))\n",
    "    if not i%500:\n",
    "        mean_q_0   = next_pred_z[np.where(X_curr[:, col_n2no['days_left_next']] ==10)].mean()\n",
    "        mean_q_m35 = next_pred_m35[np.where(X_curr[:, col_n2no['days_left_next']] ==10)].mean()\n",
    "        q_0_hist.append((mean_q_0, mean_q_m35))\n",
    "        print('err_z, err_m35',(err_z, err_m35))\n",
    "        print('mean_q_0, mean_q_m35',(mean_q_0, mean_q_m35))"
   ]
  },
  {
   "cell_type": "code",
   "execution_count": null,
   "metadata": {},
   "outputs": [],
   "source": []
  },
  {
   "cell_type": "code",
   "execution_count": null,
   "metadata": {},
   "outputs": [],
   "source": []
  },
  {
   "cell_type": "code",
   "execution_count": null,
   "metadata": {},
   "outputs": [],
   "source": []
  },
  {
   "cell_type": "code",
   "execution_count": null,
   "metadata": {},
   "outputs": [
    {
     "name": "stderr",
     "output_type": "stream",
     "text": [
      "\n",
      "\n",
      "\n",
      "\n",
      "\n",
      "  0%|          | 0/150000 [00:00<?, ?it/s]\u001b[A\u001b[A\u001b[A\u001b[A\u001b[A"
     ]
    },
    {
     "name": "stdout",
     "output_type": "stream",
     "text": [
      "err_z, err_m35 (2049.0396, 2295.7156)\n",
      "mean_q_0, mean_q_m35 (43.666668, 43.010418)\n",
      "err_z, err_m35 (1990.5438, 2358.9795)\n",
      "mean_q_0, mean_q_m35 (45.122753, 45.122589)\n"
     ]
    },
    {
     "name": "stderr",
     "output_type": "stream",
     "text": [
      "\n",
      "\n",
      "\n",
      "\n",
      "\n",
      "  0%|          | 573/150000 [00:10<43:29, 57.26it/s]\u001b[A\u001b[A\u001b[A\u001b[A\u001b[A"
     ]
    },
    {
     "name": "stdout",
     "output_type": "stream",
     "text": [
      "err_z, err_m35 (1836.9249, 2358.0977)\n",
      "mean_q_0, mean_q_m35 (43.704132, 43.703583)\n"
     ]
    },
    {
     "name": "stderr",
     "output_type": "stream",
     "text": [
      "\n",
      "\n",
      "\n",
      "\n",
      "\n",
      "  1%|          | 1269/150000 [00:20<39:05, 63.42it/s]\u001b[A\u001b[A\u001b[A\u001b[A\u001b[A"
     ]
    },
    {
     "name": "stdout",
     "output_type": "stream",
     "text": [
      "err_z, err_m35 (2026.5778, 2578.1077)\n",
      "mean_q_0, mean_q_m35 (43.934864, 43.933887)\n"
     ]
    },
    {
     "name": "stderr",
     "output_type": "stream",
     "text": [
      "\n",
      "\n",
      "\n",
      "\n",
      "\n",
      "  1%|▏         | 1965/150000 [00:30<37:41, 65.47it/s]\u001b[A\u001b[A\u001b[A\u001b[A\u001b[A"
     ]
    },
    {
     "name": "stdout",
     "output_type": "stream",
     "text": [
      "err_z, err_m35 (1870.5447, 2687.1382)\n",
      "mean_q_0, mean_q_m35 (43.60622, 43.604465)\n",
      "err_z, err_m35 (1873.955, 2683.6023)\n",
      "mean_q_0, mean_q_m35 (46.38966, 46.387558)\n"
     ]
    },
    {
     "name": "stderr",
     "output_type": "stream",
     "text": [
      "\n",
      "\n",
      "\n",
      "\n",
      "\n",
      "  2%|▏         | 2661/150000 [00:40<36:56, 66.48it/s]\u001b[A\u001b[A\u001b[A\u001b[A\u001b[A"
     ]
    },
    {
     "name": "stdout",
     "output_type": "stream",
     "text": [
      "err_z, err_m35 (1920.161, 2685.9146)\n",
      "mean_q_0, mean_q_m35 (45.078163, 45.075508)\n"
     ]
    },
    {
     "name": "stderr",
     "output_type": "stream",
     "text": [
      "\n",
      "\n",
      "\n",
      "\n",
      "\n",
      "  2%|▏         | 3357/150000 [00:50<36:25, 67.10it/s]\u001b[A\u001b[A\u001b[A\u001b[A\u001b[A"
     ]
    },
    {
     "name": "stdout",
     "output_type": "stream",
     "text": [
      "err_z, err_m35 (1936.2679, 2422.3496)\n",
      "mean_q_0, mean_q_m35 (47.417393, 47.414135)\n",
      "err_z, err_m35 (2036.5154, 2780.52)\n",
      "mean_q_0, mean_q_m35 (48.84259, 48.838856)\n"
     ]
    },
    {
     "name": "stderr",
     "output_type": "stream",
     "text": [
      "\n",
      "\n",
      "\n",
      "\n",
      "\n",
      "  3%|▎         | 4053/150000 [01:00<36:01, 67.51it/s]\u001b[A\u001b[A\u001b[A\u001b[A\u001b[A"
     ]
    },
    {
     "name": "stdout",
     "output_type": "stream",
     "text": [
      "err_z, err_m35 (1905.6212, 2429.8867)\n",
      "mean_q_0, mean_q_m35 (46.689743, 46.685501)\n"
     ]
    },
    {
     "name": "stderr",
     "output_type": "stream",
     "text": [
      "\n",
      "\n",
      "\n",
      "\n",
      "\n",
      "  3%|▎         | 4750/150000 [01:10<35:41, 67.82it/s]\u001b[A\u001b[A\u001b[A\u001b[A\u001b[A"
     ]
    },
    {
     "name": "stdout",
     "output_type": "stream",
     "text": [
      "err_z, err_m35 (1916.9865, 2601.4604)\n",
      "mean_q_0, mean_q_m35 (48.493683, 48.489002)\n"
     ]
    },
    {
     "name": "stderr",
     "output_type": "stream",
     "text": [
      "\n",
      "\n",
      "\n",
      "\n",
      "\n",
      "  4%|▎         | 5447/150000 [01:20<35:24, 68.04it/s]\u001b[A\u001b[A\u001b[A\u001b[A\u001b[A"
     ]
    },
    {
     "name": "stdout",
     "output_type": "stream",
     "text": [
      "err_z, err_m35 (1879.1572, 2607.4651)\n",
      "mean_q_0, mean_q_m35 (50.038269, 50.033062)\n",
      "err_z, err_m35 (1994.5421, 2427.3977)\n",
      "mean_q_0, mean_q_m35 (49.914185, 49.908272)\n"
     ]
    },
    {
     "name": "stderr",
     "output_type": "stream",
     "text": [
      "\n",
      "\n",
      "\n",
      "\n",
      "\n",
      "  4%|▍         | 6143/150000 [01:30<35:09, 68.20it/s]\u001b[A\u001b[A\u001b[A\u001b[A\u001b[A"
     ]
    },
    {
     "name": "stdout",
     "output_type": "stream",
     "text": [
      "err_z, err_m35 (1877.0129, 2717.376)\n",
      "mean_q_0, mean_q_m35 (48.864346, 48.858074)\n"
     ]
    },
    {
     "name": "stderr",
     "output_type": "stream",
     "text": [
      "\n",
      "\n",
      "\n",
      "\n",
      "\n",
      "  5%|▍         | 6839/150000 [01:40<34:54, 68.34it/s]\u001b[A\u001b[A\u001b[A\u001b[A\u001b[A"
     ]
    },
    {
     "name": "stdout",
     "output_type": "stream",
     "text": [
      "err_z, err_m35 (1939.2969, 2623.7339)\n",
      "mean_q_0, mean_q_m35 (51.648804, 51.64193)\n",
      "err_z, err_m35 (1751.8345, 2187.762)\n",
      "mean_q_0, mean_q_m35 (49.227261, 49.219883)\n"
     ]
    },
    {
     "name": "stderr",
     "output_type": "stream",
     "text": [
      "\n",
      "\n",
      "\n",
      "\n",
      "\n",
      "  5%|▌         | 7535/150000 [01:50<34:41, 68.45it/s]\u001b[A\u001b[A\u001b[A\u001b[A\u001b[A"
     ]
    },
    {
     "name": "stdout",
     "output_type": "stream",
     "text": [
      "err_z, err_m35 (1910.8275, 2599.7378)\n",
      "mean_q_0, mean_q_m35 (53.702209, 53.694286)\n"
     ]
    },
    {
     "name": "stderr",
     "output_type": "stream",
     "text": [
      "\n",
      "\n",
      "\n",
      "\n",
      "\n",
      "  5%|▌         | 8232/150000 [02:00<34:28, 68.55it/s]\u001b[A\u001b[A\u001b[A\u001b[A\u001b[A"
     ]
    },
    {
     "name": "stdout",
     "output_type": "stream",
     "text": [
      "err_z, err_m35 (1831.9503, 2573.6238)\n",
      "mean_q_0, mean_q_m35 (49.213665, 49.204941)\n"
     ]
    },
    {
     "name": "stderr",
     "output_type": "stream",
     "text": [
      "\n",
      "\n",
      "\n",
      "\n",
      "\n",
      "  6%|▌         | 8929/150000 [02:10<34:15, 68.63it/s]\u001b[A\u001b[A\u001b[A\u001b[A\u001b[A"
     ]
    },
    {
     "name": "stdout",
     "output_type": "stream",
     "text": [
      "err_z, err_m35 (1863.8395, 2606.3704)\n",
      "mean_q_0, mean_q_m35 (52.33696, 52.327881)\n",
      "err_z, err_m35 (1898.7318, 2586.8682)\n",
      "mean_q_0, mean_q_m35 (51.436901, 51.42717)\n"
     ]
    },
    {
     "name": "stderr",
     "output_type": "stream",
     "text": [
      "\n",
      "\n",
      "\n",
      "\n",
      "\n",
      "  6%|▋         | 9626/150000 [02:20<34:03, 68.70it/s]\u001b[A\u001b[A\u001b[A\u001b[A\u001b[A"
     ]
    },
    {
     "name": "stdout",
     "output_type": "stream",
     "text": [
      "err_z, err_m35 (1938.4459, 2664.2163)\n",
      "mean_q_0, mean_q_m35 (52.934536, 52.923668)\n"
     ]
    },
    {
     "name": "stderr",
     "output_type": "stream",
     "text": [
      "\n",
      "\n",
      "\n",
      "\n",
      "\n",
      "  7%|▋         | 10323/150000 [02:30<33:51, 68.77it/s]\u001b[A\u001b[A\u001b[A\u001b[A\u001b[A"
     ]
    },
    {
     "name": "stdout",
     "output_type": "stream",
     "text": [
      "err_z, err_m35 (1898.9347, 2479.6147)\n",
      "mean_q_0, mean_q_m35 (53.40411, 53.3927)\n",
      "err_z, err_m35 (1867.4419, 2549.3269)\n",
      "mean_q_0, mean_q_m35 (54.635555, 54.623837)\n"
     ]
    },
    {
     "name": "stderr",
     "output_type": "stream",
     "text": [
      "\n",
      "\n",
      "\n",
      "\n",
      "\n",
      "  7%|▋         | 11020/150000 [02:40<33:39, 68.81it/s]\u001b[A\u001b[A\u001b[A\u001b[A\u001b[A"
     ]
    },
    {
     "name": "stdout",
     "output_type": "stream",
     "text": [
      "err_z, err_m35 (2017.2716, 2490.4846)\n",
      "mean_q_0, mean_q_m35 (56.997406, 56.984871)\n"
     ]
    },
    {
     "name": "stderr",
     "output_type": "stream",
     "text": [
      "\n",
      "\n",
      "\n",
      "\n",
      "\n",
      "  8%|▊         | 11716/150000 [02:50<33:28, 68.86it/s]\u001b[A\u001b[A\u001b[A\u001b[A\u001b[A"
     ]
    },
    {
     "name": "stdout",
     "output_type": "stream",
     "text": [
      "err_z, err_m35 (2059.2837, 2294.2539)\n",
      "mean_q_0, mean_q_m35 (56.202045, 56.188438)\n"
     ]
    },
    {
     "name": "stderr",
     "output_type": "stream",
     "text": [
      "\n",
      "\n",
      "\n",
      "\n",
      "\n",
      "  8%|▊         | 12412/150000 [03:00<33:17, 68.89it/s]\u001b[A\u001b[A\u001b[A\u001b[A\u001b[A"
     ]
    },
    {
     "name": "stdout",
     "output_type": "stream",
     "text": [
      "err_z, err_m35 (1877.5852, 2415.343)\n",
      "mean_q_0, mean_q_m35 (54.415325, 54.401302)\n",
      "err_z, err_m35 (1968.3677, 2570.3372)\n",
      "mean_q_0, mean_q_m35 (56.324177, 56.309368)\n"
     ]
    },
    {
     "name": "stderr",
     "output_type": "stream",
     "text": [
      "\n",
      "\n",
      "\n",
      "\n",
      "\n",
      "  9%|▊         | 13108/150000 [03:10<33:06, 68.93it/s]\u001b[A\u001b[A\u001b[A\u001b[A\u001b[A"
     ]
    },
    {
     "name": "stdout",
     "output_type": "stream",
     "text": [
      "err_z, err_m35 (1872.7478, 2410.7625)\n",
      "mean_q_0, mean_q_m35 (56.671341, 56.65575)\n"
     ]
    },
    {
     "name": "stderr",
     "output_type": "stream",
     "text": [
      "\n",
      "\n",
      "\n",
      "\n",
      "\n",
      "  9%|▉         | 13806/150000 [03:20<32:54, 68.97it/s]\u001b[A\u001b[A\u001b[A\u001b[A\u001b[A"
     ]
    },
    {
     "name": "stdout",
     "output_type": "stream",
     "text": [
      "err_z, err_m35 (1778.1003, 2505.1577)\n",
      "mean_q_0, mean_q_m35 (56.375656, 56.359375)\n"
     ]
    },
    {
     "name": "stderr",
     "output_type": "stream",
     "text": [
      "\n",
      "\n",
      "\n",
      "\n",
      "\n",
      " 10%|▉         | 14504/150000 [03:30<32:43, 69.00it/s]\u001b[A\u001b[A\u001b[A\u001b[A\u001b[A"
     ]
    },
    {
     "name": "stdout",
     "output_type": "stream",
     "text": [
      "err_z, err_m35 (1901.4301, 2530.0171)\n",
      "mean_q_0, mean_q_m35 (59.004719, 58.987713)\n",
      "err_z, err_m35 (1867.4967, 2409.6711)\n",
      "mean_q_0, mean_q_m35 (57.944603, 57.926914)\n"
     ]
    },
    {
     "name": "stderr",
     "output_type": "stream",
     "text": [
      "\n",
      "\n",
      "\n",
      "\n",
      "\n",
      " 10%|█         | 15203/150000 [03:40<32:32, 69.04it/s]\u001b[A\u001b[A\u001b[A\u001b[A\u001b[A"
     ]
    },
    {
     "name": "stdout",
     "output_type": "stream",
     "text": [
      "err_z, err_m35 (1927.2922, 2484.2466)\n",
      "mean_q_0, mean_q_m35 (58.274082, 58.255405)\n"
     ]
    },
    {
     "name": "stderr",
     "output_type": "stream",
     "text": [
      "\n",
      "\n",
      "\n",
      "\n",
      "\n",
      " 11%|█         | 15902/150000 [03:50<32:21, 69.06it/s]\u001b[A\u001b[A\u001b[A\u001b[A\u001b[A"
     ]
    },
    {
     "name": "stdout",
     "output_type": "stream",
     "text": [
      "err_z, err_m35 (1931.1312, 2468.4663)\n",
      "mean_q_0, mean_q_m35 (58.025379, 58.005821)\n",
      "err_z, err_m35 (1865.4603, 2447.7593)\n",
      "mean_q_0, mean_q_m35 (56.178677, 56.158394)\n"
     ]
    },
    {
     "name": "stderr",
     "output_type": "stream",
     "text": [
      "\n",
      "\n",
      "\n",
      "\n",
      "\n",
      " 11%|█         | 16598/150000 [04:00<32:11, 69.08it/s]\u001b[A\u001b[A\u001b[A\u001b[A\u001b[A"
     ]
    },
    {
     "name": "stdout",
     "output_type": "stream",
     "text": [
      "err_z, err_m35 (1935.0587, 2425.365)\n",
      "mean_q_0, mean_q_m35 (60.394581, 60.373562)\n"
     ]
    },
    {
     "name": "stderr",
     "output_type": "stream",
     "text": [
      "\n",
      "\n",
      "\n",
      "\n",
      "\n",
      " 12%|█▏        | 17296/150000 [04:10<32:00, 69.10it/s]\u001b[A\u001b[A\u001b[A\u001b[A\u001b[A"
     ]
    },
    {
     "name": "stdout",
     "output_type": "stream",
     "text": [
      "err_z, err_m35 (1843.8907, 2566.2627)\n",
      "mean_q_0, mean_q_m35 (56.969791, 56.948032)\n"
     ]
    },
    {
     "name": "stderr",
     "output_type": "stream",
     "text": [
      "\n",
      "\n",
      "\n",
      "\n",
      "\n",
      " 12%|█▏        | 17995/150000 [04:20<31:49, 69.13it/s]\u001b[A\u001b[A\u001b[A\u001b[A\u001b[A"
     ]
    },
    {
     "name": "stdout",
     "output_type": "stream",
     "text": [
      "err_z, err_m35 (1790.7451, 2361.8308)\n",
      "mean_q_0, mean_q_m35 (60.056358, 60.033588)\n",
      "err_z, err_m35 (2002.3412, 2550.1426)\n",
      "mean_q_0, mean_q_m35 (61.007507, 60.983845)\n"
     ]
    },
    {
     "name": "stderr",
     "output_type": "stream",
     "text": [
      "\n",
      "\n",
      "\n",
      "\n",
      "\n",
      " 12%|█▏        | 18694/150000 [04:30<31:38, 69.15it/s]\u001b[A\u001b[A\u001b[A\u001b[A\u001b[A"
     ]
    },
    {
     "name": "stdout",
     "output_type": "stream",
     "text": [
      "err_z, err_m35 (1904.3689, 2598.9299)\n",
      "mean_q_0, mean_q_m35 (63.529476, 63.504803)\n"
     ]
    },
    {
     "name": "stderr",
     "output_type": "stream",
     "text": [
      "\n",
      "\n",
      "\n",
      "\n",
      "\n",
      " 13%|█▎        | 19392/150000 [04:40<31:28, 69.17it/s]\u001b[A\u001b[A\u001b[A\u001b[A\u001b[A"
     ]
    },
    {
     "name": "stdout",
     "output_type": "stream",
     "text": [
      "err_z, err_m35 (1873.9403, 2571.2744)\n",
      "mean_q_0, mean_q_m35 (63.1273, 63.101608)\n",
      "err_z, err_m35 (1872.894, 2490.5247)\n",
      "mean_q_0, mean_q_m35 (62.28812, 62.261299)\n"
     ]
    },
    {
     "name": "stderr",
     "output_type": "stream",
     "text": [
      "\n",
      "\n",
      "\n",
      "\n",
      "\n",
      " 13%|█▎        | 20089/150000 [04:50<31:17, 69.19it/s]\u001b[A\u001b[A\u001b[A\u001b[A\u001b[A"
     ]
    },
    {
     "name": "stdout",
     "output_type": "stream",
     "text": [
      "err_z, err_m35 (1863.8601, 2483.1741)\n",
      "mean_q_0, mean_q_m35 (61.047405, 61.019718)\n"
     ]
    },
    {
     "name": "stderr",
     "output_type": "stream",
     "text": [
      "\n",
      "\n",
      "\n",
      "\n",
      "\n",
      " 14%|█▍        | 20788/150000 [05:00<31:06, 69.21it/s]\u001b[A\u001b[A\u001b[A\u001b[A\u001b[A"
     ]
    },
    {
     "name": "stdout",
     "output_type": "stream",
     "text": [
      "err_z, err_m35 (1896.976, 2487.9954)\n",
      "mean_q_0, mean_q_m35 (64.797791, 64.768913)\n"
     ]
    },
    {
     "name": "stderr",
     "output_type": "stream",
     "text": [
      "\n",
      "\n",
      "\n",
      "\n",
      "\n",
      " 14%|█▍        | 21487/150000 [05:10<30:56, 69.22it/s]\u001b[A\u001b[A\u001b[A\u001b[A\u001b[A"
     ]
    },
    {
     "name": "stdout",
     "output_type": "stream",
     "text": [
      "err_z, err_m35 (1913.9308, 2403.6248)\n",
      "mean_q_0, mean_q_m35 (60.695347, 60.665424)\n",
      "err_z, err_m35 (1809.7278, 2461.5569)\n",
      "mean_q_0, mean_q_m35 (62.747597, 62.717068)\n"
     ]
    },
    {
     "name": "stderr",
     "output_type": "stream",
     "text": [
      "\n",
      "\n",
      "\n",
      "\n",
      "\n",
      " 15%|█▍        | 22186/150000 [05:20<30:45, 69.24it/s]\u001b[A\u001b[A\u001b[A\u001b[A\u001b[A"
     ]
    },
    {
     "name": "stdout",
     "output_type": "stream",
     "text": [
      "err_z, err_m35 (1968.5967, 2688.8901)\n",
      "mean_q_0, mean_q_m35 (65.991714, 65.959869)\n"
     ]
    },
    {
     "name": "stderr",
     "output_type": "stream",
     "text": [
      "\n",
      "\n",
      "\n",
      "\n",
      "\n",
      " 15%|█▌        | 22884/150000 [05:30<30:35, 69.25it/s]\u001b[A\u001b[A\u001b[A\u001b[A\u001b[A"
     ]
    },
    {
     "name": "stdout",
     "output_type": "stream",
     "text": [
      "err_z, err_m35 (1804.6642, 2452.8499)\n",
      "mean_q_0, mean_q_m35 (66.190338, 66.157372)\n",
      "err_z, err_m35 (1782.2032, 2370.1228)\n",
      "mean_q_0, mean_q_m35 (64.550331, 64.516243)\n"
     ]
    },
    {
     "name": "stderr",
     "output_type": "stream",
     "text": [
      "\n",
      "\n",
      "\n",
      "\n",
      "\n",
      " 16%|█▌        | 23581/150000 [05:40<30:25, 69.27it/s]\u001b[A\u001b[A\u001b[A\u001b[A\u001b[A"
     ]
    },
    {
     "name": "stdout",
     "output_type": "stream",
     "text": [
      "err_z, err_m35 (1778.8425, 2633.238)\n",
      "mean_q_0, mean_q_m35 (66.7444, 66.709511)\n"
     ]
    },
    {
     "name": "stderr",
     "output_type": "stream",
     "text": [
      "\n",
      "\n",
      "\n",
      "\n",
      "\n",
      " 16%|█▌        | 24279/150000 [05:50<30:14, 69.28it/s]\u001b[A\u001b[A\u001b[A\u001b[A\u001b[A"
     ]
    },
    {
     "name": "stdout",
     "output_type": "stream",
     "text": [
      "err_z, err_m35 (1894.0403, 2467.0911)\n",
      "mean_q_0, mean_q_m35 (68.402573, 68.366486)\n"
     ]
    },
    {
     "name": "stderr",
     "output_type": "stream",
     "text": [
      "\n",
      "\n",
      "\n",
      "\n",
      "\n",
      " 17%|█▋        | 24977/150000 [06:00<30:04, 69.29it/s]\u001b[A\u001b[A\u001b[A\u001b[A\u001b[A"
     ]
    },
    {
     "name": "stdout",
     "output_type": "stream",
     "text": [
      "err_z, err_m35 (1846.6542, 2440.4922)\n",
      "mean_q_0, mean_q_m35 (69.6651, 69.627762)\n",
      "err_z, err_m35 (1878.5951, 2480.1646)\n",
      "mean_q_0, mean_q_m35 (67.868813, 67.830185)\n"
     ]
    },
    {
     "name": "stderr",
     "output_type": "stream",
     "text": [
      "\n",
      "\n",
      "\n",
      "\n",
      "\n",
      " 17%|█▋        | 25674/150000 [06:10<29:54, 69.30it/s]\u001b[A\u001b[A\u001b[A\u001b[A\u001b[A"
     ]
    },
    {
     "name": "stdout",
     "output_type": "stream",
     "text": [
      "err_z, err_m35 (1912.5449, 2482.6179)\n",
      "mean_q_0, mean_q_m35 (69.998886, 69.958832)\n"
     ]
    },
    {
     "name": "stderr",
     "output_type": "stream",
     "text": [
      "\n",
      "\n",
      "\n",
      "\n",
      "\n",
      " 18%|█▊        | 26371/150000 [06:20<29:43, 69.31it/s]\u001b[A\u001b[A\u001b[A\u001b[A\u001b[A"
     ]
    },
    {
     "name": "stdout",
     "output_type": "stream",
     "text": [
      "err_z, err_m35 (1872.4166, 2493.124)\n",
      "mean_q_0, mean_q_m35 (71.150566, 71.109367)\n",
      "err_z, err_m35 (1807.1216, 2612.7349)\n",
      "mean_q_0, mean_q_m35 (71.287636, 71.24501)\n"
     ]
    },
    {
     "name": "stderr",
     "output_type": "stream",
     "text": [
      "\n",
      "\n",
      "\n",
      "\n",
      "\n",
      " 18%|█▊        | 27068/150000 [06:30<29:33, 69.31it/s]\u001b[A\u001b[A\u001b[A\u001b[A\u001b[A"
     ]
    },
    {
     "name": "stdout",
     "output_type": "stream",
     "text": [
      "err_z, err_m35 (1836.749, 2534.4302)\n",
      "mean_q_0, mean_q_m35 (69.615082, 69.571342)\n"
     ]
    },
    {
     "name": "stderr",
     "output_type": "stream",
     "text": [
      "\n",
      "\n",
      "\n",
      "\n",
      "\n",
      " 19%|█▊        | 27766/150000 [06:40<29:23, 69.32it/s]\u001b[A\u001b[A\u001b[A\u001b[A\u001b[A"
     ]
    },
    {
     "name": "stdout",
     "output_type": "stream",
     "text": [
      "err_z, err_m35 (1796.5227, 2750.8936)\n",
      "mean_q_0, mean_q_m35 (73.964706, 73.919403)\n"
     ]
    },
    {
     "name": "stderr",
     "output_type": "stream",
     "text": [
      "\n",
      "\n",
      "\n",
      "\n",
      "\n",
      " 19%|█▉        | 28464/150000 [06:50<29:12, 69.33it/s]\u001b[A\u001b[A\u001b[A\u001b[A\u001b[A"
     ]
    },
    {
     "name": "stdout",
     "output_type": "stream",
     "text": [
      "err_z, err_m35 (1835.6606, 2595.3066)\n",
      "mean_q_0, mean_q_m35 (71.24231, 71.195618)\n",
      "err_z, err_m35 (1838.7139, 2529.6624)\n",
      "mean_q_0, mean_q_m35 (72.09053, 72.042786)\n"
     ]
    },
    {
     "name": "stderr",
     "output_type": "stream",
     "text": [
      "\n",
      "\n",
      "\n",
      "\n",
      "\n",
      " 19%|█▉        | 29160/150000 [07:00<29:02, 69.33it/s]\u001b[A\u001b[A\u001b[A\u001b[A\u001b[A"
     ]
    },
    {
     "name": "stdout",
     "output_type": "stream",
     "text": [
      "err_z, err_m35 (1873.3976, 2600.2126)\n",
      "mean_q_0, mean_q_m35 (73.594704, 73.545692)\n"
     ]
    },
    {
     "name": "stderr",
     "output_type": "stream",
     "text": [
      "\n",
      "\n",
      "\n",
      "\n",
      "\n",
      " 20%|█▉        | 29855/150000 [07:10<28:52, 69.33it/s]\u001b[A\u001b[A\u001b[A\u001b[A\u001b[A"
     ]
    },
    {
     "name": "stdout",
     "output_type": "stream",
     "text": [
      "err_z, err_m35 (1910.376, 2615.3638)\n",
      "mean_q_0, mean_q_m35 (75.32579, 75.27478)\n",
      "err_z, err_m35 (1828.5665, 2308.8892)\n",
      "mean_q_0, mean_q_m35 (72.735176, 72.68293)\n"
     ]
    },
    {
     "name": "stderr",
     "output_type": "stream",
     "text": [
      "\n",
      "\n",
      "\n",
      "\n",
      "\n",
      " 20%|██        | 30552/150000 [07:20<28:42, 69.34it/s]\u001b[A\u001b[A\u001b[A\u001b[A\u001b[A"
     ]
    },
    {
     "name": "stdout",
     "output_type": "stream",
     "text": [
      "err_z, err_m35 (1877.3798, 2690.8691)\n",
      "mean_q_0, mean_q_m35 (72.479576, 72.425949)\n"
     ]
    },
    {
     "name": "stderr",
     "output_type": "stream",
     "text": [
      "\n",
      "\n",
      "\n",
      "\n",
      "\n",
      " 21%|██        | 31249/150000 [07:30<28:32, 69.34it/s]\u001b[A\u001b[A\u001b[A\u001b[A\u001b[A"
     ]
    },
    {
     "name": "stdout",
     "output_type": "stream",
     "text": [
      "err_z, err_m35 (1970.6326, 2562.019)\n",
      "mean_q_0, mean_q_m35 (74.776733, 74.721375)\n"
     ]
    },
    {
     "name": "stderr",
     "output_type": "stream",
     "text": [
      "\n",
      "\n",
      "\n",
      "\n",
      "\n",
      " 21%|██▏       | 31947/150000 [07:40<28:22, 69.35it/s]\u001b[A\u001b[A\u001b[A\u001b[A\u001b[A"
     ]
    },
    {
     "name": "stdout",
     "output_type": "stream",
     "text": [
      "err_z, err_m35 (1825.0164, 2515.9397)\n",
      "mean_q_0, mean_q_m35 (73.431366, 73.374344)\n",
      "err_z, err_m35 (1801.3197, 2632.0598)\n",
      "mean_q_0, mean_q_m35 (75.396027, 75.337822)\n"
     ]
    },
    {
     "name": "stderr",
     "output_type": "stream",
     "text": [
      "\n",
      "\n",
      "\n",
      "\n",
      "\n",
      " 22%|██▏       | 32645/150000 [07:50<28:11, 69.36it/s]\u001b[A\u001b[A\u001b[A\u001b[A\u001b[A"
     ]
    },
    {
     "name": "stdout",
     "output_type": "stream",
     "text": [
      "err_z, err_m35 (1748.7018, 2719.385)\n",
      "mean_q_0, mean_q_m35 (75.284042, 75.224045)\n"
     ]
    },
    {
     "name": "stderr",
     "output_type": "stream",
     "text": [
      "\n",
      "\n",
      "\n",
      "\n",
      "\n",
      " 22%|██▏       | 33343/150000 [08:00<28:01, 69.37it/s]\u001b[A\u001b[A\u001b[A\u001b[A\u001b[A"
     ]
    },
    {
     "name": "stdout",
     "output_type": "stream",
     "text": [
      "err_z, err_m35 (1869.5717, 2468.77)\n",
      "mean_q_0, mean_q_m35 (76.294487, 76.232689)\n",
      "err_z, err_m35 (1877.8641, 2545.4033)\n",
      "mean_q_0, mean_q_m35 (74.100845, 74.03727)\n"
     ]
    },
    {
     "name": "stderr",
     "output_type": "stream",
     "text": [
      "\n",
      "\n",
      "\n",
      "\n",
      "\n",
      " 23%|██▎       | 34041/150000 [08:10<27:51, 69.38it/s]\u001b[A\u001b[A\u001b[A\u001b[A\u001b[A"
     ]
    },
    {
     "name": "stdout",
     "output_type": "stream",
     "text": [
      "err_z, err_m35 (1846.0201, 2689.8325)\n",
      "mean_q_0, mean_q_m35 (77.572449, 77.507324)\n"
     ]
    },
    {
     "name": "stderr",
     "output_type": "stream",
     "text": [
      "\n",
      "\n",
      "\n",
      "\n",
      "\n",
      " 23%|██▎       | 34740/150000 [08:20<27:41, 69.38it/s]\u001b[A\u001b[A\u001b[A\u001b[A\u001b[A"
     ]
    },
    {
     "name": "stdout",
     "output_type": "stream",
     "text": [
      "err_z, err_m35 (1823.6837, 2742.4358)\n",
      "mean_q_0, mean_q_m35 (78.59626, 78.529449)\n"
     ]
    },
    {
     "name": "stderr",
     "output_type": "stream",
     "text": [
      "\n",
      "\n",
      "\n",
      "\n",
      "\n",
      " 24%|██▎       | 35439/150000 [08:30<27:30, 69.39it/s]\u001b[A\u001b[A\u001b[A\u001b[A\u001b[A"
     ]
    },
    {
     "name": "stdout",
     "output_type": "stream",
     "text": [
      "err_z, err_m35 (1937.1935, 2634.4492)\n",
      "mean_q_0, mean_q_m35 (77.529068, 77.459999)\n",
      "err_z, err_m35 (1920.874, 2567.8489)\n",
      "mean_q_0, mean_q_m35 (78.034935, 77.963699)\n"
     ]
    },
    {
     "name": "stderr",
     "output_type": "stream",
     "text": [
      "\n",
      "\n",
      "\n",
      "\n",
      "\n",
      " 24%|██▍       | 36136/150000 [08:40<27:20, 69.39it/s]\u001b[A\u001b[A\u001b[A\u001b[A\u001b[A"
     ]
    },
    {
     "name": "stdout",
     "output_type": "stream",
     "text": [
      "err_z, err_m35 (1879.5229, 2647.4534)\n",
      "mean_q_0, mean_q_m35 (79.512123, 79.43914)\n"
     ]
    },
    {
     "name": "stderr",
     "output_type": "stream",
     "text": [
      "\n",
      "\n",
      "\n",
      "\n",
      "\n",
      " 25%|██▍       | 36834/150000 [08:50<27:10, 69.40it/s]\u001b[A\u001b[A\u001b[A\u001b[A\u001b[A"
     ]
    },
    {
     "name": "stdout",
     "output_type": "stream",
     "text": [
      "err_z, err_m35 (1925.6907, 2590.2917)\n",
      "mean_q_0, mean_q_m35 (79.163795, 79.089417)\n",
      "err_z, err_m35 (1854.8253, 2678.2236)\n",
      "mean_q_0, mean_q_m35 (79.465164, 79.388405)\n"
     ]
    },
    {
     "name": "stderr",
     "output_type": "stream",
     "text": [
      "\n",
      "\n",
      "\n",
      "\n",
      "\n",
      " 25%|██▌       | 37532/150000 [09:00<27:00, 69.40it/s]\u001b[A\u001b[A\u001b[A\u001b[A\u001b[A"
     ]
    },
    {
     "name": "stdout",
     "output_type": "stream",
     "text": [
      "err_z, err_m35 (1788.3335, 2677.4988)\n",
      "mean_q_0, mean_q_m35 (81.378426, 81.299622)\n"
     ]
    },
    {
     "name": "stderr",
     "output_type": "stream",
     "text": [
      "\n",
      "\n",
      "\n",
      "\n",
      "\n",
      " 25%|██▌       | 38228/150000 [09:10<26:50, 69.41it/s]\u001b[A\u001b[A\u001b[A\u001b[A\u001b[A"
     ]
    },
    {
     "name": "stdout",
     "output_type": "stream",
     "text": [
      "err_z, err_m35 (1822.9277, 2732.252)\n",
      "mean_q_0, mean_q_m35 (80.618195, 80.537163)\n"
     ]
    },
    {
     "name": "stderr",
     "output_type": "stream",
     "text": [
      "\n",
      "\n",
      "\n",
      "\n",
      "\n",
      " 26%|██▌       | 38927/150000 [09:20<26:40, 69.42it/s]\u001b[A\u001b[A\u001b[A\u001b[A\u001b[A"
     ]
    },
    {
     "name": "stdout",
     "output_type": "stream",
     "text": [
      "err_z, err_m35 (1876.7566, 2686.231)\n",
      "mean_q_0, mean_q_m35 (83.111916, 83.028931)\n",
      "err_z, err_m35 (1872.6747, 2779.3225)\n",
      "mean_q_0, mean_q_m35 (85.777054, 85.69239)\n"
     ]
    },
    {
     "name": "stderr",
     "output_type": "stream",
     "text": [
      "\n",
      "\n",
      "\n",
      "\n",
      "\n",
      " 26%|██▋       | 39626/150000 [09:30<26:29, 69.42it/s]\u001b[A\u001b[A\u001b[A\u001b[A\u001b[A"
     ]
    },
    {
     "name": "stdout",
     "output_type": "stream",
     "text": [
      "err_z, err_m35 (2003.2981, 2669.5325)\n",
      "mean_q_0, mean_q_m35 (85.005203, 84.918167)\n"
     ]
    },
    {
     "name": "stderr",
     "output_type": "stream",
     "text": [
      "\n",
      "\n",
      "\n",
      "\n",
      "\n",
      " 27%|██▋       | 40323/150000 [09:40<26:19, 69.42it/s]\u001b[A\u001b[A\u001b[A\u001b[A\u001b[A"
     ]
    },
    {
     "name": "stdout",
     "output_type": "stream",
     "text": [
      "err_z, err_m35 (1854.3567, 2819.9631)\n",
      "mean_q_0, mean_q_m35 (81.360573, 81.271355)\n",
      "err_z, err_m35 (1849.8131, 2803.1226)\n",
      "mean_q_0, mean_q_m35 (82.997574, 82.905754)\n"
     ]
    },
    {
     "name": "stderr",
     "output_type": "stream",
     "text": [
      "\n",
      "\n",
      "\n",
      "\n",
      "\n",
      " 27%|██▋       | 41020/150000 [09:50<26:09, 69.43it/s]\u001b[A\u001b[A\u001b[A\u001b[A\u001b[A"
     ]
    },
    {
     "name": "stdout",
     "output_type": "stream",
     "text": [
      "err_z, err_m35 (1910.7391, 2811.7478)\n",
      "mean_q_0, mean_q_m35 (85.705788, 85.611938)\n"
     ]
    },
    {
     "name": "stderr",
     "output_type": "stream",
     "text": [
      "\n",
      "\n",
      "\n",
      "\n",
      "\n",
      " 28%|██▊       | 41717/150000 [10:00<25:59, 69.43it/s]\u001b[A\u001b[A\u001b[A\u001b[A\u001b[A"
     ]
    },
    {
     "name": "stdout",
     "output_type": "stream",
     "text": [
      "err_z, err_m35 (1882.4313, 2743.7703)\n",
      "mean_q_0, mean_q_m35 (84.990601, 84.894745)\n"
     ]
    },
    {
     "name": "stderr",
     "output_type": "stream",
     "text": [
      "\n",
      "\n",
      "\n",
      "\n",
      "\n",
      " 28%|██▊       | 42413/150000 [10:10<25:49, 69.43it/s]\u001b[A\u001b[A\u001b[A\u001b[A\u001b[A"
     ]
    },
    {
     "name": "stdout",
     "output_type": "stream",
     "text": [
      "err_z, err_m35 (1814.499, 2744.1147)\n",
      "mean_q_0, mean_q_m35 (85.011589, 84.913406)\n",
      "err_z, err_m35 (1924.0566, 2677.6052)\n",
      "mean_q_0, mean_q_m35 (85.081406, 84.98069)\n"
     ]
    },
    {
     "name": "stderr",
     "output_type": "stream",
     "text": [
      "\n",
      "\n",
      "\n",
      "\n",
      "\n",
      " 29%|██▊       | 43111/150000 [10:20<25:39, 69.44it/s]\u001b[A\u001b[A\u001b[A\u001b[A\u001b[A"
     ]
    },
    {
     "name": "stdout",
     "output_type": "stream",
     "text": [
      "err_z, err_m35 (1856.5404, 2684.3154)\n",
      "mean_q_0, mean_q_m35 (84.655067, 84.552063)\n"
     ]
    },
    {
     "name": "stderr",
     "output_type": "stream",
     "text": [
      "\n",
      "\n",
      "\n",
      "\n",
      "\n",
      " 29%|██▉       | 43809/150000 [10:30<25:29, 69.44it/s]\u001b[A\u001b[A\u001b[A\u001b[A\u001b[A"
     ]
    },
    {
     "name": "stdout",
     "output_type": "stream",
     "text": [
      "err_z, err_m35 (1890.8015, 2858.0676)\n",
      "mean_q_0, mean_q_m35 (85.919762, 85.814384)\n"
     ]
    },
    {
     "name": "stderr",
     "output_type": "stream",
     "text": [
      "\n",
      "\n",
      "\n",
      "\n",
      "\n",
      " 30%|██▉       | 44507/150000 [10:40<25:19, 69.44it/s]\u001b[A\u001b[A\u001b[A\u001b[A\u001b[A"
     ]
    },
    {
     "name": "stdout",
     "output_type": "stream",
     "text": [
      "err_z, err_m35 (1843.0133, 2839.175)\n",
      "mean_q_0, mean_q_m35 (89.92704, 89.819008)\n",
      "err_z, err_m35 (1999.1029, 2797.042)\n",
      "mean_q_0, mean_q_m35 (86.167938, 86.057365)\n"
     ]
    },
    {
     "name": "stderr",
     "output_type": "stream",
     "text": [
      "\n",
      "\n",
      "\n",
      "\n",
      "\n",
      " 30%|███       | 45205/150000 [10:50<25:08, 69.45it/s]\u001b[A\u001b[A\u001b[A\u001b[A\u001b[A"
     ]
    },
    {
     "name": "stdout",
     "output_type": "stream",
     "text": [
      "err_z, err_m35 (1808.384, 2777.9661)\n",
      "mean_q_0, mean_q_m35 (86.470459, 86.356812)\n"
     ]
    },
    {
     "name": "stderr",
     "output_type": "stream",
     "text": [
      "\n",
      "\n",
      "\n",
      "\n",
      "\n",
      " 31%|███       | 45903/150000 [11:00<24:58, 69.45it/s]\u001b[A\u001b[A\u001b[A\u001b[A\u001b[A"
     ]
    },
    {
     "name": "stdout",
     "output_type": "stream",
     "text": [
      "err_z, err_m35 (1865.2903, 2853.8611)\n",
      "mean_q_0, mean_q_m35 (93.976456, 93.860825)\n",
      "err_z, err_m35 (1912.6205, 2737.5483)\n",
      "mean_q_0, mean_q_m35 (90.087151, 89.968437)\n"
     ]
    },
    {
     "name": "stderr",
     "output_type": "stream",
     "text": [
      "\n",
      "\n",
      "\n",
      "\n",
      "\n",
      " 31%|███       | 46601/150000 [11:10<24:48, 69.46it/s]\u001b[A\u001b[A\u001b[A\u001b[A\u001b[A"
     ]
    },
    {
     "name": "stdout",
     "output_type": "stream",
     "text": [
      "err_z, err_m35 (1855.5625, 2869.429)\n",
      "mean_q_0, mean_q_m35 (89.237183, 89.115967)\n"
     ]
    },
    {
     "name": "stderr",
     "output_type": "stream",
     "text": [
      "\n",
      "\n",
      "\n",
      "\n",
      "\n",
      " 32%|███▏      | 47298/150000 [11:20<24:38, 69.46it/s]\u001b[A\u001b[A\u001b[A\u001b[A\u001b[A"
     ]
    },
    {
     "name": "stdout",
     "output_type": "stream",
     "text": [
      "err_z, err_m35 (1873.2264, 2805.4534)\n",
      "mean_q_0, mean_q_m35 (88.559357, 88.43486)\n"
     ]
    },
    {
     "name": "stderr",
     "output_type": "stream",
     "text": [
      "\n",
      "\n",
      "\n",
      "\n",
      "\n",
      " 32%|███▏      | 47995/150000 [11:30<24:28, 69.46it/s]\u001b[A\u001b[A\u001b[A\u001b[A\u001b[A"
     ]
    },
    {
     "name": "stdout",
     "output_type": "stream",
     "text": [
      "err_z, err_m35 (1885.0129, 2825.1516)\n",
      "mean_q_0, mean_q_m35 (90.740677, 90.613167)\n",
      "err_z, err_m35 (1982.1996, 2771.7776)\n",
      "mean_q_0, mean_q_m35 (90.132576, 90.002144)\n"
     ]
    },
    {
     "name": "stderr",
     "output_type": "stream",
     "text": [
      "\n",
      "\n",
      "\n",
      "\n",
      "\n",
      " 32%|███▏      | 48693/150000 [11:40<24:18, 69.47it/s]\u001b[A\u001b[A\u001b[A\u001b[A\u001b[A"
     ]
    },
    {
     "name": "stdout",
     "output_type": "stream",
     "text": [
      "err_z, err_m35 (1791.0674, 2724.6304)\n",
      "mean_q_0, mean_q_m35 (91.460136, 91.326782)\n"
     ]
    },
    {
     "name": "stderr",
     "output_type": "stream",
     "text": [
      "\n",
      "\n",
      "\n",
      "\n",
      "\n",
      " 33%|███▎      | 49391/150000 [11:50<24:08, 69.47it/s]\u001b[A\u001b[A\u001b[A\u001b[A\u001b[A"
     ]
    },
    {
     "name": "stdout",
     "output_type": "stream",
     "text": [
      "err_z, err_m35 (1817.203, 2954.3877)\n",
      "mean_q_0, mean_q_m35 (91.465042, 91.328156)\n",
      "err_z, err_m35 (1854.9116, 2877.2346)\n",
      "mean_q_0, mean_q_m35 (92.50914, 92.369492)\n"
     ]
    },
    {
     "name": "stderr",
     "output_type": "stream",
     "text": [
      "\n",
      "\n",
      "\n",
      "\n",
      "\n",
      " 33%|███▎      | 50088/150000 [12:01<23:58, 69.47it/s]\u001b[A\u001b[A\u001b[A\u001b[A\u001b[A"
     ]
    },
    {
     "name": "stdout",
     "output_type": "stream",
     "text": [
      "err_z, err_m35 (1899.7797, 3045.2402)\n",
      "mean_q_0, mean_q_m35 (94.482323, 94.33876)\n"
     ]
    },
    {
     "name": "stderr",
     "output_type": "stream",
     "text": [
      "\n",
      "\n",
      "\n",
      "\n",
      "\n",
      " 34%|███▍      | 50786/150000 [12:11<23:48, 69.47it/s]\u001b[A\u001b[A\u001b[A\u001b[A\u001b[A"
     ]
    },
    {
     "name": "stdout",
     "output_type": "stream",
     "text": [
      "err_z, err_m35 (1818.6802, 2896.645)\n",
      "mean_q_0, mean_q_m35 (94.248795, 94.102608)\n"
     ]
    },
    {
     "name": "stderr",
     "output_type": "stream",
     "text": [
      "\n",
      "\n",
      "\n",
      "\n",
      "\n",
      " 34%|███▍      | 51484/150000 [12:21<23:37, 69.48it/s]\u001b[A\u001b[A\u001b[A\u001b[A\u001b[A"
     ]
    },
    {
     "name": "stdout",
     "output_type": "stream",
     "text": [
      "err_z, err_m35 (1903.0913, 2946.9075)\n",
      "mean_q_0, mean_q_m35 (93.720673, 93.571526)\n",
      "err_z, err_m35 (2035.168, 2759.6506)\n",
      "mean_q_0, mean_q_m35 (94.467026, 94.314072)\n"
     ]
    },
    {
     "name": "stderr",
     "output_type": "stream",
     "text": [
      "\n",
      "\n",
      "\n",
      "\n",
      "\n",
      " 35%|███▍      | 52182/150000 [12:31<23:27, 69.48it/s]\u001b[A\u001b[A\u001b[A\u001b[A\u001b[A"
     ]
    },
    {
     "name": "stdout",
     "output_type": "stream",
     "text": [
      "err_z, err_m35 (1896.1255, 2858.7412)\n",
      "mean_q_0, mean_q_m35 (95.06292, 94.9067)\n"
     ]
    },
    {
     "name": "stderr",
     "output_type": "stream",
     "text": [
      "\n",
      "\n",
      "\n",
      "\n",
      "\n",
      " 35%|███▌      | 52881/150000 [12:41<23:17, 69.48it/s]\u001b[A\u001b[A\u001b[A\u001b[A\u001b[A"
     ]
    },
    {
     "name": "stdout",
     "output_type": "stream",
     "text": [
      "err_z, err_m35 (1803.901, 2809.3674)\n",
      "mean_q_0, mean_q_m35 (95.990356, 95.830307)\n",
      "err_z, err_m35 (1958.329, 2925.969)\n",
      "mean_q_0, mean_q_m35 (96.783356, 96.619881)\n"
     ]
    },
    {
     "name": "stderr",
     "output_type": "stream",
     "text": [
      "\n",
      "\n",
      "\n",
      "\n",
      "\n",
      " 36%|███▌      | 53580/150000 [12:51<23:07, 69.48it/s]\u001b[A\u001b[A\u001b[A\u001b[A\u001b[A"
     ]
    },
    {
     "name": "stdout",
     "output_type": "stream",
     "text": [
      "err_z, err_m35 (1864.0879, 2929.3706)\n",
      "mean_q_0, mean_q_m35 (92.6035, 92.436874)\n"
     ]
    },
    {
     "name": "stderr",
     "output_type": "stream",
     "text": [
      "\n",
      "\n",
      "\n",
      "\n",
      "\n",
      " 36%|███▌      | 54276/150000 [13:01<22:57, 69.48it/s]\u001b[A\u001b[A\u001b[A\u001b[A\u001b[A"
     ]
    },
    {
     "name": "stdout",
     "output_type": "stream",
     "text": [
      "err_z, err_m35 (1900.7452, 2834.1736)\n",
      "mean_q_0, mean_q_m35 (98.68856, 98.517647)\n"
     ]
    },
    {
     "name": "stderr",
     "output_type": "stream",
     "text": [
      "\n",
      "\n",
      "\n",
      "\n",
      "\n",
      " 37%|███▋      | 54974/150000 [13:11<22:47, 69.49it/s]\u001b[A\u001b[A\u001b[A\u001b[A\u001b[A"
     ]
    },
    {
     "name": "stdout",
     "output_type": "stream",
     "text": [
      "err_z, err_m35 (1841.0717, 3076.4419)\n",
      "mean_q_0, mean_q_m35 (97.701683, 97.527016)\n",
      "err_z, err_m35 (1818.8838, 2941.0461)\n",
      "mean_q_0, mean_q_m35 (97.713593, 97.534973)\n"
     ]
    },
    {
     "name": "stderr",
     "output_type": "stream",
     "text": [
      "\n",
      "\n",
      "\n",
      "\n",
      "\n",
      " 37%|███▋      | 55673/150000 [13:21<22:37, 69.49it/s]\u001b[A\u001b[A\u001b[A\u001b[A\u001b[A"
     ]
    },
    {
     "name": "stdout",
     "output_type": "stream",
     "text": [
      "err_z, err_m35 (1806.666, 3010.9204)\n",
      "mean_q_0, mean_q_m35 (99.936592, 99.754173)\n"
     ]
    },
    {
     "name": "stderr",
     "output_type": "stream",
     "text": [
      "\n",
      "\n",
      "\n",
      "\n",
      "\n",
      " 38%|███▊      | 56372/150000 [13:31<22:27, 69.49it/s]\u001b[A\u001b[A\u001b[A\u001b[A\u001b[A"
     ]
    },
    {
     "name": "stdout",
     "output_type": "stream",
     "text": [
      "err_z, err_m35 (1833.0627, 3033.8462)\n",
      "mean_q_0, mean_q_m35 (100.07239, 99.886581)\n",
      "err_z, err_m35 (1929.3495, 2751.9692)\n",
      "mean_q_0, mean_q_m35 (99.693375, 99.503014)\n"
     ]
    },
    {
     "name": "stderr",
     "output_type": "stream",
     "text": [
      "\n",
      "\n",
      "\n",
      "\n",
      "\n",
      " 38%|███▊      | 57070/150000 [13:41<22:17, 69.50it/s]\u001b[A\u001b[A\u001b[A\u001b[A\u001b[A"
     ]
    },
    {
     "name": "stdout",
     "output_type": "stream",
     "text": [
      "err_z, err_m35 (1900.952, 3190.7354)\n",
      "mean_q_0, mean_q_m35 (99.537125, 99.343231)\n"
     ]
    },
    {
     "name": "stderr",
     "output_type": "stream",
     "text": [
      "\n",
      "\n",
      "\n",
      "\n",
      "\n",
      " 39%|███▊      | 57768/150000 [13:51<22:07, 69.50it/s]\u001b[A\u001b[A\u001b[A\u001b[A\u001b[A"
     ]
    },
    {
     "name": "stdout",
     "output_type": "stream",
     "text": [
      "err_z, err_m35 (2053.0845, 3094.0273)\n",
      "mean_q_0, mean_q_m35 (102.10207, 101.90434)\n"
     ]
    },
    {
     "name": "stderr",
     "output_type": "stream",
     "text": [
      "\n",
      "\n",
      "\n",
      "\n",
      "\n",
      " 39%|███▉      | 58466/150000 [14:01<21:56, 69.50it/s]\u001b[A\u001b[A\u001b[A\u001b[A\u001b[A"
     ]
    },
    {
     "name": "stdout",
     "output_type": "stream",
     "text": [
      "err_z, err_m35 (1970.429, 3066.8416)\n",
      "mean_q_0, mean_q_m35 (101.18366, 100.98174)\n",
      "err_z, err_m35 (1925.9147, 3155.1182)\n",
      "mean_q_0, mean_q_m35 (104.61826, 104.41152)\n"
     ]
    },
    {
     "name": "stderr",
     "output_type": "stream",
     "text": [
      "\n",
      "\n",
      "\n",
      "\n",
      "\n",
      " 39%|███▉      | 59165/150000 [14:11<21:46, 69.51it/s]\u001b[A\u001b[A\u001b[A\u001b[A\u001b[A"
     ]
    },
    {
     "name": "stdout",
     "output_type": "stream",
     "text": [
      "err_z, err_m35 (1947.4222, 2783.5076)\n",
      "mean_q_0, mean_q_m35 (103.28039, 103.06869)\n"
     ]
    },
    {
     "name": "stderr",
     "output_type": "stream",
     "text": [
      "\n",
      "\n",
      "\n",
      "\n",
      "\n",
      " 40%|███▉      | 59864/150000 [14:21<21:36, 69.51it/s]\u001b[A\u001b[A\u001b[A\u001b[A\u001b[A"
     ]
    },
    {
     "name": "stdout",
     "output_type": "stream",
     "text": [
      "err_z, err_m35 (1901.197, 3073.9121)\n",
      "mean_q_0, mean_q_m35 (101.48522, 101.26947)\n",
      "err_z, err_m35 (1872.6985, 2968.1245)\n",
      "mean_q_0, mean_q_m35 (102.7015, 102.48035)\n"
     ]
    },
    {
     "name": "stderr",
     "output_type": "stream",
     "text": [
      "\n",
      "\n",
      "\n",
      "\n",
      "\n",
      " 40%|████      | 60563/150000 [14:31<21:26, 69.51it/s]\u001b[A\u001b[A\u001b[A\u001b[A\u001b[A"
     ]
    },
    {
     "name": "stdout",
     "output_type": "stream",
     "text": [
      "err_z, err_m35 (1855.5172, 3278.2537)\n",
      "mean_q_0, mean_q_m35 (101.9081, 101.68234)\n"
     ]
    },
    {
     "name": "stderr",
     "output_type": "stream",
     "text": [
      "\n",
      "\n",
      "\n",
      "\n",
      "\n",
      " 41%|████      | 61263/150000 [14:41<21:16, 69.52it/s]\u001b[A\u001b[A\u001b[A\u001b[A\u001b[A"
     ]
    },
    {
     "name": "stdout",
     "output_type": "stream",
     "text": [
      "err_z, err_m35 (1844.4193, 3209.686)\n",
      "mean_q_0, mean_q_m35 (103.93245, 103.70134)\n"
     ]
    },
    {
     "name": "stderr",
     "output_type": "stream",
     "text": [
      "\n",
      "\n",
      "\n",
      "\n",
      "\n",
      " 41%|████▏     | 61963/150000 [14:51<21:06, 69.52it/s]\u001b[A\u001b[A\u001b[A\u001b[A\u001b[A"
     ]
    },
    {
     "name": "stdout",
     "output_type": "stream",
     "text": [
      "err_z, err_m35 (1907.9961, 3192.8982)\n",
      "mean_q_0, mean_q_m35 (103.54192, 103.3059)\n",
      "err_z, err_m35 (1871.7036, 3220.3657)\n",
      "mean_q_0, mean_q_m35 (104.31012, 104.06857)\n"
     ]
    },
    {
     "name": "stderr",
     "output_type": "stream",
     "text": [
      "\n",
      "\n",
      "\n",
      "\n",
      "\n",
      " 42%|████▏     | 62661/150000 [15:01<20:56, 69.52it/s]\u001b[A\u001b[A\u001b[A\u001b[A\u001b[A"
     ]
    },
    {
     "name": "stdout",
     "output_type": "stream",
     "text": [
      "err_z, err_m35 (1955.5758, 3254.0181)\n",
      "mean_q_0, mean_q_m35 (104.23854, 103.99084)\n"
     ]
    },
    {
     "name": "stderr",
     "output_type": "stream",
     "text": [
      "\n",
      "\n",
      "\n",
      "\n",
      "\n",
      " 42%|████▏     | 63359/150000 [15:11<20:46, 69.53it/s]\u001b[A\u001b[A\u001b[A\u001b[A\u001b[A"
     ]
    },
    {
     "name": "stdout",
     "output_type": "stream",
     "text": [
      "err_z, err_m35 (1869.9044, 3209.1353)\n",
      "mean_q_0, mean_q_m35 (105.46557, 105.2131)\n",
      "err_z, err_m35 (1880.328, 3263.4763)\n",
      "mean_q_0, mean_q_m35 (108.08083, 107.8223)\n"
     ]
    },
    {
     "name": "stderr",
     "output_type": "stream",
     "text": [
      "\n",
      "\n",
      "\n",
      "\n",
      "\n",
      " 43%|████▎     | 64057/150000 [15:21<20:36, 69.53it/s]\u001b[A\u001b[A\u001b[A\u001b[A\u001b[A"
     ]
    },
    {
     "name": "stdout",
     "output_type": "stream",
     "text": [
      "err_z, err_m35 (1931.3734, 3216.4512)\n",
      "mean_q_0, mean_q_m35 (108.54293, 108.27847)\n"
     ]
    },
    {
     "name": "stderr",
     "output_type": "stream",
     "text": [
      "\n",
      "\n",
      "\n",
      "\n",
      "\n",
      " 43%|████▎     | 64755/150000 [15:31<20:26, 69.52it/s]\u001b[A\u001b[A\u001b[A\u001b[A\u001b[A"
     ]
    },
    {
     "name": "stdout",
     "output_type": "stream",
     "text": [
      "err_z, err_m35 (1894.5582, 3118.2258)\n",
      "mean_q_0, mean_q_m35 (106.71867, 106.4481)\n"
     ]
    },
    {
     "name": "stderr",
     "output_type": "stream",
     "text": [
      "\n",
      "\n",
      "\n",
      "\n",
      "\n",
      " 44%|████▎     | 65451/150000 [15:41<20:16, 69.52it/s]\u001b[A\u001b[A\u001b[A\u001b[A\u001b[A"
     ]
    },
    {
     "name": "stdout",
     "output_type": "stream",
     "text": [
      "err_z, err_m35 (1883.8772, 3218.1235)\n",
      "mean_q_0, mean_q_m35 (108.24966, 107.97383)\n",
      "err_z, err_m35 (1945.5649, 3253.6458)\n",
      "mean_q_0, mean_q_m35 (108.66901, 108.38624)\n"
     ]
    },
    {
     "name": "stderr",
     "output_type": "stream",
     "text": [
      "\n",
      "\n",
      "\n",
      "\n",
      "\n",
      " 44%|████▍     | 66147/150000 [15:51<20:06, 69.52it/s]\u001b[A\u001b[A\u001b[A\u001b[A\u001b[A"
     ]
    },
    {
     "name": "stdout",
     "output_type": "stream",
     "text": [
      "err_z, err_m35 (1917.098, 3405.1428)\n",
      "mean_q_0, mean_q_m35 (108.60898, 108.3196)\n"
     ]
    },
    {
     "name": "stderr",
     "output_type": "stream",
     "text": [
      "\n",
      "\n",
      "\n",
      "\n",
      "\n",
      " 45%|████▍     | 66843/150000 [16:01<19:56, 69.52it/s]\u001b[A\u001b[A\u001b[A\u001b[A\u001b[A"
     ]
    },
    {
     "name": "stdout",
     "output_type": "stream",
     "text": [
      "err_z, err_m35 (1896.968, 3166.5354)\n",
      "mean_q_0, mean_q_m35 (111.22543, 110.92962)\n",
      "err_z, err_m35 (2050.7046, 3492.1479)\n",
      "mean_q_0, mean_q_m35 (111.91107, 111.60828)\n"
     ]
    },
    {
     "name": "stderr",
     "output_type": "stream",
     "text": [
      "\n",
      "\n",
      "\n",
      "\n",
      "\n",
      " 45%|████▌     | 67539/150000 [16:11<19:46, 69.52it/s]\u001b[A\u001b[A\u001b[A\u001b[A\u001b[A"
     ]
    },
    {
     "name": "stdout",
     "output_type": "stream",
     "text": [
      "err_z, err_m35 (1894.9368, 3444.7981)\n",
      "mean_q_0, mean_q_m35 (111.89547, 111.58549)\n"
     ]
    },
    {
     "name": "stderr",
     "output_type": "stream",
     "text": [
      "\n",
      "\n",
      "\n",
      "\n",
      "\n",
      " 45%|████▌     | 68235/150000 [16:21<19:36, 69.52it/s]\u001b[A\u001b[A\u001b[A\u001b[A\u001b[A"
     ]
    },
    {
     "name": "stdout",
     "output_type": "stream",
     "text": [
      "err_z, err_m35 (1925.1538, 3458.1218)\n",
      "mean_q_0, mean_q_m35 (112.31612, 111.99976)\n"
     ]
    },
    {
     "name": "stderr",
     "output_type": "stream",
     "text": [
      "\n",
      "\n",
      "\n",
      "\n",
      "\n",
      " 46%|████▌     | 68931/150000 [16:31<19:26, 69.52it/s]\u001b[A\u001b[A\u001b[A\u001b[A\u001b[A"
     ]
    },
    {
     "name": "stdout",
     "output_type": "stream",
     "text": [
      "err_z, err_m35 (1915.0015, 3445.991)\n",
      "mean_q_0, mean_q_m35 (113.02232, 112.69747)\n",
      "err_z, err_m35 (1924.5549, 3387.686)\n",
      "mean_q_0, mean_q_m35 (111.6843, 111.3521)\n"
     ]
    },
    {
     "name": "stderr",
     "output_type": "stream",
     "text": [
      "\n",
      "\n",
      "\n",
      "\n",
      "\n",
      " 46%|████▋     | 69627/150000 [16:41<19:16, 69.52it/s]\u001b[A\u001b[A\u001b[A\u001b[A\u001b[A"
     ]
    },
    {
     "name": "stdout",
     "output_type": "stream",
     "text": [
      "err_z, err_m35 (1878.4613, 3399.1536)\n",
      "mean_q_0, mean_q_m35 (113.71452, 113.37562)\n"
     ]
    },
    {
     "name": "stderr",
     "output_type": "stream",
     "text": [
      "\n",
      "\n",
      "\n",
      "\n",
      "\n",
      " 47%|████▋     | 70322/150000 [16:51<19:06, 69.52it/s]\u001b[A\u001b[A\u001b[A\u001b[A\u001b[A"
     ]
    },
    {
     "name": "stdout",
     "output_type": "stream",
     "text": [
      "err_z, err_m35 (1962.0244, 3221.8667)\n",
      "mean_q_0, mean_q_m35 (114.01993, 113.67336)\n",
      "err_z, err_m35 (1942.8777, 3704.9277)\n",
      "mean_q_0, mean_q_m35 (113.46266, 113.10816)\n"
     ]
    },
    {
     "name": "stderr",
     "output_type": "stream",
     "text": [
      "\n",
      "\n",
      "\n",
      "\n",
      "\n",
      " 47%|████▋     | 71019/150000 [17:01<18:56, 69.52it/s]\u001b[A\u001b[A\u001b[A\u001b[A\u001b[A"
     ]
    },
    {
     "name": "stdout",
     "output_type": "stream",
     "text": [
      "err_z, err_m35 (1912.2834, 3293.1997)\n",
      "mean_q_0, mean_q_m35 (113.42688, 113.06487)\n"
     ]
    },
    {
     "name": "stderr",
     "output_type": "stream",
     "text": [
      "\n",
      "\n",
      "\n",
      "\n",
      "\n",
      " 48%|████▊     | 71716/150000 [17:11<18:46, 69.52it/s]\u001b[A\u001b[A\u001b[A\u001b[A\u001b[A"
     ]
    },
    {
     "name": "stdout",
     "output_type": "stream",
     "text": [
      "err_z, err_m35 (2011.4434, 3482.7925)\n",
      "mean_q_0, mean_q_m35 (115.22705, 114.85703)\n"
     ]
    },
    {
     "name": "stderr",
     "output_type": "stream",
     "text": [
      "\n",
      "\n",
      "\n",
      "\n",
      "\n",
      " 48%|████▊     | 72413/150000 [17:21<18:36, 69.52it/s]\u001b[A\u001b[A\u001b[A\u001b[A\u001b[A"
     ]
    },
    {
     "name": "stdout",
     "output_type": "stream",
     "text": [
      "err_z, err_m35 (1985.0757, 3624.6487)\n",
      "mean_q_0, mean_q_m35 (115.55339, 115.17532)\n",
      "err_z, err_m35 (1907.5415, 3557.4307)\n",
      "mean_q_0, mean_q_m35 (117.4834, 117.09745)\n"
     ]
    },
    {
     "name": "stderr",
     "output_type": "stream",
     "text": [
      "\n",
      "\n",
      "\n",
      "\n",
      "\n",
      " 49%|████▊     | 73109/150000 [17:31<18:26, 69.52it/s]\u001b[A\u001b[A\u001b[A\u001b[A\u001b[A"
     ]
    },
    {
     "name": "stdout",
     "output_type": "stream",
     "text": [
      "err_z, err_m35 (1936.4248, 3441.1904)\n",
      "mean_q_0, mean_q_m35 (115.15726, 114.7624)\n"
     ]
    },
    {
     "name": "stderr",
     "output_type": "stream",
     "text": [
      "\n",
      "\n",
      "\n",
      "\n",
      "\n",
      " 49%|████▉     | 73808/150000 [17:41<18:15, 69.52it/s]\u001b[A\u001b[A\u001b[A\u001b[A\u001b[A"
     ]
    },
    {
     "name": "stdout",
     "output_type": "stream",
     "text": [
      "err_z, err_m35 (1984.8381, 3554.6094)\n",
      "mean_q_0, mean_q_m35 (116.35628, 115.95332)\n"
     ]
    },
    {
     "name": "stderr",
     "output_type": "stream",
     "text": [
      "\n",
      "\n",
      "\n",
      "\n",
      "\n",
      " 50%|████▉     | 74507/150000 [17:51<18:05, 69.52it/s]\u001b[A\u001b[A\u001b[A\u001b[A\u001b[A"
     ]
    },
    {
     "name": "stdout",
     "output_type": "stream",
     "text": [
      "err_z, err_m35 (1974.7086, 3475.2673)\n",
      "mean_q_0, mean_q_m35 (119.67353, 119.26071)\n",
      "err_z, err_m35 (1975.6804, 3450.6516)\n",
      "mean_q_0, mean_q_m35 (119.72269, 119.30066)\n"
     ]
    },
    {
     "name": "stderr",
     "output_type": "stream",
     "text": [
      "\n",
      "\n",
      "\n",
      "\n",
      "\n",
      " 50%|█████     | 75205/150000 [18:01<17:55, 69.53it/s]\u001b[A\u001b[A\u001b[A\u001b[A\u001b[A"
     ]
    },
    {
     "name": "stdout",
     "output_type": "stream",
     "text": [
      "err_z, err_m35 (1869.6497, 3316.5222)\n",
      "mean_q_0, mean_q_m35 (119.85583, 119.42503)\n"
     ]
    },
    {
     "name": "stderr",
     "output_type": "stream",
     "text": [
      "\n",
      "\n",
      "\n",
      "\n",
      "\n",
      " 51%|█████     | 75903/150000 [18:11<17:45, 69.53it/s]\u001b[A\u001b[A\u001b[A\u001b[A\u001b[A"
     ]
    },
    {
     "name": "stdout",
     "output_type": "stream",
     "text": [
      "err_z, err_m35 (1931.4851, 3594.4729)\n",
      "mean_q_0, mean_q_m35 (119.39179, 118.95123)\n",
      "err_z, err_m35 (1941.006, 3824.9915)\n",
      "mean_q_0, mean_q_m35 (120.49305, 120.04166)\n"
     ]
    },
    {
     "name": "stderr",
     "output_type": "stream",
     "text": [
      "\n",
      "\n",
      "\n",
      "\n",
      "\n",
      " 51%|█████     | 76601/150000 [18:21<17:35, 69.53it/s]\u001b[A\u001b[A\u001b[A\u001b[A\u001b[A"
     ]
    },
    {
     "name": "stdout",
     "output_type": "stream",
     "text": [
      "err_z, err_m35 (1884.4995, 3578.1018)\n",
      "mean_q_0, mean_q_m35 (119.63825, 119.17771)\n"
     ]
    },
    {
     "name": "stderr",
     "output_type": "stream",
     "text": [
      "\n",
      "\n",
      "\n",
      "\n",
      "\n",
      " 52%|█████▏    | 77299/150000 [18:31<17:25, 69.53it/s]\u001b[A\u001b[A\u001b[A\u001b[A\u001b[A"
     ]
    },
    {
     "name": "stdout",
     "output_type": "stream",
     "text": [
      "err_z, err_m35 (1896.0503, 3649.635)\n",
      "mean_q_0, mean_q_m35 (121.98589, 121.5146)\n"
     ]
    },
    {
     "name": "stderr",
     "output_type": "stream",
     "text": [
      "\n",
      "\n",
      "\n",
      "\n",
      "\n",
      " 52%|█████▏    | 77997/150000 [18:41<17:15, 69.53it/s]\u001b[A\u001b[A\u001b[A\u001b[A\u001b[A"
     ]
    },
    {
     "name": "stdout",
     "output_type": "stream",
     "text": [
      "err_z, err_m35 (1888.3832, 3713.9192)\n",
      "mean_q_0, mean_q_m35 (121.98266, 121.50047)\n",
      "err_z, err_m35 (1849.1471, 3675.7947)\n",
      "mean_q_0, mean_q_m35 (119.12135, 118.62989)\n"
     ]
    },
    {
     "name": "stderr",
     "output_type": "stream",
     "text": [
      "\n",
      "\n",
      "\n",
      "\n",
      "\n",
      " 52%|█████▏    | 78696/150000 [18:51<17:05, 69.53it/s]\u001b[A\u001b[A\u001b[A\u001b[A\u001b[A"
     ]
    },
    {
     "name": "stdout",
     "output_type": "stream",
     "text": [
      "err_z, err_m35 (1924.5991, 3876.3726)\n",
      "mean_q_0, mean_q_m35 (123.81631, 123.31271)\n"
     ]
    },
    {
     "name": "stderr",
     "output_type": "stream",
     "text": [
      "\n",
      "\n",
      "\n",
      "\n",
      "\n",
      " 53%|█████▎    | 79395/150000 [19:01<16:55, 69.54it/s]\u001b[A\u001b[A\u001b[A\u001b[A\u001b[A"
     ]
    },
    {
     "name": "stdout",
     "output_type": "stream",
     "text": [
      "err_z, err_m35 (1979.5298, 3749.1443)\n",
      "mean_q_0, mean_q_m35 (122.84198, 122.32814)\n",
      "err_z, err_m35 (1921.891, 3551.5808)\n",
      "mean_q_0, mean_q_m35 (122.74006, 122.21445)\n"
     ]
    },
    {
     "name": "stderr",
     "output_type": "stream",
     "text": [
      "\n",
      "\n",
      "\n",
      "\n",
      "\n",
      " 53%|█████▎    | 80094/150000 [19:11<16:45, 69.54it/s]\u001b[A\u001b[A\u001b[A\u001b[A\u001b[A"
     ]
    },
    {
     "name": "stdout",
     "output_type": "stream",
     "text": [
      "err_z, err_m35 (2026.0072, 3892.6865)\n",
      "mean_q_0, mean_q_m35 (124.18533, 123.64748)\n"
     ]
    },
    {
     "name": "stderr",
     "output_type": "stream",
     "text": [
      "\n",
      "\n",
      "\n",
      "\n",
      "\n",
      " 54%|█████▍    | 80791/150000 [19:21<16:35, 69.54it/s]\u001b[A\u001b[A\u001b[A\u001b[A\u001b[A"
     ]
    },
    {
     "name": "stdout",
     "output_type": "stream",
     "text": [
      "err_z, err_m35 (1964.705, 3742.0818)\n",
      "mean_q_0, mean_q_m35 (123.70863, 123.15992)\n"
     ]
    },
    {
     "name": "stderr",
     "output_type": "stream",
     "text": [
      "\n",
      "\n",
      "\n",
      "\n",
      "\n",
      " 54%|█████▍    | 81489/150000 [19:31<16:25, 69.54it/s]\u001b[A\u001b[A\u001b[A\u001b[A\u001b[A"
     ]
    },
    {
     "name": "stdout",
     "output_type": "stream",
     "text": [
      "err_z, err_m35 (1945.4172, 3898.991)\n",
      "mean_q_0, mean_q_m35 (126.0623, 125.5002)\n",
      "err_z, err_m35 (1952.1923, 3710.1533)\n",
      "mean_q_0, mean_q_m35 (124.42978, 123.85495)\n"
     ]
    },
    {
     "name": "stderr",
     "output_type": "stream",
     "text": [
      "\n",
      "\n",
      "\n",
      "\n",
      "\n",
      " 55%|█████▍    | 82187/150000 [19:41<16:15, 69.54it/s]\u001b[A\u001b[A\u001b[A\u001b[A\u001b[A"
     ]
    },
    {
     "name": "stdout",
     "output_type": "stream",
     "text": [
      "err_z, err_m35 (2064.124, 3865.9456)\n",
      "mean_q_0, mean_q_m35 (125.78656, 125.19918)\n"
     ]
    },
    {
     "name": "stderr",
     "output_type": "stream",
     "text": [
      "\n",
      "\n",
      "\n",
      "\n",
      "\n",
      " 55%|█████▌    | 82884/150000 [19:51<16:05, 69.54it/s]\u001b[A\u001b[A\u001b[A\u001b[A\u001b[A"
     ]
    },
    {
     "name": "stdout",
     "output_type": "stream",
     "text": [
      "err_z, err_m35 (2061.4795, 3865.6118)\n",
      "mean_q_0, mean_q_m35 (128.33865, 127.73908)\n",
      "err_z, err_m35 (2053.2732, 3993.3127)\n",
      "mean_q_0, mean_q_m35 (128.54865, 127.93604)\n"
     ]
    },
    {
     "name": "stderr",
     "output_type": "stream",
     "text": [
      "\n",
      "\n",
      "\n",
      "\n",
      "\n",
      " 56%|█████▌    | 83582/150000 [20:01<15:55, 69.54it/s]\u001b[A\u001b[A\u001b[A\u001b[A\u001b[A"
     ]
    },
    {
     "name": "stdout",
     "output_type": "stream",
     "text": [
      "err_z, err_m35 (1970.5918, 3924.1816)\n",
      "mean_q_0, mean_q_m35 (127.76418, 127.13699)\n"
     ]
    },
    {
     "name": "stderr",
     "output_type": "stream",
     "text": [
      "\n",
      "\n",
      "\n",
      "\n",
      "\n",
      " 56%|█████▌    | 84280/150000 [20:11<15:45, 69.54it/s]\u001b[A\u001b[A\u001b[A\u001b[A\u001b[A"
     ]
    },
    {
     "name": "stdout",
     "output_type": "stream",
     "text": [
      "err_z, err_m35 (1857.012, 3854.4492)\n",
      "mean_q_0, mean_q_m35 (127.18838, 126.54424)\n"
     ]
    },
    {
     "name": "stderr",
     "output_type": "stream",
     "text": [
      "\n",
      "\n",
      "\n",
      "\n",
      "\n",
      " 57%|█████▋    | 84978/150000 [20:21<15:34, 69.54it/s]\u001b[A\u001b[A\u001b[A\u001b[A\u001b[A"
     ]
    },
    {
     "name": "stdout",
     "output_type": "stream",
     "text": [
      "err_z, err_m35 (1965.4146, 3938.4817)\n",
      "mean_q_0, mean_q_m35 (126.01101, 125.35279)\n",
      "err_z, err_m35 (2058.8677, 3782.9324)\n",
      "mean_q_0, mean_q_m35 (126.84135, 126.17065)\n"
     ]
    },
    {
     "name": "stderr",
     "output_type": "stream",
     "text": [
      "\n",
      "\n",
      "\n",
      "\n",
      "\n",
      " 57%|█████▋    | 85676/150000 [20:31<15:24, 69.54it/s]\u001b[A\u001b[A\u001b[A\u001b[A\u001b[A"
     ]
    },
    {
     "name": "stdout",
     "output_type": "stream",
     "text": [
      "err_z, err_m35 (1817.1091, 4178.1313)\n",
      "mean_q_0, mean_q_m35 (126.17329, 125.48705)\n"
     ]
    },
    {
     "name": "stderr",
     "output_type": "stream",
     "text": [
      "\n",
      "\n",
      "\n",
      "\n",
      "\n",
      " 58%|█████▊    | 86374/150000 [20:41<15:14, 69.55it/s]\u001b[A\u001b[A\u001b[A\u001b[A\u001b[A"
     ]
    },
    {
     "name": "stdout",
     "output_type": "stream",
     "text": [
      "err_z, err_m35 (2003.913, 3884.4316)\n",
      "mean_q_0, mean_q_m35 (128.66809, 127.96483)\n",
      "err_z, err_m35 (2024.0038, 3755.9998)\n",
      "mean_q_0, mean_q_m35 (130.20119, 129.48302)\n"
     ]
    },
    {
     "name": "stderr",
     "output_type": "stream",
     "text": [
      "\n",
      "\n",
      "\n",
      "\n",
      "\n",
      " 58%|█████▊    | 87072/150000 [20:51<15:04, 69.55it/s]\u001b[A\u001b[A\u001b[A\u001b[A\u001b[A"
     ]
    },
    {
     "name": "stdout",
     "output_type": "stream",
     "text": [
      "err_z, err_m35 (2067.228, 4029.324)\n",
      "mean_q_0, mean_q_m35 (128.60478, 127.86693)\n"
     ]
    },
    {
     "name": "stderr",
     "output_type": "stream",
     "text": [
      "\n",
      "\n",
      "\n",
      "\n",
      "\n",
      " 59%|█████▊    | 87769/150000 [21:01<14:54, 69.55it/s]\u001b[A\u001b[A\u001b[A\u001b[A\u001b[A"
     ]
    },
    {
     "name": "stdout",
     "output_type": "stream",
     "text": [
      "err_z, err_m35 (1954.822, 4172.5605)\n",
      "mean_q_0, mean_q_m35 (130.37968, 129.62675)\n"
     ]
    },
    {
     "name": "stderr",
     "output_type": "stream",
     "text": [
      "\n",
      "\n",
      "\n",
      "\n",
      "\n",
      " 59%|█████▉    | 88467/150000 [21:11<14:44, 69.55it/s]\u001b[A\u001b[A\u001b[A\u001b[A\u001b[A"
     ]
    },
    {
     "name": "stdout",
     "output_type": "stream",
     "text": [
      "err_z, err_m35 (1992.2296, 4191.124)\n",
      "mean_q_0, mean_q_m35 (131.15265, 130.38274)\n",
      "err_z, err_m35 (1905.7217, 4346.7632)\n",
      "mean_q_0, mean_q_m35 (133.91734, 133.13065)\n"
     ]
    },
    {
     "name": "stderr",
     "output_type": "stream",
     "text": [
      "\n",
      "\n",
      "\n",
      "\n",
      "\n",
      " 59%|█████▉    | 89165/150000 [21:22<14:34, 69.55it/s]\u001b[A\u001b[A\u001b[A\u001b[A\u001b[A"
     ]
    },
    {
     "name": "stdout",
     "output_type": "stream",
     "text": [
      "err_z, err_m35 (2092.6284, 4167.8574)\n",
      "mean_q_0, mean_q_m35 (132.20825, 131.40349)\n"
     ]
    },
    {
     "name": "stderr",
     "output_type": "stream",
     "text": [
      "\n",
      "\n",
      "\n",
      "\n",
      "\n",
      " 60%|█████▉    | 89864/150000 [21:32<14:24, 69.55it/s]\u001b[A\u001b[A\u001b[A\u001b[A\u001b[A"
     ]
    },
    {
     "name": "stdout",
     "output_type": "stream",
     "text": [
      "err_z, err_m35 (2057.9834, 4120.1631)\n",
      "mean_q_0, mean_q_m35 (134.40706, 133.58231)\n",
      "err_z, err_m35 (1965.0538, 3890.1968)\n",
      "mean_q_0, mean_q_m35 (134.5629, 133.72055)\n"
     ]
    },
    {
     "name": "stderr",
     "output_type": "stream",
     "text": [
      "\n",
      "\n",
      "\n",
      "\n",
      "\n",
      " 60%|██████    | 90563/150000 [21:42<14:14, 69.55it/s]\u001b[A\u001b[A\u001b[A\u001b[A\u001b[A"
     ]
    },
    {
     "name": "stdout",
     "output_type": "stream",
     "text": [
      "err_z, err_m35 (2040.2689, 4250.4722)\n",
      "mean_q_0, mean_q_m35 (135.14108, 134.27925)\n"
     ]
    },
    {
     "name": "stderr",
     "output_type": "stream",
     "text": [
      "\n",
      "\n",
      "\n",
      "\n",
      "\n",
      " 61%|██████    | 91260/150000 [21:52<14:04, 69.55it/s]\u001b[A\u001b[A\u001b[A\u001b[A\u001b[A"
     ]
    },
    {
     "name": "stdout",
     "output_type": "stream",
     "text": [
      "err_z, err_m35 (1926.1053, 4417.3906)\n",
      "mean_q_0, mean_q_m35 (134.10471, 133.22231)\n"
     ]
    },
    {
     "name": "stderr",
     "output_type": "stream",
     "text": [
      "\n",
      "\n",
      "\n",
      "\n",
      "\n",
      " 61%|██████▏   | 91958/150000 [22:02<13:54, 69.55it/s]\u001b[A\u001b[A\u001b[A\u001b[A\u001b[A"
     ]
    },
    {
     "name": "stdout",
     "output_type": "stream",
     "text": [
      "err_z, err_m35 (1978.3374, 3985.645)\n",
      "mean_q_0, mean_q_m35 (132.76735, 131.86732)\n",
      "err_z, err_m35 (2084.2202, 4093.7617)\n",
      "mean_q_0, mean_q_m35 (135.03281, 134.11243)\n"
     ]
    },
    {
     "name": "stderr",
     "output_type": "stream",
     "text": [
      "\n",
      "\n",
      "\n",
      "\n",
      "\n",
      " 62%|██████▏   | 92656/150000 [22:12<13:44, 69.55it/s]\u001b[A\u001b[A\u001b[A\u001b[A\u001b[A"
     ]
    },
    {
     "name": "stdout",
     "output_type": "stream",
     "text": [
      "err_z, err_m35 (2021.1727, 4044.3123)\n",
      "mean_q_0, mean_q_m35 (135.4352, 134.49054)\n"
     ]
    },
    {
     "name": "stderr",
     "output_type": "stream",
     "text": [
      "\n",
      "\n",
      "\n",
      "\n",
      "\n",
      " 62%|██████▏   | 93354/150000 [22:22<13:34, 69.56it/s]\u001b[A\u001b[A\u001b[A\u001b[A\u001b[A"
     ]
    },
    {
     "name": "stdout",
     "output_type": "stream",
     "text": [
      "err_z, err_m35 (1937.9058, 4621.0103)\n",
      "mean_q_0, mean_q_m35 (136.00681, 135.04343)\n",
      "err_z, err_m35 (1924.0338, 4490.7554)\n",
      "mean_q_0, mean_q_m35 (135.5446, 134.55545)\n"
     ]
    },
    {
     "name": "stderr",
     "output_type": "stream",
     "text": [
      "\n",
      "\n",
      "\n",
      "\n",
      "\n",
      " 63%|██████▎   | 94052/150000 [22:32<13:24, 69.56it/s]\u001b[A\u001b[A\u001b[A\u001b[A\u001b[A"
     ]
    },
    {
     "name": "stdout",
     "output_type": "stream",
     "text": [
      "err_z, err_m35 (1922.89, 4168.4858)\n",
      "mean_q_0, mean_q_m35 (136.38124, 135.36958)\n"
     ]
    },
    {
     "name": "stderr",
     "output_type": "stream",
     "text": [
      "\n",
      "\n",
      "\n",
      "\n",
      "\n",
      " 63%|██████▎   | 94749/150000 [22:42<13:14, 69.56it/s]\u001b[A\u001b[A\u001b[A\u001b[A\u001b[A"
     ]
    },
    {
     "name": "stdout",
     "output_type": "stream",
     "text": [
      "err_z, err_m35 (1994.7095, 4434.4263)\n",
      "mean_q_0, mean_q_m35 (138.8728, 137.83916)\n"
     ]
    },
    {
     "name": "stderr",
     "output_type": "stream",
     "text": [
      "\n",
      "\n",
      "\n",
      "\n",
      "\n",
      " 64%|██████▎   | 95446/150000 [22:52<13:04, 69.56it/s]\u001b[A\u001b[A\u001b[A\u001b[A\u001b[A"
     ]
    },
    {
     "name": "stdout",
     "output_type": "stream",
     "text": [
      "err_z, err_m35 (2016.8771, 4454.2383)\n",
      "mean_q_0, mean_q_m35 (138.31004, 137.25412)\n",
      "err_z, err_m35 (1919.2354, 4554.2725)\n",
      "mean_q_0, mean_q_m35 (138.48491, 137.40239)\n"
     ]
    },
    {
     "name": "stderr",
     "output_type": "stream",
     "text": [
      "\n",
      "\n",
      "\n",
      "\n",
      "\n",
      " 64%|██████▍   | 96143/150000 [23:02<12:54, 69.56it/s]\u001b[A\u001b[A\u001b[A\u001b[A\u001b[A"
     ]
    },
    {
     "name": "stdout",
     "output_type": "stream",
     "text": [
      "err_z, err_m35 (2059.5835, 4655.5942)\n",
      "mean_q_0, mean_q_m35 (141.10503, 139.99522)\n"
     ]
    },
    {
     "name": "stderr",
     "output_type": "stream",
     "text": [
      "\n",
      "\n",
      "\n",
      "\n",
      "\n",
      " 65%|██████▍   | 96840/150000 [23:12<12:44, 69.56it/s]\u001b[A\u001b[A\u001b[A\u001b[A\u001b[A"
     ]
    },
    {
     "name": "stdout",
     "output_type": "stream",
     "text": [
      "err_z, err_m35 (2035.84, 4528.2822)\n",
      "mean_q_0, mean_q_m35 (141.07402, 139.93625)\n"
     ]
    }
   ],
   "source": [
    "err_list = []\n",
    "q_0_hist = []\n",
    "for i in tqdm(range(150000), mininterval=10):\n",
    "    idx = np.random.randint(df.shape[0], size = 500)\n",
    "    X_curr = X[idx]\n",
    "\n",
    "    next_pred_z   = model_z.predict(X_curr[:, next_state_cols_nos])\n",
    "    next_pred_m35 = model_m35.predict(X_curr[:, next_state_cols_nos])\n",
    "    \n",
    "    last_day_ind = np.where(X_curr[:, col_n2no['days_left_next']] ==0)\n",
    "\n",
    "    next_pred_z[last_day_ind] = 0.\n",
    "    next_pred_m35[last_day_ind] = 0.\n",
    "    \n",
    "    next_pred_z[:, 0] += X_curr[:, col_n2no['rev_ser']]\n",
    "    next_pred_m35[:, 0] += X_curr[:, col_n2no['rev_ser']]\n",
    "\n",
    "    m35_action_ind = np.where(X_curr[:, col_n2no['action']] == -0.35)\n",
    "    z_action_ind   = np.where(X_curr[:, col_n2no['action']] ==0.)\n",
    "\n",
    "    #next_pred_m35[m35_action_ind, 0] += X_curr[m35_action_ind, col_n2no['rev_ser']]\n",
    "    #next_pred_z[z_action_ind, 0]     += X_curr[z_action_ind, col_n2no['rev_ser']]\n",
    "    \n",
    "\n",
    "    err_z   = model_z.train_on_batch(X_curr[z_action_ind][:,state_cols_nos], next_pred_z[z_action_ind])\n",
    "    err_m35 = model_m35.train_on_batch(X_curr[m35_action_ind][:,state_cols_nos], next_pred_m35[m35_action_ind])\n",
    "    err_list.append((err_z, err_m35))\n",
    "    if not i%500:\n",
    "        mean_q_0   = next_pred_z[np.where(X_curr[:, col_n2no['days_left_next']] ==10)].mean()\n",
    "        mean_q_m35 = next_pred_m35[np.where(X_curr[:, col_n2no['days_left_next']] ==10)].mean()\n",
    "        q_0_hist.append((mean_q_0, mean_q_m35))\n",
    "        print('err_z, err_m35',(err_z, err_m35))\n",
    "        print('mean_q_0, mean_q_m35',(mean_q_0, mean_q_m35))"
   ]
  },
  {
   "cell_type": "code",
   "execution_count": null,
   "metadata": {},
   "outputs": [],
   "source": []
  },
  {
   "cell_type": "markdown",
   "metadata": {},
   "source": [
    "### Попытка с бинаризацией "
   ]
  },
  {
   "cell_type": "code",
   "execution_count": 210,
   "metadata": {},
   "outputs": [],
   "source": [
    "samples_list = []\n",
    "for i in (range(1000)):\n",
    "    tmp_df, (bin_state, next_bin_state) = gen_rl_df(delta = .35, alpha = 2., scale = 40, season = season, init_oh = init_oh, disc_len = dics)\n",
    "    samples_list.append(tmp_df)\n",
    "    \n",
    "data_samples = pd.concat(samples_list)\n",
    "\n",
    "\n",
    "\n",
    "\n",
    "df =data_samples.fillna(0)\n",
    "df['dumm_0'] = 0.\n",
    "df['dumm_m35'] = -.35\n",
    "\n",
    "df['V'] = df.apply(lambda x:V(x['oh_after'], 40, 94.67, .35, int(x['days_left'])), 1)\n",
    "df['Q_keep'] = df.apply(lambda x:Q(x['oh_after'], 40, 94.67, .35, int(x['days_left']), 0), 1)\n",
    "df['Q_disc'] = df.apply(lambda x:Q(x['oh_after'], 40, 94.67, .35, int(x['days_left']), -.35), 1)"
   ]
  },
  {
   "cell_type": "code",
   "execution_count": 218,
   "metadata": {},
   "outputs": [
    {
     "data": {
      "text/plain": [
       "([4, 5, 6, 7, 8, 9, 10, 11, 12, 13, 14, 15, 16],\n",
       " [17, 18, 19, 20, 21, 22, 23, 24, 25, 26, 27, 28, 29])"
      ]
     },
     "execution_count": 218,
     "metadata": {},
     "output_type": "execute_result"
    }
   ],
   "source": [
    "num_actions = 2\n",
    "m35_order = 1\n",
    "z_order = 0\n",
    "state_cols = ['oh_after'] + bin_state\n",
    "next_state_cols = [col + '_next' for col in state_cols]\n",
    "useful_cols = ['days_left', 'action', 'rev_ser', 'days_left_next']\n",
    "\n",
    "\n",
    "used_cols = useful_cols +state_cols+next_state_cols\n",
    "col_n2no =  {name:i for i, name in  enumerate(used_cols)}\n",
    "\n",
    "X = df[used_cols].values\n",
    "\n",
    "\n",
    "state_cols_nos = [col_n2no[name] for name in state_cols]\n",
    "next_state_cols_nos = [col_n2no[name] for name in next_state_cols]\n",
    "\n",
    "state_cols_nos, next_state_cols_nos\n"
   ]
  },
  {
   "cell_type": "code",
   "execution_count": 219,
   "metadata": {},
   "outputs": [
    {
     "name": "stderr",
     "output_type": "stream",
     "text": [
      "/Users/alexey/anaconda3/lib/python3.6/site-packages/ipykernel_launcher.py:10: UserWarning: Update your `Dense` call to the Keras 2 API: `Dense(12, input_dim=13, activation=\"relu\", kernel_initializer=\"uniform\")`\n",
      "  # Remove the CWD from sys.path while we load stuff.\n"
     ]
    }
   ],
   "source": [
    "from keras.models import Sequential\n",
    "from keras.layers.convolutional import Convolution2D\n",
    "from keras.layers.core import Dense, Flatten, Dropout\n",
    "from keras.optimizers import SGD, RMSprop,Adagrad\n",
    "\n",
    "\n",
    "\n",
    "# define the architecture of the network\n",
    "model = Sequential()\n",
    "model.add(Dense(12, input_dim=len(state_cols_nos), init=\"uniform\", activation=\"relu\"))\n",
    "model.add(Dense(12, activation=\"relu\", kernel_initializer=\"uniform\"))\n",
    "model.add(Dense(num_actions))\n",
    "model.compile(RMSprop(), 'MSE')\n"
   ]
  },
  {
   "cell_type": "code",
   "execution_count": null,
   "metadata": {},
   "outputs": [],
   "source": []
  },
  {
   "cell_type": "code",
   "execution_count": 221,
   "metadata": {},
   "outputs": [
    {
     "name": "stderr",
     "output_type": "stream",
     "text": [
      "\n",
      "\n",
      "\n",
      "\n",
      "\n",
      "\n",
      "\n",
      "\n",
      "\n",
      "  0%|          | 0/150000 [00:00<?, ?it/s]\u001b[A\u001b[A\u001b[A\u001b[A\u001b[A\u001b[A\u001b[A\u001b[A\u001b[A"
     ]
    },
    {
     "name": "stdout",
     "output_type": "stream",
     "text": [
      "err, mean_q_0 904.66437 [365.5022  168.36288]\n",
      "err, mean_q_0 831.41437 [297.35776 185.36462]\n",
      "err, mean_q_0 730.5341 [289.73486 198.30824]\n"
     ]
    },
    {
     "name": "stderr",
     "output_type": "stream",
     "text": [
      "\n",
      "\n",
      "\n",
      "\n",
      "\n",
      "\n",
      "\n",
      "\n",
      "\n",
      "  1%|          | 1121/150000 [00:10<22:09, 112.00it/s]\u001b[A\u001b[A\u001b[A\u001b[A\u001b[A\u001b[A\u001b[A\u001b[A\u001b[A"
     ]
    },
    {
     "name": "stdout",
     "output_type": "stream",
     "text": [
      "err, mean_q_0 685.3835 [273.61426 220.91125]\n"
     ]
    },
    {
     "ename": "KeyboardInterrupt",
     "evalue": "",
     "output_type": "error",
     "traceback": [
      "\u001b[0;31m---------------------------------------------------------------------------\u001b[0m",
      "\u001b[0;31mKeyboardInterrupt\u001b[0m                         Traceback (most recent call last)",
      "\u001b[0;32m<ipython-input-221-f34d2faa785d>\u001b[0m in \u001b[0;36m<module>\u001b[0;34m()\u001b[0m\n\u001b[1;32m      5\u001b[0m     \u001b[0mX_curr\u001b[0m \u001b[0;34m=\u001b[0m \u001b[0mX\u001b[0m\u001b[0;34m[\u001b[0m\u001b[0midx\u001b[0m\u001b[0;34m]\u001b[0m\u001b[0;34m\u001b[0m\u001b[0m\n\u001b[1;32m      6\u001b[0m \u001b[0;34m\u001b[0m\u001b[0m\n\u001b[0;32m----> 7\u001b[0;31m     \u001b[0mnext_pred\u001b[0m \u001b[0;34m=\u001b[0m \u001b[0mmodel\u001b[0m\u001b[0;34m.\u001b[0m\u001b[0mpredict\u001b[0m\u001b[0;34m(\u001b[0m\u001b[0mX_curr\u001b[0m\u001b[0;34m[\u001b[0m\u001b[0;34m:\u001b[0m\u001b[0;34m,\u001b[0m \u001b[0mnext_state_cols_nos\u001b[0m\u001b[0;34m]\u001b[0m\u001b[0;34m)\u001b[0m\u001b[0;34m\u001b[0m\u001b[0m\n\u001b[0m\u001b[1;32m      8\u001b[0m     \u001b[0mlast_day_ind\u001b[0m \u001b[0;34m=\u001b[0m \u001b[0mnp\u001b[0m\u001b[0;34m.\u001b[0m\u001b[0mwhere\u001b[0m\u001b[0;34m(\u001b[0m\u001b[0mX_curr\u001b[0m\u001b[0;34m[\u001b[0m\u001b[0;34m:\u001b[0m\u001b[0;34m,\u001b[0m \u001b[0mcol_n2no\u001b[0m\u001b[0;34m[\u001b[0m\u001b[0;34m'days_left_next'\u001b[0m\u001b[0;34m]\u001b[0m\u001b[0;34m]\u001b[0m \u001b[0;34m==\u001b[0m\u001b[0;36m0\u001b[0m\u001b[0;34m)\u001b[0m\u001b[0;34m\u001b[0m\u001b[0m\n\u001b[1;32m      9\u001b[0m \u001b[0;34m\u001b[0m\u001b[0m\n",
      "\u001b[0;32m~/anaconda3/lib/python3.6/site-packages/keras/engine/training.py\u001b[0m in \u001b[0;36mpredict\u001b[0;34m(self, x, batch_size, verbose, steps)\u001b[0m\n\u001b[1;32m   1167\u001b[0m                                             \u001b[0mbatch_size\u001b[0m\u001b[0;34m=\u001b[0m\u001b[0mbatch_size\u001b[0m\u001b[0;34m,\u001b[0m\u001b[0;34m\u001b[0m\u001b[0m\n\u001b[1;32m   1168\u001b[0m                                             \u001b[0mverbose\u001b[0m\u001b[0;34m=\u001b[0m\u001b[0mverbose\u001b[0m\u001b[0;34m,\u001b[0m\u001b[0;34m\u001b[0m\u001b[0m\n\u001b[0;32m-> 1169\u001b[0;31m                                             steps=steps)\n\u001b[0m\u001b[1;32m   1170\u001b[0m \u001b[0;34m\u001b[0m\u001b[0m\n\u001b[1;32m   1171\u001b[0m     def train_on_batch(self, x, y,\n",
      "\u001b[0;32m~/anaconda3/lib/python3.6/site-packages/keras/engine/training_arrays.py\u001b[0m in \u001b[0;36mpredict_loop\u001b[0;34m(model, f, ins, batch_size, verbose, steps)\u001b[0m\n\u001b[1;32m    292\u001b[0m                 \u001b[0mins_batch\u001b[0m\u001b[0;34m[\u001b[0m\u001b[0mi\u001b[0m\u001b[0;34m]\u001b[0m \u001b[0;34m=\u001b[0m \u001b[0mins_batch\u001b[0m\u001b[0;34m[\u001b[0m\u001b[0mi\u001b[0m\u001b[0;34m]\u001b[0m\u001b[0;34m.\u001b[0m\u001b[0mtoarray\u001b[0m\u001b[0;34m(\u001b[0m\u001b[0;34m)\u001b[0m\u001b[0;34m\u001b[0m\u001b[0m\n\u001b[1;32m    293\u001b[0m \u001b[0;34m\u001b[0m\u001b[0m\n\u001b[0;32m--> 294\u001b[0;31m             \u001b[0mbatch_outs\u001b[0m \u001b[0;34m=\u001b[0m \u001b[0mf\u001b[0m\u001b[0;34m(\u001b[0m\u001b[0mins_batch\u001b[0m\u001b[0;34m)\u001b[0m\u001b[0;34m\u001b[0m\u001b[0m\n\u001b[0m\u001b[1;32m    295\u001b[0m             \u001b[0mbatch_outs\u001b[0m \u001b[0;34m=\u001b[0m \u001b[0mto_list\u001b[0m\u001b[0;34m(\u001b[0m\u001b[0mbatch_outs\u001b[0m\u001b[0;34m)\u001b[0m\u001b[0;34m\u001b[0m\u001b[0m\n\u001b[1;32m    296\u001b[0m             \u001b[0;32mif\u001b[0m \u001b[0mbatch_index\u001b[0m \u001b[0;34m==\u001b[0m \u001b[0;36m0\u001b[0m\u001b[0;34m:\u001b[0m\u001b[0;34m\u001b[0m\u001b[0m\n",
      "\u001b[0;32m~/anaconda3/lib/python3.6/site-packages/keras/backend/tensorflow_backend.py\u001b[0m in \u001b[0;36m__call__\u001b[0;34m(self, inputs)\u001b[0m\n\u001b[1;32m   2713\u001b[0m                 \u001b[0;32mreturn\u001b[0m \u001b[0mself\u001b[0m\u001b[0;34m.\u001b[0m\u001b[0m_legacy_call\u001b[0m\u001b[0;34m(\u001b[0m\u001b[0minputs\u001b[0m\u001b[0;34m)\u001b[0m\u001b[0;34m\u001b[0m\u001b[0m\n\u001b[1;32m   2714\u001b[0m \u001b[0;34m\u001b[0m\u001b[0m\n\u001b[0;32m-> 2715\u001b[0;31m             \u001b[0;32mreturn\u001b[0m \u001b[0mself\u001b[0m\u001b[0;34m.\u001b[0m\u001b[0m_call\u001b[0m\u001b[0;34m(\u001b[0m\u001b[0minputs\u001b[0m\u001b[0;34m)\u001b[0m\u001b[0;34m\u001b[0m\u001b[0m\n\u001b[0m\u001b[1;32m   2716\u001b[0m         \u001b[0;32melse\u001b[0m\u001b[0;34m:\u001b[0m\u001b[0;34m\u001b[0m\u001b[0m\n\u001b[1;32m   2717\u001b[0m             \u001b[0;32mif\u001b[0m \u001b[0mpy_any\u001b[0m\u001b[0;34m(\u001b[0m\u001b[0mis_tensor\u001b[0m\u001b[0;34m(\u001b[0m\u001b[0mx\u001b[0m\u001b[0;34m)\u001b[0m \u001b[0;32mfor\u001b[0m \u001b[0mx\u001b[0m \u001b[0;32min\u001b[0m \u001b[0minputs\u001b[0m\u001b[0;34m)\u001b[0m\u001b[0;34m:\u001b[0m\u001b[0;34m\u001b[0m\u001b[0m\n",
      "\u001b[0;32m~/anaconda3/lib/python3.6/site-packages/keras/backend/tensorflow_backend.py\u001b[0m in \u001b[0;36m_call\u001b[0;34m(self, inputs)\u001b[0m\n\u001b[1;32m   2673\u001b[0m             \u001b[0mfetched\u001b[0m \u001b[0;34m=\u001b[0m \u001b[0mself\u001b[0m\u001b[0;34m.\u001b[0m\u001b[0m_callable_fn\u001b[0m\u001b[0;34m(\u001b[0m\u001b[0;34m*\u001b[0m\u001b[0marray_vals\u001b[0m\u001b[0;34m,\u001b[0m \u001b[0mrun_metadata\u001b[0m\u001b[0;34m=\u001b[0m\u001b[0mself\u001b[0m\u001b[0;34m.\u001b[0m\u001b[0mrun_metadata\u001b[0m\u001b[0;34m)\u001b[0m\u001b[0;34m\u001b[0m\u001b[0m\n\u001b[1;32m   2674\u001b[0m         \u001b[0;32melse\u001b[0m\u001b[0;34m:\u001b[0m\u001b[0;34m\u001b[0m\u001b[0m\n\u001b[0;32m-> 2675\u001b[0;31m             \u001b[0mfetched\u001b[0m \u001b[0;34m=\u001b[0m \u001b[0mself\u001b[0m\u001b[0;34m.\u001b[0m\u001b[0m_callable_fn\u001b[0m\u001b[0;34m(\u001b[0m\u001b[0;34m*\u001b[0m\u001b[0marray_vals\u001b[0m\u001b[0;34m)\u001b[0m\u001b[0;34m\u001b[0m\u001b[0m\n\u001b[0m\u001b[1;32m   2676\u001b[0m         \u001b[0;32mreturn\u001b[0m \u001b[0mfetched\u001b[0m\u001b[0;34m[\u001b[0m\u001b[0;34m:\u001b[0m\u001b[0mlen\u001b[0m\u001b[0;34m(\u001b[0m\u001b[0mself\u001b[0m\u001b[0;34m.\u001b[0m\u001b[0moutputs\u001b[0m\u001b[0;34m)\u001b[0m\u001b[0;34m]\u001b[0m\u001b[0;34m\u001b[0m\u001b[0m\n\u001b[1;32m   2677\u001b[0m \u001b[0;34m\u001b[0m\u001b[0m\n",
      "\u001b[0;32m~/anaconda3/lib/python3.6/site-packages/tensorflow/python/client/session.py\u001b[0m in \u001b[0;36m__call__\u001b[0;34m(self, *args, **kwargs)\u001b[0m\n\u001b[1;32m   1397\u001b[0m           ret = tf_session.TF_SessionRunCallable(\n\u001b[1;32m   1398\u001b[0m               \u001b[0mself\u001b[0m\u001b[0;34m.\u001b[0m\u001b[0m_session\u001b[0m\u001b[0;34m.\u001b[0m\u001b[0m_session\u001b[0m\u001b[0;34m,\u001b[0m \u001b[0mself\u001b[0m\u001b[0;34m.\u001b[0m\u001b[0m_handle\u001b[0m\u001b[0;34m,\u001b[0m \u001b[0margs\u001b[0m\u001b[0;34m,\u001b[0m \u001b[0mstatus\u001b[0m\u001b[0;34m,\u001b[0m\u001b[0;34m\u001b[0m\u001b[0m\n\u001b[0;32m-> 1399\u001b[0;31m               run_metadata_ptr)\n\u001b[0m\u001b[1;32m   1400\u001b[0m         \u001b[0;32mif\u001b[0m \u001b[0mrun_metadata\u001b[0m\u001b[0;34m:\u001b[0m\u001b[0;34m\u001b[0m\u001b[0m\n\u001b[1;32m   1401\u001b[0m           \u001b[0mproto_data\u001b[0m \u001b[0;34m=\u001b[0m \u001b[0mtf_session\u001b[0m\u001b[0;34m.\u001b[0m\u001b[0mTF_GetBuffer\u001b[0m\u001b[0;34m(\u001b[0m\u001b[0mrun_metadata_ptr\u001b[0m\u001b[0;34m)\u001b[0m\u001b[0;34m\u001b[0m\u001b[0m\n",
      "\u001b[0;31mKeyboardInterrupt\u001b[0m: "
     ]
    }
   ],
   "source": [
    "err_list = []\n",
    "q_0_hist = []\n",
    "for i in tqdm(range(150000), mininterval=10):\n",
    "    idx = np.random.randint(df.shape[0], size = 500)\n",
    "    X_curr = X[idx]\n",
    "\n",
    "    next_pred = model.predict(X_curr[:, next_state_cols_nos])\n",
    "    last_day_ind = np.where(X_curr[:, col_n2no['days_left_next']] ==0)\n",
    "\n",
    "    next_pred[last_day_ind] = 0.\n",
    "\n",
    "    m35_action_ind = np.where(X_curr[:, col_n2no['action']] == -0.35)\n",
    "    z_action_ind = np.where(X_curr[:, col_n2no['action']] ==0.)\n",
    "\n",
    "    next_pred[m35_action_ind, m35_order] += X_curr[m35_action_ind, col_n2no['rev_ser']]\n",
    "    next_pred[z_action_ind, z_order]   += X_curr[z_action_ind, col_n2no['rev_ser']]\n",
    "\n",
    "    err = model.train_on_batch(X_curr[:,state_cols_nos], next_pred)\n",
    "    err_list.append(err)\n",
    "    if not i%500:\n",
    "        mean_q_0 = next_pred[np.where(X_curr[:, col_n2no['days_left_next']] ==10)].mean(0)\n",
    "        q_0_hist.append(mean_q_0)\n",
    "        print('err, mean_q_0',err, mean_q_0 )"
   ]
  },
  {
   "cell_type": "code",
   "execution_count": null,
   "metadata": {},
   "outputs": [],
   "source": []
  },
  {
   "cell_type": "code",
   "execution_count": null,
   "metadata": {},
   "outputs": [],
   "source": []
  },
  {
   "cell_type": "markdown",
   "metadata": {},
   "source": [
    "err_list = []\n",
    "q_0_hist = []\n",
    "for i in tqdm(range(150000), mininterval=10):\n",
    "    idx = np.random.randint(df.shape[0], size = 500)\n",
    "    X_curr = X[idx]\n",
    "\n",
    "    next_pred_z   = model_z.predict(X_curr[:, next_state_cols_nos])\n",
    "    next_pred_m35 = model_m35.predict(X_curr[:, next_state_cols_nos])\n",
    "    \n",
    "    last_day_ind = np.where(X_curr[:, col_n2no['days_left_next']] ==0)\n",
    "\n",
    "    next_pred_z[last_day_ind] = 0.\n",
    "    next_pred_m35[last_day_ind] = 0.\n",
    "\n",
    "    m35_action_ind = np.where(X_curr[:, col_n2no['action']] == -0.35)\n",
    "    z_action_ind   = np.where(X_curr[:, col_n2no['action']] ==0.)\n",
    "\n",
    "    next_pred_m35[m35_action_ind, 0] += X_curr[m35_action_ind, col_n2no['rev_ser']]\n",
    "    next_pred_z[z_action_ind, 0]     += X_curr[z_action_ind, col_n2no['rev_ser']]\n",
    "\n",
    "    err_z   = model_z.train_on_batch(X_curr[:,state_cols_nos], next_pred_z)\n",
    "    err_m35 = model_m35.train_on_batch(X_curr[:,state_cols_nos], next_pred_m35)\n",
    "    err_list.append((err_z, err_m35))\n",
    "    if not i%500:\n",
    "        mean_q_0   = next_pred_z[np.where(X_curr[:, col_n2no['days_left_next']] ==10)].mean()\n",
    "        mean_q_m35 = next_pred_m35[np.where(X_curr[:, col_n2no['days_left_next']] ==10)].mean()\n",
    "        q_0_hist.append((mean_q_0, mean_q_m35))\n",
    "        print('err_z, err_m35',(err_z, err_m35))\n",
    "        print('mean_q_0, mean_q_m35',(mean_q_0, mean_q_m35))"
   ]
  },
  {
   "cell_type": "code",
   "execution_count": null,
   "metadata": {},
   "outputs": [],
   "source": []
  },
  {
   "cell_type": "code",
   "execution_count": null,
   "metadata": {},
   "outputs": [],
   "source": []
  },
  {
   "cell_type": "markdown",
   "metadata": {},
   "source": [
    "# Тут разная чушь, не имеющая значения"
   ]
  },
  {
   "cell_type": "code",
   "execution_count": null,
   "metadata": {},
   "outputs": [],
   "source": []
  },
  {
   "cell_type": "code",
   "execution_count": null,
   "metadata": {},
   "outputs": [],
   "source": [
    "import os\n",
    "from random import sample as rsample\n",
    "\n",
    "import numpy as np\n",
    "\n",
    "from keras.models import Sequential\n",
    "from keras.layers.convolutional import Convolution2D\n",
    "from keras.layers.core import Dense, Flatten\n",
    "from keras.optimizers import SGD, RMSprop\n",
    "\n",
    "from matplotlib import pyplot as plt\n",
    "\n",
    "\n",
    "GRID_SIZE = 10\n",
    "\n",
    "\n",
    "nb_epochs = 1000\n",
    "batch_size = 128\n",
    "epsilon = .8\n",
    "gamma = .8\n",
    "\n",
    "# Recipe of deep reinforcement learning model\n",
    "model = Sequential()\n",
    "model.add(Convolution2D(16, nb_row=3, nb_col=3, input_shape=(1, GRID_SIZE, GRID_SIZE), activation='relu'))\n",
    "model.add(Convolution2D(16, nb_row=3, nb_col=3, activation='relu'))\n",
    "model.add(Flatten())\n",
    "model.add(Dense(100, activation='relu'))\n",
    "model.add(Dense(3))\n",
    "model.compile(RMSprop(), 'MSE')\n",
    "\n",
    "exp_replay = experience_replay(batch_size)\n",
    "exp_replay.next()  # Start experience-replay coroutine\n",
    "\n",
    "for i in xrange(nb_epochs):\n",
    "    ep = episode()\n",
    "    S, won = ep.next()  # Start coroutine of single entire episode\n",
    "    loss = 0.\n",
    "    try:\n",
    "        while True:\n",
    "            action = np.random.randint(-1, 2) \n",
    "            if np.random.random() > epsilon:\n",
    "                # Get the index of the maximum q-value of the model.\n",
    "                # Subtract one because actions are either -1, 0, or 1\n",
    "                action = np.argmax(model.predict(S[np.newaxis]), axis=-1)[0] - 1\n",
    "\n",
    "            S_prime, won = ep.send(action)\n",
    "            experience = (S, action, won, S_prime)\n",
    "            S = S_prime\n",
    "            \n",
    "            batch = exp_replay.send(experience)\n",
    "            if batch:\n",
    "                inputs = []\n",
    "                targets = []\n",
    "                for s, a, r, s_prime in batch:\n",
    "                    # The targets of unchosen actions are the q-values of the model,\n",
    "                    # so that the corresponding errors are 0. The targets of chosen actions\n",
    "                    # are either the rewards, in case a terminal state has been reached, \n",
    "                    # or future discounted q-values, in case episodes are still running.\n",
    "                    t = model.predict(s[np.newaxis]).flatten()\n",
    "                    t[a + 1] = r\n",
    "                    if not r:\n",
    "                        t[a + 1] = r + gamma * model.predict(s_prime[np.newaxis]).max(axis=-1)\n",
    "                    targets.append(t)\n",
    "                    inputs.append(s)\n",
    "                \n",
    "                loss += model.train_on_batch(np.array(inputs), np.array(targets))[0]\n",
    "\n",
    "    except StopIteration:\n",
    "        pass\n",
    "    \n",
    "    if (i + 1) % 100 == 0:\n",
    "        print 'Epoch %i, loss: %.6f' % (i + 1, loss)\n",
    "\n",
    "\n",
    "def save_img():\n",
    "    if 'images' not in os.listdir('.'):\n",
    "        os.mkdir('images')\n",
    "    frame = 0\n",
    "    while True:\n",
    "        screen = (yield)\n",
    "        plt.imshow(screen[0], interpolation='none')\n",
    "        plt.savefig('images/%03i.png' % frame)\n",
    "        frame += 1\n",
    "    \n",
    "img_saver = save_img()\n",
    "img_saver.next()\n",
    "\n",
    "for _ in xrange(10):\n",
    "    g = episode()\n",
    "    S, _ = g.next()\n",
    "    img_saver.send(S)\n",
    "    try:\n",
    "        while True:\n",
    "            act = np.argmax(model.predict(S[np.newaxis]), axis=-1)[0] - 1\n",
    "            S, _ = g.send(act)\n",
    "            img_saver.send(S)\n",
    "\n",
    "    except StopIteration:\n",
    "        pass\n",
    "\n",
    "img_saver.close()"
   ]
  },
  {
   "cell_type": "code",
   "execution_count": null,
   "metadata": {},
   "outputs": [],
   "source": []
  },
  {
   "cell_type": "code",
   "execution_count": null,
   "metadata": {},
   "outputs": [],
   "source": []
  },
  {
   "cell_type": "code",
   "execution_count": null,
   "metadata": {},
   "outputs": [],
   "source": []
  },
  {
   "cell_type": "code",
   "execution_count": null,
   "metadata": {},
   "outputs": [],
   "source": []
  },
  {
   "cell_type": "code",
   "execution_count": null,
   "metadata": {},
   "outputs": [],
   "source": [
    "#These lines establish the feed-forward part of the network used to choose actions\n",
    "inputs1 = tf.placeholder(shape=[1,16],dtype=tf.float32)\n",
    "W = tf.Variable(tf.random_uniform([16,4],0,0.01))\n",
    "Qout = tf.matmul(inputs1,W)\n",
    "predict = tf.argmax(Qout,1)\n",
    "\n",
    "#Below we obtain the loss by taking the sum of squares difference between the target and prediction Q values.\n",
    "nextQ = tf.placeholder(shape=[1,4],dtype=tf.float32)\n",
    "loss = tf.reduce_sum(tf.square(nextQ - Qout))\n",
    "trainer = tf.train.GradientDescentOptimizer(learning_rate=0.1)\n",
    "updateModel = trainer.minimize(loss)"
   ]
  },
  {
   "cell_type": "code",
   "execution_count": null,
   "metadata": {},
   "outputs": [],
   "source": [
    "init = tf.initialize_all_variables()\n",
    "\n",
    "# Set learning parameters\n",
    "y = .99\n",
    "e = 0.1\n",
    "num_episodes = 2000\n",
    "#create lists to contain total rewards and steps per episode\n",
    "jList = []\n",
    "rList = []\n",
    "with tf.Session() as sess:\n",
    "    sess.run(init)\n",
    "    for i in range(num_episodes):\n",
    "        #Reset environment and get first new observation\n",
    "        s = env.reset()\n",
    "        rAll = 0\n",
    "        d = False\n",
    "        j = 0\n",
    "        #The Q-Network\n",
    "        while j < 99:\n",
    "            j+=1\n",
    "            #Choose an action by greedily (with e chance of random action) from the Q-network\n",
    "            a,allQ = sess.run([predict,Qout],feed_dict={inputs1:np.identity(16)[s:s+1]})\n",
    "            if np.random.rand(1) < e:\n",
    "                a[0] = env.action_space.sample()\n",
    "            #Get new state and reward from environment\n",
    "            s1,r,d,_ = env.step(a[0])\n",
    "            #Obtain the Q' values by feeding the new state through our network\n",
    "            Q1 = sess.run(Qout,feed_dict={inputs1:np.identity(16)[s1:s1+1]})\n",
    "            #Obtain maxQ' and set our target value for chosen action.\n",
    "            maxQ1 = np.max(Q1)\n",
    "            targetQ = allQ\n",
    "            targetQ[0,a[0]] = r + y*maxQ1\n",
    "            #Train our network using target and predicted Q values\n",
    "            _,W1 = sess.run([updateModel,W],feed_dict={inputs1:np.identity(16)[s:s+1],nextQ:targetQ})\n",
    "            rAll += r\n",
    "            s = s1\n",
    "            if d == True:\n",
    "                #Reduce chance of random action as we train the model.\n",
    "                e = 1./((i/50) + 10)\n",
    "                break\n",
    "        jList.append(j)\n",
    "        rList.append(rAll)\n",
    "print \"Percent of succesful episodes: \" + str(sum(rList)/num_episodes) + \"%\""
   ]
  },
  {
   "cell_type": "code",
   "execution_count": null,
   "metadata": {},
   "outputs": [],
   "source": []
  },
  {
   "cell_type": "code",
   "execution_count": null,
   "metadata": {},
   "outputs": [],
   "source": []
  },
  {
   "cell_type": "code",
   "execution_count": null,
   "metadata": {},
   "outputs": [],
   "source": []
  },
  {
   "cell_type": "code",
   "execution_count": null,
   "metadata": {},
   "outputs": [],
   "source": []
  },
  {
   "cell_type": "code",
   "execution_count": null,
   "metadata": {},
   "outputs": [],
   "source": []
  },
  {
   "cell_type": "code",
   "execution_count": null,
   "metadata": {},
   "outputs": [],
   "source": []
  },
  {
   "cell_type": "code",
   "execution_count": null,
   "metadata": {},
   "outputs": [],
   "source": []
  },
  {
   "cell_type": "code",
   "execution_count": null,
   "metadata": {},
   "outputs": [],
   "source": []
  },
  {
   "cell_type": "code",
   "execution_count": null,
   "metadata": {},
   "outputs": [],
   "source": []
  },
  {
   "cell_type": "code",
   "execution_count": null,
   "metadata": {},
   "outputs": [],
   "source": [
    "\n"
   ]
  },
  {
   "cell_type": "code",
   "execution_count": null,
   "metadata": {},
   "outputs": [],
   "source": []
  },
  {
   "cell_type": "code",
   "execution_count": null,
   "metadata": {},
   "outputs": [],
   "source": []
  }
 ],
 "metadata": {
  "kernelspec": {
   "display_name": "Python 3",
   "language": "python",
   "name": "python3"
  },
  "language_info": {
   "codemirror_mode": {
    "name": "ipython",
    "version": 3
   },
   "file_extension": ".py",
   "mimetype": "text/x-python",
   "name": "python",
   "nbconvert_exporter": "python",
   "pygments_lexer": "ipython3",
   "version": "3.6.3"
  }
 },
 "nbformat": 4,
 "nbformat_minor": 2
}
