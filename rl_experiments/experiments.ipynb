{
 "cells": [
  {
   "cell_type": "markdown",
   "metadata": {},
   "source": [
    "\n",
    "import numpy as np\n",
    "import pandas\n",
    "import matplotlib as plt\n",
    "\n",
    "#print (\"Hi all\")\n",
    "#weekMax = 51\n",
    "#NShops = 80\n",
    "#lastNWeeksDown = 6\n",
    "\n",
    "def changeConfig(sWeek, sItem, sStore):\n",
    "\n",
    "    configfilename = \"params.txt\"\n",
    "    fconfig = open(configfilename, \"r\")\n",
    "    linesList = []\n",
    "    for l in fconfig:\n",
    "        toNewConf  = l\n",
    "        if l.split()[0] == 'sWeek':\n",
    "            toNewConf = 'sWeek = ' + str(sWeek) + \"\\n\"\n",
    "\n",
    "        if l.split()[0] == 'sItem':\n",
    "            toNewConf = 'sItem = ' + str(sItem) + \"\\n\"\n",
    "\n",
    "        if l.split()[0] == 'sStore':\n",
    "            toNewConf = 'sStore = ' + str(sStore) + \"\\n\"\n",
    "        linesList.append(toNewConf)\n",
    "\n",
    "\n",
    "    fconfig.close()\n",
    "    fconfig = open(configfilename, \"w\")\n",
    "    for line in linesList:\n",
    "        fconfig.write(line)\n",
    "\n",
    "\n",
    "\n",
    "def generateSimpleData(delta, alpha, scale, season):\n",
    "\n",
    "    priceMatrix = np.append(np.ones((NShops, weekMax - lastNWeeksDown)), (1 - delta)*np.ones((NShops,lastNWeeksDown)), 1)\n",
    "    \n",
    "    #lastMarkdownArray = (1 - delta/2)*np.ones((NShops,lastNWeeksDown/2))\n",
    "    #lastMarkdownArray = np.append(lastMarkdownArray, (1 - delta)*np.ones((NShops,lastNWeeksDown/2)), 1)\n",
    "    #priceMatrix = np.append(np.ones((NShops, weekMax - lastNWeeksDown)), lastMarkdownArray, 1)\n",
    "    \n",
    "    #priceMatrix = np.append(np.ones((NShops, weekMax - lastNWeeksDown)), np.random.uniform(1 - delta - 0.1,1 - delta + 0.1 ,(NShops,lastNWeeksDown)), 1)\n",
    "    \n",
    "    #effictivityScale = scale*np.arange(1, NShops+1)\n",
    "    effictivityScale = scale*np.linspace(1, 10, NShops) \n",
    "\n",
    "    slsu = np.zeros((NShops, weekMax))\n",
    "    for weekNo in range(weekMax):\n",
    "        for ShopNo in range(NShops):\n",
    "            slsu[ShopNo, weekNo] = np.random.poisson(effictivityScale[ShopNo]*season[weekNo]*(priceMatrix[ShopNo, weekNo]**(-alpha)))\n",
    "            # slsu[ShopNo, weekNo] = effictivityScale[ShopNo]*season[weekNo]*(priceMatrix[ShopNo, weekNo]**(-alpha))\n",
    "\n",
    "    return priceMatrix,  slsu\n",
    "\n",
    "\n",
    "def DataToFile(slsu, price, onHand):\n",
    "    fLogP = open(\"RawData/RawDataLogPrice.txt\", \"w\")\n",
    "    fSlsu = open(\"RawData/RawDataSLSU.txt\", \"w\")\n",
    "    fBoh = open(\"RawData/RawDataBOH.txt\", \"w\")\n",
    "    \n",
    "    for shopNo in range(NShops):\n",
    "        for t in range(weekMax):\n",
    "            #print np.log(price[shopNo, t]), \" \"\n",
    "            fLogP.write(str( -np.log(price[shopNo, t])) + \" \")\n",
    "            fSlsu.write(str(slsu[shopNo, t])+ \" \")\n",
    "            fBoh.write(str(onHand[shopNo, t])+ \" \")\n",
    "\n",
    "if __name__ == \"__main__\":\n",
    "\n",
    "    #season = np.cos (np.linspace(0, 2*np.pi, weekMax)) + 2\n",
    "    #season = np.linspace(1, 0, weekMax) + 2\n",
    "    season = np.array([1]*weekMax)\n",
    "    season = season/sum(season)\n",
    "\n",
    "    price, slsu = generateSimpleData(delta = 0.2, alpha = 1.75, scale = 400, season = season)\n",
    "    onHand = np.ones((NShops,weekMax) )*100\n",
    "    #print price, slsu, onHand\n",
    "    #DataToFile(slsu, price, onHand)\n",
    "    #changeConfig(sWeek =weekMax , sItem = 1, sStore = NShops)"
   ]
  },
  {
   "cell_type": "markdown",
   "metadata": {},
   "source": [
    "dics = np.random.randint(0, 12)\n",
    "\n",
    "price,  slsu, on_hand, rew = generateSimpleData(delta = .35, alpha = 2., scale = 40, season = season, init_oh = init_oh, disc_len = dics)\n",
    "\n",
    "res_ser = rew*unit_price\n",
    "days_left = np.arange(weekMax, 0, -1)  \n",
    "\n",
    "\n",
    "\n",
    "\n",
    "\n",
    "\n",
    "state_cols = ['d_r_sh', 'days_left']\n",
    "\n",
    "df = pd.concat([pd.Series(price), \n",
    "           pd.Series(season),\n",
    "           pd.Series(on_hand),\n",
    "           pd.Series(days_left), \n",
    "           pd.Series(slsu), \n",
    "           pd.Series(res_ser)], 1)\n",
    "\n",
    "df.columns = ['price','season', 'on_hand','days_left', 'slsu' , 'rev_ser']\n",
    "df['d_r_sh'] = df.on_hand / df.slsu\n",
    "\n",
    "\n",
    "df['action'] = (df.price.shift(-1) - df.price ).fillna(0)\n",
    "\n",
    "df_shifted = df[state_cols].shift(-1)\n",
    "df_shifted.columns = [col + '_next' for col in df_shifted.columns]\n",
    "\n",
    "\n",
    "\n",
    "\n",
    "pd.concat([df[state_cols], df_shifted, df[['action', 'rev_ser']]], 1)"
   ]
  },
  {
   "cell_type": "code",
   "execution_count": 1,
   "metadata": {},
   "outputs": [],
   "source": [
    "%matplotlib inline"
   ]
  },
  {
   "cell_type": "code",
   "execution_count": 2,
   "metadata": {},
   "outputs": [],
   "source": [
    "def generateSimpleData(delta, alpha, scale, season, init_oh, disc_len, weekMax):\n",
    "\n",
    "    price = np.append(np.ones( weekMax - disc_len), (1 - delta)*np.ones(disc_len))\n",
    "    \n",
    "    slsu = np.zeros(weekMax)\n",
    "    bst_est = np.zeros(weekMax)\n",
    "    on_hand = np.zeros(weekMax)\n",
    "    on_hand[0]=init_oh\n",
    "    rew = np.zeros(weekMax)\n",
    "    \n",
    "    for weekNo in range(weekMax):\n",
    "        if weekNo:\n",
    "            on_hand[weekNo] = on_hand[weekNo-1] - slsu[weekNo-1]   \n",
    "            \n",
    "        curr_mean =scale*weekMax*season[weekNo]*(price[ weekNo]**(-alpha))\n",
    "        demand = np.random.poisson(curr_mean)\n",
    "        slsu[weekNo] = min(demand, on_hand[weekNo])\n",
    "        rew[weekNo] = slsu[weekNo]*price[weekNo]\n",
    "        bst_est[weekNo] = curr_mean\n",
    "            # slsu[ShopNo, weekNo] = effictivityScale[ShopNo]*season[weekNo]*(priceMatrix[ShopNo, weekNo]**(-alpha))\n",
    "\n",
    "    return price,  slsu, on_hand, rew, bst_est"
   ]
  },
  {
   "cell_type": "code",
   "execution_count": 3,
   "metadata": {},
   "outputs": [],
   "source": [
    "from tqdm import tqdm\n",
    "import numpy as np\n",
    "import pandas as pd"
   ]
  },
  {
   "cell_type": "code",
   "execution_count": 4,
   "metadata": {},
   "outputs": [],
   "source": [
    "weekMax = 12\n",
    "init_oh = 800\n",
    "\n",
    "season = np.array([1]*weekMax)\n",
    "season = season/sum(season)"
   ]
  },
  {
   "cell_type": "code",
   "execution_count": 5,
   "metadata": {},
   "outputs": [
    {
     "name": "stderr",
     "output_type": "stream",
     "text": [
      "100%|██████████| 40/40 [00:04<00:00,  8.39it/s]\n"
     ]
    }
   ],
   "source": [
    "res_dict = {}\n",
    "for dics in tqdm(np.linspace(.0,.7, 40 )):\n",
    "    tmp_list = []\n",
    "    for i in range(1000):\n",
    "        price,  slsu, on_hand, rew, _ = generateSimpleData(delta = dics, alpha = 2., scale = 40, season = season, init_oh = init_oh, disc_len = 6, weekMax = weekMax)\n",
    "        tmp_list.append(np.sum(rew[:]))\n",
    "    res_dict[dics] = np.mean(tmp_list)\n"
   ]
  },
  {
   "cell_type": "code",
   "execution_count": 6,
   "metadata": {},
   "outputs": [
    {
     "data": {
      "text/plain": [
       "<matplotlib.axes._subplots.AxesSubplot at 0x10f224390>"
      ]
     },
     "execution_count": 6,
     "metadata": {},
     "output_type": "execute_result"
    },
    {
     "data": {
      "image/png": "[encoded data removed]",
      "text/plain": [
       "<matplotlib.figure.Figure at 0x1109d6668>"
      ]
     },
     "metadata": {},
     "output_type": "display_data"
    }
   ],
   "source": [
    "pd.Series(res_dict).plot()"
   ]
  },
  {
   "cell_type": "code",
   "execution_count": 7,
   "metadata": {},
   "outputs": [
    {
     "name": "stderr",
     "output_type": "stream",
     "text": [
      "100%|██████████| 12/12 [00:00<00:00, 89.36it/s]\n"
     ]
    }
   ],
   "source": [
    "res_dict = {}\n",
    "for dics in tqdm(range(12)):\n",
    "    tmp_list = []\n",
    "    for i in range(100):\n",
    "        price,  slsu, on_hand, rew, _ = generateSimpleData(delta = .35, alpha = 2., scale = 40, season = season, init_oh = init_oh, disc_len = dics, weekMax = weekMax)\n",
    "        tmp_list.append(np.sum(rew[:]))\n",
    "    res_dict[dics] = np.mean(tmp_list)"
   ]
  },
  {
   "cell_type": "code",
   "execution_count": 8,
   "metadata": {},
   "outputs": [
    {
     "data": {
      "text/plain": [
       "<matplotlib.axes._subplots.AxesSubplot at 0x11829d2b0>"
      ]
     },
     "execution_count": 8,
     "metadata": {},
     "output_type": "execute_result"
    },
    {
     "data": {
      "image/png": "[encoded data removed]",
      "text/plain": [
       "<matplotlib.figure.Figure at 0x11825c208>"
      ]
     },
     "metadata": {},
     "output_type": "display_data"
    }
   ],
   "source": [
    "pd.Series(res_dict).rolling(2).mean().plot()"
   ]
  },
  {
   "cell_type": "code",
   "execution_count": null,
   "metadata": {},
   "outputs": [],
   "source": []
  },
  {
   "cell_type": "code",
   "execution_count": null,
   "metadata": {},
   "outputs": [],
   "source": [
    "\n",
    "\n",
    "\n"
   ]
  },
  {
   "cell_type": "code",
   "execution_count": 9,
   "metadata": {},
   "outputs": [],
   "source": [
    "state_cols = ['days_left', 'oh_after']\n",
    "next_state_cols = [col + '_next' for col in state_cols]\n",
    "\n",
    "def gen_rl_df(delta, alpha, scale, season, init_oh, disc_len, unit_price =1, weekMax = 12):\n",
    "    dics = np.random.randint(0, weekMax)\n",
    "    price,  slsu, on_hand, rew, best_est = generateSimpleData(delta, alpha, scale, \\\n",
    "                                                    season, init_oh, disc_len = dics, weekMax = weekMax)\n",
    "\n",
    "    res_ser = rew*unit_price\n",
    "    days_left = np.arange(weekMax, 0, -1)-1\n",
    "\n",
    "\n",
    "    df = pd.concat([pd.Series(price), \n",
    "               pd.Series(season),\n",
    "               pd.Series(on_hand),\n",
    "               pd.Series(days_left), \n",
    "               pd.Series(slsu), \n",
    "               pd.Series(res_ser).shift(-1), \n",
    "               pd.Series(best_est)], 1)\n",
    "\n",
    "    \n",
    "    df.columns = ['price','season', 'on_hand','days_left', 'slsu' , 'rev_ser', 'bst_est']\n",
    "    df['d_r_sh'] = df.on_hand / df.slsu\n",
    "    df['oh_after'] = df.on_hand - df.slsu\n",
    "\n",
    "\n",
    "    df['action'] = (df.price -1. ).fillna(0)\n",
    "\n",
    "    df_shifted = df[state_cols].shift(-1)\n",
    "    df_shifted.columns = next_state_cols\n",
    "\n",
    "    return pd.concat([df[state_cols], df_shifted, df[['action', 'rev_ser', 'slsu', 'bst_est']]], 1)\n",
    "    \n",
    "\n",
    "\n",
    "def V(oh_left, reg_sales,disc_sales,delta, days_left  ):\n",
    "    res_list = [1*min(reg_sales*days_left,oh_left)]\n",
    "    \n",
    "    for i in range(days_left):\n",
    "        reg_price_sales = min(i*reg_sales, oh_left)\n",
    "        cor_proce_sales = min(disc_sales*(days_left - i),oh_left - reg_price_sales)\n",
    "        res_list.append(reg_price_sales*1. + cor_proce_sales*(1- delta))\n",
    "\n",
    "    return max(res_list)\n",
    "\n",
    "def Q(oh_left, reg_sales,disc_sales,delta, days_left, action):\n",
    "    if not days_left:\n",
    "        return 0\n",
    "    \n",
    "    if action >= 0:\n",
    "        res_list = [1*min(reg_sales*days_left,oh_left)]\n",
    "        \n",
    "        for i in range(1, days_left+1):\n",
    "            reg_price_sales = min(i*reg_sales, oh_left)\n",
    "            cor_proce_sales = min(disc_sales*(days_left - i),oh_left - reg_price_sales)\n",
    "            res_list.append(reg_price_sales*1. + cor_proce_sales*(1- delta))\n",
    "\n",
    "        return  max(res_list)\n",
    "    \n",
    "    return (1- delta)*min(disc_sales*days_left,oh_left)\n"
   ]
  },
  {
   "cell_type": "markdown",
   "metadata": {},
   "source": [
    "### Train exact"
   ]
  },
  {
   "cell_type": "code",
   "execution_count": null,
   "metadata": {},
   "outputs": [],
   "source": []
  },
  {
   "cell_type": "code",
   "execution_count": 10,
   "metadata": {
    "scrolled": true
   },
   "outputs": [
    {
     "name": "stderr",
     "output_type": "stream",
     "text": [
      "100%|██████████| 1000/1000 [00:06<00:00, 165.84it/s]\n",
      "/Users/alexey/anaconda3/lib/python3.6/site-packages/ipykernel_launcher.py:12: SettingWithCopyWarning: \n",
      "A value is trying to be set on a copy of a slice from a DataFrame.\n",
      "Try using .loc[row_indexer,col_indexer] = value instead\n",
      "\n",
      "See the caveats in the documentation: http://pandas.pydata.org/pandas-docs/stable/indexing.html#indexing-view-versus-copy\n",
      "  if sys.path[0] == '':\n",
      "/Users/alexey/anaconda3/lib/python3.6/site-packages/ipykernel_launcher.py:13: SettingWithCopyWarning: \n",
      "A value is trying to be set on a copy of a slice from a DataFrame.\n",
      "Try using .loc[row_indexer,col_indexer] = value instead\n",
      "\n",
      "See the caveats in the documentation: http://pandas.pydata.org/pandas-docs/stable/indexing.html#indexing-view-versus-copy\n",
      "  del sys.path[0]\n"
     ]
    }
   ],
   "source": [
    "\n",
    "samples_list = []\n",
    "for i in tqdm(range(1000)):\n",
    "    tmp_df = gen_rl_df(delta = .35, alpha = 2., scale = 40, season = season, init_oh = init_oh, disc_len = dics)\n",
    "    samples_list.append(tmp_df)\n",
    "    \n",
    "data_samples = pd.concat(samples_list)\n",
    "\n",
    "\n",
    "\n",
    "df = data_samples[state_cols + ['rev_ser', 'slsu', 'bst_est']]\n",
    "df['V'] = df.apply(lambda x:V(x['oh_after'], 40, 94.67, .35, int(x['days_left'])), 1)\n",
    "df['Q_keep'] = df.apply(lambda x:Q(x['oh_after'], 40, 94.67, .35, int(x['days_left']), 0), 1)\n",
    "df['Q_disc'] = df.apply(lambda x:Q(x['oh_after'], 40, 94.67, .35, int(x['days_left']), -.35), 1)"
   ]
  },
  {
   "cell_type": "code",
   "execution_count": 11,
   "metadata": {},
   "outputs": [
    {
     "data": {
      "text/plain": [
       "RandomForestRegressor(bootstrap=True, criterion='mse', max_depth=None,\n",
       "           max_features='auto', max_leaf_nodes=None,\n",
       "           min_impurity_decrease=0.0, min_impurity_split=None,\n",
       "           min_samples_leaf=1, min_samples_split=2,\n",
       "           min_weight_fraction_leaf=0.0, n_estimators=1000, n_jobs=-1,\n",
       "           oob_score=False, random_state=None, verbose=0, warm_start=False)"
      ]
     },
     "execution_count": 11,
     "metadata": {},
     "output_type": "execute_result"
    }
   ],
   "source": [
    "from sklearn.ensemble import RandomForestRegressor\n",
    "r = RandomForestRegressor(n_jobs=-1, n_estimators=1000)\n",
    "r.fit(df[['oh_after', 'days_left']].values, df.Q_keep.values)"
   ]
  },
  {
   "cell_type": "code",
   "execution_count": 13,
   "metadata": {},
   "outputs": [
    {
     "name": "stderr",
     "output_type": "stream",
     "text": [
      "100%|██████████| 100/100 [00:00<00:00, 163.68it/s]\n",
      "/Users/alexey/anaconda3/lib/python3.6/site-packages/ipykernel_launcher.py:13: SettingWithCopyWarning: \n",
      "A value is trying to be set on a copy of a slice from a DataFrame.\n",
      "Try using .loc[row_indexer,col_indexer] = value instead\n",
      "\n",
      "See the caveats in the documentation: http://pandas.pydata.org/pandas-docs/stable/indexing.html#indexing-view-versus-copy\n",
      "  del sys.path[0]\n",
      "/Users/alexey/anaconda3/lib/python3.6/site-packages/ipykernel_launcher.py:14: SettingWithCopyWarning: \n",
      "A value is trying to be set on a copy of a slice from a DataFrame.\n",
      "Try using .loc[row_indexer,col_indexer] = value instead\n",
      "\n",
      "See the caveats in the documentation: http://pandas.pydata.org/pandas-docs/stable/indexing.html#indexing-view-versus-copy\n",
      "  \n"
     ]
    }
   ],
   "source": [
    "\n",
    "samples_list = []\n",
    "for i in tqdm(range(100)):\n",
    "    tmp_df = gen_rl_df(delta = .35, alpha = 2., scale = 40, season = season, init_oh = init_oh, disc_len = dics)\n",
    "    samples_list.append(tmp_df)\n",
    "    \n",
    "data_samples = pd.concat(samples_list)\n",
    "\n",
    "\n",
    "\n",
    "df = data_samples[state_cols + ['rev_ser', 'slsu', 'bst_est']]\n",
    "#df['oh_after'] = df.on_hand - df.slsu\n",
    "df['V'] = df.apply(lambda x:V(x['oh_after'], 40, 94.67, .35, int(x['days_left'])), 1)\n",
    "df['Q_keep'] = df.apply(lambda x:Q(x['oh_after'], 40, 94.67, .35, int(x['days_left']), 0), 1)\n",
    "df['Q_disc'] = df.apply(lambda x:Q(x['oh_after'], 40, 94.67, .35, int(x['days_left']), -.35), 1)\n",
    "df['predicted'] = r.predict(df[['oh_after', 'days_left']].values)"
   ]
  },
  {
   "cell_type": "code",
   "execution_count": null,
   "metadata": {},
   "outputs": [],
   "source": []
  },
  {
   "cell_type": "markdown",
   "metadata": {},
   "source": [
    "# Q-learning training"
   ]
  },
  {
   "cell_type": "code",
   "execution_count": 14,
   "metadata": {},
   "outputs": [],
   "source": [
    "from sklearn.ensemble import RandomForestRegressor\n",
    "r = RandomForestRegressor(n_jobs=-1, n_estimators=1000)\n",
    "#r.fit(df[['oh_after', 'days_left']].values, df.Q_keep.values)"
   ]
  },
  {
   "cell_type": "code",
   "execution_count": 15,
   "metadata": {},
   "outputs": [],
   "source": [
    "df =data_samples[['days_left', 'oh_after', 'days_left_next', 'oh_after_next', 'action', 'rev_ser']].fillna(0)\n",
    "df['dumm_0'] = 0.\n",
    "df['dumm_m35'] = -.35\n",
    "\n",
    "df['V'] = df.apply(lambda x:V(x['oh_after'], 40, 94.67, .35, int(x['days_left'])), 1)\n",
    "df['Q_keep'] = df.apply(lambda x:Q(x['oh_after'], 40, 94.67, .35, int(x['days_left']), 0), 1)\n",
    "df['Q_disc'] = df.apply(lambda x:Q(x['oh_after'], 40, 94.67, .35, int(x['days_left']), -.35), 1)"
   ]
  },
  {
   "cell_type": "code",
   "execution_count": null,
   "metadata": {
    "scrolled": true
   },
   "outputs": [
    {
     "name": "stderr",
     "output_type": "stream",
     "text": [
      "\n",
      "  0%|          | 0/160 [00:00<?, ?it/s]\u001b[A\n",
      "  1%|          | 1/160 [00:01<04:16,  1.61s/it]\u001b[A\n",
      "  1%|▏         | 2/160 [00:03<04:50,  1.84s/it]\u001b[A\n",
      "  2%|▏         | 3/160 [00:05<05:01,  1.92s/it]\u001b[A\n",
      "  2%|▎         | 4/160 [00:07<05:04,  1.95s/it]\u001b[A\n",
      "  3%|▎         | 5/160 [00:09<05:06,  1.98s/it]\u001b[A\n",
      "  4%|▍         | 6/160 [00:11<05:06,  1.99s/it]\u001b[A\n",
      "  4%|▍         | 7/160 [00:13<05:03,  1.99s/it]\u001b[A\n",
      "  5%|▌         | 8/160 [00:15<05:01,  1.98s/it]\u001b[A\n",
      "  6%|▌         | 9/160 [00:17<04:58,  1.98s/it]\u001b[A\n",
      "  6%|▋         | 10/160 [00:19<04:56,  1.97s/it]\u001b[A\n",
      "  7%|▋         | 11/160 [00:21<04:53,  1.97s/it]\u001b[A\n",
      "  8%|▊         | 12/160 [00:23<04:51,  1.97s/it]\u001b[A\n",
      "  8%|▊         | 13/160 [00:25<04:49,  1.97s/it]\u001b[A\n",
      "  9%|▉         | 14/160 [00:27<04:47,  1.97s/it]\u001b[A\n",
      "  9%|▉         | 15/160 [00:29<04:45,  1.97s/it]\u001b[A\n",
      " 10%|█         | 16/160 [00:31<04:43,  1.97s/it]\u001b[A\n",
      " 11%|█         | 17/160 [00:33<04:41,  1.97s/it]\u001b[A\n",
      " 11%|█▏        | 18/160 [00:35<04:39,  1.97s/it]\u001b[A\n",
      " 12%|█▏        | 19/160 [00:37<04:37,  1.97s/it]\u001b[A\n",
      " 12%|█▎        | 20/160 [00:39<04:35,  1.97s/it]\u001b[A\n",
      " 13%|█▎        | 21/160 [00:41<04:33,  1.97s/it]\u001b[A\n",
      " 14%|█▍        | 22/160 [00:43<04:31,  1.97s/it]\u001b[A\n",
      " 14%|█▍        | 23/160 [00:45<04:29,  1.97s/it]\u001b[A\n",
      " 15%|█▌        | 24/160 [00:47<04:27,  1.97s/it]\u001b[A\n",
      " 16%|█▌        | 25/160 [00:49<04:25,  1.96s/it]\u001b[A\n",
      " 16%|█▋        | 26/160 [00:51<04:23,  1.96s/it]\u001b[A\n",
      " 17%|█▋        | 27/160 [00:52<04:21,  1.96s/it]\u001b[A\n",
      " 18%|█▊        | 28/160 [00:55<04:19,  1.97s/it]\u001b[A\n",
      " 18%|█▊        | 29/160 [00:57<04:17,  1.97s/it]\u001b[A\n",
      " 19%|█▉        | 30/160 [00:59<04:15,  1.97s/it]\u001b[A\n",
      " 19%|█▉        | 31/160 [01:00<04:13,  1.97s/it]\u001b[A\n",
      " 20%|██        | 32/160 [01:02<04:11,  1.97s/it]\u001b[A\n",
      " 21%|██        | 33/160 [01:04<04:09,  1.97s/it]\u001b[A\n",
      " 21%|██▏       | 34/160 [01:06<04:07,  1.97s/it]\u001b[A\n",
      " 22%|██▏       | 35/160 [01:08<04:05,  1.97s/it]\u001b[A\n",
      " 22%|██▎       | 36/160 [01:10<04:03,  1.97s/it]\u001b[A\n",
      " 23%|██▎       | 37/160 [01:12<04:02,  1.97s/it]\u001b[A\n",
      " 24%|██▍       | 38/160 [01:14<04:00,  1.97s/it]\u001b[A\n",
      " 24%|██▍       | 39/160 [01:16<03:58,  1.97s/it]\u001b[A\n",
      " 25%|██▌       | 40/160 [01:18<03:56,  1.97s/it]\u001b[A\n",
      " 26%|██▌       | 41/160 [01:20<03:54,  1.97s/it]\u001b[A\n",
      " 26%|██▋       | 42/160 [01:22<03:52,  1.97s/it]\u001b[A\n",
      " 27%|██▋       | 43/160 [01:24<03:50,  1.97s/it]\u001b[A\n",
      " 28%|██▊       | 44/160 [01:26<03:48,  1.97s/it]\u001b[A\n",
      " 28%|██▊       | 45/160 [01:28<03:46,  1.97s/it]\u001b[A\n",
      " 29%|██▉       | 46/160 [01:30<03:44,  1.97s/it]\u001b[A\n",
      " 29%|██▉       | 47/160 [01:32<03:42,  1.97s/it]\u001b[A\n",
      " 30%|███       | 48/160 [01:34<03:40,  1.97s/it]\u001b[A\n",
      " 31%|███       | 49/160 [01:36<03:38,  1.97s/it]\u001b[A\n",
      " 31%|███▏      | 50/160 [01:38<03:36,  1.97s/it]\u001b[A\n",
      " 32%|███▏      | 51/160 [01:40<03:34,  1.97s/it]\u001b[A\n",
      " 32%|███▎      | 52/160 [01:42<03:32,  1.97s/it]\u001b[A\n",
      " 33%|███▎      | 53/160 [01:44<03:30,  1.97s/it]\u001b[A\n",
      " 34%|███▍      | 54/160 [01:46<03:28,  1.97s/it]\u001b[A\n",
      " 34%|███▍      | 55/160 [01:48<03:26,  1.97s/it]\u001b[A\n",
      " 35%|███▌      | 56/160 [01:50<03:24,  1.97s/it]\u001b[A\n",
      " 36%|███▌      | 57/160 [01:52<03:22,  1.97s/it]\u001b[A\n",
      " 36%|███▋      | 58/160 [01:54<03:20,  1.97s/it]\u001b[A\n",
      " 37%|███▋      | 59/160 [01:56<03:18,  1.97s/it]\u001b[A\n",
      " 38%|███▊      | 60/160 [01:58<03:16,  1.97s/it]\u001b[A\n",
      " 38%|███▊      | 61/160 [02:00<03:15,  1.97s/it]\u001b[A\n",
      " 39%|███▉      | 62/160 [02:02<03:13,  1.97s/it]\u001b[A\n",
      " 39%|███▉      | 63/160 [02:04<03:11,  1.97s/it]\u001b[A\n",
      " 40%|████      | 64/160 [02:06<03:09,  1.97s/it]\u001b[A\n",
      " 41%|████      | 65/160 [02:07<03:07,  1.97s/it]\u001b[A\n",
      " 41%|████▏     | 66/160 [02:09<03:04,  1.97s/it]\u001b[A\n",
      " 42%|████▏     | 67/160 [02:11<03:03,  1.97s/it]\u001b[A\n",
      " 42%|████▎     | 68/160 [02:13<03:01,  1.97s/it]\u001b[A\n",
      " 43%|████▎     | 69/160 [02:15<02:59,  1.97s/it]\u001b[A\n",
      " 44%|████▍     | 70/160 [02:17<02:57,  1.97s/it]\u001b[A\n",
      " 44%|████▍     | 71/160 [02:19<02:55,  1.97s/it]\u001b[A\n",
      " 45%|████▌     | 72/160 [02:21<02:53,  1.97s/it]\u001b[A\n",
      " 46%|████▌     | 73/160 [02:23<02:51,  1.97s/it]\u001b[A\n",
      " 46%|████▋     | 74/160 [02:25<02:49,  1.97s/it]\u001b[A\n",
      " 47%|████▋     | 75/160 [02:27<02:47,  1.97s/it]\u001b[A\n",
      " 48%|████▊     | 76/160 [02:29<02:45,  1.97s/it]\u001b[A\n",
      " 48%|████▊     | 77/160 [02:31<02:43,  1.97s/it]\u001b[A\n",
      " 49%|████▉     | 78/160 [02:33<02:41,  1.97s/it]\u001b[A\n",
      " 49%|████▉     | 79/160 [02:35<02:39,  1.97s/it]\u001b[A\n",
      " 50%|█████     | 80/160 [02:37<02:37,  1.97s/it]\u001b[A\n",
      " 51%|█████     | 81/160 [02:39<02:35,  1.97s/it]\u001b[A\n",
      " 51%|█████▏    | 82/160 [02:41<02:34,  1.97s/it]\u001b[A\n",
      " 52%|█████▏    | 83/160 [02:43<02:32,  1.98s/it]\u001b[A\n",
      " 52%|█████▎    | 84/160 [02:45<02:30,  1.98s/it]\u001b[A\n",
      " 53%|█████▎    | 85/160 [02:47<02:28,  1.98s/it]\u001b[A\n",
      " 54%|█████▍    | 86/160 [02:49<02:26,  1.98s/it]\u001b[A\n",
      " 54%|█████▍    | 87/160 [02:51<02:24,  1.98s/it]\u001b[A\n",
      " 55%|█████▌    | 88/160 [02:53<02:22,  1.98s/it]\u001b[A\n",
      " 56%|█████▌    | 89/160 [02:55<02:20,  1.98s/it]\u001b[A\n",
      " 56%|█████▋    | 90/160 [02:57<02:18,  1.97s/it]\u001b[A\n",
      " 57%|█████▋    | 91/160 [02:59<02:16,  1.97s/it]\u001b[A\n",
      " 57%|█████▊    | 92/160 [03:01<02:14,  1.97s/it]\u001b[A\n",
      " 58%|█████▊    | 93/160 [03:03<02:12,  1.97s/it]\u001b[A\n",
      " 59%|█████▉    | 94/160 [03:05<02:10,  1.97s/it]\u001b[A\n",
      " 59%|█████▉    | 95/160 [03:07<02:08,  1.97s/it]\u001b[A\n",
      " 60%|██████    | 96/160 [03:09<02:06,  1.97s/it]\u001b[A\n",
      " 61%|██████    | 97/160 [03:11<02:04,  1.97s/it]\u001b[A\n",
      " 61%|██████▏   | 98/160 [03:13<02:02,  1.97s/it]\u001b[A\n",
      " 62%|██████▏   | 99/160 [03:15<02:00,  1.97s/it]\u001b[A\n",
      " 62%|██████▎   | 100/160 [03:17<01:58,  1.97s/it]\u001b[A\n",
      " 63%|██████▎   | 101/160 [03:19<01:56,  1.97s/it]\u001b[A\n",
      " 64%|██████▍   | 102/160 [03:21<01:54,  1.97s/it]\u001b[A\n",
      " 64%|██████▍   | 103/160 [03:23<01:52,  1.97s/it]\u001b[A\n",
      " 65%|██████▌   | 104/160 [03:25<01:50,  1.97s/it]\u001b[A\n",
      " 66%|██████▌   | 105/160 [03:27<01:48,  1.97s/it]\u001b[A\n",
      " 66%|██████▋   | 106/160 [03:29<01:46,  1.97s/it]\u001b[A\n",
      " 67%|██████▋   | 107/160 [03:31<01:44,  1.97s/it]\u001b[A\n",
      " 68%|██████▊   | 108/160 [03:33<01:42,  1.97s/it]\u001b[A\n",
      " 68%|██████▊   | 109/160 [03:35<01:40,  1.97s/it]\u001b[A\n",
      " 69%|██████▉   | 110/160 [03:37<01:38,  1.97s/it]\u001b[A\n",
      " 69%|██████▉   | 111/160 [03:39<01:36,  1.97s/it]\u001b[A\n",
      " 70%|███████   | 112/160 [03:40<01:34,  1.97s/it]\u001b[A\n",
      " 71%|███████   | 113/160 [03:42<01:32,  1.97s/it]\u001b[A\n",
      " 71%|███████▏  | 114/160 [03:44<01:30,  1.97s/it]\u001b[A\n",
      " 72%|███████▏  | 115/160 [03:46<01:28,  1.97s/it]\u001b[A\n",
      " 72%|███████▎  | 116/160 [03:48<01:26,  1.97s/it]\u001b[A\n",
      " 73%|███████▎  | 117/160 [03:50<01:24,  1.97s/it]\u001b[A\n",
      " 74%|███████▍  | 118/160 [03:52<01:22,  1.97s/it]\u001b[A\n",
      " 74%|███████▍  | 119/160 [03:54<01:20,  1.97s/it]\u001b[A\n",
      " 75%|███████▌  | 120/160 [03:56<01:18,  1.97s/it]\u001b[A\n",
      " 76%|███████▌  | 121/160 [03:58<01:16,  1.97s/it]\u001b[A\n",
      " 76%|███████▋  | 122/160 [04:00<01:14,  1.97s/it]\u001b[A\n",
      " 77%|███████▋  | 123/160 [04:02<01:12,  1.97s/it]\u001b[A\n",
      " 78%|███████▊  | 124/160 [04:04<01:10,  1.97s/it]\u001b[A\n",
      " 78%|███████▊  | 125/160 [04:06<01:08,  1.97s/it]\u001b[A\n",
      " 79%|███████▉  | 126/160 [04:08<01:07,  1.97s/it]\u001b[A\n",
      " 79%|███████▉  | 127/160 [04:10<01:05,  1.97s/it]\u001b[A\n",
      " 80%|████████  | 128/160 [04:12<01:03,  1.97s/it]\u001b[A\n",
      " 81%|████████  | 129/160 [04:14<01:01,  1.97s/it]\u001b[A\n",
      " 81%|████████▏ | 130/160 [04:16<00:59,  1.97s/it]\u001b[A"
     ]
    }
   ],
   "source": [
    "for i in tqdm(range(160)):\n",
    "    if i:\n",
    "        \n",
    "        df['pred_0']   = r.predict(df[['days_left_next','oh_after_next', 'dumm_0']])\n",
    "        df['pred_m35'] = r.predict(df[['days_left_next','oh_after_next', 'dumm_m35']])\n",
    "        \n",
    "        df.loc[df.days_left == 0, ['pred_0','pred_m35']] = 0.\n",
    "        \n",
    "        df['V_next']   = np.maximum(df['pred_0'], df['pred_m35'])\n",
    "        df['target']   = df.rev_ser + df['V_next']\n",
    "    else:\n",
    "        df['target'] = df.rev_ser\n",
    "        \n",
    "    r.fit(df[[ 'days_left','oh_after', 'action']].values, df.target.values)"
   ]
  },
  {
   "cell_type": "markdown",
   "metadata": {},
   "source": [
    "i = 0"
   ]
  },
  {
   "cell_type": "markdown",
   "metadata": {},
   "source": [
    "print(i)\n",
    "if i:\n",
    "        \n",
    "    df['pred_0']   = r.predict(df[['days_left_next','oh_after_next', 'dumm_0']])\n",
    "    df['pred_m35'] = r.predict(df[['days_left_next','oh_after_next', 'dumm_m35']])\n",
    "\n",
    "    df.loc[df.days_left == 0, ['pred_0','pred_m35']] = 0.\n",
    "\n",
    "    df['V_next']   = np.maximum(df['pred_0'], df['pred_m35'])\n",
    "    df['target']   = df.rev_ser + df['V_next']\n",
    "else:\n",
    "    df['target'] = df.rev_ser\n",
    "\n",
    "r.fit(df[[ 'days_left', 'oh_after','action']].values, df.target.values)\n",
    "i+=1"
   ]
  },
  {
   "cell_type": "code",
   "execution_count": 15,
   "metadata": {},
   "outputs": [
    {
     "name": "stdout",
     "output_type": "stream",
     "text": [
      "/Volumes/C/demt_msu_exp/rl_experiments\n"
     ]
    }
   ],
   "source": [
    "!pwd"
   ]
  },
  {
   "cell_type": "code",
   "execution_count": null,
   "metadata": {},
   "outputs": [],
   "source": [
    "\n",
    "df"
   ]
  },
  {
   "cell_type": "code",
   "execution_count": null,
   "metadata": {},
   "outputs": [],
   "source": [
    "samples_list = []\n",
    "for i in tqdm(range(100)):\n",
    "    tmp_df = gen_rl_df(delta = .35, alpha = 2., scale = 40, season = season, init_oh = init_oh, disc_len = dics)\n",
    "    samples_list.append(tmp_df)\n",
    "    \n",
    "data_samples = pd.concat(samples_list)\n",
    "\n",
    "\n",
    "\n",
    "df = data_samples[state_cols + ['rev_ser']]\n",
    "df['V'] = df.apply(lambda x:V(x['oh_after'], 40, 94.67, .35, int(x['days_left'])), 1)\n",
    "df['Q_keep'] = df.apply(lambda x:Q(x['oh_after'], 40, 94.67, .35, int(x['days_left']), 0), 1)\n",
    "df['Q_disc'] = df.apply(lambda x:Q(x['oh_after'], 40, 94.67, .35, int(x['days_left']), -.35), 1)\n"
   ]
  },
  {
   "cell_type": "code",
   "execution_count": null,
   "metadata": {},
   "outputs": [],
   "source": [
    "df['dumm_0'] = 0.\n",
    "df['dumm_m35'] = -.35\n",
    "df['Q_keep_pred'] = r.predict(df[['days_left','oh_after', 'dumm_0']].values)\n",
    "df['Q_disc_pred'] = r.predict(df[['days_left','oh_after', 'dumm_m35']].values)"
   ]
  },
  {
   "cell_type": "code",
   "execution_count": null,
   "metadata": {},
   "outputs": [],
   "source": [
    "df[['days_left', 'on_hand', 'price','rev_ser' ,'Q_keep', 'Q_disc', 'Q_keep_pred', 'Q_disc_pred']]"
   ]
  },
  {
   "cell_type": "code",
   "execution_count": null,
   "metadata": {},
   "outputs": [],
   "source": []
  },
  {
   "cell_type": "code",
   "execution_count": null,
   "metadata": {},
   "outputs": [],
   "source": []
  },
  {
   "cell_type": "code",
   "execution_count": null,
   "metadata": {},
   "outputs": [],
   "source": []
  },
  {
   "cell_type": "code",
   "execution_count": null,
   "metadata": {},
   "outputs": [],
   "source": []
  },
  {
   "cell_type": "code",
   "execution_count": null,
   "metadata": {},
   "outputs": [],
   "source": []
  }
 ],
 "metadata": {
  "kernelspec": {
   "display_name": "Python 3",
   "language": "python",
   "name": "python3"
  },
  "language_info": {
   "codemirror_mode": {
    "name": "ipython",
    "version": 3
   },
   "file_extension": ".py",
   "mimetype": "text/x-python",
   "name": "python",
   "nbconvert_exporter": "python",
   "pygments_lexer": "ipython3",
   "version": "3.6.3"
  }
 },
 "nbformat": 4,
 "nbformat_minor": 2
}
